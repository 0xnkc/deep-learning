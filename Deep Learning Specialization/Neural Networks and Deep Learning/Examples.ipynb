{
  "nbformat": 4,
  "nbformat_minor": 0,
  "metadata": {
    "colab": {
      "name": "Untitled0.ipynb",
      "provenance": [],
      "authorship_tag": "ABX9TyPsU+LJ0XL1U4Pv6yfTz8/8",
      "include_colab_link": true
    },
    "kernelspec": {
      "name": "python385jvsc74a57bd0e7f3fe9da2cd1b860819f01b547e4e97965423b66c13faea23078069feea5a52",
      "display_name": "Python 3.8.2 64-bit ('base': conda)"
    },
    "language_info": {
      "name": "python",
      "version": "3.8.2"
    }
  },
  "cells": [
    {
      "source": [
        "### Vectorization Example  "
      ],
      "cell_type": "markdown",
      "metadata": {}
    },
    {
      "cell_type": "code",
      "metadata": {
        "id": "Jq1NbiKXt2xQ",
        "tags": []
      },
      "source": [
        "import numpy as np\n",
        "import time\n",
        "a = np.random.rand(1000000)\n",
        "b = np.random.rand(1000000)\n",
        "\n",
        "#Vectorization Example\n",
        "tic =time.time()\n",
        "c=np.dot(a,b)\n",
        "print(c)\n",
        "toc =time.time()\n",
        "print(\"Total time in the Vectorization :\" + str(1000*(toc-tic)) +\"ms\")\n",
        "\n",
        "#Non Vector Exmaple \n",
        "tic =time.time()\n",
        "c=0\n",
        "for i in range(1000000):\n",
        "    c+= a[i]*b[i]\n",
        "print(c)\n",
        "toc =time.time()\n",
        "print(\"Total time in the non vectorization(For loop) :\" + str(1000*(toc-tic)) +\"ms\")\n",
        "\n",
        "\n",
        "\n"
      ],
      "execution_count": 9,
      "outputs": [
        {
          "output_type": "stream",
          "name": "stdout",
          "text": [
            "249780.60631962836\n",
            "Total time in the Vectorization :0.9989738464355469ms\n",
            "249780.60631963404\n",
            "Total time in the non vectorization(For loop) :469.2730903625488ms\n"
          ]
        }
      ]
    },
    {
      "source": [
        "### Broadcasting in python  "
      ],
      "cell_type": "markdown",
      "metadata": {}
    },
    {
      "cell_type": "code",
      "execution_count": 23,
      "metadata": {},
      "outputs": [
        {
          "output_type": "stream",
          "name": "stdout",
          "text": [
            "[[ 56.    0.    4.4  68.9]\n [  1.2 104.   52.    8. ]\n [  1.8 135.   99.    0.9]]\n\n[ 59.  239.  155.4  77.8]\n\n[[94.91525424  0.          2.83140283 88.56041131]\n [ 2.03389831 43.51464435 33.46203346 10.28277635]\n [ 3.05084746 56.48535565 63.70656371  1.15681234]]\n"
          ]
        }
      ],
      "source": [
        "import numpy as np\n",
        "\n",
        "A =np.array([[56.0,0.0,4.4,68.9],\n",
        "            [1.2,104.0,52.0,8.0],\n",
        "            [1.8,135.0,99.0,0.9]])\n",
        "print(A)\n",
        "\n",
        "cal = A.sum(axis=0)\n",
        "print(\"\\n\"+str(cal)+\"\\n\")\n",
        "\n",
        "per =100*A/cal.reshape(1,4)\n",
        "print(per)"
      ]
    },
    {
      "source": [
        "### A note on python or numpy vectors\n",
        " "
      ],
      "cell_type": "markdown",
      "metadata": {}
    },
    {
      "cell_type": "code",
      "execution_count": 65,
      "metadata": {},
      "outputs": [
        {
          "output_type": "stream",
          "name": "stdout",
          "text": [
            "[0.13422812 0.03647177 0.39278917 0.03448107 0.30419289]\n"
          ]
        }
      ],
      "source": [
        "import numpy as np\n",
        "\n",
        "a = np.random.rand(5)\n",
        "\n",
        "print(a)"
      ]
    },
    {
      "cell_type": "code",
      "execution_count": 66,
      "metadata": {},
      "outputs": [
        {
          "output_type": "stream",
          "name": "stdout",
          "text": [
            "(5,)\n"
          ]
        }
      ],
      "source": [
        "#rank 1 vector dont use \n",
        "print(a.shape)"
      ]
    },
    {
      "cell_type": "code",
      "execution_count": 67,
      "metadata": {},
      "outputs": [
        {
          "output_type": "stream",
          "name": "stdout",
          "text": [
            "[0.13422812 0.03647177 0.39278917 0.03448107 0.30419289]\n"
          ]
        }
      ],
      "source": [
        "print(a.T)"
      ]
    },
    {
      "cell_type": "code",
      "execution_count": 68,
      "metadata": {},
      "outputs": [
        {
          "output_type": "stream",
          "name": "stdout",
          "text": [
            "0.26735297028207555\n"
          ]
        }
      ],
      "source": [
        "print(np.dot(a,a.T))"
      ]
    },
    {
      "cell_type": "code",
      "execution_count": 69,
      "metadata": {},
      "outputs": [
        {
          "output_type": "stream",
          "name": "stdout",
          "text": [
            "[[0.06943091]\n [0.58522524]\n [0.95728367]\n [0.41192933]\n [0.924286  ]]\n"
          ]
        }
      ],
      "source": [
        "a =np.random.rand(5,1) #Column vector\n",
        "print(a)"
      ]
    },
    {
      "cell_type": "code",
      "execution_count": 70,
      "metadata": {},
      "outputs": [
        {
          "output_type": "stream",
          "name": "stdout",
          "text": [
            "[[0.06943091 0.58522524 0.95728367 0.41192933 0.924286  ]]\n"
          ]
        }
      ],
      "source": [
        "print(a.T)"
      ]
    },
    {
      "cell_type": "code",
      "execution_count": 71,
      "metadata": {},
      "outputs": [
        {
          "output_type": "stream",
          "name": "stdout",
          "text": [
            "[[0.00482065 0.04063272 0.06646508 0.02860063 0.06417402]\n [0.04063272 0.34248859 0.56022657 0.24107144 0.5409155 ]\n [0.06646508 0.56022657 0.91639202 0.39433322 0.88480389]\n [0.02860063 0.24107144 0.39433322 0.16968577 0.38074051]\n [0.06417402 0.5409155  0.88480389 0.38074051 0.85430461]]\n"
          ]
        }
      ],
      "source": [
        "print(np.dot(a,a.T))"
      ]
    },
    {
      "cell_type": "code",
      "execution_count": 72,
      "metadata": {},
      "outputs": [
        {
          "output_type": "stream",
          "name": "stdout",
          "text": [
            "[[5.32902960e-04 2.62127652e-01 7.20458957e-01 9.13340621e-01\n  9.86732297e-01]]\n"
          ]
        }
      ],
      "source": [
        "a =np.random.rand(1,5) #Row vector\n",
        "print(a)"
      ]
    },
    {
      "cell_type": "code",
      "execution_count": null,
      "metadata": {},
      "outputs": [],
      "source": []
    }
  ]
}