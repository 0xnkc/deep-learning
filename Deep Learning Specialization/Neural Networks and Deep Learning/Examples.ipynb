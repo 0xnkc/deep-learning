{
  "nbformat": 4,
  "nbformat_minor": 0,
  "metadata": {
    "colab": {
      "name": "Untitled0.ipynb",
      "provenance": [],
      "authorship_tag": "ABX9TyPsU+LJ0XL1U4Pv6yfTz8/8",
      "include_colab_link": true
    },
    "kernelspec": {
      "name": "python385jvsc74a57bd0e7f3fe9da2cd1b860819f01b547e4e97965423b66c13faea23078069feea5a52",
      "display_name": "Python 3.8.2 64-bit ('base': conda)"
    },
    "language_info": {
      "name": "python",
      "version": "3.8.2"
    }
  },
  "cells": [
    {
      "source": [
        "Vectorization Example  "
      ],
      "cell_type": "markdown",
      "metadata": {}
    },
    {
      "cell_type": "code",
      "metadata": {
        "id": "Jq1NbiKXt2xQ",
        "tags": []
      },
      "source": [
        "import numpy as np\n",
        "import time\n",
        "a = np.random.rand(1000000)\n",
        "b = np.random.rand(1000000)\n",
        "\n",
        "#Vectorization Example\n",
        "tic =time.time()\n",
        "c=np.dot(a,b)\n",
        "print(c)\n",
        "toc =time.time()\n",
        "print(\"Total time in the Vectorization :\" + str(1000*(toc-tic)) +\"ms\")\n",
        "\n",
        "#Non Vector Exmaple \n",
        "tic =time.time()\n",
        "c=0\n",
        "for i in range(1000000):\n",
        "    c+= a[i]*b[i]\n",
        "print(c)\n",
        "toc =time.time()\n",
        "print(\"Total time in the non vectorization(For loop) :\" + str(1000*(toc-tic)) +\"ms\")\n",
        "\n",
        "\n",
        "\n"
      ],
      "execution_count": 9,
      "outputs": [
        {
          "output_type": "stream",
          "name": "stdout",
          "text": [
            "249780.60631962836\n",
            "Total time in the Vectorization :0.9989738464355469ms\n",
            "249780.60631963404\n",
            "Total time in the non vectorization(For loop) :469.2730903625488ms\n"
          ]
        }
      ]
    },
    {
      "source": [
        "Broadcasting in python  "
      ],
      "cell_type": "markdown",
      "metadata": {}
    },
    {
      "cell_type": "code",
      "execution_count": 23,
      "metadata": {},
      "outputs": [
        {
          "output_type": "stream",
          "name": "stdout",
          "text": [
            "[[ 56.    0.    4.4  68.9]\n [  1.2 104.   52.    8. ]\n [  1.8 135.   99.    0.9]]\n\n[ 59.  239.  155.4  77.8]\n\n[[94.91525424  0.          2.83140283 88.56041131]\n [ 2.03389831 43.51464435 33.46203346 10.28277635]\n [ 3.05084746 56.48535565 63.70656371  1.15681234]]\n"
          ]
        }
      ],
      "source": [
        "import numpy as np\n",
        "\n",
        "A =np.array([[56.0,0.0,4.4,68.9],\n",
        "            [1.2,104.0,52.0,8.0],\n",
        "            [1.8,135.0,99.0,0.9]])\n",
        "print(A)\n",
        "\n",
        "cal = A.sum(axis=0)\n",
        "print(\"\\n\"+str(cal)+\"\\n\")\n",
        "\n",
        "per =100*A/cal.reshape(1,4)\n",
        "print(per)"
      ]
    },
    {
      "cell_type": "code",
      "execution_count": null,
      "metadata": {},
      "outputs": [],
      "source": []
    }
  ]
}