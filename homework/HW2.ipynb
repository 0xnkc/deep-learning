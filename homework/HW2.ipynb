{
  "nbformat": 4,
  "nbformat_minor": 0,
  "metadata": {
    "colab": {
      "name": "HW2.ipynb",
      "provenance": [],
      "collapsed_sections": [],
      "include_colab_link": true
    },
    "kernelspec": {
      "display_name": "Python 3",
      "language": "python",
      "name": "python3"
    },
    "language_info": {
      "codemirror_mode": {
        "name": "ipython",
        "version": 3
      },
      "file_extension": ".py",
      "mimetype": "text/x-python",
      "name": "python",
      "nbconvert_exporter": "python",
      "pygments_lexer": "ipython3",
      "version": "3.7.7"
    }
  },
  "cells": [
    {
      "cell_type": "markdown",
      "metadata": {
        "id": "view-in-github",
        "colab_type": "text"
      },
      "source": [
        "<a href=\"https://colab.research.google.com/github/nikhilkc96/deep-learning/blob/main/homework/HW2.ipynb\" target=\"_parent\"><img src=\"https://colab.research.google.com/assets/colab-badge.svg\" alt=\"Open In Colab\"/></a>"
      ]
    },
    {
      "cell_type": "markdown",
      "metadata": {
        "id": "QUc9frYnVBI_"
      },
      "source": [
        "#**HW 2: Optimize and train Deep Models**\n",
        "\n",
        "In this homework, we will explore how to develop a simple Deep Neural Network for a classification problem. We will explore two common libraries: TensorFlow and Keras.\n",
        "Then we will explore how to face a well known problem that is common to encounter during the training phase: the Overfitting.\n",
        "Finally, we will study how to perform a fair model selection.\n",
        "Hint: Before starting the exercise take a look at how Tensorflow and Keras are designed.  https://keras.io/"
      ]
    },
    {
      "cell_type": "markdown",
      "metadata": {
        "id": "e-Nc7mFSVEiU"
      },
      "source": [
        "##Exercise 2.1: Image Classficiation with Tensorflow and Keras\n",
        "\n",
        "In this first exercise we will develop a 3 layers Neural Network to perfrom classification.\n",
        "\n",
        "Let's start importing the libraries we will need and setting a couple of environmental variables.\n"
      ]
    },
    {
      "cell_type": "code",
      "metadata": {
        "id": "bWn9FzneVqJo"
      },
      "source": [
        "import matplotlib as mpl\n",
        "import matplotlib.pyplot as plt\n",
        "import numpy as np\n",
        "import os\n",
        "import pandas as pd\n",
        "import sklearn\n",
        "import sys\n",
        "import tensorflow as tf\n",
        "from tensorflow import keras  # tf.keras\n",
        "import time\n",
        "\n",
        "import logging\n",
        "logging.disable(logging.WARNING)\n",
        "os.environ[\"TF_CPP_MIN_LOG_LEVEL\"] = \"3\" \n",
        "\n",
        "\n",
        "\n",
        "tf.random.set_seed(42)\n",
        "# os.environ['TF_DETERMINISTIC_OPS']='1'"
      ],
      "execution_count": null,
      "outputs": []
    },
    {
      "cell_type": "markdown",
      "metadata": {
        "id": "LT2HMYDEXcx0"
      },
      "source": [
        "### Load Data: IMDB dataset\n",
        "\n",
        "In this HW, we use the IMDB dataset that can be easily downloaded using Keras. The dataset contains 50,000 movie reviews from IMDB, labeled by sentiment (positive/negative). Reviews have been preprocessed, and each review is encoded as a sequence of word indexes. For convenience, the words are indexed by the overall frequency in the dataset, so that for example the integer \"3\" encodes the 3rd most frequent word in the data. For testing purposes, we will only consider the first 10,000  most common words.\n",
        "By default, the load_data method returns a breakdown of the dataset into training and test sets. Both these sets contain 25,000 samples. To also have a validation set, we split the test set in half.\n",
        "\n"
      ]
    },
    {
      "cell_type": "code",
      "metadata": {
        "id": "JZv86gBLXj-D",
        "colab": {
          "base_uri": "https://localhost:8080/"
        },
        "outputId": "f6439f48-030b-4063-dc8e-9eba5de11fe3"
      },
      "source": [
        "num_words = 1000\n",
        "(X_train, y_train), (X_test, y_test) = keras.datasets.imdb.load_data(num_words=num_words)\n",
        "(X_valid, X_test) = X_test[:12500], X_test[12500:]\n",
        "(y_valid, y_test) = y_test[:12500], y_test[12500:]"
      ],
      "execution_count": null,
      "outputs": [
        {
          "output_type": "stream",
          "text": [
            "Downloading data from https://storage.googleapis.com/tensorflow/tf-keras-datasets/imdb.npz\n",
            "17465344/17464789 [==============================] - 0s 0us/step\n"
          ],
          "name": "stdout"
        },
        {
          "output_type": "stream",
          "text": [
            "<string>:6: VisibleDeprecationWarning: Creating an ndarray from ragged nested sequences (which is a list-or-tuple of lists-or-tuples-or ndarrays with different lengths or shapes) is deprecated. If you meant to do this, you must specify 'dtype=object' when creating the ndarray\n",
            "/usr/local/lib/python3.7/dist-packages/tensorflow/python/keras/datasets/imdb.py:159: VisibleDeprecationWarning: Creating an ndarray from ragged nested sequences (which is a list-or-tuple of lists-or-tuples-or ndarrays with different lengths or shapes) is deprecated. If you meant to do this, you must specify 'dtype=object' when creating the ndarray\n",
            "  x_train, y_train = np.array(xs[:idx]), np.array(labels[:idx])\n",
            "/usr/local/lib/python3.7/dist-packages/tensorflow/python/keras/datasets/imdb.py:160: VisibleDeprecationWarning: Creating an ndarray from ragged nested sequences (which is a list-or-tuple of lists-or-tuples-or ndarrays with different lengths or shapes) is deprecated. If you meant to do this, you must specify 'dtype=object' when creating the ndarray\n",
            "  x_test, y_test = np.array(xs[idx:]), np.array(labels[idx:])\n"
          ],
          "name": "stderr"
        }
      ]
    },
    {
      "cell_type": "markdown",
      "metadata": {
        "id": "TEZHVHpuPdQF"
      },
      "source": [
        "In this HW we will consider a Deep Neural Network. The IMDB data consists in reviews, each one composed by a seqeunce of words. In order to encode each review in a single tensor with a fixed number of elements, we will use multi-hot encoding. Multi-hot-encoding our lists means turning them into vectors of 0s and 1s. Concretely, this would mean for instance turning the sequence [3, 5] into a 10,000-dimensional vector that would be all-zeros except for indices 3 and 5, which would be ones. The obtained input representation indicates which words are present (at least one time) in the sentence.\n",
        "\n",
        " "
      ]
    },
    {
      "cell_type": "code",
      "metadata": {
        "id": "hxE9DhiFPP0T"
      },
      "source": [
        "def multi_hot_encoder(dataset, num_word):\n",
        "  dataset_multi_hot=[]\n",
        "  for sequence in dataset:\n",
        "    index, _ = tf.unique(sequence)\n",
        "    dataset_multi_hot.append(tf.reduce_max(tf.one_hot(index-1, num_word, dtype=tf.int32), axis=0))\n",
        "  dataset_multi_hot = tf.stack(dataset_multi_hot)\n",
        "  return dataset_multi_hot\n",
        "\n",
        "X_train = multi_hot_encoder(X_train,num_words)\n",
        "X_test = multi_hot_encoder(X_test,num_words)\n",
        "X_valid = multi_hot_encoder(X_valid,num_words)"
      ],
      "execution_count": null,
      "outputs": []
    },
    {
      "cell_type": "markdown",
      "metadata": {
        "id": "jGUg8TexZMNf"
      },
      "source": [
        "### Define the model:\n",
        "\n",
        "Let's build a Sequential model (keras.models.Sequential) and add four layers to it by calling its add() method:\n",
        "\n",
        "\n",
        "*   a input layer (tf.keras.Input) that is the first layer in your model. With this layer you should specify the input_shape argument, leaving out the batch size: (num_words,);\n",
        "*  a Dense layer (keras.layers.Dense) with 16 neurons, and the \"relu\" activation function;\n",
        "* another Dense layer with 16 neurons, also with the \"relu\" activation function;\n",
        "* a final Dense layer with 1 output neurons, and with the \"sigmoid\" activation (since we considering a binary classification task)."
      ]
    },
    {
      "cell_type": "code",
      "metadata": {
        "id": "OaoEISyaZL56"
      },
      "source": [
        "model = keras.models.Sequential()\n",
        "model.add(tf.keras.Input(shape=(num_words,)))\n",
        "model.add(keras.layers.Dense(16, activation=\"relu\"))\n",
        "model.add(keras.layers.Dense(16, activation=\"relu\"))\n",
        "model.add(keras.layers.Dense(1, activation=\"sigmoid\"))\n",
        "\n"
      ],
      "execution_count": null,
      "outputs": []
    },
    {
      "cell_type": "markdown",
      "metadata": {
        "id": "fYfxUOQVZljh"
      },
      "source": [
        "Call the model's summary() method to check if the model has been built correctly. Also, try using keras.utils.plot_model() to save an image of your model's architecture."
      ]
    },
    {
      "cell_type": "code",
      "metadata": {
        "id": "IpGkQl5dZoWq",
        "colab": {
          "base_uri": "https://localhost:8080/"
        },
        "outputId": "08d61826-7b29-44ba-db5c-bae5cf8bb419"
      },
      "source": [
        "model.summary()"
      ],
      "execution_count": null,
      "outputs": [
        {
          "output_type": "stream",
          "text": [
            "Model: \"sequential\"\n",
            "_________________________________________________________________\n",
            "Layer (type)                 Output Shape              Param #   \n",
            "=================================================================\n",
            "dense (Dense)                (None, 16)                16016     \n",
            "_________________________________________________________________\n",
            "dense_1 (Dense)              (None, 16)                272       \n",
            "_________________________________________________________________\n",
            "dense_2 (Dense)              (None, 1)                 17        \n",
            "=================================================================\n",
            "Total params: 16,305\n",
            "Trainable params: 16,305\n",
            "Non-trainable params: 0\n",
            "_________________________________________________________________\n"
          ],
          "name": "stdout"
        }
      ]
    },
    {
      "cell_type": "code",
      "metadata": {
        "id": "b1NbkrXRZwOA",
        "colab": {
          "base_uri": "https://localhost:8080/",
          "height": 422
        },
        "outputId": "ad266380-1141-425e-b8b2-004068c82819"
      },
      "source": [
        "keras.utils.plot_model(model, \"my_imdb_model.png\", show_shapes=True)"
      ],
      "execution_count": null,
      "outputs": [
        {
          "output_type": "execute_result",
          "data": {
            "image/png": "[encoded data removed]",
            "text/plain": [
              "<IPython.core.display.Image object>"
            ]
          },
          "metadata": {
            "tags": []
          },
          "execution_count": 6
        }
      ]
    },
    {
      "cell_type": "markdown",
      "metadata": {
        "id": "Mc3xzuA-33WH"
      },
      "source": [
        "As you can see, the first dimension of each layer is not defined (?), indeed this dimension in each layer is variable and depends on the batch size."
      ]
    },
    {
      "cell_type": "markdown",
      "metadata": {
        "id": "6FAjFixuHSA_"
      },
      "source": [
        "Instaed of using *add()* method it is also possibile to define the model using the following syntax"
      ]
    },
    {
      "cell_type": "code",
      "metadata": {
        "id": "yOhr57M9GPHy",
        "colab": {
          "base_uri": "https://localhost:8080/",
          "height": 660
        },
        "outputId": "ad8f387a-2f32-4d62-be29-518c53a367a3"
      },
      "source": [
        "model = keras.models.Sequential([\n",
        "    tf.keras.Input(shape=(num_words,)),\n",
        "    keras.layers.Dense(16, activation=\"relu\"),\n",
        "    keras.layers.Dense(16, activation=\"relu\"),\n",
        "    keras.layers.Dense(1, activation=\"sigmoid\")\n",
        "])\n",
        "model.summary()\n",
        "keras.utils.plot_model(model, \"my_imdb_model.png\", show_shapes=True)"
      ],
      "execution_count": null,
      "outputs": [
        {
          "output_type": "stream",
          "text": [
            "Model: \"sequential_1\"\n",
            "_________________________________________________________________\n",
            "Layer (type)                 Output Shape              Param #   \n",
            "=================================================================\n",
            "dense_3 (Dense)              (None, 16)                16016     \n",
            "_________________________________________________________________\n",
            "dense_4 (Dense)              (None, 16)                272       \n",
            "_________________________________________________________________\n",
            "dense_5 (Dense)              (None, 1)                 17        \n",
            "=================================================================\n",
            "Total params: 16,305\n",
            "Trainable params: 16,305\n",
            "Non-trainable params: 0\n",
            "_________________________________________________________________\n"
          ],
          "name": "stdout"
        },
        {
          "output_type": "execute_result",
          "data": {
            "image/png": "[encoded data removed]",
            "text/plain": [
              "<IPython.core.display.Image object>"
            ]
          },
          "metadata": {
            "tags": []
          },
          "execution_count": 7
        }
      ]
    },
    {
      "cell_type": "markdown",
      "metadata": {
        "id": "2ySdJmzxaSuz"
      },
      "source": [
        "### Optimize the model:\n",
        "\n",
        "After the model has been created, you must call its compile() method to specify the loss function and the optimizer to use.\n",
        "\n",
        "Since the model performs a binary classification task, we use the bynary cross-entropy as loss. As optimizer we use Adam.\n",
        "\n",
        "Moreover, you can optionally specify a list of additional metrics that should be measured during training. In this case we specify metrics=[\"accuracy\"]."
      ]
    },
    {
      "cell_type": "code",
      "metadata": {
        "id": "x3bbsY3uaeh5"
      },
      "source": [
        "model.compile(loss=\"binary_crossentropy\",\n",
        "              optimizer=keras.optimizers.Adam(learning_rate=1e-4),\n",
        "              metrics=[\"accuracy\"])"
      ],
      "execution_count": null,
      "outputs": []
    },
    {
      "cell_type": "markdown",
      "metadata": {
        "id": "NB9SV0MpaeTg"
      },
      "source": [
        "Now our model is ready to be trained. Call its fit() method, passing to it the input features (X_train) and the target classes (y_train). Set the number of epochs to 20. \n",
        "In order to validate our model we will also pass the validation data by setting validation_data=(X_valid, y_valid). Keras will compute the loss and the additional metrics (the accuracy in this case) on the validation set at the end of each epoch. If the loss on the training set is much lower than the one on the validation set, your model is probably overfitting the training set. Note: the fit() method will return a History object containing training stats."
      ]
    },
    {
      "cell_type": "code",
      "metadata": {
        "id": "5whx-LU3aoKn",
        "colab": {
          "base_uri": "https://localhost:8080/"
        },
        "outputId": "0027fd8e-5c12-4078-c2a9-8d095cd2e946"
      },
      "source": [
        "history = model.fit(X_train, y_train, epochs=20,\n",
        "                    validation_data=(X_valid, y_valid))"
      ],
      "execution_count": null,
      "outputs": [
        {
          "output_type": "stream",
          "text": [
            "Epoch 1/20\n",
            "782/782 [==============================] - 3s 3ms/step - loss: 0.6691 - accuracy: 0.5917 - val_loss: 0.5086 - val_accuracy: 0.7899\n",
            "Epoch 2/20\n",
            "782/782 [==============================] - 2s 2ms/step - loss: 0.4609 - accuracy: 0.8105 - val_loss: 0.3856 - val_accuracy: 0.8406\n",
            "Epoch 3/20\n",
            "782/782 [==============================] - 2s 2ms/step - loss: 0.3556 - accuracy: 0.8580 - val_loss: 0.3534 - val_accuracy: 0.8515\n",
            "Epoch 4/20\n",
            "782/782 [==============================] - 2s 2ms/step - loss: 0.3298 - accuracy: 0.8647 - val_loss: 0.3407 - val_accuracy: 0.8543\n",
            "Epoch 5/20\n",
            "782/782 [==============================] - 2s 2ms/step - loss: 0.3148 - accuracy: 0.8714 - val_loss: 0.3377 - val_accuracy: 0.8555\n",
            "Epoch 6/20\n",
            "782/782 [==============================] - 2s 2ms/step - loss: 0.3055 - accuracy: 0.8712 - val_loss: 0.3344 - val_accuracy: 0.8565\n",
            "Epoch 7/20\n",
            "782/782 [==============================] - 2s 2ms/step - loss: 0.2989 - accuracy: 0.8771 - val_loss: 0.3344 - val_accuracy: 0.8562\n",
            "Epoch 8/20\n",
            "782/782 [==============================] - 2s 2ms/step - loss: 0.3030 - accuracy: 0.8742 - val_loss: 0.3344 - val_accuracy: 0.8557\n",
            "Epoch 9/20\n",
            "782/782 [==============================] - 2s 2ms/step - loss: 0.2970 - accuracy: 0.8784 - val_loss: 0.3352 - val_accuracy: 0.8549\n",
            "Epoch 10/20\n",
            "782/782 [==============================] - 2s 2ms/step - loss: 0.2928 - accuracy: 0.8781 - val_loss: 0.3355 - val_accuracy: 0.8552\n",
            "Epoch 11/20\n",
            "782/782 [==============================] - 2s 2ms/step - loss: 0.2966 - accuracy: 0.8797 - val_loss: 0.3366 - val_accuracy: 0.8539\n",
            "Epoch 12/20\n",
            "782/782 [==============================] - 2s 2ms/step - loss: 0.2865 - accuracy: 0.8849 - val_loss: 0.3373 - val_accuracy: 0.8549\n",
            "Epoch 13/20\n",
            "782/782 [==============================] - 2s 2ms/step - loss: 0.2954 - accuracy: 0.8803 - val_loss: 0.3393 - val_accuracy: 0.8543\n",
            "Epoch 14/20\n",
            "782/782 [==============================] - 2s 2ms/step - loss: 0.2856 - accuracy: 0.8837 - val_loss: 0.3387 - val_accuracy: 0.8536\n",
            "Epoch 15/20\n",
            "782/782 [==============================] - 2s 2ms/step - loss: 0.2884 - accuracy: 0.8822 - val_loss: 0.3398 - val_accuracy: 0.8538\n",
            "Epoch 16/20\n",
            "782/782 [==============================] - 2s 2ms/step - loss: 0.2878 - accuracy: 0.8806 - val_loss: 0.3405 - val_accuracy: 0.8534\n",
            "Epoch 17/20\n",
            "782/782 [==============================] - 2s 2ms/step - loss: 0.2871 - accuracy: 0.8821 - val_loss: 0.3418 - val_accuracy: 0.8546\n",
            "Epoch 18/20\n",
            "782/782 [==============================] - 2s 2ms/step - loss: 0.2822 - accuracy: 0.8861 - val_loss: 0.3427 - val_accuracy: 0.8542\n",
            "Epoch 19/20\n",
            "782/782 [==============================] - 2s 2ms/step - loss: 0.2847 - accuracy: 0.8863 - val_loss: 0.3433 - val_accuracy: 0.8526\n",
            "Epoch 20/20\n",
            "782/782 [==============================] - 2s 2ms/step - loss: 0.2792 - accuracy: 0.8863 - val_loss: 0.3445 - val_accuracy: 0.8531\n"
          ],
          "name": "stdout"
        }
      ]
    },
    {
      "cell_type": "markdown",
      "metadata": {
        "id": "EPxiw8iCADr-"
      },
      "source": [
        "Let's plot the loss and the accuracy trends on both training and validation sets. We define the \"plot_learning_acc_and_loss\" function because we will reuse it in the next steps."
      ]
    },
    {
      "cell_type": "code",
      "metadata": {
        "id": "AJg-F7mUa7st",
        "colab": {
          "base_uri": "https://localhost:8080/",
          "height": 320
        },
        "outputId": "e2ec38a4-5e5f-44cf-c4f3-f853af66f7c0"
      },
      "source": [
        "def plot_learning_acc_and_loss(history):\n",
        "    pd.DataFrame(history.history).plot(figsize=(8, 5))\n",
        "    plt.grid(True)\n",
        "    plt.show()\n",
        "plot_learning_acc_and_loss(history)"
      ],
      "execution_count": null,
      "outputs": [
        {
          "output_type": "display_data",
          "data": {
            "image/png": "[encoded data removed]",
            "text/plain": [
              "<Figure size 576x360 with 1 Axes>"
            ]
          },
          "metadata": {
            "tags": [],
            "needs_background": "light"
          }
        }
      ]
    },
    {
      "cell_type": "markdown",
      "metadata": {
        "id": "9O3-sLmxansJ"
      },
      "source": [
        "### [TO COMPLETE] Evaluate the model:\n",
        "\n",
        "Now, our model has been optimized on the training set, and as you can see the performance on the validation set in quite similar (so it does not overfit the training data). Let's now evaluate the performance of our model using the test set."
      ]
    },
    {
      "cell_type": "code",
      "metadata": {
        "id": "q-ZvJEcObdyB",
        "colab": {
          "base_uri": "https://localhost:8080/"
        },
        "outputId": "09f33551-0ceb-4b7e-a497-6ef3be55119b"
      },
      "source": [
        "model.evaluate(X_test, y_test)"
      ],
      "execution_count": null,
      "outputs": [
        {
          "output_type": "stream",
          "text": [
            "391/391 [==============================] - 0s 1ms/step - loss: 0.3227 - accuracy: 0.8662\n"
          ],
          "name": "stdout"
        },
        {
          "output_type": "execute_result",
          "data": {
            "text/plain": [
              "[0.32265692949295044, 0.8662400245666504]"
            ]
          },
          "metadata": {
            "tags": []
          },
          "execution_count": 11
        }
      ]
    },
    {
      "cell_type": "markdown",
      "metadata": {
        "id": "KTSxlnwrII-n"
      },
      "source": [
        "[TO COMPLETE] Explain why it is important to use test and validation, and why it is important to evaluate the model on the test set instead of the validation set. Finally, explain which is the usefulness of the validation set. Insert the discussion in this cell."
      ]
    },
    {
      "cell_type": "markdown",
      "metadata": {
        "id": "B2nIotEsggHz"
      },
      "source": [
        "Ans:\n",
        "\n",
        "The training set is a set of examples used for learning, that is, to fit the parameters of the classifier; validation set is a set of examples used to tune the parameters of a classifier, for example, to choose the number of hidden units in a neural network, the Test Set is a set of examples used only to assess the performance of a fully-specified classifier.\n",
        "\n",
        "The validation set is different from the test set. A validation set actually can be regarded as a part of a training set because it is used to build your model, neural networks, or others. It is usually used for parameter selection and to avoid overfitting."
      ]
    },
    {
      "cell_type": "markdown",
      "metadata": {
        "id": "aeGlzKe864Gq"
      },
      "source": [
        "## [TO COMPLETE] Exercise 2.2: Overfiting\n",
        "\n",
        "A common problem that occurs when you train a deep neural network is overfittig. Overfitting occurs when you achieve a good fit of your model on the training data, while it does not generalize well on new, unseen data. In other words, the model learned patterns specific to the training data, which are irrelevant in other data.\n",
        "As we have seen in the previous exercise, our model does not overfit the training data. In this exercise, we try to modify the training parameters in order to have a model that overfits.\n",
        "Overfitting can have many causes and usually is a combination of some of them, for instance: too many parameters/ layers, too few training samples, wrong learning rate (usualy too high), etc..\n",
        "\n",
        "[TO COMPLETE] In the next cell define a new model (similar to the previuos one) that overfits the training data; then plot the trend of the loss in training and validation set."
      ]
    },
    {
      "cell_type": "code",
      "metadata": {
        "id": "T2B2DFEC8f88",
        "colab": {
          "base_uri": "https://localhost:8080/"
        },
        "outputId": "503e81fd-9748-4009-ba60-991b94bf8983"
      },
      "source": [
        "model = keras.models.Sequential([\n",
        "#[TO COMPLETE] modify the previuos model in order to obtain a new mdel that overfit the training data\n",
        "    tf.keras.Input(shape=(num_words,)),\n",
        "    keras.layers.Dense(20, activation=\"relu\"),\n",
        "    keras.layers.Dense(20, activation=\"relu\"),\n",
        "    keras.layers.Dense(1, activation=\"sigmoid\")\n",
        "])\n",
        "\n",
        "model.compile(loss=\"binary_crossentropy\",\n",
        "              optimizer=keras.optimizers.Adam(learning_rate=0.001),#[TO COMPLETE] learning rate\n",
        "              metrics=[\"accuracy\"])\n",
        "\n",
        "history = model.fit(X_train, y_train, epochs=(30),validation_data=(X_valid, y_valid))\n",
        "\n",
        "print(\"Model Evaluation\")\n",
        "model.evaluate(X_test, y_test)"
      ],
      "execution_count": null,
      "outputs": [
        {
          "output_type": "stream",
          "text": [
            "Epoch 1/30\n",
            "782/782 [==============================] - 2s 2ms/step - loss: 0.4587 - accuracy: 0.7746 - val_loss: 0.3483 - val_accuracy: 0.8472\n",
            "Epoch 2/30\n",
            "782/782 [==============================] - 2s 2ms/step - loss: 0.3213 - accuracy: 0.8629 - val_loss: 0.3320 - val_accuracy: 0.8537\n",
            "Epoch 3/30\n",
            "782/782 [==============================] - 2s 2ms/step - loss: 0.2888 - accuracy: 0.8777 - val_loss: 0.3439 - val_accuracy: 0.8520\n",
            "Epoch 4/30\n",
            "782/782 [==============================] - 2s 2ms/step - loss: 0.2755 - accuracy: 0.8843 - val_loss: 0.3455 - val_accuracy: 0.8494\n",
            "Epoch 5/30\n",
            "782/782 [==============================] - 2s 2ms/step - loss: 0.2481 - accuracy: 0.8972 - val_loss: 0.3569 - val_accuracy: 0.8472\n",
            "Epoch 6/30\n",
            "782/782 [==============================] - 2s 2ms/step - loss: 0.2170 - accuracy: 0.9126 - val_loss: 0.3696 - val_accuracy: 0.8428\n",
            "Epoch 7/30\n",
            "782/782 [==============================] - 2s 2ms/step - loss: 0.1801 - accuracy: 0.9300 - val_loss: 0.4308 - val_accuracy: 0.8393\n",
            "Epoch 8/30\n",
            "782/782 [==============================] - 2s 2ms/step - loss: 0.1512 - accuracy: 0.9410 - val_loss: 0.4454 - val_accuracy: 0.8354\n",
            "Epoch 9/30\n",
            "782/782 [==============================] - 2s 2ms/step - loss: 0.1209 - accuracy: 0.9603 - val_loss: 0.5069 - val_accuracy: 0.8310\n",
            "Epoch 10/30\n",
            "782/782 [==============================] - 2s 2ms/step - loss: 0.0945 - accuracy: 0.9698 - val_loss: 0.6008 - val_accuracy: 0.8282\n",
            "Epoch 11/30\n",
            "782/782 [==============================] - 2s 2ms/step - loss: 0.0762 - accuracy: 0.9749 - val_loss: 0.6564 - val_accuracy: 0.8190\n",
            "Epoch 12/30\n",
            "782/782 [==============================] - 2s 2ms/step - loss: 0.0601 - accuracy: 0.9815 - val_loss: 0.7661 - val_accuracy: 0.8201\n",
            "Epoch 13/30\n",
            "782/782 [==============================] - 2s 2ms/step - loss: 0.0468 - accuracy: 0.9862 - val_loss: 0.8710 - val_accuracy: 0.8233\n",
            "Epoch 14/30\n",
            "782/782 [==============================] - 2s 2ms/step - loss: 0.0334 - accuracy: 0.9911 - val_loss: 0.9152 - val_accuracy: 0.8218\n",
            "Epoch 15/30\n",
            "782/782 [==============================] - 2s 2ms/step - loss: 0.0293 - accuracy: 0.9921 - val_loss: 0.9882 - val_accuracy: 0.8190\n",
            "Epoch 16/30\n",
            "782/782 [==============================] - 2s 2ms/step - loss: 0.0267 - accuracy: 0.9930 - val_loss: 1.1379 - val_accuracy: 0.8222\n",
            "Epoch 17/30\n",
            "782/782 [==============================] - 2s 2ms/step - loss: 0.0294 - accuracy: 0.9908 - val_loss: 1.1893 - val_accuracy: 0.8217\n",
            "Epoch 18/30\n",
            "782/782 [==============================] - 2s 2ms/step - loss: 0.0204 - accuracy: 0.9941 - val_loss: 1.1794 - val_accuracy: 0.8196\n",
            "Epoch 19/30\n",
            "782/782 [==============================] - 2s 2ms/step - loss: 0.0187 - accuracy: 0.9948 - val_loss: 1.2256 - val_accuracy: 0.8202\n",
            "Epoch 20/30\n",
            "782/782 [==============================] - 2s 2ms/step - loss: 0.0157 - accuracy: 0.9958 - val_loss: 1.3087 - val_accuracy: 0.8188\n",
            "Epoch 21/30\n",
            "782/782 [==============================] - 2s 2ms/step - loss: 0.0132 - accuracy: 0.9962 - val_loss: 1.3969 - val_accuracy: 0.8230\n",
            "Epoch 22/30\n",
            "782/782 [==============================] - 2s 2ms/step - loss: 0.0103 - accuracy: 0.9980 - val_loss: 1.4063 - val_accuracy: 0.8201\n",
            "Epoch 23/30\n",
            "782/782 [==============================] - 2s 2ms/step - loss: 0.0227 - accuracy: 0.9928 - val_loss: 1.5516 - val_accuracy: 0.8197\n",
            "Epoch 24/30\n",
            "782/782 [==============================] - 2s 2ms/step - loss: 0.0196 - accuracy: 0.9934 - val_loss: 1.4783 - val_accuracy: 0.8187\n",
            "Epoch 25/30\n",
            "782/782 [==============================] - 2s 2ms/step - loss: 0.0097 - accuracy: 0.9972 - val_loss: 1.4984 - val_accuracy: 0.8128\n",
            "Epoch 26/30\n",
            "782/782 [==============================] - 2s 2ms/step - loss: 0.0103 - accuracy: 0.9972 - val_loss: 1.6378 - val_accuracy: 0.8159\n",
            "Epoch 27/30\n",
            "782/782 [==============================] - 2s 2ms/step - loss: 0.0090 - accuracy: 0.9970 - val_loss: 1.6287 - val_accuracy: 0.8174\n",
            "Epoch 28/30\n",
            "782/782 [==============================] - 2s 2ms/step - loss: 0.0112 - accuracy: 0.9966 - val_loss: 1.6229 - val_accuracy: 0.8177\n",
            "Epoch 29/30\n",
            "782/782 [==============================] - 2s 2ms/step - loss: 0.0131 - accuracy: 0.9960 - val_loss: 1.7128 - val_accuracy: 0.8138\n",
            "Epoch 30/30\n",
            "782/782 [==============================] - 2s 2ms/step - loss: 0.0180 - accuracy: 0.9938 - val_loss: 1.7890 - val_accuracy: 0.8197\n",
            "Model Evaluation\n",
            "391/391 [==============================] - 1s 1ms/step - loss: 1.7275 - accuracy: 0.8229\n"
          ],
          "name": "stdout"
        },
        {
          "output_type": "execute_result",
          "data": {
            "text/plain": [
              "[1.7275265455245972, 0.8228800296783447]"
            ]
          },
          "metadata": {
            "tags": []
          },
          "execution_count": 12
        }
      ]
    },
    {
      "cell_type": "markdown",
      "metadata": {
        "id": "MS0fujEqh_m3"
      },
      "source": [
        "Define the plot_learning_curves function that plots inly the losses (not the accuracy)."
      ]
    },
    {
      "cell_type": "code",
      "metadata": {
        "id": "q5EsklC0DZYH",
        "colab": {
          "base_uri": "https://localhost:8080/",
          "height": 336
        },
        "outputId": "60db80bd-ed8f-4ad3-be8d-32d844297e57"
      },
      "source": [
        "def plot_learning_curves(history):\n",
        "    plt.figure(figsize=(8, 5))\n",
        "    plt.plot(history.epoch,history.history['loss'], label='train loss')\n",
        "    plt.plot(history.epoch,history.history['val_loss'], label='valid loss')\n",
        "    plt.legend()\n",
        "    plt.title('loss')\n",
        "    plt.grid(True)\n",
        "    plt.show()\n",
        "plot_learning_curves(history)"
      ],
      "execution_count": null,
      "outputs": [
        {
          "output_type": "display_data",
          "data": {
            "image/png": "[encoded data removed]",
            "text/plain": [
              "<Figure size 576x360 with 1 Axes>"
            ]
          },
          "metadata": {
            "tags": [],
            "needs_background": "light"
          }
        }
      ]
    },
    {
      "cell_type": "markdown",
      "metadata": {
        "id": "OW4Kf4fgDfOs"
      },
      "source": [
        "### [TO COMPLETE] L1 norm\n",
        "\n",
        "One possible way to solve the overitting issue is by using regularization methods. The two most common regularization methods in Deep Learning are the L1-norm regularization and the L2-norm regularization. Both These techniques are based on limiting the capacity of models, by adding a parameter norm penalty to the objective function $\\mathcal{J}$:\n",
        "$$\n",
        "\\hat{\\mathcal{J}}(\\theta,\\mathbf{X},\\mathbf{y}) = \\mathcal{J}(\\theta,\\mathbf{X},\\mathbf{y}) + \\alpha \\Omega(\\theta)\n",
        "$$\n",
        "where $\\alpha$ is a hyperparameter that weighs the relative contribution of the norm penalty $\\Omega$.\n",
        "Lets start by considering the L1-norm regularization where the regularization term is defined as:\n",
        "$$\n",
        " \\Omega(\\theta)=||\\mathbf{W}||_1=\\sum_i |\\mathbf{w}|\n",
        "$$\n",
        "Let's find the values for the $\\alpha$ parameters that allow to remove the overfitting effect."
      ]
    },
    {
      "cell_type": "code",
      "metadata": {
        "id": "QzD8520dDgw3",
        "colab": {
          "base_uri": "https://localhost:8080/",
          "height": 1000
        },
        "outputId": "8d36a803-aa8a-4c34-f1b1-f419bc0501d5"
      },
      "source": [
        "#In Keras is neccesary to add the regularizer by using the attribute kernel_regularizer\n",
        "#to each layer whose weights will be considered in the Omega function.\n",
        "#is it also possibile to consider the bias by using the attribute bias_regularizer \n",
        "#tf.keras.regularizers.l1(alpha) perfroms the L1-norm regularization\n",
        "\n",
        "#[TO COMPLETE] copy the model that you previously defined that overfits the \n",
        "#trainnig data, and add the L1-norm regularization. Use a proper value for the\n",
        "#alpha hyper-parameter, that prevents the model from overfitting. The results  \n",
        "#reached by the model in terms of loss and accuracy (in all data sets) should be\n",
        "#comparable with the ones obtained by the initial model defined in Exercise 2.1 \n",
        "\n",
        "#In general, a layer that exploits L1-norm regularization is defined as follows:\n",
        "\n",
        "#model.add(keras.layers.Dense(units=[TO COMPLETE], activation=[TO COMPLETE], kernel_regularizer=tf.keras.regularizers.l1([TO COMPLETE]))) \n",
        "\n",
        "model = keras.models.Sequential([\n",
        "    tf.keras.Input(shape=(num_words,)),\n",
        "    keras.layers.Dense(20, activation=\"relu\",kernel_regularizer=tf.keras.regularizers.l1(0.01)),\n",
        "    keras.layers.Dense(20, activation=\"relu\",kernel_regularizer=tf.keras.regularizers.l1(0.01)),\n",
        "    keras.layers.Dense(1, activation=\"sigmoid\")\n",
        "])\n",
        "    \n",
        "    \n",
        "    \n",
        "    \n",
        "#model.add(keras.layers.Dense(100, activation='relu', kernel_regularizer=tf.keras.regularizers.l1(0.01)))\n",
        "model.summary()\n",
        "keras.utils.plot_model(model, \"my_imdb_model.png\", show_shapes=True)\n",
        "\n",
        "\n",
        "\n",
        "model.compile(loss=\"binary_crossentropy\",\n",
        "              optimizer=keras.optimizers.Adam(learning_rate=(1e-4)),#[TO COMPLETE] learning rate\n",
        "              metrics=[\"accuracy\"])\n",
        "\n",
        "history = model.fit(X_train, y_train, epochs=(30),#[TO COMPLETE] epochs\n",
        "                    validation_data=(X_valid, y_valid))\n",
        "\n",
        "print(\"Model Evaluation\")\n",
        "model.evaluate(X_test, y_test)\n",
        "plot_learning_curves(history)"
      ],
      "execution_count": null,
      "outputs": [
        {
          "output_type": "stream",
          "text": [
            "Model: \"sequential_3\"\n",
            "_________________________________________________________________\n",
            "Layer (type)                 Output Shape              Param #   \n",
            "=================================================================\n",
            "dense_9 (Dense)              (None, 20)                20020     \n",
            "_________________________________________________________________\n",
            "dense_10 (Dense)             (None, 20)                420       \n",
            "_________________________________________________________________\n",
            "dense_11 (Dense)             (None, 1)                 21        \n",
            "=================================================================\n",
            "Total params: 20,461\n",
            "Trainable params: 20,461\n",
            "Non-trainable params: 0\n",
            "_________________________________________________________________\n",
            "Epoch 1/30\n",
            "782/782 [==============================] - 3s 3ms/step - loss: 6.2101 - accuracy: 0.4936 - val_loss: 1.2830 - val_accuracy: 0.6110\n",
            "Epoch 2/30\n",
            "782/782 [==============================] - 2s 2ms/step - loss: 1.1755 - accuracy: 0.6397 - val_loss: 0.9830 - val_accuracy: 0.7028\n",
            "Epoch 3/30\n",
            "782/782 [==============================] - 2s 3ms/step - loss: 0.9393 - accuracy: 0.7052 - val_loss: 0.8278 - val_accuracy: 0.6892\n",
            "Epoch 4/30\n",
            "782/782 [==============================] - 2s 2ms/step - loss: 0.7989 - accuracy: 0.7076 - val_loss: 0.7280 - val_accuracy: 0.7220\n",
            "Epoch 5/30\n",
            "782/782 [==============================] - 2s 3ms/step - loss: 0.7104 - accuracy: 0.7234 - val_loss: 0.6696 - val_accuracy: 0.7466\n",
            "Epoch 6/30\n",
            "782/782 [==============================] - 2s 3ms/step - loss: 0.6609 - accuracy: 0.7572 - val_loss: 0.6389 - val_accuracy: 0.7682\n",
            "Epoch 7/30\n",
            "782/782 [==============================] - 2s 2ms/step - loss: 0.6284 - accuracy: 0.7808 - val_loss: 0.6148 - val_accuracy: 0.7833\n",
            "Epoch 8/30\n",
            "782/782 [==============================] - 2s 2ms/step - loss: 0.6100 - accuracy: 0.7885 - val_loss: 0.5946 - val_accuracy: 0.7928\n",
            "Epoch 9/30\n",
            "782/782 [==============================] - 2s 3ms/step - loss: 0.5854 - accuracy: 0.8050 - val_loss: 0.5784 - val_accuracy: 0.8030\n",
            "Epoch 10/30\n",
            "782/782 [==============================] - 2s 3ms/step - loss: 0.5707 - accuracy: 0.8105 - val_loss: 0.5656 - val_accuracy: 0.8090\n",
            "Epoch 11/30\n",
            "782/782 [==============================] - 2s 3ms/step - loss: 0.5577 - accuracy: 0.8184 - val_loss: 0.5553 - val_accuracy: 0.8150\n",
            "Epoch 12/30\n",
            "782/782 [==============================] - 2s 3ms/step - loss: 0.5429 - accuracy: 0.8269 - val_loss: 0.5465 - val_accuracy: 0.8201\n",
            "Epoch 13/30\n",
            "782/782 [==============================] - 2s 2ms/step - loss: 0.5374 - accuracy: 0.8281 - val_loss: 0.5396 - val_accuracy: 0.8248\n",
            "Epoch 14/30\n",
            "782/782 [==============================] - 2s 3ms/step - loss: 0.5270 - accuracy: 0.8342 - val_loss: 0.5338 - val_accuracy: 0.8278\n",
            "Epoch 15/30\n",
            "782/782 [==============================] - 2s 3ms/step - loss: 0.5207 - accuracy: 0.8375 - val_loss: 0.5290 - val_accuracy: 0.8301\n",
            "Epoch 16/30\n",
            "782/782 [==============================] - 2s 2ms/step - loss: 0.5150 - accuracy: 0.8418 - val_loss: 0.5248 - val_accuracy: 0.8314\n",
            "Epoch 17/30\n",
            "782/782 [==============================] - 2s 3ms/step - loss: 0.5158 - accuracy: 0.8413 - val_loss: 0.5222 - val_accuracy: 0.8326\n",
            "Epoch 18/30\n",
            "782/782 [==============================] - 2s 3ms/step - loss: 0.5098 - accuracy: 0.8456 - val_loss: 0.5182 - val_accuracy: 0.8349\n",
            "Epoch 19/30\n",
            "782/782 [==============================] - 2s 3ms/step - loss: 0.5079 - accuracy: 0.8452 - val_loss: 0.5152 - val_accuracy: 0.8356\n",
            "Epoch 20/30\n",
            "782/782 [==============================] - 2s 2ms/step - loss: 0.5019 - accuracy: 0.8474 - val_loss: 0.5135 - val_accuracy: 0.8358\n",
            "Epoch 21/30\n",
            "782/782 [==============================] - 2s 3ms/step - loss: 0.5020 - accuracy: 0.8509 - val_loss: 0.5116 - val_accuracy: 0.8369\n",
            "Epoch 22/30\n",
            "782/782 [==============================] - 2s 3ms/step - loss: 0.4970 - accuracy: 0.8510 - val_loss: 0.5092 - val_accuracy: 0.8384\n",
            "Epoch 23/30\n",
            "782/782 [==============================] - 2s 3ms/step - loss: 0.4948 - accuracy: 0.8519 - val_loss: 0.5071 - val_accuracy: 0.8396\n",
            "Epoch 24/30\n",
            "782/782 [==============================] - 2s 3ms/step - loss: 0.4925 - accuracy: 0.8543 - val_loss: 0.5050 - val_accuracy: 0.8402\n",
            "Epoch 25/30\n",
            "782/782 [==============================] - 2s 2ms/step - loss: 0.4889 - accuracy: 0.8538 - val_loss: 0.5041 - val_accuracy: 0.8422\n",
            "Epoch 26/30\n",
            "782/782 [==============================] - 2s 2ms/step - loss: 0.4899 - accuracy: 0.8547 - val_loss: 0.5029 - val_accuracy: 0.8419\n",
            "Epoch 27/30\n",
            "782/782 [==============================] - 2s 3ms/step - loss: 0.4873 - accuracy: 0.8528 - val_loss: 0.4999 - val_accuracy: 0.8425\n",
            "Epoch 28/30\n",
            "782/782 [==============================] - 2s 3ms/step - loss: 0.4829 - accuracy: 0.8574 - val_loss: 0.4997 - val_accuracy: 0.8427\n",
            "Epoch 29/30\n",
            "782/782 [==============================] - 2s 3ms/step - loss: 0.4819 - accuracy: 0.8574 - val_loss: 0.4974 - val_accuracy: 0.8449\n",
            "Epoch 30/30\n",
            "782/782 [==============================] - 2s 3ms/step - loss: 0.4820 - accuracy: 0.8568 - val_loss: 0.4963 - val_accuracy: 0.8446\n",
            "Model Evaluation\n",
            "391/391 [==============================] - 1s 1ms/step - loss: 0.4830 - accuracy: 0.8541\n"
          ],
          "name": "stdout"
        },
        {
          "output_type": "display_data",
          "data": {
            "image/png": "[encoded data removed]",
            "text/plain": [
              "<Figure size 576x360 with 1 Axes>"
            ]
          },
          "metadata": {
            "tags": [],
            "needs_background": "light"
          }
        }
      ]
    },
    {
      "cell_type": "markdown",
      "metadata": {
        "id": "CgnCGYUvDqbC"
      },
      "source": [
        "### [TO COMPLETE] L2-norm\n",
        "\n",
        "L2-norm regularization is also known as weight decay. This strategy drives the weights closer to the origin by adding the regularization term omega which is defined as:\n",
        "$$\n",
        " \\Omega(\\theta)=\\frac{1}{2}||\\mathbf{W}||_2^2\n",
        "$$\n",
        "\n",
        "Let's find the values for the $\\alpha$ parameters that allow removing remove the overfitting effect with L2-norm."
      ]
    },
    {
      "cell_type": "code",
      "metadata": {
        "id": "qqNhu350DtJo",
        "colab": {
          "base_uri": "https://localhost:8080/",
          "height": 1000
        },
        "outputId": "36fd1d85-7aa4-42a5-c9ef-710be2d131ca"
      },
      "source": [
        "#[TO COMPLETE] insert the model that you previously defined that overfit the \n",
        "#trainig data, and add the L2-norm regularization. Use proper values for the\n",
        "#alpha hyper-parameters, that prevents the model from overfitting. The results  \n",
        "#reached by the model in terms of loss and accuracy (in all data sets) should be\n",
        "#comparable with the ones obtained by the initial model defined in Exercise 2.1\n",
        "\n",
        "#In general, a layer that exploits L2-norm regularization is defined as follow:\n",
        "\n",
        "#model.add(keras.layers.Dense(units=[TO COMPLETE], activation=[TO COMPLETE],kernel_regularizer=tf.keras.regularizers.l2([TO COMPLETE]))) \n",
        "\n",
        "model = keras.models.Sequential([\n",
        "    tf.keras.Input(shape=(num_words,)),\n",
        "    keras.layers.Dense(20, activation=\"relu\",kernel_regularizer=tf.keras.regularizers.l2(0.01)),\n",
        "    keras.layers.Dense(20, activation=\"relu\",kernel_regularizer=tf.keras.regularizers.l2(0.01)),\n",
        "    keras.layers.Dense(1, activation=\"sigmoid\")\n",
        "])\n",
        "    \n",
        "    \n",
        "    \n",
        "    \n",
        "#model.add(keras.layers.Dense(100, activation='relu', kernel_regularizer=tf.keras.regularizers.l1(0.01)))\n",
        "model.summary()\n",
        "keras.utils.plot_model(model, \"my_imdb_model.png\", show_shapes=True)\n",
        "\n",
        "\n",
        "\n",
        "model.compile(loss=\"binary_crossentropy\",\n",
        "              optimizer=keras.optimizers.Adam(learning_rate=(1e-4)),#[TO COMPLETE] learning rate\n",
        "              metrics=[\"accuracy\"])\n",
        "\n",
        "history = model.fit(X_train, y_train, epochs=(30),#[TO COMPLETE] epochs\n",
        "                    validation_data=(X_valid, y_valid))\n",
        "\n",
        "print(\"Model Evaluation\")\n",
        "model.evaluate(X_test, y_test)\n",
        "plot_learning_curves(history)"
      ],
      "execution_count": null,
      "outputs": [
        {
          "output_type": "stream",
          "text": [
            "Model: \"sequential_4\"\n",
            "_________________________________________________________________\n",
            "Layer (type)                 Output Shape              Param #   \n",
            "=================================================================\n",
            "dense_12 (Dense)             (None, 20)                20020     \n",
            "_________________________________________________________________\n",
            "dense_13 (Dense)             (None, 20)                420       \n",
            "_________________________________________________________________\n",
            "dense_14 (Dense)             (None, 1)                 21        \n",
            "=================================================================\n",
            "Total params: 20,461\n",
            "Trainable params: 20,461\n",
            "Non-trainable params: 0\n",
            "_________________________________________________________________\n",
            "Epoch 1/30\n",
            "782/782 [==============================] - 3s 3ms/step - loss: 1.1295 - accuracy: 0.6114 - val_loss: 0.7652 - val_accuracy: 0.8140\n",
            "Epoch 2/30\n",
            "782/782 [==============================] - 2s 3ms/step - loss: 0.7033 - accuracy: 0.8275 - val_loss: 0.5962 - val_accuracy: 0.8421\n",
            "Epoch 3/30\n",
            "782/782 [==============================] - 2s 3ms/step - loss: 0.5595 - accuracy: 0.8591 - val_loss: 0.5352 - val_accuracy: 0.8500\n",
            "Epoch 4/30\n",
            "782/782 [==============================] - 2s 2ms/step - loss: 0.5069 - accuracy: 0.8631 - val_loss: 0.4989 - val_accuracy: 0.8536\n",
            "Epoch 5/30\n",
            "782/782 [==============================] - 2s 2ms/step - loss: 0.4713 - accuracy: 0.8692 - val_loss: 0.4768 - val_accuracy: 0.8553\n",
            "Epoch 6/30\n",
            "782/782 [==============================] - 2s 2ms/step - loss: 0.4486 - accuracy: 0.8699 - val_loss: 0.4612 - val_accuracy: 0.8578\n",
            "Epoch 7/30\n",
            "782/782 [==============================] - 2s 3ms/step - loss: 0.4324 - accuracy: 0.8744 - val_loss: 0.4527 - val_accuracy: 0.8552\n",
            "Epoch 8/30\n",
            "782/782 [==============================] - 2s 3ms/step - loss: 0.4276 - accuracy: 0.8698 - val_loss: 0.4425 - val_accuracy: 0.8566\n",
            "Epoch 9/30\n",
            "782/782 [==============================] - 2s 3ms/step - loss: 0.4160 - accuracy: 0.8725 - val_loss: 0.4361 - val_accuracy: 0.8577\n",
            "Epoch 10/30\n",
            "782/782 [==============================] - 2s 2ms/step - loss: 0.4082 - accuracy: 0.8716 - val_loss: 0.4297 - val_accuracy: 0.8574\n",
            "Epoch 11/30\n",
            "782/782 [==============================] - 2s 2ms/step - loss: 0.4050 - accuracy: 0.8731 - val_loss: 0.4258 - val_accuracy: 0.8573\n",
            "Epoch 12/30\n",
            "782/782 [==============================] - 2s 3ms/step - loss: 0.3943 - accuracy: 0.8753 - val_loss: 0.4206 - val_accuracy: 0.8574\n",
            "Epoch 13/30\n",
            "782/782 [==============================] - 2s 2ms/step - loss: 0.3975 - accuracy: 0.8709 - val_loss: 0.4180 - val_accuracy: 0.8577\n",
            "Epoch 14/30\n",
            "782/782 [==============================] - 2s 3ms/step - loss: 0.3867 - accuracy: 0.8748 - val_loss: 0.4138 - val_accuracy: 0.8572\n",
            "Epoch 15/30\n",
            "782/782 [==============================] - 2s 2ms/step - loss: 0.3863 - accuracy: 0.8730 - val_loss: 0.4106 - val_accuracy: 0.8572\n",
            "Epoch 16/30\n",
            "782/782 [==============================] - 2s 2ms/step - loss: 0.3836 - accuracy: 0.8706 - val_loss: 0.4086 - val_accuracy: 0.8570\n",
            "Epoch 17/30\n",
            "782/782 [==============================] - 2s 2ms/step - loss: 0.3828 - accuracy: 0.8730 - val_loss: 0.4082 - val_accuracy: 0.8570\n",
            "Epoch 18/30\n",
            "782/782 [==============================] - 2s 3ms/step - loss: 0.3779 - accuracy: 0.8744 - val_loss: 0.4061 - val_accuracy: 0.8550\n",
            "Epoch 19/30\n",
            "782/782 [==============================] - 2s 2ms/step - loss: 0.3798 - accuracy: 0.8744 - val_loss: 0.4012 - val_accuracy: 0.8591\n",
            "Epoch 20/30\n",
            "782/782 [==============================] - 2s 2ms/step - loss: 0.3730 - accuracy: 0.8742 - val_loss: 0.4011 - val_accuracy: 0.8590\n",
            "Epoch 21/30\n",
            "782/782 [==============================] - 2s 2ms/step - loss: 0.3753 - accuracy: 0.8741 - val_loss: 0.3982 - val_accuracy: 0.8571\n",
            "Epoch 22/30\n",
            "782/782 [==============================] - 2s 3ms/step - loss: 0.3712 - accuracy: 0.8733 - val_loss: 0.3974 - val_accuracy: 0.8581\n",
            "Epoch 23/30\n",
            "782/782 [==============================] - 2s 3ms/step - loss: 0.3650 - accuracy: 0.8749 - val_loss: 0.3975 - val_accuracy: 0.8547\n",
            "Epoch 24/30\n",
            "782/782 [==============================] - 2s 2ms/step - loss: 0.3649 - accuracy: 0.8756 - val_loss: 0.3944 - val_accuracy: 0.8578\n",
            "Epoch 25/30\n",
            "782/782 [==============================] - 2s 2ms/step - loss: 0.3614 - accuracy: 0.8753 - val_loss: 0.3942 - val_accuracy: 0.8560\n",
            "Epoch 26/30\n",
            "782/782 [==============================] - 2s 3ms/step - loss: 0.3652 - accuracy: 0.8755 - val_loss: 0.3987 - val_accuracy: 0.8508\n",
            "Epoch 27/30\n",
            "782/782 [==============================] - 2s 2ms/step - loss: 0.3629 - accuracy: 0.8702 - val_loss: 0.3902 - val_accuracy: 0.8578\n",
            "Epoch 28/30\n",
            "782/782 [==============================] - 2s 3ms/step - loss: 0.3574 - accuracy: 0.8756 - val_loss: 0.3898 - val_accuracy: 0.8565\n",
            "Epoch 29/30\n",
            "782/782 [==============================] - 2s 2ms/step - loss: 0.3568 - accuracy: 0.8739 - val_loss: 0.3882 - val_accuracy: 0.8558\n",
            "Epoch 30/30\n",
            "782/782 [==============================] - 2s 2ms/step - loss: 0.3576 - accuracy: 0.8764 - val_loss: 0.3882 - val_accuracy: 0.8561\n",
            "Model Evaluation\n",
            "391/391 [==============================] - 0s 1ms/step - loss: 0.3715 - accuracy: 0.8651\n"
          ],
          "name": "stdout"
        },
        {
          "output_type": "display_data",
          "data": {
            "image/png": "[encoded data removed]",
            "text/plain": [
              "<Figure size 576x360 with 1 Axes>"
            ]
          },
          "metadata": {
            "tags": [],
            "needs_background": "light"
          }
        }
      ]
    },
    {
      "cell_type": "markdown",
      "metadata": {
        "id": "xvyKPb4DD25G"
      },
      "source": [
        "###[TO COMPLETE] Early stopping\n",
        "\n",
        "Early Stopping is a form of regularization used to avoid overfitting. It is designed to monitor the generalization error of one model and stop training when generalization error begins to degrade. In order to evaluate the generalization error, early stopping requires that a validation dataset is evaluated during training. Then, when the validation error does not improve for a specific number of epochs (patience hyper-parameter), it stops the training phase."
      ]
    },
    {
      "cell_type": "code",
      "metadata": {
        "id": "MqNOOZ11D7cq",
        "colab": {
          "base_uri": "https://localhost:8080/",
          "height": 1000
        },
        "outputId": "28db33b4-edac-4fbe-c9a6-ce9089db848d"
      },
      "source": [
        "#[TO COMPLETE] insert the model that you previously defined that overfit the \n",
        "#trainnig data\n",
        "model = keras.models.Sequential([\n",
        "    tf.keras.Input(shape=(num_words,)),\n",
        "    keras.layers.Dense(20, activation=\"relu\"),\n",
        "    keras.layers.Dense(20, activation=\"relu\"),\n",
        "    keras.layers.Dense(1, activation=\"sigmoid\")\n",
        "])\n",
        "model.summary()\n",
        "keras.utils.plot_model(model, \"my_imdb_model.png\", show_shapes=True)\n",
        "\n",
        "\n",
        "\n",
        "model.compile(loss=\"binary_crossentropy\",\n",
        "              optimizer=keras.optimizers.Adam(learning_rate=(1e-4)),#[TO COMPLETE] learning rate\n",
        "\n",
        "              metrics=[\"accuracy\"])\n",
        "\n",
        "#Let's define a log dir in order to save the checkpoint file\n",
        "logdir = os.path.join(os.curdir, \"my_logs\", \"run_{}\".format(time.time()))\n",
        "\n",
        "#In Keras the Eraly stopping is manage by using the callbacks argument.\n",
        "callbacks = [\n",
        "    keras.callbacks.TensorBoard(logdir),\n",
        "    keras.callbacks.EarlyStopping(patience=(10)),#[TO COMPLETE] play with patience and find the value that prevents the model from overfitting.\n",
        "\n",
        "\n",
        "    #Saving the checkpoints file allows to load the \"best\" model when the Early \n",
        "    #stopping detect that the generalization error degrade (after 'patience' epochs)\n",
        "    keras.callbacks.ModelCheckpoint(\"my_mnist_model.h5\", save_best_only=True),\n",
        "]\n",
        "\n",
        "history = model.fit(X_train, y_train, epochs=(30),#[TO COMPLETE] epochs\n",
        "                    validation_data=(X_valid, y_valid),\n",
        "                    callbacks=callbacks)\n",
        "\n",
        "print(\"Model Evaluation\")\n",
        "#The early stopping stopped training after few epochs without progress, so your\n",
        "#model may already have started to overfit the training set. Since the \n",
        "#ModelCheckpoint callback only saved the best models (on the validation set) the\n",
        "#last saved model is the best on the validation set.\n",
        "model = keras.models.load_model(\"my_mnist_model.h5\")\n",
        "model.evaluate(X_test, y_test)\n",
        "plot_learning_curves(history)"
      ],
      "execution_count": null,
      "outputs": [
        {
          "output_type": "stream",
          "text": [
            "Model: \"sequential_5\"\n",
            "_________________________________________________________________\n",
            "Layer (type)                 Output Shape              Param #   \n",
            "=================================================================\n",
            "dense_15 (Dense)             (None, 20)                20020     \n",
            "_________________________________________________________________\n",
            "dense_16 (Dense)             (None, 20)                420       \n",
            "_________________________________________________________________\n",
            "dense_17 (Dense)             (None, 1)                 21        \n",
            "=================================================================\n",
            "Total params: 20,461\n",
            "Trainable params: 20,461\n",
            "Non-trainable params: 0\n",
            "_________________________________________________________________\n",
            "Epoch 1/30\n",
            "782/782 [==============================] - 3s 3ms/step - loss: 0.6551 - accuracy: 0.5984 - val_loss: 0.4779 - val_accuracy: 0.7936\n",
            "Epoch 2/30\n",
            "782/782 [==============================] - 2s 2ms/step - loss: 0.4344 - accuracy: 0.8152 - val_loss: 0.3771 - val_accuracy: 0.8382\n",
            "Epoch 3/30\n",
            "782/782 [==============================] - 2s 2ms/step - loss: 0.3428 - accuracy: 0.8577 - val_loss: 0.3523 - val_accuracy: 0.8487\n",
            "Epoch 4/30\n",
            "782/782 [==============================] - 2s 2ms/step - loss: 0.3240 - accuracy: 0.8629 - val_loss: 0.3411 - val_accuracy: 0.8544\n",
            "Epoch 5/30\n",
            "782/782 [==============================] - 2s 3ms/step - loss: 0.3113 - accuracy: 0.8709 - val_loss: 0.3395 - val_accuracy: 0.8538\n",
            "Epoch 6/30\n",
            "782/782 [==============================] - 2s 2ms/step - loss: 0.3007 - accuracy: 0.8737 - val_loss: 0.3363 - val_accuracy: 0.8562\n",
            "Epoch 7/30\n",
            "782/782 [==============================] - 2s 2ms/step - loss: 0.2941 - accuracy: 0.8797 - val_loss: 0.3365 - val_accuracy: 0.8556\n",
            "Epoch 8/30\n",
            "782/782 [==============================] - 2s 3ms/step - loss: 0.2972 - accuracy: 0.8756 - val_loss: 0.3369 - val_accuracy: 0.8554\n",
            "Epoch 9/30\n",
            "782/782 [==============================] - 2s 3ms/step - loss: 0.2889 - accuracy: 0.8820 - val_loss: 0.3383 - val_accuracy: 0.8542\n",
            "Epoch 10/30\n",
            "782/782 [==============================] - 2s 3ms/step - loss: 0.2836 - accuracy: 0.8839 - val_loss: 0.3383 - val_accuracy: 0.8545\n",
            "Epoch 11/30\n",
            "782/782 [==============================] - 2s 2ms/step - loss: 0.2840 - accuracy: 0.8860 - val_loss: 0.3398 - val_accuracy: 0.8526\n",
            "Epoch 12/30\n",
            "782/782 [==============================] - 2s 2ms/step - loss: 0.2722 - accuracy: 0.8902 - val_loss: 0.3403 - val_accuracy: 0.8534\n",
            "Epoch 13/30\n",
            "782/782 [==============================] - 2s 2ms/step - loss: 0.2778 - accuracy: 0.8869 - val_loss: 0.3433 - val_accuracy: 0.8513\n",
            "Epoch 14/30\n",
            "782/782 [==============================] - 2s 2ms/step - loss: 0.2652 - accuracy: 0.8925 - val_loss: 0.3437 - val_accuracy: 0.8524\n",
            "Epoch 15/30\n",
            "782/782 [==============================] - 2s 2ms/step - loss: 0.2635 - accuracy: 0.8945 - val_loss: 0.3463 - val_accuracy: 0.8508\n",
            "Epoch 16/30\n",
            "782/782 [==============================] - 2s 2ms/step - loss: 0.2579 - accuracy: 0.8946 - val_loss: 0.3479 - val_accuracy: 0.8488\n",
            "Model Evaluation\n",
            "391/391 [==============================] - 1s 1ms/step - loss: 0.3184 - accuracy: 0.8649\n"
          ],
          "name": "stdout"
        },
        {
          "output_type": "display_data",
          "data": {
            "image/png": "[encoded data removed]",
            "text/plain": [
              "<Figure size 576x360 with 1 Axes>"
            ]
          },
          "metadata": {
            "tags": [],
            "needs_background": "light"
          }
        }
      ]
    },
    {
      "cell_type": "markdown",
      "metadata": {
        "id": "DCV8pwVzl9GK"
      },
      "source": [
        "## Exercise 2.3: Model Selection\n",
        "\n",
        "Hyperparameters are the parameters of the learning method itself which we have to specify a priori, i.e., before model fitting. In contrast, model parameters are parameters which arise as a result of the fit (the network weights). The aim of model selection is selecting the best hyperparameters for our deep network. Finding the right hyperparameters for a model can be crucial for the model performance on given data. For istance lets consider our model trained by using different values for the learning rate: "
      ]
    },
    {
      "cell_type": "code",
      "metadata": {
        "id": "Fw8Hs-AEmLKh"
      },
      "source": [
        "learning_rates = [1e-4, 1e-2, 1e-1]"
      ],
      "execution_count": null,
      "outputs": []
    },
    {
      "cell_type": "code",
      "metadata": {
        "id": "mym4GOgUmWqD",
        "colab": {
          "base_uri": "https://localhost:8080/"
        },
        "outputId": "ae4a17bf-c047-478d-a0c3-450adc112b3b"
      },
      "source": [
        "histories = []\n",
        "for learning_rate in learning_rates:\n",
        "    model = keras.models.Sequential([\n",
        "                                    tf.keras.Input(shape=(num_words,)),\n",
        "                                    keras.layers.Dense(16, activation=\"relu\"),\n",
        "                                    keras.layers.Dense(16, activation=\"relu\"),\n",
        "                                    keras.layers.Dense(1, activation=\"sigmoid\")\n",
        "                                     ])\n",
        "    model.compile(loss=\"binary_crossentropy\",\n",
        "              optimizer=keras.optimizers.Adam(learning_rate=learning_rate),\n",
        "              metrics=[\"accuracy\"])\n",
        "              \n",
        "    callbacks = [keras.callbacks.EarlyStopping(patience=2)]\n",
        "\n",
        "    history = model.fit(X_train, y_train,\n",
        "                        validation_data=(X_valid, y_valid), epochs=10,\n",
        "                        callbacks=callbacks)\n",
        "    histories.append(history)\n",
        "    print(\"evaluation on test set\")\n",
        "    model.evaluate(X_test, y_test)"
      ],
      "execution_count": null,
      "outputs": [
        {
          "output_type": "stream",
          "text": [
            "Epoch 1/10\n",
            "782/782 [==============================] - 2s 2ms/step - loss: 0.6654 - accuracy: 0.5814 - val_loss: 0.4753 - val_accuracy: 0.8074\n",
            "Epoch 2/10\n",
            "782/782 [==============================] - 2s 2ms/step - loss: 0.4283 - accuracy: 0.8266 - val_loss: 0.3704 - val_accuracy: 0.8462\n",
            "Epoch 3/10\n",
            "782/782 [==============================] - 2s 2ms/step - loss: 0.3395 - accuracy: 0.8621 - val_loss: 0.3485 - val_accuracy: 0.8534\n",
            "Epoch 4/10\n",
            "782/782 [==============================] - 2s 2ms/step - loss: 0.3216 - accuracy: 0.8653 - val_loss: 0.3393 - val_accuracy: 0.8567\n",
            "Epoch 5/10\n",
            "782/782 [==============================] - 2s 2ms/step - loss: 0.3102 - accuracy: 0.8740 - val_loss: 0.3378 - val_accuracy: 0.8571\n",
            "Epoch 6/10\n",
            "782/782 [==============================] - 2s 2ms/step - loss: 0.3019 - accuracy: 0.8756 - val_loss: 0.3353 - val_accuracy: 0.8562\n",
            "Epoch 7/10\n",
            "782/782 [==============================] - 2s 2ms/step - loss: 0.2960 - accuracy: 0.8788 - val_loss: 0.3356 - val_accuracy: 0.8562\n",
            "Epoch 8/10\n",
            "782/782 [==============================] - 2s 2ms/step - loss: 0.3010 - accuracy: 0.8765 - val_loss: 0.3360 - val_accuracy: 0.8551\n",
            "evaluation on test set\n",
            "391/391 [==============================] - 0s 1ms/step - loss: 0.3170 - accuracy: 0.8656\n",
            "Epoch 1/10\n",
            "782/782 [==============================] - 2s 2ms/step - loss: 0.4113 - accuracy: 0.8135 - val_loss: 0.3384 - val_accuracy: 0.8513\n",
            "Epoch 2/10\n",
            "782/782 [==============================] - 2s 2ms/step - loss: 0.3187 - accuracy: 0.8599 - val_loss: 0.3431 - val_accuracy: 0.8503\n",
            "Epoch 3/10\n",
            "782/782 [==============================] - 2s 2ms/step - loss: 0.2839 - accuracy: 0.8771 - val_loss: 0.3535 - val_accuracy: 0.8486\n",
            "evaluation on test set\n",
            "391/391 [==============================] - 0s 1ms/step - loss: 0.3304 - accuracy: 0.8589\n",
            "Epoch 1/10\n",
            "782/782 [==============================] - 2s 2ms/step - loss: 0.7537 - accuracy: 0.5033 - val_loss: 0.6932 - val_accuracy: 0.5053\n",
            "Epoch 2/10\n",
            "782/782 [==============================] - 2s 2ms/step - loss: 0.6951 - accuracy: 0.5027 - val_loss: 0.6931 - val_accuracy: 0.5053\n",
            "Epoch 3/10\n",
            "782/782 [==============================] - 2s 2ms/step - loss: 0.6951 - accuracy: 0.4922 - val_loss: 0.7039 - val_accuracy: 0.4947\n",
            "Epoch 4/10\n",
            "782/782 [==============================] - 2s 2ms/step - loss: 0.6952 - accuracy: 0.5024 - val_loss: 0.6975 - val_accuracy: 0.4947\n",
            "evaluation on test set\n",
            "391/391 [==============================] - 0s 1ms/step - loss: 0.6957 - accuracy: 0.5053\n"
          ],
          "name": "stdout"
        }
      ]
    },
    {
      "cell_type": "markdown",
      "metadata": {
        "id": "RzTSjfwptkHJ"
      },
      "source": [
        "Let's plot the results"
      ]
    },
    {
      "cell_type": "code",
      "metadata": {
        "id": "cIlN1vlioIYh",
        "colab": {
          "base_uri": "https://localhost:8080/",
          "height": 981
        },
        "outputId": "8b148f31-2319-44b1-cc11-85415e961b0a"
      },
      "source": [
        "for learning_rate, history in zip(learning_rates, histories):\n",
        "    print(\"Learning rate:\", learning_rate)\n",
        "    plot_learning_acc_and_loss(history)"
      ],
      "execution_count": null,
      "outputs": [
        {
          "output_type": "stream",
          "text": [
            "Learning rate: 0.0001\n"
          ],
          "name": "stdout"
        },
        {
          "output_type": "display_data",
          "data": {
            "image/png": "[encoded data removed]",
            "text/plain": [
              "<Figure size 576x360 with 1 Axes>"
            ]
          },
          "metadata": {
            "tags": [],
            "needs_background": "light"
          }
        },
        {
          "output_type": "stream",
          "text": [
            "Learning rate: 0.01\n"
          ],
          "name": "stdout"
        },
        {
          "output_type": "display_data",
          "data": {
            "image/png": "[encoded data removed]",
            "text/plain": [
              "<Figure size 576x360 with 1 Axes>"
            ]
          },
          "metadata": {
            "tags": [],
            "needs_background": "light"
          }
        },
        {
          "output_type": "stream",
          "text": [
            "Learning rate: 0.1\n"
          ],
          "name": "stdout"
        },
        {
          "output_type": "display_data",
          "data": {
            "image/png": "[encoded data removed]",
            "text/plain": [
              "<Figure size 576x360 with 1 Axes>"
            ]
          },
          "metadata": {
            "tags": [],
            "needs_background": "light"
          }
        }
      ]
    },
    {
      "cell_type": "markdown",
      "metadata": {
        "id": "_JntujSWq3e5"
      },
      "source": [
        "### [TO COMPLETE] GRID Search:\n",
        "\n",
        "Since a deep net has many hyperparameters, in order to find the best ones, we have to consider all the possible combinations of all of the possible values. One common method to perform this complex task is Grid-Search.\n",
        "Given a set of values for each hyper-parameter, Grid-Search will build a model on each parameter combination possible. It iterates through every parameter combination and stores a model for each combination. Finally, the model that obtained the best result on the validation set will be select.\n",
        "\n",
        "In order to perfrom Grid-Search we will use the GridSearchCV method from scikit-learn."
      ]
    },
    {
      "cell_type": "markdown",
      "metadata": {
        "id": "CPz629YSrDhN"
      },
      "source": [
        "Let's Create a build_model() function that takes two arguments, n_neurons, learning_rate, and builds, compiles and returns a model with the given number of of neurons and the given learning rate.\n",
        "In order to limit the time requirements of the process we will consider only these two hyper-paramters.\n",
        "\n",
        "[TO COMPLETE] in the following code cell define the build_model function."
      ]
    },
    {
      "cell_type": "code",
      "metadata": {
        "id": "oGSKWTTtqxZ4"
      },
      "source": [
        "def build_model(n_units=30, learning_rate=1e-3):\n",
        "    # The function has to build a model similar to the ones we used in previuous execises:\n",
        "    #- a input layer \n",
        "    #- one or two Dense layers composed of n_units and that exploit Relu activation function \n",
        "    #- the output layer that uses the sigmoid activation function\n",
        "    # Then, the model has to be compiled.\n",
        "    model = keras.models.Sequential([\n",
        "        tf.keras.Input(shape=(num_words,)),\n",
        "        keras.layers.Dense(16, activation=\"relu\"),\n",
        "        keras.layers.Dense(16, activation=\"relu\"),\n",
        "        keras.layers.Dense(1, activation=\"sigmoid\")\n",
        "                                     ])\n",
        "    \n",
        "    model.summary()\n",
        "    keras.utils.plot_model(model, \"my_imdb_model.png\", show_shapes=True)\n",
        "\n",
        "    model.compile(loss=\"binary_crossentropy\",\n",
        "              optimizer=keras.optimizers.Adam(learning_rate=(1e-3)),#[TO COMPLETE] learning rate\n",
        "              metrics=[\"accuracy\"])\n",
        "    \n",
        "    return model\n",
        "\n",
        "\n",
        "\n",
        "    \n",
        "#Create a keras.wrappers.scikit_learn.KerasRegressor and pass the build_model \n",
        "#function to the constructor. This gives you a Scikit-Learn compatible predictor\n",
        "keras_reg = keras.wrappers.scikit_learn.KerasRegressor(build_model)"
      ],
      "execution_count": null,
      "outputs": []
    },
    {
      "cell_type": "markdown",
      "metadata": {
        "id": "PS6W3A2LxDg5"
      },
      "source": [
        "Let's define the lists of hyper-parameters' values. Also in this case, we use a very limited size lists, but in a real-world scenario a reasonable amount of possible values should be considered (try to add some values and check how much the time required to perform the Grid-Search increases)"
      ]
    },
    {
      "cell_type": "code",
      "metadata": {
        "id": "y-uldCW3ru24"
      },
      "source": [
        "param_distribs = {\n",
        "    \"n_units\": [10,20,40],# [TO COMPLETE] insert a list that contains few (2 or 3) reasonable value\n",
        "    \"learning_rate\": ['1e-4','1e-1','1e-3'] #[TO COMPLETE] insert a list that contains few (2 or 3) reasonable values\n",
        "    #Check how the time required to perform GRID search increases when increasing the number of values for each hyper-parameter.\n",
        "}"
      ],
      "execution_count": null,
      "outputs": []
    },
    {
      "cell_type": "markdown",
      "metadata": {
        "id": "bEiBxVYtx_sK"
      },
      "source": [
        "Use a sklearn.model_selection.GridSearchCV to search the hyperparameter space of your KerasRegressor"
      ]
    },
    {
      "cell_type": "code",
      "metadata": {
        "id": "iobF2Bvdr9ER"
      },
      "source": [
        "from sklearn.model_selection import GridSearchCV\n",
        "\n",
        "grid_search = GridSearchCV(keras_reg, param_distribs)"
      ],
      "execution_count": null,
      "outputs": []
    },
    {
      "cell_type": "markdown",
      "metadata": {
        "id": "LVGMcZz_yKSX"
      },
      "source": [
        "Run the Grid-Search"
      ]
    },
    {
      "cell_type": "code",
      "metadata": {
        "id": "-BA3vgTjr-hw",
        "colab": {
          "base_uri": "https://localhost:8080/"
        },
        "outputId": "9d2dcdb3-af77-4398-addd-6c7f4ac785a1"
      },
      "source": [
        "\n",
        "grid_search.fit(X_train.numpy(), y_train, epochs=(5),#The number of epochs can be modified (check what happens by increasing it)\n",
        "                validation_data=(X_valid.numpy(), y_valid))"
      ],
      "execution_count": null,
      "outputs": [
        {
          "output_type": "stream",
          "text": [
            "Model: \"sequential_55\"\n",
            "_________________________________________________________________\n",
            "Layer (type)                 Output Shape              Param #   \n",
            "=================================================================\n",
            "dense_165 (Dense)            (None, 16)                16016     \n",
            "_________________________________________________________________\n",
            "dense_166 (Dense)            (None, 16)                272       \n",
            "_________________________________________________________________\n",
            "dense_167 (Dense)            (None, 1)                 17        \n",
            "=================================================================\n",
            "Total params: 16,305\n",
            "Trainable params: 16,305\n",
            "Non-trainable params: 0\n",
            "_________________________________________________________________\n",
            "Epoch 1/5\n",
            "625/625 [==============================] - 2s 2ms/step - loss: 0.4979 - accuracy: 0.7559 - val_loss: 0.3413 - val_accuracy: 0.8548\n",
            "Epoch 2/5\n",
            "625/625 [==============================] - 1s 2ms/step - loss: 0.3082 - accuracy: 0.8719 - val_loss: 0.3409 - val_accuracy: 0.8525\n",
            "Epoch 3/5\n",
            "625/625 [==============================] - 1s 2ms/step - loss: 0.2929 - accuracy: 0.8787 - val_loss: 0.3495 - val_accuracy: 0.8474\n",
            "Epoch 4/5\n",
            "625/625 [==============================] - 1s 2ms/step - loss: 0.2791 - accuracy: 0.8827 - val_loss: 0.3429 - val_accuracy: 0.8508\n",
            "Epoch 5/5\n",
            "625/625 [==============================] - 1s 2ms/step - loss: 0.2498 - accuracy: 0.8976 - val_loss: 0.3680 - val_accuracy: 0.8407\n",
            "157/157 [==============================] - 0s 1ms/step - loss: 0.3624 - accuracy: 0.8532\n",
            "Model: \"sequential_56\"\n",
            "_________________________________________________________________\n",
            "Layer (type)                 Output Shape              Param #   \n",
            "=================================================================\n",
            "dense_168 (Dense)            (None, 16)                16016     \n",
            "_________________________________________________________________\n",
            "dense_169 (Dense)            (None, 16)                272       \n",
            "_________________________________________________________________\n",
            "dense_170 (Dense)            (None, 1)                 17        \n",
            "=================================================================\n",
            "Total params: 16,305\n",
            "Trainable params: 16,305\n",
            "Non-trainable params: 0\n",
            "_________________________________________________________________\n",
            "Epoch 1/5\n",
            "625/625 [==============================] - 2s 3ms/step - loss: 0.4850 - accuracy: 0.7545 - val_loss: 0.3402 - val_accuracy: 0.8536\n",
            "Epoch 2/5\n",
            "625/625 [==============================] - 1s 2ms/step - loss: 0.3093 - accuracy: 0.8728 - val_loss: 0.3405 - val_accuracy: 0.8531\n",
            "Epoch 3/5\n",
            "625/625 [==============================] - 1s 2ms/step - loss: 0.2945 - accuracy: 0.8791 - val_loss: 0.3605 - val_accuracy: 0.8454\n",
            "Epoch 4/5\n",
            "625/625 [==============================] - 1s 2ms/step - loss: 0.2713 - accuracy: 0.8878 - val_loss: 0.3469 - val_accuracy: 0.8488\n",
            "Epoch 5/5\n",
            "625/625 [==============================] - 1s 2ms/step - loss: 0.2380 - accuracy: 0.9042 - val_loss: 0.3829 - val_accuracy: 0.8397\n",
            "157/157 [==============================] - 0s 1ms/step - loss: 0.3647 - accuracy: 0.8488\n",
            "Model: \"sequential_57\"\n",
            "_________________________________________________________________\n",
            "Layer (type)                 Output Shape              Param #   \n",
            "=================================================================\n",
            "dense_171 (Dense)            (None, 16)                16016     \n",
            "_________________________________________________________________\n",
            "dense_172 (Dense)            (None, 16)                272       \n",
            "_________________________________________________________________\n",
            "dense_173 (Dense)            (None, 1)                 17        \n",
            "=================================================================\n",
            "Total params: 16,305\n",
            "Trainable params: 16,305\n",
            "Non-trainable params: 0\n",
            "_________________________________________________________________\n",
            "Epoch 1/5\n",
            "625/625 [==============================] - 2s 2ms/step - loss: 0.5047 - accuracy: 0.7495 - val_loss: 0.3407 - val_accuracy: 0.8514\n",
            "Epoch 2/5\n",
            "625/625 [==============================] - 1s 2ms/step - loss: 0.3093 - accuracy: 0.8707 - val_loss: 0.3358 - val_accuracy: 0.8533\n",
            "Epoch 3/5\n",
            "625/625 [==============================] - 1s 2ms/step - loss: 0.2933 - accuracy: 0.8781 - val_loss: 0.3464 - val_accuracy: 0.8478\n",
            "Epoch 4/5\n",
            "625/625 [==============================] - 1s 2ms/step - loss: 0.2750 - accuracy: 0.8871 - val_loss: 0.3427 - val_accuracy: 0.8473\n",
            "Epoch 5/5\n",
            "625/625 [==============================] - 1s 2ms/step - loss: 0.2481 - accuracy: 0.8973 - val_loss: 0.3561 - val_accuracy: 0.8426\n",
            "157/157 [==============================] - 0s 1ms/step - loss: 0.3556 - accuracy: 0.8488\n",
            "Model: \"sequential_58\"\n",
            "_________________________________________________________________\n",
            "Layer (type)                 Output Shape              Param #   \n",
            "=================================================================\n",
            "dense_174 (Dense)            (None, 16)                16016     \n",
            "_________________________________________________________________\n",
            "dense_175 (Dense)            (None, 16)                272       \n",
            "_________________________________________________________________\n",
            "dense_176 (Dense)            (None, 1)                 17        \n",
            "=================================================================\n",
            "Total params: 16,305\n",
            "Trainable params: 16,305\n",
            "Non-trainable params: 0\n",
            "_________________________________________________________________\n",
            "Epoch 1/5\n",
            "625/625 [==============================] - 2s 2ms/step - loss: 0.4895 - accuracy: 0.7565 - val_loss: 0.3491 - val_accuracy: 0.8511\n",
            "Epoch 2/5\n",
            "625/625 [==============================] - 1s 2ms/step - loss: 0.3108 - accuracy: 0.8721 - val_loss: 0.3374 - val_accuracy: 0.8539\n",
            "Epoch 3/5\n",
            "625/625 [==============================] - 1s 2ms/step - loss: 0.3018 - accuracy: 0.8730 - val_loss: 0.3422 - val_accuracy: 0.8497\n",
            "Epoch 4/5\n",
            "625/625 [==============================] - 1s 2ms/step - loss: 0.2911 - accuracy: 0.8808 - val_loss: 0.3398 - val_accuracy: 0.8542\n",
            "Epoch 5/5\n",
            "625/625 [==============================] - 1s 2ms/step - loss: 0.2638 - accuracy: 0.8897 - val_loss: 0.3453 - val_accuracy: 0.8483\n",
            "157/157 [==============================] - 0s 1ms/step - loss: 0.3380 - accuracy: 0.8554\n",
            "Model: \"sequential_59\"\n",
            "_________________________________________________________________\n",
            "Layer (type)                 Output Shape              Param #   \n",
            "=================================================================\n",
            "dense_177 (Dense)            (None, 16)                16016     \n",
            "_________________________________________________________________\n",
            "dense_178 (Dense)            (None, 16)                272       \n",
            "_________________________________________________________________\n",
            "dense_179 (Dense)            (None, 1)                 17        \n",
            "=================================================================\n",
            "Total params: 16,305\n",
            "Trainable params: 16,305\n",
            "Non-trainable params: 0\n",
            "_________________________________________________________________\n",
            "Epoch 1/5\n",
            "625/625 [==============================] - 2s 2ms/step - loss: 0.4822 - accuracy: 0.7596 - val_loss: 0.3577 - val_accuracy: 0.8443\n",
            "Epoch 2/5\n",
            "625/625 [==============================] - 1s 2ms/step - loss: 0.3176 - accuracy: 0.8669 - val_loss: 0.3386 - val_accuracy: 0.8485\n",
            "Epoch 3/5\n",
            "625/625 [==============================] - 1s 2ms/step - loss: 0.2946 - accuracy: 0.8753 - val_loss: 0.3519 - val_accuracy: 0.8474\n",
            "Epoch 4/5\n",
            "625/625 [==============================] - 1s 2ms/step - loss: 0.2795 - accuracy: 0.8821 - val_loss: 0.3488 - val_accuracy: 0.8473\n",
            "Epoch 5/5\n",
            "625/625 [==============================] - 1s 2ms/step - loss: 0.2526 - accuracy: 0.8951 - val_loss: 0.3546 - val_accuracy: 0.8443\n",
            "157/157 [==============================] - 0s 1ms/step - loss: 0.3404 - accuracy: 0.8556\n",
            "Model: \"sequential_60\"\n",
            "_________________________________________________________________\n",
            "Layer (type)                 Output Shape              Param #   \n",
            "=================================================================\n",
            "dense_180 (Dense)            (None, 16)                16016     \n",
            "_________________________________________________________________\n",
            "dense_181 (Dense)            (None, 16)                272       \n",
            "_________________________________________________________________\n",
            "dense_182 (Dense)            (None, 1)                 17        \n",
            "=================================================================\n",
            "Total params: 16,305\n",
            "Trainable params: 16,305\n",
            "Non-trainable params: 0\n",
            "_________________________________________________________________\n",
            "Epoch 1/5\n",
            "625/625 [==============================] - 2s 2ms/step - loss: 0.4912 - accuracy: 0.7625 - val_loss: 0.3416 - val_accuracy: 0.8538\n",
            "Epoch 2/5\n",
            "625/625 [==============================] - 1s 2ms/step - loss: 0.3088 - accuracy: 0.8720 - val_loss: 0.3380 - val_accuracy: 0.8538\n",
            "Epoch 3/5\n",
            "625/625 [==============================] - 1s 2ms/step - loss: 0.2939 - accuracy: 0.8759 - val_loss: 0.3433 - val_accuracy: 0.8508\n",
            "Epoch 4/5\n",
            "625/625 [==============================] - 1s 2ms/step - loss: 0.2843 - accuracy: 0.8793 - val_loss: 0.3406 - val_accuracy: 0.8525\n",
            "Epoch 5/5\n",
            "625/625 [==============================] - 1s 2ms/step - loss: 0.2606 - accuracy: 0.8917 - val_loss: 0.3615 - val_accuracy: 0.8431\n",
            "157/157 [==============================] - 0s 1ms/step - loss: 0.3528 - accuracy: 0.8536\n",
            "Model: \"sequential_61\"\n",
            "_________________________________________________________________\n",
            "Layer (type)                 Output Shape              Param #   \n",
            "=================================================================\n",
            "dense_183 (Dense)            (None, 16)                16016     \n",
            "_________________________________________________________________\n",
            "dense_184 (Dense)            (None, 16)                272       \n",
            "_________________________________________________________________\n",
            "dense_185 (Dense)            (None, 1)                 17        \n",
            "=================================================================\n",
            "Total params: 16,305\n",
            "Trainable params: 16,305\n",
            "Non-trainable params: 0\n",
            "_________________________________________________________________\n",
            "Epoch 1/5\n",
            "625/625 [==============================] - 2s 2ms/step - loss: 0.5001 - accuracy: 0.7435 - val_loss: 0.3387 - val_accuracy: 0.8550\n",
            "Epoch 2/5\n",
            "625/625 [==============================] - 1s 2ms/step - loss: 0.3097 - accuracy: 0.8716 - val_loss: 0.3372 - val_accuracy: 0.8540\n",
            "Epoch 3/5\n",
            "625/625 [==============================] - 1s 2ms/step - loss: 0.2986 - accuracy: 0.8761 - val_loss: 0.3585 - val_accuracy: 0.8436\n",
            "Epoch 4/5\n",
            "625/625 [==============================] - 1s 2ms/step - loss: 0.2808 - accuracy: 0.8841 - val_loss: 0.3442 - val_accuracy: 0.8494\n",
            "Epoch 5/5\n",
            "625/625 [==============================] - 1s 2ms/step - loss: 0.2447 - accuracy: 0.8979 - val_loss: 0.3606 - val_accuracy: 0.8466\n",
            "157/157 [==============================] - 0s 1ms/step - loss: 0.3493 - accuracy: 0.8504\n",
            "Model: \"sequential_62\"\n",
            "_________________________________________________________________\n",
            "Layer (type)                 Output Shape              Param #   \n",
            "=================================================================\n",
            "dense_186 (Dense)            (None, 16)                16016     \n",
            "_________________________________________________________________\n",
            "dense_187 (Dense)            (None, 16)                272       \n",
            "_________________________________________________________________\n",
            "dense_188 (Dense)            (None, 1)                 17        \n",
            "=================================================================\n",
            "Total params: 16,305\n",
            "Trainable params: 16,305\n",
            "Non-trainable params: 0\n",
            "_________________________________________________________________\n",
            "Epoch 1/5\n",
            "625/625 [==============================] - 2s 2ms/step - loss: 0.4774 - accuracy: 0.7627 - val_loss: 0.3363 - val_accuracy: 0.8544\n",
            "Epoch 2/5\n",
            "625/625 [==============================] - 1s 2ms/step - loss: 0.3075 - accuracy: 0.8704 - val_loss: 0.3321 - val_accuracy: 0.8532\n",
            "Epoch 3/5\n",
            "625/625 [==============================] - 1s 2ms/step - loss: 0.2900 - accuracy: 0.8804 - val_loss: 0.3433 - val_accuracy: 0.8466\n",
            "Epoch 4/5\n",
            "625/625 [==============================] - 1s 2ms/step - loss: 0.2705 - accuracy: 0.8856 - val_loss: 0.3430 - val_accuracy: 0.8491\n",
            "Epoch 5/5\n",
            "625/625 [==============================] - 1s 2ms/step - loss: 0.2392 - accuracy: 0.9002 - val_loss: 0.3521 - val_accuracy: 0.8472\n",
            "157/157 [==============================] - 0s 1ms/step - loss: 0.3544 - accuracy: 0.8484\n",
            "Model: \"sequential_63\"\n",
            "_________________________________________________________________\n",
            "Layer (type)                 Output Shape              Param #   \n",
            "=================================================================\n",
            "dense_189 (Dense)            (None, 16)                16016     \n",
            "_________________________________________________________________\n",
            "dense_190 (Dense)            (None, 16)                272       \n",
            "_________________________________________________________________\n",
            "dense_191 (Dense)            (None, 1)                 17        \n",
            "=================================================================\n",
            "Total params: 16,305\n",
            "Trainable params: 16,305\n",
            "Non-trainable params: 0\n",
            "_________________________________________________________________\n",
            "Epoch 1/5\n",
            "625/625 [==============================] - 2s 2ms/step - loss: 0.4913 - accuracy: 0.7514 - val_loss: 0.3483 - val_accuracy: 0.8514\n",
            "Epoch 2/5\n",
            "625/625 [==============================] - 1s 2ms/step - loss: 0.3102 - accuracy: 0.8704 - val_loss: 0.3356 - val_accuracy: 0.8544\n",
            "Epoch 3/5\n",
            "625/625 [==============================] - 1s 2ms/step - loss: 0.2964 - accuracy: 0.8740 - val_loss: 0.3398 - val_accuracy: 0.8513\n",
            "Epoch 4/5\n",
            "625/625 [==============================] - 1s 2ms/step - loss: 0.2819 - accuracy: 0.8823 - val_loss: 0.3378 - val_accuracy: 0.8528\n",
            "Epoch 5/5\n",
            "625/625 [==============================] - 1s 2ms/step - loss: 0.2537 - accuracy: 0.8953 - val_loss: 0.3435 - val_accuracy: 0.8500\n",
            "157/157 [==============================] - 0s 1ms/step - loss: 0.3418 - accuracy: 0.8544\n",
            "Model: \"sequential_64\"\n",
            "_________________________________________________________________\n",
            "Layer (type)                 Output Shape              Param #   \n",
            "=================================================================\n",
            "dense_192 (Dense)            (None, 16)                16016     \n",
            "_________________________________________________________________\n",
            "dense_193 (Dense)            (None, 16)                272       \n",
            "_________________________________________________________________\n",
            "dense_194 (Dense)            (None, 1)                 17        \n",
            "=================================================================\n",
            "Total params: 16,305\n",
            "Trainable params: 16,305\n",
            "Non-trainable params: 0\n",
            "_________________________________________________________________\n",
            "Epoch 1/5\n",
            "625/625 [==============================] - 2s 2ms/step - loss: 0.4920 - accuracy: 0.7430 - val_loss: 0.3497 - val_accuracy: 0.8494\n",
            "Epoch 2/5\n",
            "625/625 [==============================] - 1s 2ms/step - loss: 0.3185 - accuracy: 0.8673 - val_loss: 0.3420 - val_accuracy: 0.8508\n",
            "Epoch 3/5\n",
            "625/625 [==============================] - 1s 2ms/step - loss: 0.3012 - accuracy: 0.8711 - val_loss: 0.3460 - val_accuracy: 0.8486\n",
            "Epoch 4/5\n",
            "625/625 [==============================] - 1s 2ms/step - loss: 0.2829 - accuracy: 0.8811 - val_loss: 0.3430 - val_accuracy: 0.8495\n",
            "Epoch 5/5\n",
            "625/625 [==============================] - 1s 2ms/step - loss: 0.2502 - accuracy: 0.8980 - val_loss: 0.3576 - val_accuracy: 0.8459\n",
            "157/157 [==============================] - 0s 1ms/step - loss: 0.3444 - accuracy: 0.8540\n",
            "Model: \"sequential_65\"\n",
            "_________________________________________________________________\n",
            "Layer (type)                 Output Shape              Param #   \n",
            "=================================================================\n",
            "dense_195 (Dense)            (None, 16)                16016     \n",
            "_________________________________________________________________\n",
            "dense_196 (Dense)            (None, 16)                272       \n",
            "_________________________________________________________________\n",
            "dense_197 (Dense)            (None, 1)                 17        \n",
            "=================================================================\n",
            "Total params: 16,305\n",
            "Trainable params: 16,305\n",
            "Non-trainable params: 0\n",
            "_________________________________________________________________\n",
            "Epoch 1/5\n",
            "625/625 [==============================] - 2s 2ms/step - loss: 0.5054 - accuracy: 0.7406 - val_loss: 0.3407 - val_accuracy: 0.8541\n",
            "Epoch 2/5\n",
            "625/625 [==============================] - 1s 2ms/step - loss: 0.3087 - accuracy: 0.8716 - val_loss: 0.3401 - val_accuracy: 0.8538\n",
            "Epoch 3/5\n",
            "625/625 [==============================] - 1s 2ms/step - loss: 0.2935 - accuracy: 0.8772 - val_loss: 0.3493 - val_accuracy: 0.8470\n",
            "Epoch 4/5\n",
            "625/625 [==============================] - 2s 2ms/step - loss: 0.2841 - accuracy: 0.8781 - val_loss: 0.3418 - val_accuracy: 0.8482\n",
            "Epoch 5/5\n",
            "625/625 [==============================] - 1s 2ms/step - loss: 0.2573 - accuracy: 0.8924 - val_loss: 0.3631 - val_accuracy: 0.8443\n",
            "157/157 [==============================] - 0s 1ms/step - loss: 0.3533 - accuracy: 0.8550\n",
            "Model: \"sequential_66\"\n",
            "_________________________________________________________________\n",
            "Layer (type)                 Output Shape              Param #   \n",
            "=================================================================\n",
            "dense_198 (Dense)            (None, 16)                16016     \n",
            "_________________________________________________________________\n",
            "dense_199 (Dense)            (None, 16)                272       \n",
            "_________________________________________________________________\n",
            "dense_200 (Dense)            (None, 1)                 17        \n",
            "=================================================================\n",
            "Total params: 16,305\n",
            "Trainable params: 16,305\n",
            "Non-trainable params: 0\n",
            "_________________________________________________________________\n",
            "Epoch 1/5\n",
            "625/625 [==============================] - 2s 2ms/step - loss: 0.4861 - accuracy: 0.7641 - val_loss: 0.3381 - val_accuracy: 0.8557\n",
            "Epoch 2/5\n",
            "625/625 [==============================] - 1s 2ms/step - loss: 0.3072 - accuracy: 0.8739 - val_loss: 0.3353 - val_accuracy: 0.8549\n",
            "Epoch 3/5\n",
            "625/625 [==============================] - 1s 2ms/step - loss: 0.2915 - accuracy: 0.8784 - val_loss: 0.3512 - val_accuracy: 0.8436\n",
            "Epoch 4/5\n",
            "625/625 [==============================] - 2s 2ms/step - loss: 0.2717 - accuracy: 0.8880 - val_loss: 0.3420 - val_accuracy: 0.8482\n",
            "Epoch 5/5\n",
            "625/625 [==============================] - 1s 2ms/step - loss: 0.2350 - accuracy: 0.9072 - val_loss: 0.3598 - val_accuracy: 0.8452\n",
            "157/157 [==============================] - 0s 1ms/step - loss: 0.3403 - accuracy: 0.8578\n",
            "Model: \"sequential_67\"\n",
            "_________________________________________________________________\n",
            "Layer (type)                 Output Shape              Param #   \n",
            "=================================================================\n",
            "dense_201 (Dense)            (None, 16)                16016     \n",
            "_________________________________________________________________\n",
            "dense_202 (Dense)            (None, 16)                272       \n",
            "_________________________________________________________________\n",
            "dense_203 (Dense)            (None, 1)                 17        \n",
            "=================================================================\n",
            "Total params: 16,305\n",
            "Trainable params: 16,305\n",
            "Non-trainable params: 0\n",
            "_________________________________________________________________\n",
            "Epoch 1/5\n",
            "625/625 [==============================] - 2s 2ms/step - loss: 0.4893 - accuracy: 0.7565 - val_loss: 0.3373 - val_accuracy: 0.8552\n",
            "Epoch 2/5\n",
            "625/625 [==============================] - 1s 2ms/step - loss: 0.3114 - accuracy: 0.8711 - val_loss: 0.3376 - val_accuracy: 0.8546\n",
            "Epoch 3/5\n",
            "625/625 [==============================] - 1s 2ms/step - loss: 0.2975 - accuracy: 0.8755 - val_loss: 0.3408 - val_accuracy: 0.8510\n",
            "Epoch 4/5\n",
            "625/625 [==============================] - 1s 2ms/step - loss: 0.2763 - accuracy: 0.8869 - val_loss: 0.3414 - val_accuracy: 0.8507\n",
            "Epoch 5/5\n",
            "625/625 [==============================] - 1s 2ms/step - loss: 0.2462 - accuracy: 0.8967 - val_loss: 0.3522 - val_accuracy: 0.8478\n",
            "157/157 [==============================] - 0s 1ms/step - loss: 0.3519 - accuracy: 0.8472\n",
            "Model: \"sequential_68\"\n",
            "_________________________________________________________________\n",
            "Layer (type)                 Output Shape              Param #   \n",
            "=================================================================\n",
            "dense_204 (Dense)            (None, 16)                16016     \n",
            "_________________________________________________________________\n",
            "dense_205 (Dense)            (None, 16)                272       \n",
            "_________________________________________________________________\n",
            "dense_206 (Dense)            (None, 1)                 17        \n",
            "=================================================================\n",
            "Total params: 16,305\n",
            "Trainable params: 16,305\n",
            "Non-trainable params: 0\n",
            "_________________________________________________________________\n",
            "Epoch 1/5\n",
            "625/625 [==============================] - 2s 3ms/step - loss: 0.5012 - accuracy: 0.7492 - val_loss: 0.3446 - val_accuracy: 0.8526\n",
            "Epoch 2/5\n",
            "625/625 [==============================] - 1s 2ms/step - loss: 0.3092 - accuracy: 0.8718 - val_loss: 0.3362 - val_accuracy: 0.8561\n",
            "Epoch 3/5\n",
            "625/625 [==============================] - 1s 2ms/step - loss: 0.2955 - accuracy: 0.8742 - val_loss: 0.3457 - val_accuracy: 0.8462\n",
            "Epoch 4/5\n",
            "625/625 [==============================] - 1s 2ms/step - loss: 0.2731 - accuracy: 0.8909 - val_loss: 0.3464 - val_accuracy: 0.8465\n",
            "Epoch 5/5\n",
            "625/625 [==============================] - 1s 2ms/step - loss: 0.2355 - accuracy: 0.9057 - val_loss: 0.3686 - val_accuracy: 0.8399\n",
            "157/157 [==============================] - 0s 1ms/step - loss: 0.3730 - accuracy: 0.8446\n",
            "Model: \"sequential_69\"\n",
            "_________________________________________________________________\n",
            "Layer (type)                 Output Shape              Param #   \n",
            "=================================================================\n",
            "dense_207 (Dense)            (None, 16)                16016     \n",
            "_________________________________________________________________\n",
            "dense_208 (Dense)            (None, 16)                272       \n",
            "_________________________________________________________________\n",
            "dense_209 (Dense)            (None, 1)                 17        \n",
            "=================================================================\n",
            "Total params: 16,305\n",
            "Trainable params: 16,305\n",
            "Non-trainable params: 0\n",
            "_________________________________________________________________\n",
            "Epoch 1/5\n",
            "625/625 [==============================] - 2s 2ms/step - loss: 0.4920 - accuracy: 0.7540 - val_loss: 0.3562 - val_accuracy: 0.8456\n",
            "Epoch 2/5\n",
            "625/625 [==============================] - 1s 2ms/step - loss: 0.3198 - accuracy: 0.8671 - val_loss: 0.3419 - val_accuracy: 0.8526\n",
            "Epoch 3/5\n",
            "625/625 [==============================] - 1s 2ms/step - loss: 0.3015 - accuracy: 0.8715 - val_loss: 0.3496 - val_accuracy: 0.8482\n",
            "Epoch 4/5\n",
            "625/625 [==============================] - 1s 2ms/step - loss: 0.2895 - accuracy: 0.8807 - val_loss: 0.3397 - val_accuracy: 0.8511\n",
            "Epoch 5/5\n",
            "625/625 [==============================] - 1s 2ms/step - loss: 0.2614 - accuracy: 0.8907 - val_loss: 0.3479 - val_accuracy: 0.8470\n",
            "157/157 [==============================] - 0s 1ms/step - loss: 0.3384 - accuracy: 0.8556\n",
            "Model: \"sequential_70\"\n",
            "_________________________________________________________________\n",
            "Layer (type)                 Output Shape              Param #   \n",
            "=================================================================\n",
            "dense_210 (Dense)            (None, 16)                16016     \n",
            "_________________________________________________________________\n",
            "dense_211 (Dense)            (None, 16)                272       \n",
            "_________________________________________________________________\n",
            "dense_212 (Dense)            (None, 1)                 17        \n",
            "=================================================================\n",
            "Total params: 16,305\n",
            "Trainable params: 16,305\n",
            "Non-trainable params: 0\n",
            "_________________________________________________________________\n",
            "Epoch 1/5\n",
            "625/625 [==============================] - 2s 3ms/step - loss: 0.4964 - accuracy: 0.7425 - val_loss: 0.3401 - val_accuracy: 0.8531\n",
            "Epoch 2/5\n",
            "625/625 [==============================] - 1s 2ms/step - loss: 0.3070 - accuracy: 0.8724 - val_loss: 0.3373 - val_accuracy: 0.8516\n",
            "Epoch 3/5\n",
            "625/625 [==============================] - 1s 2ms/step - loss: 0.2923 - accuracy: 0.8778 - val_loss: 0.3413 - val_accuracy: 0.8516\n",
            "Epoch 4/5\n",
            "625/625 [==============================] - 1s 2ms/step - loss: 0.2796 - accuracy: 0.8829 - val_loss: 0.3428 - val_accuracy: 0.8464\n",
            "Epoch 5/5\n",
            "625/625 [==============================] - 1s 2ms/step - loss: 0.2492 - accuracy: 0.8963 - val_loss: 0.3667 - val_accuracy: 0.8406\n",
            "157/157 [==============================] - 0s 1ms/step - loss: 0.3652 - accuracy: 0.8496\n",
            "Model: \"sequential_71\"\n",
            "_________________________________________________________________\n",
            "Layer (type)                 Output Shape              Param #   \n",
            "=================================================================\n",
            "dense_213 (Dense)            (None, 16)                16016     \n",
            "_________________________________________________________________\n",
            "dense_214 (Dense)            (None, 16)                272       \n",
            "_________________________________________________________________\n",
            "dense_215 (Dense)            (None, 1)                 17        \n",
            "=================================================================\n",
            "Total params: 16,305\n",
            "Trainable params: 16,305\n",
            "Non-trainable params: 0\n",
            "_________________________________________________________________\n",
            "Epoch 1/5\n",
            "625/625 [==============================] - 2s 3ms/step - loss: 0.5240 - accuracy: 0.7287 - val_loss: 0.3425 - val_accuracy: 0.8546\n",
            "Epoch 2/5\n",
            "625/625 [==============================] - 1s 2ms/step - loss: 0.3109 - accuracy: 0.8727 - val_loss: 0.3422 - val_accuracy: 0.8554\n",
            "Epoch 3/5\n",
            "625/625 [==============================] - 1s 2ms/step - loss: 0.2970 - accuracy: 0.8759 - val_loss: 0.3584 - val_accuracy: 0.8466\n",
            "Epoch 4/5\n",
            "625/625 [==============================] - 1s 2ms/step - loss: 0.2785 - accuracy: 0.8834 - val_loss: 0.3479 - val_accuracy: 0.8506\n",
            "Epoch 5/5\n",
            "625/625 [==============================] - 2s 2ms/step - loss: 0.2441 - accuracy: 0.9011 - val_loss: 0.3656 - val_accuracy: 0.8466\n",
            "157/157 [==============================] - 0s 1ms/step - loss: 0.3520 - accuracy: 0.8588\n",
            "Model: \"sequential_72\"\n",
            "_________________________________________________________________\n",
            "Layer (type)                 Output Shape              Param #   \n",
            "=================================================================\n",
            "dense_216 (Dense)            (None, 16)                16016     \n",
            "_________________________________________________________________\n",
            "dense_217 (Dense)            (None, 16)                272       \n",
            "_________________________________________________________________\n",
            "dense_218 (Dense)            (None, 1)                 17        \n",
            "=================================================================\n",
            "Total params: 16,305\n",
            "Trainable params: 16,305\n",
            "Non-trainable params: 0\n",
            "_________________________________________________________________\n",
            "Epoch 1/5\n",
            "625/625 [==============================] - 2s 3ms/step - loss: 0.4878 - accuracy: 0.7617 - val_loss: 0.3412 - val_accuracy: 0.8530\n",
            "Epoch 2/5\n",
            "625/625 [==============================] - 1s 2ms/step - loss: 0.3144 - accuracy: 0.8685 - val_loss: 0.3382 - val_accuracy: 0.8536\n",
            "Epoch 3/5\n",
            "625/625 [==============================] - 1s 2ms/step - loss: 0.3049 - accuracy: 0.8723 - val_loss: 0.3493 - val_accuracy: 0.8502\n",
            "Epoch 4/5\n",
            "625/625 [==============================] - 1s 2ms/step - loss: 0.2920 - accuracy: 0.8799 - val_loss: 0.3417 - val_accuracy: 0.8484\n",
            "Epoch 5/5\n",
            "625/625 [==============================] - 1s 2ms/step - loss: 0.2642 - accuracy: 0.8893 - val_loss: 0.3456 - val_accuracy: 0.8466\n",
            "157/157 [==============================] - 0s 1ms/step - loss: 0.3469 - accuracy: 0.8504\n",
            "Model: \"sequential_73\"\n",
            "_________________________________________________________________\n",
            "Layer (type)                 Output Shape              Param #   \n",
            "=================================================================\n",
            "dense_219 (Dense)            (None, 16)                16016     \n",
            "_________________________________________________________________\n",
            "dense_220 (Dense)            (None, 16)                272       \n",
            "_________________________________________________________________\n",
            "dense_221 (Dense)            (None, 1)                 17        \n",
            "=================================================================\n",
            "Total params: 16,305\n",
            "Trainable params: 16,305\n",
            "Non-trainable params: 0\n",
            "_________________________________________________________________\n",
            "Epoch 1/5\n",
            "625/625 [==============================] - 2s 3ms/step - loss: 0.4912 - accuracy: 0.7574 - val_loss: 0.3565 - val_accuracy: 0.8465\n",
            "Epoch 2/5\n",
            "625/625 [==============================] - 1s 2ms/step - loss: 0.3122 - accuracy: 0.8728 - val_loss: 0.3372 - val_accuracy: 0.8545\n",
            "Epoch 3/5\n",
            "625/625 [==============================] - 1s 2ms/step - loss: 0.3001 - accuracy: 0.8740 - val_loss: 0.3385 - val_accuracy: 0.8503\n",
            "Epoch 4/5\n",
            "625/625 [==============================] - 1s 2ms/step - loss: 0.2818 - accuracy: 0.8850 - val_loss: 0.3407 - val_accuracy: 0.8509\n",
            "Epoch 5/5\n",
            "625/625 [==============================] - 1s 2ms/step - loss: 0.2466 - accuracy: 0.8963 - val_loss: 0.3572 - val_accuracy: 0.8455\n",
            "157/157 [==============================] - 0s 1ms/step - loss: 0.3491 - accuracy: 0.8530\n",
            "Model: \"sequential_74\"\n",
            "_________________________________________________________________\n",
            "Layer (type)                 Output Shape              Param #   \n",
            "=================================================================\n",
            "dense_222 (Dense)            (None, 16)                16016     \n",
            "_________________________________________________________________\n",
            "dense_223 (Dense)            (None, 16)                272       \n",
            "_________________________________________________________________\n",
            "dense_224 (Dense)            (None, 1)                 17        \n",
            "=================================================================\n",
            "Total params: 16,305\n",
            "Trainable params: 16,305\n",
            "Non-trainable params: 0\n",
            "_________________________________________________________________\n",
            "Epoch 1/5\n",
            "625/625 [==============================] - 2s 3ms/step - loss: 0.4835 - accuracy: 0.7739 - val_loss: 0.3548 - val_accuracy: 0.8470\n",
            "Epoch 2/5\n",
            "625/625 [==============================] - 1s 2ms/step - loss: 0.3207 - accuracy: 0.8676 - val_loss: 0.3405 - val_accuracy: 0.8505\n",
            "Epoch 3/5\n",
            "625/625 [==============================] - 1s 2ms/step - loss: 0.3045 - accuracy: 0.8687 - val_loss: 0.3458 - val_accuracy: 0.8491\n",
            "Epoch 4/5\n",
            "625/625 [==============================] - 1s 2ms/step - loss: 0.2935 - accuracy: 0.8759 - val_loss: 0.3344 - val_accuracy: 0.8534\n",
            "Epoch 5/5\n",
            "625/625 [==============================] - 1s 2ms/step - loss: 0.2720 - accuracy: 0.8864 - val_loss: 0.3399 - val_accuracy: 0.8505\n",
            "157/157 [==============================] - 0s 1ms/step - loss: 0.3289 - accuracy: 0.8592\n",
            "Model: \"sequential_75\"\n",
            "_________________________________________________________________\n",
            "Layer (type)                 Output Shape              Param #   \n",
            "=================================================================\n",
            "dense_225 (Dense)            (None, 16)                16016     \n",
            "_________________________________________________________________\n",
            "dense_226 (Dense)            (None, 16)                272       \n",
            "_________________________________________________________________\n",
            "dense_227 (Dense)            (None, 1)                 17        \n",
            "=================================================================\n",
            "Total params: 16,305\n",
            "Trainable params: 16,305\n",
            "Non-trainable params: 0\n",
            "_________________________________________________________________\n",
            "Epoch 1/5\n",
            "625/625 [==============================] - 2s 2ms/step - loss: 0.5106 - accuracy: 0.7311 - val_loss: 0.3408 - val_accuracy: 0.8544\n",
            "Epoch 2/5\n",
            "625/625 [==============================] - 1s 2ms/step - loss: 0.3065 - accuracy: 0.8718 - val_loss: 0.3376 - val_accuracy: 0.8529\n",
            "Epoch 3/5\n",
            "625/625 [==============================] - 1s 2ms/step - loss: 0.2948 - accuracy: 0.8773 - val_loss: 0.3427 - val_accuracy: 0.8511\n",
            "Epoch 4/5\n",
            "625/625 [==============================] - 2s 2ms/step - loss: 0.2830 - accuracy: 0.8802 - val_loss: 0.3407 - val_accuracy: 0.8538\n",
            "Epoch 5/5\n",
            "625/625 [==============================] - 1s 2ms/step - loss: 0.2546 - accuracy: 0.8941 - val_loss: 0.3557 - val_accuracy: 0.8444\n",
            "157/157 [==============================] - 0s 1ms/step - loss: 0.3514 - accuracy: 0.8518\n",
            "Model: \"sequential_76\"\n",
            "_________________________________________________________________\n",
            "Layer (type)                 Output Shape              Param #   \n",
            "=================================================================\n",
            "dense_228 (Dense)            (None, 16)                16016     \n",
            "_________________________________________________________________\n",
            "dense_229 (Dense)            (None, 16)                272       \n",
            "_________________________________________________________________\n",
            "dense_230 (Dense)            (None, 1)                 17        \n",
            "=================================================================\n",
            "Total params: 16,305\n",
            "Trainable params: 16,305\n",
            "Non-trainable params: 0\n",
            "_________________________________________________________________\n",
            "Epoch 1/5\n",
            "625/625 [==============================] - 2s 2ms/step - loss: 0.5110 - accuracy: 0.7358 - val_loss: 0.3377 - val_accuracy: 0.8550\n",
            "Epoch 2/5\n",
            "625/625 [==============================] - 1s 2ms/step - loss: 0.3073 - accuracy: 0.8740 - val_loss: 0.3350 - val_accuracy: 0.8515\n",
            "Epoch 3/5\n",
            "625/625 [==============================] - 1s 2ms/step - loss: 0.2947 - accuracy: 0.8769 - val_loss: 0.3403 - val_accuracy: 0.8478\n",
            "Epoch 4/5\n",
            "625/625 [==============================] - 2s 2ms/step - loss: 0.2755 - accuracy: 0.8862 - val_loss: 0.3396 - val_accuracy: 0.8504\n",
            "Epoch 5/5\n",
            "625/625 [==============================] - 2s 2ms/step - loss: 0.2429 - accuracy: 0.8987 - val_loss: 0.3496 - val_accuracy: 0.8473\n",
            "157/157 [==============================] - 0s 1ms/step - loss: 0.3394 - accuracy: 0.8542\n",
            "Model: \"sequential_77\"\n",
            "_________________________________________________________________\n",
            "Layer (type)                 Output Shape              Param #   \n",
            "=================================================================\n",
            "dense_231 (Dense)            (None, 16)                16016     \n",
            "_________________________________________________________________\n",
            "dense_232 (Dense)            (None, 16)                272       \n",
            "_________________________________________________________________\n",
            "dense_233 (Dense)            (None, 1)                 17        \n",
            "=================================================================\n",
            "Total params: 16,305\n",
            "Trainable params: 16,305\n",
            "Non-trainable params: 0\n",
            "_________________________________________________________________\n",
            "Epoch 1/5\n",
            "625/625 [==============================] - 2s 3ms/step - loss: 0.4917 - accuracy: 0.7630 - val_loss: 0.3384 - val_accuracy: 0.8542\n",
            "Epoch 2/5\n",
            "625/625 [==============================] - 2s 2ms/step - loss: 0.3101 - accuracy: 0.8720 - val_loss: 0.3355 - val_accuracy: 0.8534\n",
            "Epoch 3/5\n",
            "625/625 [==============================] - 1s 2ms/step - loss: 0.2970 - accuracy: 0.8749 - val_loss: 0.3427 - val_accuracy: 0.8499\n",
            "Epoch 4/5\n",
            "625/625 [==============================] - 1s 2ms/step - loss: 0.2836 - accuracy: 0.8820 - val_loss: 0.3388 - val_accuracy: 0.8523\n",
            "Epoch 5/5\n",
            "625/625 [==============================] - 2s 2ms/step - loss: 0.2660 - accuracy: 0.8854 - val_loss: 0.3416 - val_accuracy: 0.8494\n",
            "157/157 [==============================] - 0s 1ms/step - loss: 0.3436 - accuracy: 0.8534\n",
            "Model: \"sequential_78\"\n",
            "_________________________________________________________________\n",
            "Layer (type)                 Output Shape              Param #   \n",
            "=================================================================\n",
            "dense_234 (Dense)            (None, 16)                16016     \n",
            "_________________________________________________________________\n",
            "dense_235 (Dense)            (None, 16)                272       \n",
            "_________________________________________________________________\n",
            "dense_236 (Dense)            (None, 1)                 17        \n",
            "=================================================================\n",
            "Total params: 16,305\n",
            "Trainable params: 16,305\n",
            "Non-trainable params: 0\n",
            "_________________________________________________________________\n",
            "Epoch 1/5\n",
            "625/625 [==============================] - 2s 3ms/step - loss: 0.5033 - accuracy: 0.7476 - val_loss: 0.3432 - val_accuracy: 0.8533\n",
            "Epoch 2/5\n",
            "625/625 [==============================] - 1s 2ms/step - loss: 0.3070 - accuracy: 0.8724 - val_loss: 0.3345 - val_accuracy: 0.8543\n",
            "Epoch 3/5\n",
            "625/625 [==============================] - 1s 2ms/step - loss: 0.2902 - accuracy: 0.8781 - val_loss: 0.3389 - val_accuracy: 0.8522\n",
            "Epoch 4/5\n",
            "625/625 [==============================] - 2s 2ms/step - loss: 0.2719 - accuracy: 0.8888 - val_loss: 0.3413 - val_accuracy: 0.8505\n",
            "Epoch 5/5\n",
            "625/625 [==============================] - 1s 2ms/step - loss: 0.2372 - accuracy: 0.9060 - val_loss: 0.3572 - val_accuracy: 0.8479\n",
            "157/157 [==============================] - 0s 1ms/step - loss: 0.3482 - accuracy: 0.8530\n",
            "Model: \"sequential_79\"\n",
            "_________________________________________________________________\n",
            "Layer (type)                 Output Shape              Param #   \n",
            "=================================================================\n",
            "dense_237 (Dense)            (None, 16)                16016     \n",
            "_________________________________________________________________\n",
            "dense_238 (Dense)            (None, 16)                272       \n",
            "_________________________________________________________________\n",
            "dense_239 (Dense)            (None, 1)                 17        \n",
            "=================================================================\n",
            "Total params: 16,305\n",
            "Trainable params: 16,305\n",
            "Non-trainable params: 0\n",
            "_________________________________________________________________\n",
            "Epoch 1/5\n",
            "625/625 [==============================] - 2s 3ms/step - loss: 0.4848 - accuracy: 0.7601 - val_loss: 0.3604 - val_accuracy: 0.8437\n",
            "Epoch 2/5\n",
            "625/625 [==============================] - 2s 2ms/step - loss: 0.3197 - accuracy: 0.8667 - val_loss: 0.3434 - val_accuracy: 0.8497\n",
            "Epoch 3/5\n",
            "625/625 [==============================] - 2s 3ms/step - loss: 0.3000 - accuracy: 0.8729 - val_loss: 0.3458 - val_accuracy: 0.8503\n",
            "Epoch 4/5\n",
            "625/625 [==============================] - 2s 3ms/step - loss: 0.2818 - accuracy: 0.8826 - val_loss: 0.3402 - val_accuracy: 0.8520\n",
            "Epoch 5/5\n",
            "625/625 [==============================] - 2s 3ms/step - loss: 0.2525 - accuracy: 0.8957 - val_loss: 0.3567 - val_accuracy: 0.8477\n",
            "157/157 [==============================] - 0s 1ms/step - loss: 0.3434 - accuracy: 0.8592\n",
            "Model: \"sequential_80\"\n",
            "_________________________________________________________________\n",
            "Layer (type)                 Output Shape              Param #   \n",
            "=================================================================\n",
            "dense_240 (Dense)            (None, 16)                16016     \n",
            "_________________________________________________________________\n",
            "dense_241 (Dense)            (None, 16)                272       \n",
            "_________________________________________________________________\n",
            "dense_242 (Dense)            (None, 1)                 17        \n",
            "=================================================================\n",
            "Total params: 16,305\n",
            "Trainable params: 16,305\n",
            "Non-trainable params: 0\n",
            "_________________________________________________________________\n",
            "Epoch 1/5\n",
            "625/625 [==============================] - 2s 3ms/step - loss: 0.5020 - accuracy: 0.7461 - val_loss: 0.3428 - val_accuracy: 0.8526\n",
            "Epoch 2/5\n",
            "625/625 [==============================] - 2s 2ms/step - loss: 0.3113 - accuracy: 0.8708 - val_loss: 0.3407 - val_accuracy: 0.8515\n",
            "Epoch 3/5\n",
            "625/625 [==============================] - 2s 3ms/step - loss: 0.3015 - accuracy: 0.8742 - val_loss: 0.3477 - val_accuracy: 0.8501\n",
            "Epoch 4/5\n",
            "625/625 [==============================] - 2s 3ms/step - loss: 0.2917 - accuracy: 0.8775 - val_loss: 0.3418 - val_accuracy: 0.8514\n",
            "Epoch 5/5\n",
            "625/625 [==============================] - 2s 3ms/step - loss: 0.2651 - accuracy: 0.8919 - val_loss: 0.3609 - val_accuracy: 0.8446\n",
            "157/157 [==============================] - 0s 1ms/step - loss: 0.3582 - accuracy: 0.8574\n",
            "Model: \"sequential_81\"\n",
            "_________________________________________________________________\n",
            "Layer (type)                 Output Shape              Param #   \n",
            "=================================================================\n",
            "dense_243 (Dense)            (None, 16)                16016     \n",
            "_________________________________________________________________\n",
            "dense_244 (Dense)            (None, 16)                272       \n",
            "_________________________________________________________________\n",
            "dense_245 (Dense)            (None, 1)                 17        \n",
            "=================================================================\n",
            "Total params: 16,305\n",
            "Trainable params: 16,305\n",
            "Non-trainable params: 0\n",
            "_________________________________________________________________\n",
            "Epoch 1/5\n",
            "625/625 [==============================] - 2s 3ms/step - loss: 0.4931 - accuracy: 0.7645 - val_loss: 0.3379 - val_accuracy: 0.8554\n",
            "Epoch 2/5\n",
            "625/625 [==============================] - 2s 2ms/step - loss: 0.3087 - accuracy: 0.8745 - val_loss: 0.3350 - val_accuracy: 0.8549\n",
            "Epoch 3/5\n",
            "625/625 [==============================] - 2s 2ms/step - loss: 0.2946 - accuracy: 0.8777 - val_loss: 0.3439 - val_accuracy: 0.8479\n",
            "Epoch 4/5\n",
            "625/625 [==============================] - 2s 3ms/step - loss: 0.2736 - accuracy: 0.8856 - val_loss: 0.3432 - val_accuracy: 0.8508\n",
            "Epoch 5/5\n",
            "625/625 [==============================] - 2s 3ms/step - loss: 0.2415 - accuracy: 0.9038 - val_loss: 0.3566 - val_accuracy: 0.8450\n",
            "157/157 [==============================] - 0s 1ms/step - loss: 0.3442 - accuracy: 0.8524\n",
            "Model: \"sequential_82\"\n",
            "_________________________________________________________________\n",
            "Layer (type)                 Output Shape              Param #   \n",
            "=================================================================\n",
            "dense_246 (Dense)            (None, 16)                16016     \n",
            "_________________________________________________________________\n",
            "dense_247 (Dense)            (None, 16)                272       \n",
            "_________________________________________________________________\n",
            "dense_248 (Dense)            (None, 1)                 17        \n",
            "=================================================================\n",
            "Total params: 16,305\n",
            "Trainable params: 16,305\n",
            "Non-trainable params: 0\n",
            "_________________________________________________________________\n",
            "Epoch 1/5\n",
            "625/625 [==============================] - 2s 3ms/step - loss: 0.4928 - accuracy: 0.7578 - val_loss: 0.3414 - val_accuracy: 0.8515\n",
            "Epoch 2/5\n",
            "625/625 [==============================] - 2s 2ms/step - loss: 0.3133 - accuracy: 0.8697 - val_loss: 0.3382 - val_accuracy: 0.8538\n",
            "Epoch 3/5\n",
            "625/625 [==============================] - 2s 3ms/step - loss: 0.3018 - accuracy: 0.8739 - val_loss: 0.3399 - val_accuracy: 0.8503\n",
            "Epoch 4/5\n",
            "625/625 [==============================] - 2s 2ms/step - loss: 0.2852 - accuracy: 0.8775 - val_loss: 0.3367 - val_accuracy: 0.8537\n",
            "Epoch 5/5\n",
            "625/625 [==============================] - 2s 2ms/step - loss: 0.2638 - accuracy: 0.8874 - val_loss: 0.3420 - val_accuracy: 0.8489\n",
            "157/157 [==============================] - 0s 1ms/step - loss: 0.3453 - accuracy: 0.8534\n",
            "Model: \"sequential_83\"\n",
            "_________________________________________________________________\n",
            "Layer (type)                 Output Shape              Param #   \n",
            "=================================================================\n",
            "dense_249 (Dense)            (None, 16)                16016     \n",
            "_________________________________________________________________\n",
            "dense_250 (Dense)            (None, 16)                272       \n",
            "_________________________________________________________________\n",
            "dense_251 (Dense)            (None, 1)                 17        \n",
            "=================================================================\n",
            "Total params: 16,305\n",
            "Trainable params: 16,305\n",
            "Non-trainable params: 0\n",
            "_________________________________________________________________\n",
            "Epoch 1/5\n",
            "625/625 [==============================] - 2s 3ms/step - loss: 0.4977 - accuracy: 0.7483 - val_loss: 0.3528 - val_accuracy: 0.8478\n",
            "Epoch 2/5\n",
            "625/625 [==============================] - 2s 2ms/step - loss: 0.3081 - accuracy: 0.8714 - val_loss: 0.3344 - val_accuracy: 0.8557\n",
            "Epoch 3/5\n",
            "625/625 [==============================] - 2s 2ms/step - loss: 0.2935 - accuracy: 0.8762 - val_loss: 0.3427 - val_accuracy: 0.8507\n",
            "Epoch 4/5\n",
            "625/625 [==============================] - 2s 3ms/step - loss: 0.2738 - accuracy: 0.8877 - val_loss: 0.3416 - val_accuracy: 0.8531\n",
            "Epoch 5/5\n",
            "625/625 [==============================] - 2s 3ms/step - loss: 0.2411 - accuracy: 0.8992 - val_loss: 0.3496 - val_accuracy: 0.8488\n",
            "157/157 [==============================] - 0s 1ms/step - loss: 0.3476 - accuracy: 0.8526\n",
            "Model: \"sequential_84\"\n",
            "_________________________________________________________________\n",
            "Layer (type)                 Output Shape              Param #   \n",
            "=================================================================\n",
            "dense_252 (Dense)            (None, 16)                16016     \n",
            "_________________________________________________________________\n",
            "dense_253 (Dense)            (None, 16)                272       \n",
            "_________________________________________________________________\n",
            "dense_254 (Dense)            (None, 1)                 17        \n",
            "=================================================================\n",
            "Total params: 16,305\n",
            "Trainable params: 16,305\n",
            "Non-trainable params: 0\n",
            "_________________________________________________________________\n",
            "Epoch 1/5\n",
            "625/625 [==============================] - 2s 3ms/step - loss: 0.4813 - accuracy: 0.7576 - val_loss: 0.3554 - val_accuracy: 0.8463\n",
            "Epoch 2/5\n",
            "625/625 [==============================] - 2s 2ms/step - loss: 0.3177 - accuracy: 0.8685 - val_loss: 0.3396 - val_accuracy: 0.8501\n",
            "Epoch 3/5\n",
            "625/625 [==============================] - 2s 2ms/step - loss: 0.2957 - accuracy: 0.8727 - val_loss: 0.3464 - val_accuracy: 0.8489\n",
            "Epoch 4/5\n",
            "625/625 [==============================] - 1s 2ms/step - loss: 0.2791 - accuracy: 0.8858 - val_loss: 0.3429 - val_accuracy: 0.8501\n",
            "Epoch 5/5\n",
            "625/625 [==============================] - 2s 2ms/step - loss: 0.2501 - accuracy: 0.8963 - val_loss: 0.3508 - val_accuracy: 0.8487\n",
            "157/157 [==============================] - 0s 1ms/step - loss: 0.3375 - accuracy: 0.8530\n",
            "Model: \"sequential_85\"\n",
            "_________________________________________________________________\n",
            "Layer (type)                 Output Shape              Param #   \n",
            "=================================================================\n",
            "dense_255 (Dense)            (None, 16)                16016     \n",
            "_________________________________________________________________\n",
            "dense_256 (Dense)            (None, 16)                272       \n",
            "_________________________________________________________________\n",
            "dense_257 (Dense)            (None, 1)                 17        \n",
            "=================================================================\n",
            "Total params: 16,305\n",
            "Trainable params: 16,305\n",
            "Non-trainable params: 0\n",
            "_________________________________________________________________\n",
            "Epoch 1/5\n",
            "625/625 [==============================] - 2s 3ms/step - loss: 0.5023 - accuracy: 0.7450 - val_loss: 0.3397 - val_accuracy: 0.8554\n",
            "Epoch 2/5\n",
            "625/625 [==============================] - 1s 2ms/step - loss: 0.3081 - accuracy: 0.8715 - val_loss: 0.3399 - val_accuracy: 0.8534\n",
            "Epoch 3/5\n",
            "625/625 [==============================] - 1s 2ms/step - loss: 0.2945 - accuracy: 0.8790 - val_loss: 0.3445 - val_accuracy: 0.8503\n",
            "Epoch 4/5\n",
            "625/625 [==============================] - 1s 2ms/step - loss: 0.2813 - accuracy: 0.8830 - val_loss: 0.3430 - val_accuracy: 0.8496\n",
            "Epoch 5/5\n",
            "625/625 [==============================] - 2s 2ms/step - loss: 0.2499 - accuracy: 0.8982 - val_loss: 0.3671 - val_accuracy: 0.8434\n",
            "157/157 [==============================] - 0s 1ms/step - loss: 0.3608 - accuracy: 0.8518\n",
            "Model: \"sequential_86\"\n",
            "_________________________________________________________________\n",
            "Layer (type)                 Output Shape              Param #   \n",
            "=================================================================\n",
            "dense_258 (Dense)            (None, 16)                16016     \n",
            "_________________________________________________________________\n",
            "dense_259 (Dense)            (None, 16)                272       \n",
            "_________________________________________________________________\n",
            "dense_260 (Dense)            (None, 1)                 17        \n",
            "=================================================================\n",
            "Total params: 16,305\n",
            "Trainable params: 16,305\n",
            "Non-trainable params: 0\n",
            "_________________________________________________________________\n",
            "Epoch 1/5\n",
            "625/625 [==============================] - 2s 3ms/step - loss: 0.4793 - accuracy: 0.7697 - val_loss: 0.3406 - val_accuracy: 0.8534\n",
            "Epoch 2/5\n",
            "625/625 [==============================] - 1s 2ms/step - loss: 0.3122 - accuracy: 0.8724 - val_loss: 0.3392 - val_accuracy: 0.8533\n",
            "Epoch 3/5\n",
            "625/625 [==============================] - 1s 2ms/step - loss: 0.3054 - accuracy: 0.8734 - val_loss: 0.3536 - val_accuracy: 0.8430\n",
            "Epoch 4/5\n",
            "625/625 [==============================] - 2s 2ms/step - loss: 0.2919 - accuracy: 0.8792 - val_loss: 0.3377 - val_accuracy: 0.8495\n",
            "Epoch 5/5\n",
            "625/625 [==============================] - 1s 2ms/step - loss: 0.2587 - accuracy: 0.8924 - val_loss: 0.3507 - val_accuracy: 0.8450\n",
            "157/157 [==============================] - 0s 1ms/step - loss: 0.3448 - accuracy: 0.8490\n",
            "Model: \"sequential_87\"\n",
            "_________________________________________________________________\n",
            "Layer (type)                 Output Shape              Param #   \n",
            "=================================================================\n",
            "dense_261 (Dense)            (None, 16)                16016     \n",
            "_________________________________________________________________\n",
            "dense_262 (Dense)            (None, 16)                272       \n",
            "_________________________________________________________________\n",
            "dense_263 (Dense)            (None, 1)                 17        \n",
            "=================================================================\n",
            "Total params: 16,305\n",
            "Trainable params: 16,305\n",
            "Non-trainable params: 0\n",
            "_________________________________________________________________\n",
            "Epoch 1/5\n",
            "625/625 [==============================] - 2s 3ms/step - loss: 0.5028 - accuracy: 0.7416 - val_loss: 0.3388 - val_accuracy: 0.8534\n",
            "Epoch 2/5\n",
            "625/625 [==============================] - 1s 2ms/step - loss: 0.3114 - accuracy: 0.8707 - val_loss: 0.3354 - val_accuracy: 0.8549\n",
            "Epoch 3/5\n",
            "625/625 [==============================] - 1s 2ms/step - loss: 0.2982 - accuracy: 0.8760 - val_loss: 0.3467 - val_accuracy: 0.8490\n",
            "Epoch 4/5\n",
            "625/625 [==============================] - 2s 2ms/step - loss: 0.2789 - accuracy: 0.8839 - val_loss: 0.3394 - val_accuracy: 0.8498\n",
            "Epoch 5/5\n",
            "625/625 [==============================] - 1s 2ms/step - loss: 0.2554 - accuracy: 0.8933 - val_loss: 0.3492 - val_accuracy: 0.8482\n",
            "157/157 [==============================] - 0s 1ms/step - loss: 0.3547 - accuracy: 0.8474\n",
            "Model: \"sequential_88\"\n",
            "_________________________________________________________________\n",
            "Layer (type)                 Output Shape              Param #   \n",
            "=================================================================\n",
            "dense_264 (Dense)            (None, 16)                16016     \n",
            "_________________________________________________________________\n",
            "dense_265 (Dense)            (None, 16)                272       \n",
            "_________________________________________________________________\n",
            "dense_266 (Dense)            (None, 1)                 17        \n",
            "=================================================================\n",
            "Total params: 16,305\n",
            "Trainable params: 16,305\n",
            "Non-trainable params: 0\n",
            "_________________________________________________________________\n",
            "Epoch 1/5\n",
            "625/625 [==============================] - 2s 3ms/step - loss: 0.4946 - accuracy: 0.7445 - val_loss: 0.3503 - val_accuracy: 0.8482\n",
            "Epoch 2/5\n",
            "625/625 [==============================] - 2s 2ms/step - loss: 0.3111 - accuracy: 0.8706 - val_loss: 0.3372 - val_accuracy: 0.8546\n",
            "Epoch 3/5\n",
            "625/625 [==============================] - 2s 2ms/step - loss: 0.2990 - accuracy: 0.8739 - val_loss: 0.3458 - val_accuracy: 0.8497\n",
            "Epoch 4/5\n",
            "625/625 [==============================] - 2s 2ms/step - loss: 0.2826 - accuracy: 0.8836 - val_loss: 0.3442 - val_accuracy: 0.8503\n",
            "Epoch 5/5\n",
            "625/625 [==============================] - 1s 2ms/step - loss: 0.2544 - accuracy: 0.8929 - val_loss: 0.3523 - val_accuracy: 0.8483\n",
            "157/157 [==============================] - 0s 1ms/step - loss: 0.3459 - accuracy: 0.8510\n",
            "Model: \"sequential_89\"\n",
            "_________________________________________________________________\n",
            "Layer (type)                 Output Shape              Param #   \n",
            "=================================================================\n",
            "dense_267 (Dense)            (None, 16)                16016     \n",
            "_________________________________________________________________\n",
            "dense_268 (Dense)            (None, 16)                272       \n",
            "_________________________________________________________________\n",
            "dense_269 (Dense)            (None, 1)                 17        \n",
            "=================================================================\n",
            "Total params: 16,305\n",
            "Trainable params: 16,305\n",
            "Non-trainable params: 0\n",
            "_________________________________________________________________\n",
            "Epoch 1/5\n",
            "625/625 [==============================] - 2s 3ms/step - loss: 0.4833 - accuracy: 0.7640 - val_loss: 0.3546 - val_accuracy: 0.8465\n",
            "Epoch 2/5\n",
            "625/625 [==============================] - 2s 2ms/step - loss: 0.3196 - accuracy: 0.8668 - val_loss: 0.3427 - val_accuracy: 0.8514\n",
            "Epoch 3/5\n",
            "625/625 [==============================] - 1s 2ms/step - loss: 0.2996 - accuracy: 0.8727 - val_loss: 0.3501 - val_accuracy: 0.8446\n",
            "Epoch 4/5\n",
            "625/625 [==============================] - 2s 2ms/step - loss: 0.2833 - accuracy: 0.8850 - val_loss: 0.3437 - val_accuracy: 0.8497\n",
            "Epoch 5/5\n",
            "625/625 [==============================] - 1s 2ms/step - loss: 0.2536 - accuracy: 0.8971 - val_loss: 0.3574 - val_accuracy: 0.8458\n",
            "157/157 [==============================] - 0s 1ms/step - loss: 0.3378 - accuracy: 0.8582\n",
            "Model: \"sequential_90\"\n",
            "_________________________________________________________________\n",
            "Layer (type)                 Output Shape              Param #   \n",
            "=================================================================\n",
            "dense_270 (Dense)            (None, 16)                16016     \n",
            "_________________________________________________________________\n",
            "dense_271 (Dense)            (None, 16)                272       \n",
            "_________________________________________________________________\n",
            "dense_272 (Dense)            (None, 1)                 17        \n",
            "=================================================================\n",
            "Total params: 16,305\n",
            "Trainable params: 16,305\n",
            "Non-trainable params: 0\n",
            "_________________________________________________________________\n",
            "Epoch 1/5\n",
            "625/625 [==============================] - 2s 3ms/step - loss: 0.4932 - accuracy: 0.7524 - val_loss: 0.3398 - val_accuracy: 0.8522\n",
            "Epoch 2/5\n",
            "625/625 [==============================] - 1s 2ms/step - loss: 0.3068 - accuracy: 0.8739 - val_loss: 0.3382 - val_accuracy: 0.8522\n",
            "Epoch 3/5\n",
            "625/625 [==============================] - 2s 2ms/step - loss: 0.2926 - accuracy: 0.8792 - val_loss: 0.3424 - val_accuracy: 0.8506\n",
            "Epoch 4/5\n",
            "625/625 [==============================] - 2s 2ms/step - loss: 0.2787 - accuracy: 0.8832 - val_loss: 0.3409 - val_accuracy: 0.8498\n",
            "Epoch 5/5\n",
            "625/625 [==============================] - 2s 3ms/step - loss: 0.2478 - accuracy: 0.8960 - val_loss: 0.3630 - val_accuracy: 0.8412\n",
            "157/157 [==============================] - 0s 1ms/step - loss: 0.3560 - accuracy: 0.8476\n",
            "Model: \"sequential_91\"\n",
            "_________________________________________________________________\n",
            "Layer (type)                 Output Shape              Param #   \n",
            "=================================================================\n",
            "dense_273 (Dense)            (None, 16)                16016     \n",
            "_________________________________________________________________\n",
            "dense_274 (Dense)            (None, 16)                272       \n",
            "_________________________________________________________________\n",
            "dense_275 (Dense)            (None, 1)                 17        \n",
            "=================================================================\n",
            "Total params: 16,305\n",
            "Trainable params: 16,305\n",
            "Non-trainable params: 0\n",
            "_________________________________________________________________\n",
            "Epoch 1/5\n",
            "625/625 [==============================] - 2s 3ms/step - loss: 0.4909 - accuracy: 0.7541 - val_loss: 0.3397 - val_accuracy: 0.8559\n",
            "Epoch 2/5\n",
            "625/625 [==============================] - 2s 3ms/step - loss: 0.3085 - accuracy: 0.8725 - val_loss: 0.3376 - val_accuracy: 0.8524\n",
            "Epoch 3/5\n",
            "625/625 [==============================] - 2s 2ms/step - loss: 0.2955 - accuracy: 0.8760 - val_loss: 0.3529 - val_accuracy: 0.8454\n",
            "Epoch 4/5\n",
            "625/625 [==============================] - 2s 3ms/step - loss: 0.2794 - accuracy: 0.8829 - val_loss: 0.3396 - val_accuracy: 0.8521\n",
            "Epoch 5/5\n",
            "625/625 [==============================] - 2s 3ms/step - loss: 0.2497 - accuracy: 0.8979 - val_loss: 0.3476 - val_accuracy: 0.8490\n",
            "157/157 [==============================] - 0s 1ms/step - loss: 0.3318 - accuracy: 0.8604\n",
            "Model: \"sequential_92\"\n",
            "_________________________________________________________________\n",
            "Layer (type)                 Output Shape              Param #   \n",
            "=================================================================\n",
            "dense_276 (Dense)            (None, 16)                16016     \n",
            "_________________________________________________________________\n",
            "dense_277 (Dense)            (None, 16)                272       \n",
            "_________________________________________________________________\n",
            "dense_278 (Dense)            (None, 1)                 17        \n",
            "=================================================================\n",
            "Total params: 16,305\n",
            "Trainable params: 16,305\n",
            "Non-trainable params: 0\n",
            "_________________________________________________________________\n",
            "Epoch 1/5\n",
            "625/625 [==============================] - 2s 3ms/step - loss: 0.4814 - accuracy: 0.7603 - val_loss: 0.3383 - val_accuracy: 0.8541\n",
            "Epoch 2/5\n",
            "625/625 [==============================] - 2s 3ms/step - loss: 0.3088 - accuracy: 0.8702 - val_loss: 0.3341 - val_accuracy: 0.8545\n",
            "Epoch 3/5\n",
            "625/625 [==============================] - 2s 3ms/step - loss: 0.2910 - accuracy: 0.8792 - val_loss: 0.3472 - val_accuracy: 0.8470\n",
            "Epoch 4/5\n",
            "625/625 [==============================] - 2s 3ms/step - loss: 0.2682 - accuracy: 0.8887 - val_loss: 0.3476 - val_accuracy: 0.8487\n",
            "Epoch 5/5\n",
            "625/625 [==============================] - 2s 3ms/step - loss: 0.2326 - accuracy: 0.9055 - val_loss: 0.3587 - val_accuracy: 0.8439\n",
            "157/157 [==============================] - 0s 1ms/step - loss: 0.3548 - accuracy: 0.8472\n",
            "Model: \"sequential_93\"\n",
            "_________________________________________________________________\n",
            "Layer (type)                 Output Shape              Param #   \n",
            "=================================================================\n",
            "dense_279 (Dense)            (None, 16)                16016     \n",
            "_________________________________________________________________\n",
            "dense_280 (Dense)            (None, 16)                272       \n",
            "_________________________________________________________________\n",
            "dense_281 (Dense)            (None, 1)                 17        \n",
            "=================================================================\n",
            "Total params: 16,305\n",
            "Trainable params: 16,305\n",
            "Non-trainable params: 0\n",
            "_________________________________________________________________\n",
            "Epoch 1/5\n",
            "625/625 [==============================] - 2s 3ms/step - loss: 0.4886 - accuracy: 0.7544 - val_loss: 0.3458 - val_accuracy: 0.8498\n",
            "Epoch 2/5\n",
            "625/625 [==============================] - 2s 2ms/step - loss: 0.3105 - accuracy: 0.8699 - val_loss: 0.3369 - val_accuracy: 0.8528\n",
            "Epoch 3/5\n",
            "625/625 [==============================] - 2s 2ms/step - loss: 0.2991 - accuracy: 0.8734 - val_loss: 0.3427 - val_accuracy: 0.8497\n",
            "Epoch 4/5\n",
            "625/625 [==============================] - 2s 2ms/step - loss: 0.2879 - accuracy: 0.8802 - val_loss: 0.3394 - val_accuracy: 0.8503\n",
            "Epoch 5/5\n",
            "625/625 [==============================] - 2s 2ms/step - loss: 0.2613 - accuracy: 0.8915 - val_loss: 0.3497 - val_accuracy: 0.8472\n",
            "157/157 [==============================] - 0s 1ms/step - loss: 0.3388 - accuracy: 0.8556\n",
            "Model: \"sequential_94\"\n",
            "_________________________________________________________________\n",
            "Layer (type)                 Output Shape              Param #   \n",
            "=================================================================\n",
            "dense_282 (Dense)            (None, 16)                16016     \n",
            "_________________________________________________________________\n",
            "dense_283 (Dense)            (None, 16)                272       \n",
            "_________________________________________________________________\n",
            "dense_284 (Dense)            (None, 1)                 17        \n",
            "=================================================================\n",
            "Total params: 16,305\n",
            "Trainable params: 16,305\n",
            "Non-trainable params: 0\n",
            "_________________________________________________________________\n",
            "Epoch 1/5\n",
            "625/625 [==============================] - 2s 3ms/step - loss: 0.4854 - accuracy: 0.7599 - val_loss: 0.3553 - val_accuracy: 0.8450\n",
            "Epoch 2/5\n",
            "625/625 [==============================] - 2s 3ms/step - loss: 0.3195 - accuracy: 0.8649 - val_loss: 0.3414 - val_accuracy: 0.8505\n",
            "Epoch 3/5\n",
            "625/625 [==============================] - 2s 3ms/step - loss: 0.3008 - accuracy: 0.8708 - val_loss: 0.3485 - val_accuracy: 0.8466\n",
            "Epoch 4/5\n",
            "625/625 [==============================] - 2s 2ms/step - loss: 0.2872 - accuracy: 0.8788 - val_loss: 0.3401 - val_accuracy: 0.8516\n",
            "Epoch 5/5\n",
            "625/625 [==============================] - 2s 2ms/step - loss: 0.2610 - accuracy: 0.8917 - val_loss: 0.3455 - val_accuracy: 0.8506\n",
            "157/157 [==============================] - 0s 1ms/step - loss: 0.3333 - accuracy: 0.8570\n",
            "Model: \"sequential_95\"\n",
            "_________________________________________________________________\n",
            "Layer (type)                 Output Shape              Param #   \n",
            "=================================================================\n",
            "dense_285 (Dense)            (None, 16)                16016     \n",
            "_________________________________________________________________\n",
            "dense_286 (Dense)            (None, 16)                272       \n",
            "_________________________________________________________________\n",
            "dense_287 (Dense)            (None, 1)                 17        \n",
            "=================================================================\n",
            "Total params: 16,305\n",
            "Trainable params: 16,305\n",
            "Non-trainable params: 0\n",
            "_________________________________________________________________\n",
            "Epoch 1/5\n",
            "625/625 [==============================] - 2s 3ms/step - loss: 0.5002 - accuracy: 0.7495 - val_loss: 0.3417 - val_accuracy: 0.8540\n",
            "Epoch 2/5\n",
            "625/625 [==============================] - 1s 2ms/step - loss: 0.3077 - accuracy: 0.8719 - val_loss: 0.3425 - val_accuracy: 0.8538\n",
            "Epoch 3/5\n",
            "625/625 [==============================] - 2s 2ms/step - loss: 0.2890 - accuracy: 0.8800 - val_loss: 0.3479 - val_accuracy: 0.8482\n",
            "Epoch 4/5\n",
            "625/625 [==============================] - 2s 2ms/step - loss: 0.2705 - accuracy: 0.8868 - val_loss: 0.3438 - val_accuracy: 0.8475\n",
            "Epoch 5/5\n",
            "625/625 [==============================] - 2s 2ms/step - loss: 0.2349 - accuracy: 0.9046 - val_loss: 0.3964 - val_accuracy: 0.8356\n",
            "157/157 [==============================] - 0s 1ms/step - loss: 0.3792 - accuracy: 0.8476\n",
            "Model: \"sequential_96\"\n",
            "_________________________________________________________________\n",
            "Layer (type)                 Output Shape              Param #   \n",
            "=================================================================\n",
            "dense_288 (Dense)            (None, 16)                16016     \n",
            "_________________________________________________________________\n",
            "dense_289 (Dense)            (None, 16)                272       \n",
            "_________________________________________________________________\n",
            "dense_290 (Dense)            (None, 1)                 17        \n",
            "=================================================================\n",
            "Total params: 16,305\n",
            "Trainable params: 16,305\n",
            "Non-trainable params: 0\n",
            "_________________________________________________________________\n",
            "Epoch 1/5\n",
            "625/625 [==============================] - 2s 3ms/step - loss: 0.4930 - accuracy: 0.7528 - val_loss: 0.3403 - val_accuracy: 0.8524\n",
            "Epoch 2/5\n",
            "625/625 [==============================] - 2s 2ms/step - loss: 0.3126 - accuracy: 0.8730 - val_loss: 0.3379 - val_accuracy: 0.8549\n",
            "Epoch 3/5\n",
            "625/625 [==============================] - 2s 2ms/step - loss: 0.2999 - accuracy: 0.8764 - val_loss: 0.3552 - val_accuracy: 0.8448\n",
            "Epoch 4/5\n",
            "625/625 [==============================] - 2s 2ms/step - loss: 0.2827 - accuracy: 0.8829 - val_loss: 0.3387 - val_accuracy: 0.8532\n",
            "Epoch 5/5\n",
            "625/625 [==============================] - 2s 3ms/step - loss: 0.2518 - accuracy: 0.8960 - val_loss: 0.3480 - val_accuracy: 0.8484\n",
            "157/157 [==============================] - 0s 1ms/step - loss: 0.3408 - accuracy: 0.8536\n",
            "Model: \"sequential_97\"\n",
            "_________________________________________________________________\n",
            "Layer (type)                 Output Shape              Param #   \n",
            "=================================================================\n",
            "dense_291 (Dense)            (None, 16)                16016     \n",
            "_________________________________________________________________\n",
            "dense_292 (Dense)            (None, 16)                272       \n",
            "_________________________________________________________________\n",
            "dense_293 (Dense)            (None, 1)                 17        \n",
            "=================================================================\n",
            "Total params: 16,305\n",
            "Trainable params: 16,305\n",
            "Non-trainable params: 0\n",
            "_________________________________________________________________\n",
            "Epoch 1/5\n",
            "625/625 [==============================] - 2s 3ms/step - loss: 0.4887 - accuracy: 0.7543 - val_loss: 0.3396 - val_accuracy: 0.8524\n",
            "Epoch 2/5\n",
            "625/625 [==============================] - 2s 2ms/step - loss: 0.3097 - accuracy: 0.8698 - val_loss: 0.3374 - val_accuracy: 0.8518\n",
            "Epoch 3/5\n",
            "625/625 [==============================] - 2s 2ms/step - loss: 0.2917 - accuracy: 0.8785 - val_loss: 0.3560 - val_accuracy: 0.8480\n",
            "Epoch 4/5\n",
            "625/625 [==============================] - 2s 2ms/step - loss: 0.2726 - accuracy: 0.8895 - val_loss: 0.3470 - val_accuracy: 0.8481\n",
            "Epoch 5/5\n",
            "625/625 [==============================] - 2s 3ms/step - loss: 0.2364 - accuracy: 0.9038 - val_loss: 0.3665 - val_accuracy: 0.8438\n",
            "157/157 [==============================] - 0s 1ms/step - loss: 0.3662 - accuracy: 0.8470\n",
            "Model: \"sequential_98\"\n",
            "_________________________________________________________________\n",
            "Layer (type)                 Output Shape              Param #   \n",
            "=================================================================\n",
            "dense_294 (Dense)            (None, 16)                16016     \n",
            "_________________________________________________________________\n",
            "dense_295 (Dense)            (None, 16)                272       \n",
            "_________________________________________________________________\n",
            "dense_296 (Dense)            (None, 1)                 17        \n",
            "=================================================================\n",
            "Total params: 16,305\n",
            "Trainable params: 16,305\n",
            "Non-trainable params: 0\n",
            "_________________________________________________________________\n",
            "Epoch 1/5\n",
            "625/625 [==============================] - 2s 3ms/step - loss: 0.4845 - accuracy: 0.7586 - val_loss: 0.3502 - val_accuracy: 0.8495\n",
            "Epoch 2/5\n",
            "625/625 [==============================] - 2s 2ms/step - loss: 0.3100 - accuracy: 0.8708 - val_loss: 0.3345 - val_accuracy: 0.8549\n",
            "Epoch 3/5\n",
            "625/625 [==============================] - 2s 3ms/step - loss: 0.2963 - accuracy: 0.8746 - val_loss: 0.3427 - val_accuracy: 0.8504\n",
            "Epoch 4/5\n",
            "625/625 [==============================] - 2s 3ms/step - loss: 0.2820 - accuracy: 0.8818 - val_loss: 0.3380 - val_accuracy: 0.8531\n",
            "Epoch 5/5\n",
            "625/625 [==============================] - 2s 2ms/step - loss: 0.2522 - accuracy: 0.8933 - val_loss: 0.3499 - val_accuracy: 0.8482\n",
            "157/157 [==============================] - 0s 1ms/step - loss: 0.3446 - accuracy: 0.8580\n",
            "Model: \"sequential_99\"\n",
            "_________________________________________________________________\n",
            "Layer (type)                 Output Shape              Param #   \n",
            "=================================================================\n",
            "dense_297 (Dense)            (None, 16)                16016     \n",
            "_________________________________________________________________\n",
            "dense_298 (Dense)            (None, 16)                272       \n",
            "_________________________________________________________________\n",
            "dense_299 (Dense)            (None, 1)                 17        \n",
            "=================================================================\n",
            "Total params: 16,305\n",
            "Trainable params: 16,305\n",
            "Non-trainable params: 0\n",
            "_________________________________________________________________\n",
            "Epoch 1/5\n",
            "625/625 [==============================] - 2s 3ms/step - loss: 0.4864 - accuracy: 0.7582 - val_loss: 0.3528 - val_accuracy: 0.8454\n",
            "Epoch 2/5\n",
            "625/625 [==============================] - 2s 2ms/step - loss: 0.3140 - accuracy: 0.8673 - val_loss: 0.3392 - val_accuracy: 0.8507\n",
            "Epoch 3/5\n",
            "625/625 [==============================] - 2s 3ms/step - loss: 0.2920 - accuracy: 0.8747 - val_loss: 0.3497 - val_accuracy: 0.8481\n",
            "Epoch 4/5\n",
            "625/625 [==============================] - 2s 3ms/step - loss: 0.2776 - accuracy: 0.8850 - val_loss: 0.3438 - val_accuracy: 0.8512\n",
            "Epoch 5/5\n",
            "625/625 [==============================] - 2s 2ms/step - loss: 0.2520 - accuracy: 0.8946 - val_loss: 0.3530 - val_accuracy: 0.8472\n",
            "157/157 [==============================] - 0s 1ms/step - loss: 0.3349 - accuracy: 0.8570\n",
            "Model: \"sequential_100\"\n",
            "_________________________________________________________________\n",
            "Layer (type)                 Output Shape              Param #   \n",
            "=================================================================\n",
            "dense_300 (Dense)            (None, 16)                16016     \n",
            "_________________________________________________________________\n",
            "dense_301 (Dense)            (None, 16)                272       \n",
            "_________________________________________________________________\n",
            "dense_302 (Dense)            (None, 1)                 17        \n",
            "=================================================================\n",
            "Total params: 16,305\n",
            "Trainable params: 16,305\n",
            "Non-trainable params: 0\n",
            "_________________________________________________________________\n",
            "Epoch 1/5\n",
            "782/782 [==============================] - 3s 3ms/step - loss: 0.4604 - accuracy: 0.7793 - val_loss: 0.3540 - val_accuracy: 0.8430\n",
            "Epoch 2/5\n",
            "782/782 [==============================] - 2s 2ms/step - loss: 0.3228 - accuracy: 0.8625 - val_loss: 0.3335 - val_accuracy: 0.8541\n",
            "Epoch 3/5\n",
            "782/782 [==============================] - 2s 2ms/step - loss: 0.2926 - accuracy: 0.8753 - val_loss: 0.3373 - val_accuracy: 0.8500\n",
            "Epoch 4/5\n",
            "782/782 [==============================] - 2s 3ms/step - loss: 0.2830 - accuracy: 0.8821 - val_loss: 0.3491 - val_accuracy: 0.8458\n",
            "Epoch 5/5\n",
            "782/782 [==============================] - 2s 3ms/step - loss: 0.2604 - accuracy: 0.8924 - val_loss: 0.3449 - val_accuracy: 0.8482\n"
          ],
          "name": "stdout"
        },
        {
          "output_type": "execute_result",
          "data": {
            "text/plain": [
              "GridSearchCV(cv=None, error_score=nan,\n",
              "             estimator=<tensorflow.python.keras.wrappers.scikit_learn.KerasRegressor object at 0x7f397f621d90>,\n",
              "             iid='deprecated', n_jobs=None,\n",
              "             param_grid={'learning_rate': ['1e-4', '1e-1', '1e-3'],\n",
              "                         'n_units': [10, 20, 40]},\n",
              "             pre_dispatch='2*n_jobs', refit=True, return_train_score=False,\n",
              "             scoring=None, verbose=0)"
            ]
          },
          "metadata": {
            "tags": []
          },
          "execution_count": 28
        }
      ]
    },
    {
      "cell_type": "markdown",
      "metadata": {
        "id": "aadmkiOoyM94"
      },
      "source": [
        "Print the best hyper-parameters, and evealuate the best model on the test set."
      ]
    },
    {
      "cell_type": "code",
      "metadata": {
        "id": "b0nL5OZkylNX",
        "colab": {
          "base_uri": "https://localhost:8080/"
        },
        "outputId": "09a82869-855f-4264-d726-db1fe5587368"
      },
      "source": [
        "print(grid_search.best_params_)\n",
        "\n",
        "model = grid_search.best_estimator_.model\n",
        "model.evaluate(X_test, y_test)"
      ],
      "execution_count": null,
      "outputs": [
        {
          "output_type": "stream",
          "text": [
            "{'learning_rate': '1e-3', 'n_units': 20}\n",
            "391/391 [==============================] - 0s 1ms/step - loss: 0.3256 - accuracy: 0.8594\n"
          ],
          "name": "stdout"
        },
        {
          "output_type": "execute_result",
          "data": {
            "text/plain": [
              "[0.3255747854709625, 0.85944002866745]"
            ]
          },
          "metadata": {
            "tags": []
          },
          "execution_count": 29
        }
      ]
    },
    {
      "cell_type": "code",
      "metadata": {
        "id": "WrMJ8Z3JggH-"
      },
      "source": [
        ""
      ],
      "execution_count": null,
      "outputs": []
    }
  ]
}