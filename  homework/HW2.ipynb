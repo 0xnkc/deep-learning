{
  "nbformat": 4,
  "nbformat_minor": 0,
  "metadata": {
    "colab": {
      "name": "HW2.ipynb",
      "provenance": [],
      "collapsed_sections": [],
      "toc_visible": true
    },
    "kernelspec": {
      "display_name": "Python 3",
      "language": "python",
      "name": "python3"
    },
    "language_info": {
      "codemirror_mode": {
        "name": "ipython",
        "version": 3
      },
      "file_extension": ".py",
      "mimetype": "text/x-python",
      "name": "python",
      "nbconvert_exporter": "python",
      "pygments_lexer": "ipython3",
      "version": "3.7.7"
    }
  },
  "cells": [
    {
      "cell_type": "markdown",
      "metadata": {
        "id": "QUc9frYnVBI_"
      },
      "source": [
        "#**HW 2: Optimize and train Deep Models**\n",
        "\n",
        "In this homework, we will explore how to develop a simple Deep Neural Network for a classification problem. We will explore two common libraries: TensorFlow and Keras.\n",
        "Then we will explore how to face a well known problem that is common to encounter during the training phase: the Overfitting.\n",
        "Finally, we will study how to perform a fair model selection.\n",
        "Hint: Before starting the exercise take a look at how Tensorflow and Keras are designed.  https://keras.io/"
      ]
    },
    {
      "cell_type": "markdown",
      "metadata": {
        "id": "e-Nc7mFSVEiU"
      },
      "source": [
        "##Exercise 2.1: Image Classficiation with Tensorflow and Keras\n",
        "\n",
        "In this first exercise we will develop a 3 layers Neural Network to perfrom classification.\n",
        "\n",
        "Let's start importing the libraries we will need and setting a couple of environmental variables.\n"
      ]
    },
    {
      "cell_type": "code",
      "metadata": {
        "id": "bWn9FzneVqJo"
      },
      "source": [
        "import matplotlib as mpl\n",
        "import matplotlib.pyplot as plt\n",
        "import numpy as np\n",
        "import os\n",
        "import pandas as pd\n",
        "import sklearn\n",
        "import sys\n",
        "import tensorflow as tf\n",
        "from tensorflow import keras  # tf.keras\n",
        "import time\n",
        "\n",
        "import logging\n",
        "logging.disable(logging.WARNING)\n",
        "os.environ[\"TF_CPP_MIN_LOG_LEVEL\"] = \"3\" \n",
        "\n",
        "\n",
        "\n",
        "tf.random.set_seed(42)\n",
        "# os.environ['TF_DETERMINISTIC_OPS']='1'"
      ],
      "execution_count": 102,
      "outputs": []
    },
    {
      "cell_type": "markdown",
      "metadata": {
        "id": "LT2HMYDEXcx0"
      },
      "source": [
        "### Load Data: IMDB dataset\n",
        "\n",
        "In this HW, we use the IMDB dataset that can be easily downloaded using Keras. The dataset contains 50,000 movie reviews from IMDB, labeled by sentiment (positive/negative). Reviews have been preprocessed, and each review is encoded as a sequence of word indexes. For convenience, the words are indexed by the overall frequency in the dataset, so that for example the integer \"3\" encodes the 3rd most frequent word in the data. For testing purposes, we will only consider the first 10,000  most common words.\n",
        "By default, the load_data method returns a breakdown of the dataset into training and test sets. Both these sets contain 25,000 samples. To also have a validation set, we split the test set in half.\n",
        "\n"
      ]
    },
    {
      "cell_type": "code",
      "metadata": {
        "id": "JZv86gBLXj-D",
        "colab": {
          "base_uri": "https://localhost:8080/"
        },
        "outputId": "a4c70b85-a288-43d3-d48d-04738857c36a"
      },
      "source": [
        "num_words = 1000\n",
        "(X_train, y_train), (X_test, y_test) = keras.datasets.imdb.load_data(num_words=num_words)\n",
        "(X_valid, X_test) = X_test[:12500], X_test[12500:]\n",
        "(y_valid, y_test) = y_test[:12500], y_test[12500:]"
      ],
      "execution_count": 103,
      "outputs": [
        {
          "output_type": "stream",
          "text": [
            "<string>:6: VisibleDeprecationWarning: Creating an ndarray from ragged nested sequences (which is a list-or-tuple of lists-or-tuples-or ndarrays with different lengths or shapes) is deprecated. If you meant to do this, you must specify 'dtype=object' when creating the ndarray\n",
            "/usr/local/lib/python3.7/dist-packages/tensorflow/python/keras/datasets/imdb.py:155: VisibleDeprecationWarning: Creating an ndarray from ragged nested sequences (which is a list-or-tuple of lists-or-tuples-or ndarrays with different lengths or shapes) is deprecated. If you meant to do this, you must specify 'dtype=object' when creating the ndarray\n",
            "  x_train, y_train = np.array(xs[:idx]), np.array(labels[:idx])\n",
            "/usr/local/lib/python3.7/dist-packages/tensorflow/python/keras/datasets/imdb.py:156: VisibleDeprecationWarning: Creating an ndarray from ragged nested sequences (which is a list-or-tuple of lists-or-tuples-or ndarrays with different lengths or shapes) is deprecated. If you meant to do this, you must specify 'dtype=object' when creating the ndarray\n",
            "  x_test, y_test = np.array(xs[idx:]), np.array(labels[idx:])\n"
          ],
          "name": "stderr"
        }
      ]
    },
    {
      "cell_type": "markdown",
      "metadata": {
        "id": "TEZHVHpuPdQF"
      },
      "source": [
        "In this HW we will consider a Deep Neural Network. The IMDB data consists in reviews, each one composed by a seqeunce of words. In order to encode each review in a single tensor with a fixed number of elements, we will use multi-hot encoding. Multi-hot-encoding our lists means turning them into vectors of 0s and 1s. Concretely, this would mean for instance turning the sequence [3, 5] into a 10,000-dimensional vector that would be all-zeros except for indices 3 and 5, which would be ones. The obtained input representation indicates which words are present (at least one time) in the sentence.\n",
        "\n",
        " "
      ]
    },
    {
      "cell_type": "code",
      "metadata": {
        "id": "hxE9DhiFPP0T"
      },
      "source": [
        "def multi_hot_encoder(dataset, num_word):\n",
        "  dataset_multi_hot=[]\n",
        "  for sequence in dataset:\n",
        "    index, _ = tf.unique(sequence)\n",
        "    dataset_multi_hot.append(tf.reduce_max(tf.one_hot(index-1, num_word, dtype=tf.int32), axis=0))\n",
        "  dataset_multi_hot = tf.stack(dataset_multi_hot)\n",
        "  return dataset_multi_hot\n",
        "\n",
        "X_train = multi_hot_encoder(X_train,num_words)\n",
        "X_test = multi_hot_encoder(X_test,num_words)\n",
        "X_valid = multi_hot_encoder(X_valid,num_words)"
      ],
      "execution_count": 104,
      "outputs": []
    },
    {
      "cell_type": "markdown",
      "metadata": {
        "id": "jGUg8TexZMNf"
      },
      "source": [
        "### Define the model:\n",
        "\n",
        "Let's build a Sequential model (keras.models.Sequential) and add four layers to it by calling its add() method:\n",
        "\n",
        "\n",
        "*   a input layer (tf.keras.Input) that is the first layer in your model. With this layer you should specify the input_shape argument, leaving out the batch size: (num_words,);\n",
        "*  a Dense layer (keras.layers.Dense) with 16 neurons, and the \"relu\" activation function;\n",
        "* another Dense layer with 16 neurons, also with the \"relu\" activation function;\n",
        "* a final Dense layer with 1 output neurons, and with the \"sigmoid\" activation (since we considering a binary classification task)."
      ]
    },
    {
      "cell_type": "code",
      "metadata": {
        "id": "OaoEISyaZL56"
      },
      "source": [
        "model = keras.models.Sequential()\n",
        "model.add(tf.keras.Input(shape=(num_words,)))\n",
        "model.add(keras.layers.Dense(16, activation=\"relu\"))\n",
        "model.add(keras.layers.Dense(16, activation=\"relu\"))\n",
        "model.add(keras.layers.Dense(1, activation=\"sigmoid\"))\n",
        "\n"
      ],
      "execution_count": 105,
      "outputs": []
    },
    {
      "cell_type": "markdown",
      "metadata": {
        "id": "fYfxUOQVZljh"
      },
      "source": [
        "Call the model's summary() method to check if the model has been built correctly. Also, try using keras.utils.plot_model() to save an image of your model's architecture."
      ]
    },
    {
      "cell_type": "code",
      "metadata": {
        "id": "IpGkQl5dZoWq",
        "colab": {
          "base_uri": "https://localhost:8080/"
        },
        "outputId": "2d70b795-ba11-434e-cd67-ab3917c3e3f2"
      },
      "source": [
        "model.summary()"
      ],
      "execution_count": 106,
      "outputs": [
        {
          "output_type": "stream",
          "text": [
            "Model: \"sequential_386\"\n",
            "_________________________________________________________________\n",
            "Layer (type)                 Output Shape              Param #   \n",
            "=================================================================\n",
            "dense_1216 (Dense)           (None, 16)                16016     \n",
            "_________________________________________________________________\n",
            "dense_1217 (Dense)           (None, 16)                272       \n",
            "_________________________________________________________________\n",
            "dense_1218 (Dense)           (None, 1)                 17        \n",
            "=================================================================\n",
            "Total params: 16,305\n",
            "Trainable params: 16,305\n",
            "Non-trainable params: 0\n",
            "_________________________________________________________________\n"
          ],
          "name": "stdout"
        }
      ]
    },
    {
      "cell_type": "code",
      "metadata": {
        "id": "b1NbkrXRZwOA",
        "colab": {
          "base_uri": "https://localhost:8080/",
          "height": 422
        },
        "outputId": "57f8863e-70e0-499f-a49f-73a148ab1b2c"
      },
      "source": [
        "keras.utils.plot_model(model, \"my_imdb_model.png\", show_shapes=True)"
      ],
      "execution_count": 107,
      "outputs": [
        {
          "output_type": "execute_result",
          "data": {
            "image/png": "[encoded data removed]",
            "text/plain": [
              "<IPython.core.display.Image object>"
            ]
          },
          "metadata": {
            "tags": []
          },
          "execution_count": 107
        }
      ]
    },
    {
      "cell_type": "markdown",
      "metadata": {
        "id": "Mc3xzuA-33WH"
      },
      "source": [
        "As you can see, the first dimension of each layer is not defined (?), indeed this dimension in each layer is variable and depends on the batch size."
      ]
    },
    {
      "cell_type": "markdown",
      "metadata": {
        "id": "6FAjFixuHSA_"
      },
      "source": [
        "Instaed of using *add()* method it is also possibile to define the model using the following syntax"
      ]
    },
    {
      "cell_type": "code",
      "metadata": {
        "id": "yOhr57M9GPHy",
        "colab": {
          "base_uri": "https://localhost:8080/",
          "height": 660
        },
        "outputId": "0b86e965-3937-4982-bad3-c56c1052f2b9"
      },
      "source": [
        "model = keras.models.Sequential([\n",
        "    tf.keras.Input(shape=(num_words,)),\n",
        "    keras.layers.Dense(16, activation=\"relu\"),\n",
        "    keras.layers.Dense(16, activation=\"relu\"),\n",
        "    keras.layers.Dense(1, activation=\"sigmoid\")\n",
        "])\n",
        "model.summary()\n",
        "keras.utils.plot_model(model, \"my_imdb_model.png\", show_shapes=True)"
      ],
      "execution_count": 108,
      "outputs": [
        {
          "output_type": "stream",
          "text": [
            "Model: \"sequential_387\"\n",
            "_________________________________________________________________\n",
            "Layer (type)                 Output Shape              Param #   \n",
            "=================================================================\n",
            "dense_1219 (Dense)           (None, 16)                16016     \n",
            "_________________________________________________________________\n",
            "dense_1220 (Dense)           (None, 16)                272       \n",
            "_________________________________________________________________\n",
            "dense_1221 (Dense)           (None, 1)                 17        \n",
            "=================================================================\n",
            "Total params: 16,305\n",
            "Trainable params: 16,305\n",
            "Non-trainable params: 0\n",
            "_________________________________________________________________\n"
          ],
          "name": "stdout"
        },
        {
          "output_type": "execute_result",
          "data": {
            "image/png": "[encoded data removed]",
            "text/plain": [
              "<IPython.core.display.Image object>"
            ]
          },
          "metadata": {
            "tags": []
          },
          "execution_count": 108
        }
      ]
    },
    {
      "cell_type": "markdown",
      "metadata": {
        "id": "2ySdJmzxaSuz"
      },
      "source": [
        "### Optimize the model:\n",
        "\n",
        "After the model has been created, you must call its compile() method to specify the loss function and the optimizer to use.\n",
        "\n",
        "Since the model performs a binary classification task, we use the bynary cross-entropy as loss. As optimizer we use Adam.\n",
        "\n",
        "Moreover, you can optionally specify a list of additional metrics that should be measured during training. In this case we specify metrics=[\"accuracy\"]."
      ]
    },
    {
      "cell_type": "code",
      "metadata": {
        "id": "x3bbsY3uaeh5"
      },
      "source": [
        "model.compile(loss=\"binary_crossentropy\",\n",
        "              optimizer=keras.optimizers.Adam(learning_rate=1e-4),\n",
        "              metrics=[\"accuracy\"])"
      ],
      "execution_count": 109,
      "outputs": []
    },
    {
      "cell_type": "markdown",
      "metadata": {
        "id": "NB9SV0MpaeTg"
      },
      "source": [
        "Now our model is ready to be trained. Call its fit() method, passing to it the input features (X_train) and the target classes (y_train). Set the number of epochs to 20. \n",
        "In order to validate our model we will also pass the validation data by setting validation_data=(X_valid, y_valid). Keras will compute the loss and the additional metrics (the accuracy in this case) on the validation set at the end of each epoch. If the loss on the training set is much lower than the one on the validation set, your model is probably overfitting the training set. Note: the fit() method will return a History object containing training stats."
      ]
    },
    {
      "cell_type": "code",
      "metadata": {
        "id": "5whx-LU3aoKn",
        "colab": {
          "base_uri": "https://localhost:8080/"
        },
        "outputId": "a32c57ca-770d-42e1-829d-7d880d9a81dd"
      },
      "source": [
        "history = model.fit(X_train, y_train, epochs=20,\n",
        "                    validation_data=(X_valid, y_valid))"
      ],
      "execution_count": 110,
      "outputs": [
        {
          "output_type": "stream",
          "text": [
            "Epoch 1/20\n",
            "782/782 [==============================] - 2s 3ms/step - loss: 0.6226 - accuracy: 0.6698 - val_loss: 0.5086 - val_accuracy: 0.7899\n",
            "Epoch 2/20\n",
            "782/782 [==============================] - 2s 3ms/step - loss: 0.4251 - accuracy: 0.8259 - val_loss: 0.3856 - val_accuracy: 0.8406\n",
            "Epoch 3/20\n",
            "782/782 [==============================] - 2s 2ms/step - loss: 0.3515 - accuracy: 0.8555 - val_loss: 0.3534 - val_accuracy: 0.8515\n",
            "Epoch 4/20\n",
            "782/782 [==============================] - 2s 2ms/step - loss: 0.3258 - accuracy: 0.8657 - val_loss: 0.3407 - val_accuracy: 0.8543\n",
            "Epoch 5/20\n",
            "782/782 [==============================] - 2s 2ms/step - loss: 0.3138 - accuracy: 0.8703 - val_loss: 0.3377 - val_accuracy: 0.8555\n",
            "Epoch 6/20\n",
            "782/782 [==============================] - 2s 3ms/step - loss: 0.3072 - accuracy: 0.8726 - val_loss: 0.3344 - val_accuracy: 0.8565\n",
            "Epoch 7/20\n",
            "782/782 [==============================] - 2s 2ms/step - loss: 0.3027 - accuracy: 0.8751 - val_loss: 0.3344 - val_accuracy: 0.8562\n",
            "Epoch 8/20\n",
            "782/782 [==============================] - 2s 3ms/step - loss: 0.2999 - accuracy: 0.8773 - val_loss: 0.3344 - val_accuracy: 0.8557\n",
            "Epoch 9/20\n",
            "782/782 [==============================] - 2s 2ms/step - loss: 0.2977 - accuracy: 0.8778 - val_loss: 0.3352 - val_accuracy: 0.8549\n",
            "Epoch 10/20\n",
            "782/782 [==============================] - 2s 2ms/step - loss: 0.2958 - accuracy: 0.8784 - val_loss: 0.3355 - val_accuracy: 0.8552\n",
            "Epoch 11/20\n",
            "782/782 [==============================] - 2s 3ms/step - loss: 0.2941 - accuracy: 0.8794 - val_loss: 0.3366 - val_accuracy: 0.8539\n",
            "Epoch 12/20\n",
            "782/782 [==============================] - 2s 3ms/step - loss: 0.2926 - accuracy: 0.8794 - val_loss: 0.3373 - val_accuracy: 0.8549\n",
            "Epoch 13/20\n",
            "782/782 [==============================] - 2s 3ms/step - loss: 0.2909 - accuracy: 0.8812 - val_loss: 0.3393 - val_accuracy: 0.8543\n",
            "Epoch 14/20\n",
            "782/782 [==============================] - 2s 3ms/step - loss: 0.2897 - accuracy: 0.8819 - val_loss: 0.3387 - val_accuracy: 0.8536\n",
            "Epoch 15/20\n",
            "782/782 [==============================] - 2s 2ms/step - loss: 0.2883 - accuracy: 0.8821 - val_loss: 0.3398 - val_accuracy: 0.8538\n",
            "Epoch 16/20\n",
            "782/782 [==============================] - 2s 3ms/step - loss: 0.2864 - accuracy: 0.8834 - val_loss: 0.3405 - val_accuracy: 0.8534\n",
            "Epoch 17/20\n",
            "782/782 [==============================] - 2s 2ms/step - loss: 0.2849 - accuracy: 0.8841 - val_loss: 0.3418 - val_accuracy: 0.8546\n",
            "Epoch 18/20\n",
            "782/782 [==============================] - 2s 3ms/step - loss: 0.2832 - accuracy: 0.8847 - val_loss: 0.3427 - val_accuracy: 0.8542\n",
            "Epoch 19/20\n",
            "782/782 [==============================] - 2s 2ms/step - loss: 0.2817 - accuracy: 0.8859 - val_loss: 0.3433 - val_accuracy: 0.8526\n",
            "Epoch 20/20\n",
            "782/782 [==============================] - 2s 3ms/step - loss: 0.2793 - accuracy: 0.8860 - val_loss: 0.3445 - val_accuracy: 0.8531\n"
          ],
          "name": "stdout"
        }
      ]
    },
    {
      "cell_type": "markdown",
      "metadata": {
        "id": "EPxiw8iCADr-"
      },
      "source": [
        "Let's plot the loss and the accuracy trends on both training and validation sets. We define the \"plot_learning_acc_and_loss\" function because we will reuse it in the next steps."
      ]
    },
    {
      "cell_type": "code",
      "metadata": {
        "id": "AJg-F7mUa7st",
        "colab": {
          "base_uri": "https://localhost:8080/",
          "height": 320
        },
        "outputId": "808a771f-9f01-43af-f154-39702873f73c"
      },
      "source": [
        "def plot_learning_acc_and_loss(history):\n",
        "    pd.DataFrame(history.history).plot(figsize=(8, 5))\n",
        "    plt.grid(True)\n",
        "    plt.show()\n",
        "plot_learning_acc_and_loss(history)"
      ],
      "execution_count": 111,
      "outputs": [
        {
          "output_type": "display_data",
          "data": {
            "image/png": "[encoded data removed]",
            "text/plain": [
              "<Figure size 576x360 with 1 Axes>"
            ]
          },
          "metadata": {
            "tags": [],
            "needs_background": "light"
          }
        }
      ]
    },
    {
      "cell_type": "markdown",
      "metadata": {
        "id": "9O3-sLmxansJ"
      },
      "source": [
        "### [TO COMPLETE] Evaluate the model:\n",
        "\n",
        "Now, our model has been optimized on the training set, and as you can see the performance on the validation set in quite similar (so it does not overfit the training data). Let's now evaluate the performance of our model using the test set."
      ]
    },
    {
      "cell_type": "code",
      "metadata": {
        "id": "q-ZvJEcObdyB",
        "colab": {
          "base_uri": "https://localhost:8080/"
        },
        "outputId": "c0d05fe9-7779-4926-f1fc-aece933024ad"
      },
      "source": [
        "model.evaluate(X_test, y_test)"
      ],
      "execution_count": 112,
      "outputs": [
        {
          "output_type": "stream",
          "text": [
            "391/391 [==============================] - 1s 1ms/step - loss: 0.3227 - accuracy: 0.8662\n"
          ],
          "name": "stdout"
        },
        {
          "output_type": "execute_result",
          "data": {
            "text/plain": [
              "[0.32265689969062805, 0.8662400245666504]"
            ]
          },
          "metadata": {
            "tags": []
          },
          "execution_count": 112
        }
      ]
    },
    {
      "cell_type": "markdown",
      "metadata": {
        "id": "KTSxlnwrII-n"
      },
      "source": [
        "[TO COMPLETE] Explain why it is important to use test and validation, and why it is important to evaluate the model on the test set instead of the validation set. Finally, explain which is the usefulness of the validation set. Insert the discussion in this cell."
      ]
    },
    {
      "cell_type": "markdown",
      "metadata": {
        "id": "B2nIotEsggHz"
      },
      "source": [
        "Ans:\n",
        "The training set is a set of examples used for learning, that is, to fit the parameters of the classifier; validation set is a set of examples used to tune the parameters of a classifier, for example, to choose the number of hidden units in a neural network, the Test Set is a set of examples used only to assess the performance of a fully-specified classifier.\n",
        "\n",
        "The validation set is different from the test set. A validation set actually can be regarded as a part of a training set because it is used to build your model, neural networks, or others. It is usually used for parameter selection and to avoid overfitting.\n",
        "\n",
        "It is important to use both test and validation set because they have different aims: validation set is used in training the model to optimize the parameters and validate the model (for example, see if it overfits, as we're asked to do later) while test set, unseen after training, is used to evaluate the performance of the model.\n",
        "\n",
        "We evaluate the model on test set instead of validation set because this last one has indirectly trained the model and this can cause overfitting. It's not good to evaluate the model only on the validation set.\n",
        "\n",
        "So, our model has been modeled on validation and training set while it has not seen the test set and we can calculate it's performance on it.\n",
        "\n",
        "\n"
      ]
    },
    {
      "cell_type": "markdown",
      "metadata": {
        "id": "aeGlzKe864Gq"
      },
      "source": [
        "## [TO COMPLETE] Exercise 2.2: Overfiting\n",
        "\n",
        "A common problem that occurs when you train a deep neural network is overfittig. Overfitting occurs when you achieve a good fit of your model on the training data, while it does not generalize well on new, unseen data. In other words, the model learned patterns specific to the training data, which are irrelevant in other data.\n",
        "As we have seen in the previous exercise, our model does not overfit the training data. In this exercise, we try to modify the training parameters in order to have a model that overfits.\n",
        "Overfitting can have many causes and usually is a combination of some of them, for instance: too many parameters/ layers, too few training samples, wrong learning rate (usualy too high), etc..\n",
        "\n",
        "[TO COMPLETE] In the next cell define a new model (similar to the previuos one) that overfits the training data; then plot the trend of the loss in training and validation set."
      ]
    },
    {
      "cell_type": "code",
      "metadata": {
        "id": "T2B2DFEC8f88",
        "colab": {
          "base_uri": "https://localhost:8080/"
        },
        "outputId": "ea799a82-0e48-4fe5-e2c6-b98586675c53"
      },
      "source": [
        "model = keras.models.Sequential([\n",
        "    tf.keras.Input(shape=(num_words,)),\n",
        "    keras.layers.Dense(16, activation=\"relu\"),\n",
        "    keras.layers.Dense(16, activation=\"relu\"),\n",
        "    keras.layers.Dense(16, activation=\"relu\"),\n",
        "    keras.layers.Dense(1, activation=\"sigmoid\")\n",
        "])\n",
        "#[TO COMPLETE] modify the previuos model in order to obtain a new mdel that overfit the training data\n",
        "\n",
        "model.compile(loss=\"binary_crossentropy\",\n",
        "              optimizer=keras.optimizers.Adam(learning_rate=1e-3),#[TO COMPLETE] learning rate\n",
        "              metrics=[\"accuracy\"])\n",
        "\n",
        "history = model.fit(X_train, y_train, epochs=10,#[TO COMPLETE] epochs\n",
        "                    validation_data=(X_valid, y_valid))\n",
        "\n",
        "print(\"Model Evaluation\")\n",
        "model.evaluate(X_test, y_test)"
      ],
      "execution_count": 113,
      "outputs": [
        {
          "output_type": "stream",
          "text": [
            "Epoch 1/10\n",
            "782/782 [==============================] - 3s 3ms/step - loss: 0.3902 - accuracy: 0.8256 - val_loss: 0.3430 - val_accuracy: 0.8493\n",
            "Epoch 2/10\n",
            "782/782 [==============================] - 2s 3ms/step - loss: 0.3159 - accuracy: 0.8653 - val_loss: 0.3326 - val_accuracy: 0.8531\n",
            "Epoch 3/10\n",
            "782/782 [==============================] - 2s 2ms/step - loss: 0.2999 - accuracy: 0.8698 - val_loss: 0.3487 - val_accuracy: 0.8498\n",
            "Epoch 4/10\n",
            "782/782 [==============================] - 2s 3ms/step - loss: 0.2864 - accuracy: 0.8739 - val_loss: 0.3466 - val_accuracy: 0.8486\n",
            "Epoch 5/10\n",
            "782/782 [==============================] - 2s 3ms/step - loss: 0.2695 - accuracy: 0.8812 - val_loss: 0.3430 - val_accuracy: 0.8515\n",
            "Epoch 6/10\n",
            "782/782 [==============================] - 2s 2ms/step - loss: 0.2537 - accuracy: 0.8896 - val_loss: 0.3618 - val_accuracy: 0.8466\n",
            "Epoch 7/10\n",
            "782/782 [==============================] - 2s 3ms/step - loss: 0.2309 - accuracy: 0.8995 - val_loss: 0.3827 - val_accuracy: 0.8414\n",
            "Epoch 8/10\n",
            "782/782 [==============================] - 2s 2ms/step - loss: 0.2101 - accuracy: 0.9092 - val_loss: 0.4188 - val_accuracy: 0.8418\n",
            "Epoch 9/10\n",
            "782/782 [==============================] - 2s 2ms/step - loss: 0.1850 - accuracy: 0.9214 - val_loss: 0.4445 - val_accuracy: 0.8383\n",
            "Epoch 10/10\n",
            "782/782 [==============================] - 2s 3ms/step - loss: 0.1637 - accuracy: 0.9318 - val_loss: 0.4956 - val_accuracy: 0.8306\n",
            "Model Evaluation\n",
            "391/391 [==============================] - 0s 1ms/step - loss: 0.4548 - accuracy: 0.8419\n"
          ],
          "name": "stdout"
        },
        {
          "output_type": "execute_result",
          "data": {
            "text/plain": [
              "[0.454781711101532, 0.841920018196106]"
            ]
          },
          "metadata": {
            "tags": []
          },
          "execution_count": 113
        }
      ]
    },
    {
      "cell_type": "markdown",
      "metadata": {
        "id": "MS0fujEqh_m3"
      },
      "source": [
        "Define the plot_learning_curves function that plots inly the losses (not the accuracy)."
      ]
    },
    {
      "cell_type": "code",
      "metadata": {
        "id": "q5EsklC0DZYH",
        "colab": {
          "base_uri": "https://localhost:8080/",
          "height": 336
        },
        "outputId": "64907cce-05f4-492d-fd86-ec5452500868"
      },
      "source": [
        "def plot_learning_curves(history):\n",
        "    plt.figure(figsize=(8, 5))\n",
        "    plt.plot(history.epoch,history.history['loss'], label='train loss')\n",
        "    plt.plot(history.epoch,history.history['val_loss'], label='valid loss')\n",
        "    plt.legend()\n",
        "    plt.title('loss')\n",
        "    plt.grid(True)\n",
        "    plt.show()\n",
        "plot_learning_curves(history)"
      ],
      "execution_count": 114,
      "outputs": [
        {
          "output_type": "display_data",
          "data": {
            "image/png": "[encoded data removed]",
            "text/plain": [
              "<Figure size 576x360 with 1 Axes>"
            ]
          },
          "metadata": {
            "tags": [],
            "needs_background": "light"
          }
        }
      ]
    },
    {
      "cell_type": "markdown",
      "metadata": {
        "id": "OW4Kf4fgDfOs"
      },
      "source": [
        "### [TO COMPLETE] L1 norm\n",
        "\n",
        "One possible way to solve the overitting issue is by using regularization methods. The two most common regularization methods in Deep Learning are the L1-norm regularization and the L2-norm regularization. Both These techniques are based on limiting the capacity of models, by adding a parameter norm penalty to the objective function $\\mathcal{J}$:\n",
        "$$\n",
        "\\hat{\\mathcal{J}}(\\theta,\\mathbf{X},\\mathbf{y}) = \\mathcal{J}(\\theta,\\mathbf{X},\\mathbf{y}) + \\alpha \\Omega(\\theta)\n",
        "$$\n",
        "where $\\alpha$ is a hyperparameter that weighs the relative contribution of the norm penalty $\\Omega$.\n",
        "Lets start by considering the L1-norm regularization where the regularization term is defined as:\n",
        "$$\n",
        " \\Omega(\\theta)=||\\mathbf{W}||_1=\\sum_i |\\mathbf{w}|\n",
        "$$\n",
        "Let's find the values for the $\\alpha$ parameters that allow to remove the overfitting effect."
      ]
    },
    {
      "cell_type": "code",
      "metadata": {
        "id": "QzD8520dDgw3",
        "colab": {
          "base_uri": "https://localhost:8080/",
          "height": 710
        },
        "outputId": "5a154c41-e3bf-47e1-828a-1d5ecbe9c87e"
      },
      "source": [
        "#In Keras is neccesary to add the regularizer by using the attribute kernel_regularizer\n",
        "#to each layer whose weights will be considered in the Omega function.\n",
        "#is it also possibile to consider the bias by using the attribute bias_regularizer \n",
        "#tf.keras.regularizers.l1(alpha) perfroms the L1-norm regularization\n",
        "\n",
        "#[TO COMPLETE] copy the model that you previously defined that overfits the \n",
        "#trainnig data, and add the L1-norm regularization. Use a proper value for the\n",
        "#alpha hyper-parameter, that prevents the model from overfitting. The results  \n",
        "#reached by the model in terms of loss and accuracy (in all data sets) should be\n",
        "#comparable with the ones obtained by the initial model defined in Exercise 2.1 \n",
        "\n",
        "#In general, a layer that exploits L1-norm regularization is defined as follows:\n",
        "\n",
        "#model.add(keras.layers.Dense(units=[TO COMPLETE], activation=[TO COMPLETE], kernel_regularizer=tf.keras.regularizers.l1([TO COMPLETE]))) \n",
        "alpha=1e-3\n",
        "#model = keras.models.Sequential()\n",
        "model = keras.models.Sequential([\n",
        "    tf.keras.Input(shape=(num_words,)),\n",
        "    keras.layers.Dense(16, activation=\"relu\",kernel_regularizer=tf.keras.regularizers.l1(alpha)),\n",
        "    keras.layers.Dense(16, activation=\"relu\",kernel_regularizer=tf.keras.regularizers.l1(alpha)),\n",
        "    keras.layers.Dense(16, activation=\"relu\",kernel_regularizer=tf.keras.regularizers.l1(alpha)),\n",
        "    keras.layers.Dense(1, activation=\"sigmoid\")\n",
        "])\n",
        "#[TO COMPLETE]\n",
        "\n",
        "\n",
        "model.compile(loss=\"binary_crossentropy\",\n",
        "              optimizer=keras.optimizers.Adam(learning_rate=1e-3),#[TO COMPLETE] learning rate\n",
        "              metrics=[\"accuracy\"])\n",
        "\n",
        "history = model.fit(X_train, y_train, epochs=10,#[TO COMPLETE] epochs\n",
        "                    validation_data=(X_valid, y_valid))\n",
        "\n",
        "print(\"Model Evaluation\")\n",
        "model.evaluate(X_test, y_test)\n",
        "plot_learning_curves(history)"
      ],
      "execution_count": 115,
      "outputs": [
        {
          "output_type": "stream",
          "text": [
            "Epoch 1/10\n",
            "782/782 [==============================] - 3s 3ms/step - loss: 0.6180 - accuracy: 0.8182 - val_loss: 0.4968 - val_accuracy: 0.8488\n",
            "Epoch 2/10\n",
            "782/782 [==============================] - 2s 3ms/step - loss: 0.4776 - accuracy: 0.8526 - val_loss: 0.4689 - val_accuracy: 0.8495\n",
            "Epoch 3/10\n",
            "782/782 [==============================] - 2s 2ms/step - loss: 0.4505 - accuracy: 0.8586 - val_loss: 0.4576 - val_accuracy: 0.8494\n",
            "Epoch 4/10\n",
            "782/782 [==============================] - 2s 2ms/step - loss: 0.4311 - accuracy: 0.8586 - val_loss: 0.4580 - val_accuracy: 0.8405\n",
            "Epoch 5/10\n",
            "782/782 [==============================] - 2s 3ms/step - loss: 0.4205 - accuracy: 0.8620 - val_loss: 0.4408 - val_accuracy: 0.8471\n",
            "Epoch 6/10\n",
            "782/782 [==============================] - 2s 3ms/step - loss: 0.4159 - accuracy: 0.8632 - val_loss: 0.4276 - val_accuracy: 0.8534\n",
            "Epoch 7/10\n",
            "782/782 [==============================] - 2s 3ms/step - loss: 0.4114 - accuracy: 0.8617 - val_loss: 0.4244 - val_accuracy: 0.8530\n",
            "Epoch 8/10\n",
            "782/782 [==============================] - 2s 2ms/step - loss: 0.4098 - accuracy: 0.8620 - val_loss: 0.4248 - val_accuracy: 0.8513\n",
            "Epoch 9/10\n",
            "782/782 [==============================] - 2s 2ms/step - loss: 0.4050 - accuracy: 0.8656 - val_loss: 0.4201 - val_accuracy: 0.8526\n",
            "Epoch 10/10\n",
            "782/782 [==============================] - 2s 2ms/step - loss: 0.4039 - accuracy: 0.8651 - val_loss: 0.4228 - val_accuracy: 0.8543\n",
            "Model Evaluation\n",
            "391/391 [==============================] - 0s 1ms/step - loss: 0.4039 - accuracy: 0.8639\n"
          ],
          "name": "stdout"
        },
        {
          "output_type": "display_data",
          "data": {
            "image/png": "[encoded data removed]",
            "text/plain": [
              "<Figure size 576x360 with 1 Axes>"
            ]
          },
          "metadata": {
            "tags": [],
            "needs_background": "light"
          }
        }
      ]
    },
    {
      "cell_type": "markdown",
      "metadata": {
        "id": "CgnCGYUvDqbC"
      },
      "source": [
        "### [TO COMPLETE] L2-norm\n",
        "\n",
        "L2-norm regularization is also known as weight decay. This strategy drives the weights closer to the origin by adding the regularization term omega which is defined as:\n",
        "$$\n",
        " \\Omega(\\theta)=\\frac{1}{2}||\\mathbf{W}||_2^2\n",
        "$$\n",
        "\n",
        "Let's find the values for the $\\alpha$ parameters that allow removing remove the overfitting effect with L2-norm."
      ]
    },
    {
      "cell_type": "code",
      "metadata": {
        "id": "qqNhu350DtJo",
        "colab": {
          "base_uri": "https://localhost:8080/",
          "height": 710
        },
        "outputId": "fbeed116-668d-47b9-97c0-3074a2e5d06c"
      },
      "source": [
        "#[TO COMPLETE] insert the model that you previously defined that overfit the \n",
        "#trainig data, and add the L2-norm regularization. Use proper values for the\n",
        "#alpha hyper-parameters, that prevents the model from overfitting. The results  \n",
        "#reached by the model in terms of loss and accuracy (in all data sets) should be\n",
        "#comparable with the ones obtained by the initial model defined in Exercise 2.1\n",
        "\n",
        "#In general, a layer that exploits L2-norm regularization is defined as follow:\n",
        "\n",
        "#model.add(keras.layers.Dense(units=[TO COMPLETE], activation=[TO COMPLETE],kernel_regularizer=tf.keras.regularizers.l2([TO COMPLETE]))) \n",
        "alpha=0.5e-2\n",
        "#model = keras.models.Sequential()\n",
        "model = keras.models.Sequential([\n",
        "    tf.keras.Input(shape=(num_words,)),\n",
        "    keras.layers.Dense(16, activation=\"relu\",kernel_regularizer=tf.keras.regularizers.l2(alpha)),\n",
        "    keras.layers.Dense(16, activation=\"relu\",kernel_regularizer=tf.keras.regularizers.l2(alpha)),\n",
        "    keras.layers.Dense(16, activation=\"relu\",kernel_regularizer=tf.keras.regularizers.l2(alpha)),\n",
        "    keras.layers.Dense(1, activation=\"sigmoid\")\n",
        "])\n",
        "#[TO COMPLETE]\n",
        "\n",
        "model.compile(loss=\"binary_crossentropy\",\n",
        "              optimizer=keras.optimizers.Adam(learning_rate=1e-3),#[TO COMPLETE] learning rate\n",
        "              metrics=[\"accuracy\"])\n",
        "\n",
        "history = model.fit(X_train, y_train, epochs=10,#[TO COMPLETE] epochs\n",
        "                    validation_data=(X_valid, y_valid))\n",
        "\n",
        "print(\"Model Evaluation\")\n",
        "model.evaluate(X_test, y_test)\n",
        "plot_learning_curves(history)"
      ],
      "execution_count": 116,
      "outputs": [
        {
          "output_type": "stream",
          "text": [
            "Epoch 1/10\n",
            "782/782 [==============================] - 3s 3ms/step - loss: 0.5336 - accuracy: 0.8215 - val_loss: 0.4391 - val_accuracy: 0.8537\n",
            "Epoch 2/10\n",
            "782/782 [==============================] - 2s 2ms/step - loss: 0.4200 - accuracy: 0.8566 - val_loss: 0.4187 - val_accuracy: 0.8498\n",
            "Epoch 3/10\n",
            "782/782 [==============================] - 2s 3ms/step - loss: 0.4039 - accuracy: 0.8591 - val_loss: 0.4164 - val_accuracy: 0.8466\n",
            "Epoch 4/10\n",
            "782/782 [==============================] - 2s 3ms/step - loss: 0.3922 - accuracy: 0.8610 - val_loss: 0.4182 - val_accuracy: 0.8425\n",
            "Epoch 5/10\n",
            "782/782 [==============================] - 2s 3ms/step - loss: 0.3870 - accuracy: 0.8605 - val_loss: 0.4096 - val_accuracy: 0.8447\n",
            "Epoch 6/10\n",
            "782/782 [==============================] - 2s 3ms/step - loss: 0.3826 - accuracy: 0.8597 - val_loss: 0.3957 - val_accuracy: 0.8537\n",
            "Epoch 7/10\n",
            "782/782 [==============================] - 2s 2ms/step - loss: 0.3771 - accuracy: 0.8627 - val_loss: 0.3909 - val_accuracy: 0.8529\n",
            "Epoch 8/10\n",
            "782/782 [==============================] - 2s 2ms/step - loss: 0.3745 - accuracy: 0.8632 - val_loss: 0.3919 - val_accuracy: 0.8495\n",
            "Epoch 9/10\n",
            "782/782 [==============================] - 2s 2ms/step - loss: 0.3675 - accuracy: 0.8657 - val_loss: 0.3877 - val_accuracy: 0.8522\n",
            "Epoch 10/10\n",
            "782/782 [==============================] - 2s 2ms/step - loss: 0.3648 - accuracy: 0.8663 - val_loss: 0.3851 - val_accuracy: 0.8524\n",
            "Model Evaluation\n",
            "391/391 [==============================] - 0s 1ms/step - loss: 0.3660 - accuracy: 0.8647\n"
          ],
          "name": "stdout"
        },
        {
          "output_type": "display_data",
          "data": {
            "image/png": "[encoded data removed]",
            "text/plain": [
              "<Figure size 576x360 with 1 Axes>"
            ]
          },
          "metadata": {
            "tags": [],
            "needs_background": "light"
          }
        }
      ]
    },
    {
      "cell_type": "markdown",
      "metadata": {
        "id": "xvyKPb4DD25G"
      },
      "source": [
        "###[TO COMPLETE] Early stopping\n",
        "\n",
        "Early Stopping is a form of regularization used to avoid overfitting. It is designed to monitor the generalization error of one model and stop training when generalization error begins to degrade. In order to evaluate the generalization error, early stopping requires that a validation dataset is evaluated during training. Then, when the validation error does not improve for a specific number of epochs (patience hyper-parameter), it stops the training phase."
      ]
    },
    {
      "cell_type": "code",
      "metadata": {
        "id": "MqNOOZ11D7cq",
        "colab": {
          "base_uri": "https://localhost:8080/",
          "height": 540
        },
        "outputId": "c3361432-cda8-4ea6-8236-17ad42d14470"
      },
      "source": [
        "#[TO COMPLETE] insert the model that you previously defined that overfit the \n",
        "#trainnig data\n",
        "#model = keras.models.Sequential()\n",
        "model = keras.models.Sequential([\n",
        "    tf.keras.Input(shape=(num_words,)),\n",
        "    keras.layers.Dense(16, activation=\"relu\"),\n",
        "    keras.layers.Dense(16, activation=\"relu\"),\n",
        "    keras.layers.Dense(16, activation=\"relu\"),\n",
        "    keras.layers.Dense(1, activation=\"sigmoid\")\n",
        "])\n",
        "\n",
        "model.compile(loss=\"binary_crossentropy\",\n",
        "              optimizer=keras.optimizers.Adam(learning_rate=1e-3),#[TO COMPLETE] learning rate\n",
        "\n",
        "              metrics=[\"accuracy\"])\n",
        "\n",
        "#Let's define a log dir in order to save the checkpoint file\n",
        "logdir = os.path.join(os.curdir, \"my_logs\", \"run_{}\".format(time.time()))\n",
        "\n",
        "#In Keras the Eraly stopping is manage by using the callbacks argument.\n",
        "callbacks = [\n",
        "    keras.callbacks.TensorBoard(logdir),\n",
        "    keras.callbacks.EarlyStopping(patience=3),#[TO COMPLETE] play with patience and find the value that prevents the model from overfitting.\n",
        "\n",
        "\n",
        "    #Saving the checkpoints file allows to load the \"best\" model when the Early \n",
        "    #stopping detect that the generalization error degrade (after 'patience' epochs)\n",
        "    keras.callbacks.ModelCheckpoint(\"my_mnist_model.h5\", save_best_only=True),\n",
        "]\n",
        "\n",
        "history = model.fit(X_train, y_train, epochs=10,#[TO COMPLETE] epochs\n",
        "                    validation_data=(X_valid, y_valid),\n",
        "                    callbacks=callbacks)\n",
        "\n",
        "print(\"Model Evaluation\")\n",
        "#The early stopping stopped training after few epochs without progress, so your\n",
        "#model may already have started to overfit the training set. Since the \n",
        "#ModelCheckpoint callback only saved the best models (on the validation set) the\n",
        "#last saved model is the best on the validation set.\n",
        "model = keras.models.load_model(\"my_mnist_model.h5\")\n",
        "model.evaluate(X_test, y_test)\n",
        "plot_learning_curves(history)"
      ],
      "execution_count": 117,
      "outputs": [
        {
          "output_type": "stream",
          "text": [
            "Epoch 1/10\n",
            "782/782 [==============================] - 3s 3ms/step - loss: 0.3910 - accuracy: 0.8257 - val_loss: 0.3482 - val_accuracy: 0.8462\n",
            "Epoch 2/10\n",
            "782/782 [==============================] - 2s 3ms/step - loss: 0.3166 - accuracy: 0.8657 - val_loss: 0.3327 - val_accuracy: 0.8531\n",
            "Epoch 3/10\n",
            "782/782 [==============================] - 2s 3ms/step - loss: 0.2965 - accuracy: 0.8736 - val_loss: 0.3426 - val_accuracy: 0.8475\n",
            "Epoch 4/10\n",
            "782/782 [==============================] - 2s 2ms/step - loss: 0.2754 - accuracy: 0.8841 - val_loss: 0.3492 - val_accuracy: 0.8451\n",
            "Epoch 5/10\n",
            "782/782 [==============================] - 2s 3ms/step - loss: 0.2499 - accuracy: 0.8966 - val_loss: 0.3637 - val_accuracy: 0.8447\n",
            "Model Evaluation\n",
            "391/391 [==============================] - 1s 1ms/step - loss: 0.3190 - accuracy: 0.8625\n"
          ],
          "name": "stdout"
        },
        {
          "output_type": "display_data",
          "data": {
            "image/png": "[encoded data removed]",
            "text/plain": [
              "<Figure size 576x360 with 1 Axes>"
            ]
          },
          "metadata": {
            "tags": [],
            "needs_background": "light"
          }
        }
      ]
    },
    {
      "cell_type": "markdown",
      "metadata": {
        "id": "DCV8pwVzl9GK"
      },
      "source": [
        "## Exercise 2.3: Model Selection\n",
        "\n",
        "Hyperparameters are the parameters of the learning method itself which we have to specify a priori, i.e., before model fitting. In contrast, model parameters are parameters which arise as a result of the fit (the network weights). The aim of model selection is selecting the best hyperparameters for our deep network. Finding the right hyperparameters for a model can be crucial for the model performance on given data. For istance lets consider our model trained by using different values for the learning rate: "
      ]
    },
    {
      "cell_type": "code",
      "metadata": {
        "id": "Fw8Hs-AEmLKh"
      },
      "source": [
        "learning_rates = [1e-4, 1e-2, 1e-1]"
      ],
      "execution_count": 118,
      "outputs": []
    },
    {
      "cell_type": "code",
      "metadata": {
        "id": "mym4GOgUmWqD",
        "colab": {
          "base_uri": "https://localhost:8080/"
        },
        "outputId": "1d61a240-c9be-427b-ee88-63712e72f914"
      },
      "source": [
        "histories = []\n",
        "for learning_rate in learning_rates:\n",
        "    model = keras.models.Sequential([\n",
        "                                    tf.keras.Input(shape=(num_words,)),\n",
        "                                    keras.layers.Dense(16, activation=\"relu\"),\n",
        "                                    keras.layers.Dense(16, activation=\"relu\"),\n",
        "                                    keras.layers.Dense(1, activation=\"sigmoid\")\n",
        "                                     ])\n",
        "    model.compile(loss=\"binary_crossentropy\",\n",
        "              optimizer=keras.optimizers.Adam(learning_rate=learning_rate),\n",
        "              metrics=[\"accuracy\"])\n",
        "              \n",
        "    callbacks = [keras.callbacks.EarlyStopping(patience=2)]\n",
        "\n",
        "    history = model.fit(X_train, y_train,\n",
        "                        validation_data=(X_valid, y_valid), epochs=10,\n",
        "                        callbacks=callbacks)\n",
        "    histories.append(history)\n",
        "    print(\"evaluation on test set\")\n",
        "    model.evaluate(X_test, y_test)"
      ],
      "execution_count": 119,
      "outputs": [
        {
          "output_type": "stream",
          "text": [
            "Epoch 1/10\n",
            "782/782 [==============================] - 3s 3ms/step - loss: 0.6165 - accuracy: 0.6736 - val_loss: 0.4978 - val_accuracy: 0.7937\n",
            "Epoch 2/10\n",
            "782/782 [==============================] - 2s 3ms/step - loss: 0.4152 - accuracy: 0.8311 - val_loss: 0.3815 - val_accuracy: 0.8422\n",
            "Epoch 3/10\n",
            "782/782 [==============================] - 2s 2ms/step - loss: 0.3465 - accuracy: 0.8587 - val_loss: 0.3524 - val_accuracy: 0.8499\n",
            "Epoch 4/10\n",
            "782/782 [==============================] - 2s 2ms/step - loss: 0.3229 - accuracy: 0.8671 - val_loss: 0.3406 - val_accuracy: 0.8553\n",
            "Epoch 5/10\n",
            "782/782 [==============================] - 2s 2ms/step - loss: 0.3119 - accuracy: 0.8722 - val_loss: 0.3378 - val_accuracy: 0.8573\n",
            "Epoch 6/10\n",
            "782/782 [==============================] - 2s 3ms/step - loss: 0.3060 - accuracy: 0.8743 - val_loss: 0.3350 - val_accuracy: 0.8575\n",
            "Epoch 7/10\n",
            "782/782 [==============================] - 2s 3ms/step - loss: 0.3020 - accuracy: 0.8755 - val_loss: 0.3353 - val_accuracy: 0.8575\n",
            "Epoch 8/10\n",
            "782/782 [==============================] - 2s 2ms/step - loss: 0.2994 - accuracy: 0.8772 - val_loss: 0.3354 - val_accuracy: 0.8546\n",
            "evaluation on test set\n",
            "391/391 [==============================] - 0s 1ms/step - loss: 0.3166 - accuracy: 0.8654\n",
            "Epoch 1/10\n",
            "782/782 [==============================] - 2s 2ms/step - loss: 0.3833 - accuracy: 0.8312 - val_loss: 0.3395 - val_accuracy: 0.8491\n",
            "Epoch 2/10\n",
            "782/782 [==============================] - 2s 2ms/step - loss: 0.3227 - accuracy: 0.8614 - val_loss: 0.3537 - val_accuracy: 0.8454\n",
            "Epoch 3/10\n",
            "782/782 [==============================] - 2s 2ms/step - loss: 0.3088 - accuracy: 0.8677 - val_loss: 0.3511 - val_accuracy: 0.8502\n",
            "evaluation on test set\n",
            "391/391 [==============================] - 1s 1ms/step - loss: 0.3280 - accuracy: 0.8618\n",
            "Epoch 1/10\n",
            "782/782 [==============================] - 2s 2ms/step - loss: 0.6987 - accuracy: 0.5000 - val_loss: 0.6932 - val_accuracy: 0.5053\n",
            "Epoch 2/10\n",
            "782/782 [==============================] - 2s 3ms/step - loss: 0.6986 - accuracy: 0.5024 - val_loss: 0.6931 - val_accuracy: 0.5053\n",
            "Epoch 3/10\n",
            "782/782 [==============================] - 2s 3ms/step - loss: 0.6988 - accuracy: 0.4950 - val_loss: 0.7039 - val_accuracy: 0.4947\n",
            "Epoch 4/10\n",
            "782/782 [==============================] - 2s 3ms/step - loss: 0.6950 - accuracy: 0.5009 - val_loss: 0.6974 - val_accuracy: 0.4947\n",
            "evaluation on test set\n",
            "391/391 [==============================] - 1s 1ms/step - loss: 0.6957 - accuracy: 0.5053\n"
          ],
          "name": "stdout"
        }
      ]
    },
    {
      "cell_type": "markdown",
      "metadata": {
        "id": "RzTSjfwptkHJ"
      },
      "source": [
        "Let's plot the results"
      ]
    },
    {
      "cell_type": "code",
      "metadata": {
        "id": "cIlN1vlioIYh",
        "colab": {
          "base_uri": "https://localhost:8080/",
          "height": 978
        },
        "outputId": "4c27099d-ef46-42de-cb70-85068013e768"
      },
      "source": [
        "for learning_rate, history in zip(learning_rates, histories):\n",
        "    print(\"Learning rate:\", learning_rate)\n",
        "    plot_learning_acc_and_loss(history)"
      ],
      "execution_count": 120,
      "outputs": [
        {
          "output_type": "stream",
          "text": [
            "Learning rate: 0.0001\n"
          ],
          "name": "stdout"
        },
        {
          "output_type": "display_data",
          "data": {
            "image/png": "[encoded data removed]",
            "text/plain": [
              "<Figure size 576x360 with 1 Axes>"
            ]
          },
          "metadata": {
            "tags": [],
            "needs_background": "light"
          }
        },
        {
          "output_type": "stream",
          "text": [
            "Learning rate: 0.01\n"
          ],
          "name": "stdout"
        },
        {
          "output_type": "display_data",
          "data": {
            "image/png": "[encoded data removed]",
            "text/plain": [
              "<Figure size 576x360 with 1 Axes>"
            ]
          },
          "metadata": {
            "tags": [],
            "needs_background": "light"
          }
        },
        {
          "output_type": "stream",
          "text": [
            "Learning rate: 0.1\n"
          ],
          "name": "stdout"
        },
        {
          "output_type": "display_data",
          "data": {
            "image/png": "[encoded data removed]",
            "text/plain": [
              "<Figure size 576x360 with 1 Axes>"
            ]
          },
          "metadata": {
            "tags": [],
            "needs_background": "light"
          }
        }
      ]
    },
    {
      "cell_type": "markdown",
      "metadata": {
        "id": "_JntujSWq3e5"
      },
      "source": [
        "### [TO COMPLETE] GRID Search:\n",
        "\n",
        "Since a deep net has many hyperparameters, in order to find the best ones, we have to consider all the possible combinations of all of the possible values. One common method to perform this complex task is Grid-Search.\n",
        "Given a set of values for each hyper-parameter, Grid-Search will build a model on each parameter combination possible. It iterates through every parameter combination and stores a model for each combination. Finally, the model that obtained the best result on the validation set will be select.\n",
        "\n",
        "In order to perfrom Grid-Search we will use the GridSearchCV method from scikit-learn."
      ]
    },
    {
      "cell_type": "markdown",
      "metadata": {
        "id": "CPz629YSrDhN"
      },
      "source": [
        "Let's Create a build_model() function that takes two arguments, n_neurons, learning_rate, and builds, compiles and returns a model with the given number of of neurons and the given learning rate.\n",
        "In order to limit the time requirements of the process we will consider only these two hyper-paramters.\n",
        "\n",
        "[TO COMPLETE] in the following code cell define the build_model function."
      ]
    },
    {
      "cell_type": "code",
      "metadata": {
        "id": "oGSKWTTtqxZ4"
      },
      "source": [
        "def build_model(n_units=30, learning_rate=1e-3):\n",
        "    # The function has to build a model similar to the ones we used in previuous execises:\n",
        "    #- a input layer \n",
        "    #- one or two Dense layers composed of n_units and that exploit Relu activation function \n",
        "    #- the output layer that uses the sigmoid activation function\n",
        "    # Then, the model has to be compiled.\n",
        "    model = keras.models.Sequential([                 \n",
        "            keras.layers.Dense(n_units, activation=\"relu\"),\n",
        "            keras.layers.Dense(n_units, activation=\"relu\"),\n",
        "            keras.layers.Dense(1, activation=\"sigmoid\"),\n",
        "                                    #[TO COMPLETE]\n",
        "                                     ])\n",
        "    \n",
        "    model.compile(loss=\"binary_crossentropy\",\n",
        "              optimizer=keras.optimizers.Adam(learning_rate=learning_rate),#[TO COMPLETE] learning rate\n",
        "              metrics=[\"accuracy\"])\n",
        "\n",
        "    # [TO COMPLETE] Then, the model has to be compiled.\n",
        "    \n",
        "    return model\n",
        "\n",
        "    \n",
        "#Create a keras.wrappers.scikit_learn.KerasRegressor and pass the build_model \n",
        "#function to the constructor. This gives you a Scikit-Learn compatible predictor\n",
        "keras_reg = keras.wrappers.scikit_learn.KerasRegressor(build_model)"
      ],
      "execution_count": 121,
      "outputs": []
    },
    {
      "cell_type": "markdown",
      "metadata": {
        "id": "PS6W3A2LxDg5"
      },
      "source": [
        "Let's define the lists of hyper-parameters' values. Also in this case, we use a very limited size lists, but in a real-world scenario a reasonable amount of possible values should be considered (try to add some values and check how much the time required to perform the Grid-Search increases)"
      ]
    },
    {
      "cell_type": "code",
      "metadata": {
        "id": "y-uldCW3ru24"
      },
      "source": [
        "param_distribs = {\n",
        "    \"n_units\": [8, 16, 24],# [TO COMPLETE] insert a list that contains few (2 or 3) reasonable value\n",
        "    \"learning_rate\": [1e-5, 1e-3, 1e-2] #[TO COMPLETE] insert a list that contains few (2 or 3) reasonable values\n",
        "    #Check how the time required to perform GRID search increases when increasing the number of values for each hyper-parameter.\n",
        "}"
      ],
      "execution_count": 122,
      "outputs": []
    },
    {
      "cell_type": "markdown",
      "metadata": {
        "id": "bEiBxVYtx_sK"
      },
      "source": [
        "Use a sklearn.model_selection.GridSearchCV to search the hyperparameter space of your KerasRegressor"
      ]
    },
    {
      "cell_type": "code",
      "metadata": {
        "id": "iobF2Bvdr9ER"
      },
      "source": [
        "from sklearn.model_selection import GridSearchCV\n",
        "\n",
        "grid_search = GridSearchCV(keras_reg, param_distribs)"
      ],
      "execution_count": 123,
      "outputs": []
    },
    {
      "cell_type": "markdown",
      "metadata": {
        "id": "LVGMcZz_yKSX"
      },
      "source": [
        "Run the Grid-Search"
      ]
    },
    {
      "cell_type": "code",
      "metadata": {
        "id": "-BA3vgTjr-hw",
        "colab": {
          "base_uri": "https://localhost:8080/"
        },
        "outputId": "5a133ffb-32f9-4364-c7c8-acd17ac7f6b0"
      },
      "source": [
        "grid_search.fit(X_train.numpy(), y_train, epochs=5,#The number of epochs can be modified (check what happens by increasing it)\n",
        "                validation_data=(X_valid.numpy(), y_valid))"
      ],
      "execution_count": 124,
      "outputs": [
        {
          "output_type": "stream",
          "text": [
            "Epoch 1/5\n",
            "625/625 [==============================] - 2s 3ms/step - loss: 0.7013 - accuracy: 0.5027 - val_loss: 0.6971 - val_accuracy: 0.5061\n",
            "Epoch 2/5\n",
            "625/625 [==============================] - 2s 3ms/step - loss: 0.6941 - accuracy: 0.5042 - val_loss: 0.6925 - val_accuracy: 0.5076\n",
            "Epoch 3/5\n",
            "625/625 [==============================] - 1s 2ms/step - loss: 0.6899 - accuracy: 0.5063 - val_loss: 0.6891 - val_accuracy: 0.5103\n",
            "Epoch 4/5\n",
            "625/625 [==============================] - 1s 2ms/step - loss: 0.6863 - accuracy: 0.5118 - val_loss: 0.6856 - val_accuracy: 0.5159\n",
            "Epoch 5/5\n",
            "625/625 [==============================] - 2s 3ms/step - loss: 0.6821 - accuracy: 0.5173 - val_loss: 0.6807 - val_accuracy: 0.5254\n",
            "157/157 [==============================] - 0s 1ms/step - loss: 0.6843 - accuracy: 0.5110\n",
            "Epoch 1/5\n",
            "625/625 [==============================] - 2s 3ms/step - loss: 0.6977 - accuracy: 0.5001 - val_loss: 0.6954 - val_accuracy: 0.4976\n",
            "Epoch 2/5\n",
            "625/625 [==============================] - 2s 3ms/step - loss: 0.6933 - accuracy: 0.5067 - val_loss: 0.6925 - val_accuracy: 0.5045\n",
            "Epoch 3/5\n",
            "625/625 [==============================] - 1s 2ms/step - loss: 0.6907 - accuracy: 0.5153 - val_loss: 0.6903 - val_accuracy: 0.5130\n",
            "Epoch 4/5\n",
            "625/625 [==============================] - 1s 2ms/step - loss: 0.6885 - accuracy: 0.5243 - val_loss: 0.6882 - val_accuracy: 0.5210\n",
            "Epoch 5/5\n",
            "625/625 [==============================] - 2s 3ms/step - loss: 0.6862 - accuracy: 0.5367 - val_loss: 0.6860 - val_accuracy: 0.5305\n",
            "157/157 [==============================] - 0s 1ms/step - loss: 0.6844 - accuracy: 0.5452\n",
            "Epoch 1/5\n",
            "625/625 [==============================] - 2s 3ms/step - loss: 0.6929 - accuracy: 0.5145 - val_loss: 0.6920 - val_accuracy: 0.5152\n",
            "Epoch 2/5\n",
            "625/625 [==============================] - 1s 2ms/step - loss: 0.6910 - accuracy: 0.5310 - val_loss: 0.6899 - val_accuracy: 0.5371\n",
            "Epoch 3/5\n",
            "625/625 [==============================] - 2s 3ms/step - loss: 0.6880 - accuracy: 0.5537 - val_loss: 0.6863 - val_accuracy: 0.5560\n",
            "Epoch 4/5\n",
            "625/625 [==============================] - 1s 2ms/step - loss: 0.6825 - accuracy: 0.5820 - val_loss: 0.6793 - val_accuracy: 0.5900\n",
            "Epoch 5/5\n",
            "625/625 [==============================] - 2s 3ms/step - loss: 0.6732 - accuracy: 0.6122 - val_loss: 0.6685 - val_accuracy: 0.6238\n",
            "157/157 [==============================] - 0s 1ms/step - loss: 0.6669 - accuracy: 0.6398\n",
            "Epoch 1/5\n",
            "625/625 [==============================] - 2s 3ms/step - loss: 0.7003 - accuracy: 0.5150 - val_loss: 0.6897 - val_accuracy: 0.5362\n",
            "Epoch 2/5\n",
            "625/625 [==============================] - 2s 3ms/step - loss: 0.6882 - accuracy: 0.5425 - val_loss: 0.6818 - val_accuracy: 0.5626\n",
            "Epoch 3/5\n",
            "625/625 [==============================] - 1s 2ms/step - loss: 0.6794 - accuracy: 0.5709 - val_loss: 0.6741 - val_accuracy: 0.5838\n",
            "Epoch 4/5\n",
            "625/625 [==============================] - 2s 3ms/step - loss: 0.6704 - accuracy: 0.5950 - val_loss: 0.6649 - val_accuracy: 0.6052\n",
            "Epoch 5/5\n",
            "625/625 [==============================] - 1s 2ms/step - loss: 0.6593 - accuracy: 0.6211 - val_loss: 0.6530 - val_accuracy: 0.6277\n",
            "157/157 [==============================] - 0s 1ms/step - loss: 0.6564 - accuracy: 0.6218\n",
            "Epoch 1/5\n",
            "625/625 [==============================] - 2s 3ms/step - loss: 0.6937 - accuracy: 0.5131 - val_loss: 0.6920 - val_accuracy: 0.5185\n",
            "Epoch 2/5\n",
            "625/625 [==============================] - 1s 2ms/step - loss: 0.6895 - accuracy: 0.5357 - val_loss: 0.6882 - val_accuracy: 0.5438\n",
            "Epoch 3/5\n",
            "625/625 [==============================] - 2s 3ms/step - loss: 0.6846 - accuracy: 0.5608 - val_loss: 0.6830 - val_accuracy: 0.5724\n",
            "Epoch 4/5\n",
            "625/625 [==============================] - 1s 2ms/step - loss: 0.6776 - accuracy: 0.5925 - val_loss: 0.6750 - val_accuracy: 0.6002\n",
            "Epoch 5/5\n",
            "625/625 [==============================] - 2s 3ms/step - loss: 0.6677 - accuracy: 0.6223 - val_loss: 0.6645 - val_accuracy: 0.6304\n",
            "157/157 [==============================] - 0s 1ms/step - loss: 0.6616 - accuracy: 0.6376\n",
            "Epoch 1/5\n",
            "625/625 [==============================] - 2s 3ms/step - loss: 0.7021 - accuracy: 0.5138 - val_loss: 0.6922 - val_accuracy: 0.5270\n",
            "Epoch 2/5\n",
            "625/625 [==============================] - 2s 3ms/step - loss: 0.6862 - accuracy: 0.5483 - val_loss: 0.6814 - val_accuracy: 0.5639\n",
            "Epoch 3/5\n",
            "625/625 [==============================] - 2s 3ms/step - loss: 0.6747 - accuracy: 0.5865 - val_loss: 0.6701 - val_accuracy: 0.5978\n",
            "Epoch 4/5\n",
            "625/625 [==============================] - 1s 2ms/step - loss: 0.6610 - accuracy: 0.6208 - val_loss: 0.6558 - val_accuracy: 0.6290\n",
            "Epoch 5/5\n",
            "625/625 [==============================] - 1s 2ms/step - loss: 0.6443 - accuracy: 0.6557 - val_loss: 0.6385 - val_accuracy: 0.6588\n",
            "157/157 [==============================] - 0s 1ms/step - loss: 0.6385 - accuracy: 0.6646\n",
            "Epoch 1/5\n",
            "625/625 [==============================] - 3s 3ms/step - loss: 0.6953 - accuracy: 0.5071 - val_loss: 0.6900 - val_accuracy: 0.5162\n",
            "Epoch 2/5\n",
            "625/625 [==============================] - 2s 3ms/step - loss: 0.6879 - accuracy: 0.5260 - val_loss: 0.6851 - val_accuracy: 0.5393\n",
            "Epoch 3/5\n",
            "625/625 [==============================] - 2s 3ms/step - loss: 0.6816 - accuracy: 0.5530 - val_loss: 0.6781 - val_accuracy: 0.5674\n",
            "Epoch 4/5\n",
            "625/625 [==============================] - 2s 3ms/step - loss: 0.6728 - accuracy: 0.5804 - val_loss: 0.6683 - val_accuracy: 0.5952\n",
            "Epoch 5/5\n",
            "625/625 [==============================] - 2s 2ms/step - loss: 0.6611 - accuracy: 0.6076 - val_loss: 0.6559 - val_accuracy: 0.6306\n",
            "157/157 [==============================] - 0s 1ms/step - loss: 0.6557 - accuracy: 0.6334\n",
            "Epoch 1/5\n",
            "625/625 [==============================] - 2s 3ms/step - loss: 0.6917 - accuracy: 0.5225 - val_loss: 0.6865 - val_accuracy: 0.5580\n",
            "Epoch 2/5\n",
            "625/625 [==============================] - 2s 3ms/step - loss: 0.6818 - accuracy: 0.5692 - val_loss: 0.6770 - val_accuracy: 0.5912\n",
            "Epoch 3/5\n",
            "625/625 [==============================] - 2s 3ms/step - loss: 0.6707 - accuracy: 0.6109 - val_loss: 0.6655 - val_accuracy: 0.6282\n",
            "Epoch 4/5\n",
            "625/625 [==============================] - 2s 3ms/step - loss: 0.6566 - accuracy: 0.6514 - val_loss: 0.6504 - val_accuracy: 0.6662\n",
            "Epoch 5/5\n",
            "625/625 [==============================] - 2s 2ms/step - loss: 0.6387 - accuracy: 0.6884 - val_loss: 0.6321 - val_accuracy: 0.6966\n",
            "157/157 [==============================] - 0s 1ms/step - loss: 0.6276 - accuracy: 0.7040\n",
            "Epoch 1/5\n",
            "625/625 [==============================] - 2s 3ms/step - loss: 0.6900 - accuracy: 0.5314 - val_loss: 0.6886 - val_accuracy: 0.5460\n",
            "Epoch 2/5\n",
            "625/625 [==============================] - 1s 2ms/step - loss: 0.6853 - accuracy: 0.5543 - val_loss: 0.6832 - val_accuracy: 0.5694\n",
            "Epoch 3/5\n",
            "625/625 [==============================] - 2s 3ms/step - loss: 0.6780 - accuracy: 0.5788 - val_loss: 0.6749 - val_accuracy: 0.5926\n",
            "Epoch 4/5\n",
            "625/625 [==============================] - 1s 2ms/step - loss: 0.6678 - accuracy: 0.6069 - val_loss: 0.6641 - val_accuracy: 0.6158\n",
            "Epoch 5/5\n",
            "625/625 [==============================] - 2s 3ms/step - loss: 0.6553 - accuracy: 0.6376 - val_loss: 0.6509 - val_accuracy: 0.6466\n",
            "157/157 [==============================] - 0s 1ms/step - loss: 0.6523 - accuracy: 0.6480\n",
            "Epoch 1/5\n",
            "625/625 [==============================] - 2s 3ms/step - loss: 0.7008 - accuracy: 0.4888 - val_loss: 0.6967 - val_accuracy: 0.4976\n",
            "Epoch 2/5\n",
            "625/625 [==============================] - 1s 2ms/step - loss: 0.6924 - accuracy: 0.5190 - val_loss: 0.6902 - val_accuracy: 0.5314\n",
            "Epoch 3/5\n",
            "625/625 [==============================] - 1s 2ms/step - loss: 0.6859 - accuracy: 0.5508 - val_loss: 0.6840 - val_accuracy: 0.5606\n",
            "Epoch 4/5\n",
            "625/625 [==============================] - 2s 3ms/step - loss: 0.6786 - accuracy: 0.5838 - val_loss: 0.6763 - val_accuracy: 0.5934\n",
            "Epoch 5/5\n",
            "625/625 [==============================] - 2s 3ms/step - loss: 0.6688 - accuracy: 0.6183 - val_loss: 0.6655 - val_accuracy: 0.6236\n",
            "157/157 [==============================] - 0s 1ms/step - loss: 0.6638 - accuracy: 0.6334\n",
            "Epoch 1/5\n",
            "625/625 [==============================] - 2s 3ms/step - loss: 0.7012 - accuracy: 0.4931 - val_loss: 0.6939 - val_accuracy: 0.5170\n",
            "Epoch 2/5\n",
            "625/625 [==============================] - 2s 2ms/step - loss: 0.6870 - accuracy: 0.5490 - val_loss: 0.6823 - val_accuracy: 0.5743\n",
            "Epoch 3/5\n",
            "625/625 [==============================] - 2s 3ms/step - loss: 0.6744 - accuracy: 0.6044 - val_loss: 0.6694 - val_accuracy: 0.6256\n",
            "Epoch 4/5\n",
            "625/625 [==============================] - 2s 3ms/step - loss: 0.6589 - accuracy: 0.6522 - val_loss: 0.6532 - val_accuracy: 0.6631\n",
            "Epoch 5/5\n",
            "625/625 [==============================] - 2s 3ms/step - loss: 0.6397 - accuracy: 0.6913 - val_loss: 0.6334 - val_accuracy: 0.7007\n",
            "157/157 [==============================] - 0s 1ms/step - loss: 0.6324 - accuracy: 0.6980\n",
            "Epoch 1/5\n",
            "625/625 [==============================] - 2s 3ms/step - loss: 0.6928 - accuracy: 0.5199 - val_loss: 0.6871 - val_accuracy: 0.5499\n",
            "Epoch 2/5\n",
            "625/625 [==============================] - 2s 3ms/step - loss: 0.6805 - accuracy: 0.5681 - val_loss: 0.6758 - val_accuracy: 0.5954\n",
            "Epoch 3/5\n",
            "625/625 [==============================] - 2s 2ms/step - loss: 0.6678 - accuracy: 0.6144 - val_loss: 0.6628 - val_accuracy: 0.6354\n",
            "Epoch 4/5\n",
            "625/625 [==============================] - 2s 2ms/step - loss: 0.6523 - accuracy: 0.6579 - val_loss: 0.6467 - val_accuracy: 0.6688\n",
            "Epoch 5/5\n",
            "625/625 [==============================] - 2s 3ms/step - loss: 0.6340 - accuracy: 0.6905 - val_loss: 0.6279 - val_accuracy: 0.7038\n",
            "157/157 [==============================] - 0s 1ms/step - loss: 0.6285 - accuracy: 0.6962\n",
            "Epoch 1/5\n",
            "625/625 [==============================] - 2s 3ms/step - loss: 0.6916 - accuracy: 0.5276 - val_loss: 0.6883 - val_accuracy: 0.5465\n",
            "Epoch 2/5\n",
            "625/625 [==============================] - 2s 3ms/step - loss: 0.6824 - accuracy: 0.5746 - val_loss: 0.6794 - val_accuracy: 0.5885\n",
            "Epoch 3/5\n",
            "625/625 [==============================] - 2s 2ms/step - loss: 0.6717 - accuracy: 0.6184 - val_loss: 0.6685 - val_accuracy: 0.6302\n",
            "Epoch 4/5\n",
            "625/625 [==============================] - 2s 3ms/step - loss: 0.6587 - accuracy: 0.6604 - val_loss: 0.6552 - val_accuracy: 0.6669\n",
            "Epoch 5/5\n",
            "625/625 [==============================] - 2s 3ms/step - loss: 0.6432 - accuracy: 0.6970 - val_loss: 0.6397 - val_accuracy: 0.6960\n",
            "157/157 [==============================] - 0s 1ms/step - loss: 0.6353 - accuracy: 0.7122\n",
            "Epoch 1/5\n",
            "625/625 [==============================] - 2s 3ms/step - loss: 0.6923 - accuracy: 0.5221 - val_loss: 0.6880 - val_accuracy: 0.5366\n",
            "Epoch 2/5\n",
            "625/625 [==============================] - 2s 2ms/step - loss: 0.6817 - accuracy: 0.5724 - val_loss: 0.6777 - val_accuracy: 0.5846\n",
            "Epoch 3/5\n",
            "625/625 [==============================] - 2s 3ms/step - loss: 0.6690 - accuracy: 0.6211 - val_loss: 0.6642 - val_accuracy: 0.6283\n",
            "Epoch 4/5\n",
            "625/625 [==============================] - 2s 3ms/step - loss: 0.6523 - accuracy: 0.6643 - val_loss: 0.6464 - val_accuracy: 0.6710\n",
            "Epoch 5/5\n",
            "625/625 [==============================] - 2s 3ms/step - loss: 0.6310 - accuracy: 0.7037 - val_loss: 0.6241 - val_accuracy: 0.7018\n",
            "157/157 [==============================] - 0s 1ms/step - loss: 0.6208 - accuracy: 0.7108\n",
            "Epoch 1/5\n",
            "625/625 [==============================] - 2s 3ms/step - loss: 0.7058 - accuracy: 0.5005 - val_loss: 0.6983 - val_accuracy: 0.4986\n",
            "Epoch 2/5\n",
            "625/625 [==============================] - 2s 3ms/step - loss: 0.6927 - accuracy: 0.5084 - val_loss: 0.6902 - val_accuracy: 0.5131\n",
            "Epoch 3/5\n",
            "625/625 [==============================] - 2s 3ms/step - loss: 0.6854 - accuracy: 0.5362 - val_loss: 0.6832 - val_accuracy: 0.5433\n",
            "Epoch 4/5\n",
            "625/625 [==============================] - 2s 3ms/step - loss: 0.6773 - accuracy: 0.5675 - val_loss: 0.6744 - val_accuracy: 0.5778\n",
            "Epoch 5/5\n",
            "625/625 [==============================] - 2s 3ms/step - loss: 0.6663 - accuracy: 0.6117 - val_loss: 0.6622 - val_accuracy: 0.6210\n",
            "157/157 [==============================] - 0s 1ms/step - loss: 0.6593 - accuracy: 0.6306\n",
            "Epoch 1/5\n",
            "625/625 [==============================] - 2s 3ms/step - loss: 0.4905 - accuracy: 0.7763 - val_loss: 0.3688 - val_accuracy: 0.8506\n",
            "Epoch 2/5\n",
            "625/625 [==============================] - 2s 3ms/step - loss: 0.3321 - accuracy: 0.8644 - val_loss: 0.3507 - val_accuracy: 0.8530\n",
            "Epoch 3/5\n",
            "625/625 [==============================] - 2s 3ms/step - loss: 0.3094 - accuracy: 0.8741 - val_loss: 0.3495 - val_accuracy: 0.8515\n",
            "Epoch 4/5\n",
            "625/625 [==============================] - 2s 2ms/step - loss: 0.2936 - accuracy: 0.8766 - val_loss: 0.3509 - val_accuracy: 0.8498\n",
            "Epoch 5/5\n",
            "625/625 [==============================] - 1s 2ms/step - loss: 0.2802 - accuracy: 0.8855 - val_loss: 0.3579 - val_accuracy: 0.8503\n",
            "157/157 [==============================] - 0s 1ms/step - loss: 0.3577 - accuracy: 0.8544\n",
            "Epoch 1/5\n",
            "625/625 [==============================] - 2s 3ms/step - loss: 0.4125 - accuracy: 0.8144 - val_loss: 0.3387 - val_accuracy: 0.8562\n",
            "Epoch 2/5\n",
            "625/625 [==============================] - 1s 2ms/step - loss: 0.3238 - accuracy: 0.8658 - val_loss: 0.3403 - val_accuracy: 0.8549\n",
            "Epoch 3/5\n",
            "625/625 [==============================] - 2s 3ms/step - loss: 0.3137 - accuracy: 0.8698 - val_loss: 0.3484 - val_accuracy: 0.8478\n",
            "Epoch 4/5\n",
            "625/625 [==============================] - 2s 3ms/step - loss: 0.3058 - accuracy: 0.8716 - val_loss: 0.3358 - val_accuracy: 0.8537\n",
            "Epoch 5/5\n",
            "625/625 [==============================] - 2s 3ms/step - loss: 0.2967 - accuracy: 0.8744 - val_loss: 0.3379 - val_accuracy: 0.8497\n",
            "157/157 [==============================] - 0s 1ms/step - loss: 0.3281 - accuracy: 0.8604\n",
            "Epoch 1/5\n",
            "625/625 [==============================] - 3s 3ms/step - loss: 0.4172 - accuracy: 0.8102 - val_loss: 0.3394 - val_accuracy: 0.8559\n",
            "Epoch 2/5\n",
            "625/625 [==============================] - 2s 3ms/step - loss: 0.3194 - accuracy: 0.8678 - val_loss: 0.3380 - val_accuracy: 0.8542\n",
            "Epoch 3/5\n",
            "625/625 [==============================] - 2s 3ms/step - loss: 0.3102 - accuracy: 0.8708 - val_loss: 0.3441 - val_accuracy: 0.8512\n",
            "Epoch 4/5\n",
            "625/625 [==============================] - 2s 2ms/step - loss: 0.3005 - accuracy: 0.8734 - val_loss: 0.3411 - val_accuracy: 0.8502\n",
            "Epoch 5/5\n",
            "625/625 [==============================] - 2s 2ms/step - loss: 0.2896 - accuracy: 0.8780 - val_loss: 0.3410 - val_accuracy: 0.8510\n",
            "157/157 [==============================] - 0s 1ms/step - loss: 0.3409 - accuracy: 0.8516\n",
            "Epoch 1/5\n",
            "625/625 [==============================] - 2s 3ms/step - loss: 0.4232 - accuracy: 0.8094 - val_loss: 0.3422 - val_accuracy: 0.8558\n",
            "Epoch 2/5\n",
            "625/625 [==============================] - 2s 3ms/step - loss: 0.3167 - accuracy: 0.8669 - val_loss: 0.3340 - val_accuracy: 0.8565\n",
            "Epoch 3/5\n",
            "625/625 [==============================] - 1s 2ms/step - loss: 0.3030 - accuracy: 0.8712 - val_loss: 0.3385 - val_accuracy: 0.8517\n",
            "Epoch 4/5\n",
            "625/625 [==============================] - 2s 2ms/step - loss: 0.2939 - accuracy: 0.8762 - val_loss: 0.3378 - val_accuracy: 0.8526\n",
            "Epoch 5/5\n",
            "625/625 [==============================] - 1s 2ms/step - loss: 0.2836 - accuracy: 0.8799 - val_loss: 0.3402 - val_accuracy: 0.8511\n",
            "157/157 [==============================] - 0s 2ms/step - loss: 0.3382 - accuracy: 0.8530\n",
            "Epoch 1/5\n",
            "625/625 [==============================] - 2s 3ms/step - loss: 0.4079 - accuracy: 0.8122 - val_loss: 0.3492 - val_accuracy: 0.8500\n",
            "Epoch 2/5\n",
            "625/625 [==============================] - 2s 3ms/step - loss: 0.3240 - accuracy: 0.8635 - val_loss: 0.3445 - val_accuracy: 0.8514\n",
            "Epoch 3/5\n",
            "625/625 [==============================] - 2s 3ms/step - loss: 0.3148 - accuracy: 0.8676 - val_loss: 0.3534 - val_accuracy: 0.8463\n",
            "Epoch 4/5\n",
            "625/625 [==============================] - 1s 2ms/step - loss: 0.3072 - accuracy: 0.8732 - val_loss: 0.3451 - val_accuracy: 0.8502\n",
            "Epoch 5/5\n",
            "625/625 [==============================] - 2s 2ms/step - loss: 0.2945 - accuracy: 0.8756 - val_loss: 0.3438 - val_accuracy: 0.8482\n",
            "157/157 [==============================] - 0s 1ms/step - loss: 0.3304 - accuracy: 0.8598\n",
            "Epoch 1/5\n",
            "625/625 [==============================] - 2s 3ms/step - loss: 0.4013 - accuracy: 0.8205 - val_loss: 0.3428 - val_accuracy: 0.8531\n",
            "Epoch 2/5\n",
            "625/625 [==============================] - 2s 3ms/step - loss: 0.3215 - accuracy: 0.8663 - val_loss: 0.3436 - val_accuracy: 0.8525\n",
            "Epoch 3/5\n",
            "625/625 [==============================] - 2s 3ms/step - loss: 0.3046 - accuracy: 0.8705 - val_loss: 0.3473 - val_accuracy: 0.8490\n",
            "Epoch 4/5\n",
            "625/625 [==============================] - 2s 3ms/step - loss: 0.2831 - accuracy: 0.8810 - val_loss: 0.3465 - val_accuracy: 0.8480\n",
            "Epoch 5/5\n",
            "625/625 [==============================] - 2s 3ms/step - loss: 0.2627 - accuracy: 0.8907 - val_loss: 0.3777 - val_accuracy: 0.8406\n",
            "157/157 [==============================] - 0s 1ms/step - loss: 0.3705 - accuracy: 0.8510\n",
            "Epoch 1/5\n",
            "625/625 [==============================] - 2s 3ms/step - loss: 0.4070 - accuracy: 0.8152 - val_loss: 0.3401 - val_accuracy: 0.8538\n",
            "Epoch 2/5\n",
            "625/625 [==============================] - 2s 3ms/step - loss: 0.3220 - accuracy: 0.8664 - val_loss: 0.3377 - val_accuracy: 0.8525\n",
            "Epoch 3/5\n",
            "625/625 [==============================] - 2s 2ms/step - loss: 0.3068 - accuracy: 0.8705 - val_loss: 0.3461 - val_accuracy: 0.8450\n",
            "Epoch 4/5\n",
            "625/625 [==============================] - 1s 2ms/step - loss: 0.2911 - accuracy: 0.8773 - val_loss: 0.3389 - val_accuracy: 0.8508\n",
            "Epoch 5/5\n",
            "625/625 [==============================] - 2s 3ms/step - loss: 0.2703 - accuracy: 0.8860 - val_loss: 0.3531 - val_accuracy: 0.8447\n",
            "157/157 [==============================] - 0s 1ms/step - loss: 0.3371 - accuracy: 0.8558\n",
            "Epoch 1/5\n",
            "625/625 [==============================] - 2s 3ms/step - loss: 0.3979 - accuracy: 0.8170 - val_loss: 0.3423 - val_accuracy: 0.8527\n",
            "Epoch 2/5\n",
            "625/625 [==============================] - 2s 2ms/step - loss: 0.3188 - accuracy: 0.8673 - val_loss: 0.3393 - val_accuracy: 0.8525\n",
            "Epoch 3/5\n",
            "625/625 [==============================] - 2s 3ms/step - loss: 0.3028 - accuracy: 0.8723 - val_loss: 0.3500 - val_accuracy: 0.8483\n",
            "Epoch 4/5\n",
            "625/625 [==============================] - 2s 3ms/step - loss: 0.2858 - accuracy: 0.8797 - val_loss: 0.3416 - val_accuracy: 0.8518\n",
            "Epoch 5/5\n",
            "625/625 [==============================] - 1s 2ms/step - loss: 0.2645 - accuracy: 0.8871 - val_loss: 0.3502 - val_accuracy: 0.8494\n",
            "157/157 [==============================] - 0s 1ms/step - loss: 0.3516 - accuracy: 0.8512\n",
            "Epoch 1/5\n",
            "625/625 [==============================] - 2s 3ms/step - loss: 0.4009 - accuracy: 0.8182 - val_loss: 0.3450 - val_accuracy: 0.8510\n",
            "Epoch 2/5\n",
            "625/625 [==============================] - 2s 2ms/step - loss: 0.3164 - accuracy: 0.8668 - val_loss: 0.3322 - val_accuracy: 0.8544\n",
            "Epoch 3/5\n",
            "625/625 [==============================] - 2s 3ms/step - loss: 0.2997 - accuracy: 0.8719 - val_loss: 0.3378 - val_accuracy: 0.8509\n",
            "Epoch 4/5\n",
            "625/625 [==============================] - 2s 2ms/step - loss: 0.2844 - accuracy: 0.8765 - val_loss: 0.3381 - val_accuracy: 0.8513\n",
            "Epoch 5/5\n",
            "625/625 [==============================] - 2s 2ms/step - loss: 0.2654 - accuracy: 0.8844 - val_loss: 0.3450 - val_accuracy: 0.8481\n",
            "157/157 [==============================] - 0s 1ms/step - loss: 0.3419 - accuracy: 0.8534\n",
            "Epoch 1/5\n",
            "625/625 [==============================] - 2s 3ms/step - loss: 0.4021 - accuracy: 0.8156 - val_loss: 0.3554 - val_accuracy: 0.8452\n",
            "Epoch 2/5\n",
            "625/625 [==============================] - 2s 2ms/step - loss: 0.3191 - accuracy: 0.8642 - val_loss: 0.3397 - val_accuracy: 0.8504\n",
            "Epoch 3/5\n",
            "625/625 [==============================] - 2s 3ms/step - loss: 0.3023 - accuracy: 0.8705 - val_loss: 0.3473 - val_accuracy: 0.8506\n",
            "Epoch 4/5\n",
            "625/625 [==============================] - 2s 3ms/step - loss: 0.2841 - accuracy: 0.8797 - val_loss: 0.3411 - val_accuracy: 0.8519\n",
            "Epoch 5/5\n",
            "625/625 [==============================] - 2s 3ms/step - loss: 0.2580 - accuracy: 0.8910 - val_loss: 0.3507 - val_accuracy: 0.8449\n",
            "157/157 [==============================] - 0s 1ms/step - loss: 0.3421 - accuracy: 0.8570\n",
            "Epoch 1/5\n",
            "625/625 [==============================] - 2s 3ms/step - loss: 0.4006 - accuracy: 0.8191 - val_loss: 0.3389 - val_accuracy: 0.8539\n",
            "Epoch 2/5\n",
            "625/625 [==============================] - 2s 3ms/step - loss: 0.3120 - accuracy: 0.8685 - val_loss: 0.3359 - val_accuracy: 0.8512\n",
            "Epoch 3/5\n",
            "625/625 [==============================] - 2s 3ms/step - loss: 0.2867 - accuracy: 0.8795 - val_loss: 0.3457 - val_accuracy: 0.8482\n",
            "Epoch 4/5\n",
            "625/625 [==============================] - 2s 2ms/step - loss: 0.2562 - accuracy: 0.8955 - val_loss: 0.3508 - val_accuracy: 0.8477\n",
            "Epoch 5/5\n",
            "625/625 [==============================] - 2s 3ms/step - loss: 0.2207 - accuracy: 0.9111 - val_loss: 0.3909 - val_accuracy: 0.8413\n",
            "157/157 [==============================] - 0s 1ms/step - loss: 0.3804 - accuracy: 0.8526\n",
            "Epoch 1/5\n",
            "625/625 [==============================] - 2s 3ms/step - loss: 0.3975 - accuracy: 0.8216 - val_loss: 0.3405 - val_accuracy: 0.8533\n",
            "Epoch 2/5\n",
            "625/625 [==============================] - 2s 3ms/step - loss: 0.3180 - accuracy: 0.8676 - val_loss: 0.3359 - val_accuracy: 0.8530\n",
            "Epoch 3/5\n",
            "625/625 [==============================] - 2s 3ms/step - loss: 0.2950 - accuracy: 0.8760 - val_loss: 0.3464 - val_accuracy: 0.8469\n",
            "Epoch 4/5\n",
            "625/625 [==============================] - 2s 3ms/step - loss: 0.2650 - accuracy: 0.8893 - val_loss: 0.3459 - val_accuracy: 0.8479\n",
            "Epoch 5/5\n",
            "625/625 [==============================] - 2s 3ms/step - loss: 0.2225 - accuracy: 0.9108 - val_loss: 0.3723 - val_accuracy: 0.8446\n",
            "157/157 [==============================] - 0s 1ms/step - loss: 0.3668 - accuracy: 0.8510\n",
            "Epoch 1/5\n",
            "625/625 [==============================] - 2s 3ms/step - loss: 0.3923 - accuracy: 0.8227 - val_loss: 0.3406 - val_accuracy: 0.8509\n",
            "Epoch 2/5\n",
            "625/625 [==============================] - 2s 3ms/step - loss: 0.3145 - accuracy: 0.8676 - val_loss: 0.3350 - val_accuracy: 0.8542\n",
            "Epoch 3/5\n",
            "625/625 [==============================] - 2s 3ms/step - loss: 0.2917 - accuracy: 0.8767 - val_loss: 0.3463 - val_accuracy: 0.8454\n",
            "Epoch 4/5\n",
            "625/625 [==============================] - 2s 3ms/step - loss: 0.2642 - accuracy: 0.8892 - val_loss: 0.3464 - val_accuracy: 0.8477\n",
            "Epoch 5/5\n",
            "625/625 [==============================] - 2s 3ms/step - loss: 0.2296 - accuracy: 0.9064 - val_loss: 0.3637 - val_accuracy: 0.8420\n",
            "157/157 [==============================] - 0s 1ms/step - loss: 0.3744 - accuracy: 0.8406\n",
            "Epoch 1/5\n",
            "625/625 [==============================] - 3s 3ms/step - loss: 0.3965 - accuracy: 0.8228 - val_loss: 0.3476 - val_accuracy: 0.8493\n",
            "Epoch 2/5\n",
            "625/625 [==============================] - 2s 3ms/step - loss: 0.3144 - accuracy: 0.8677 - val_loss: 0.3344 - val_accuracy: 0.8539\n",
            "Epoch 3/5\n",
            "625/625 [==============================] - 2s 3ms/step - loss: 0.2911 - accuracy: 0.8776 - val_loss: 0.3417 - val_accuracy: 0.8508\n",
            "Epoch 4/5\n",
            "625/625 [==============================] - 2s 3ms/step - loss: 0.2654 - accuracy: 0.8880 - val_loss: 0.3476 - val_accuracy: 0.8501\n",
            "Epoch 5/5\n",
            "625/625 [==============================] - 2s 3ms/step - loss: 0.2278 - accuracy: 0.9072 - val_loss: 0.3744 - val_accuracy: 0.8434\n",
            "157/157 [==============================] - 0s 1ms/step - loss: 0.3687 - accuracy: 0.8472\n",
            "Epoch 1/5\n",
            "625/625 [==============================] - 2s 3ms/step - loss: 0.3970 - accuracy: 0.8183 - val_loss: 0.3551 - val_accuracy: 0.8444\n",
            "Epoch 2/5\n",
            "625/625 [==============================] - 2s 3ms/step - loss: 0.3157 - accuracy: 0.8647 - val_loss: 0.3346 - val_accuracy: 0.8539\n",
            "Epoch 3/5\n",
            "625/625 [==============================] - 2s 3ms/step - loss: 0.2926 - accuracy: 0.8742 - val_loss: 0.3490 - val_accuracy: 0.8470\n",
            "Epoch 4/5\n",
            "625/625 [==============================] - 2s 3ms/step - loss: 0.2664 - accuracy: 0.8863 - val_loss: 0.3448 - val_accuracy: 0.8478\n",
            "Epoch 5/5\n",
            "625/625 [==============================] - 2s 3ms/step - loss: 0.2312 - accuracy: 0.9040 - val_loss: 0.3687 - val_accuracy: 0.8440\n",
            "157/157 [==============================] - 0s 1ms/step - loss: 0.3548 - accuracy: 0.8522\n",
            "Epoch 1/5\n",
            "625/625 [==============================] - 2s 3ms/step - loss: 0.4086 - accuracy: 0.8184 - val_loss: 0.3481 - val_accuracy: 0.8498\n",
            "Epoch 2/5\n",
            "625/625 [==============================] - 1s 2ms/step - loss: 0.3349 - accuracy: 0.8606 - val_loss: 0.3472 - val_accuracy: 0.8497\n",
            "Epoch 3/5\n",
            "625/625 [==============================] - 1s 2ms/step - loss: 0.3234 - accuracy: 0.8659 - val_loss: 0.3560 - val_accuracy: 0.8452\n",
            "Epoch 4/5\n",
            "625/625 [==============================] - 2s 3ms/step - loss: 0.3188 - accuracy: 0.8669 - val_loss: 0.3535 - val_accuracy: 0.8476\n",
            "Epoch 5/5\n",
            "625/625 [==============================] - 2s 3ms/step - loss: 0.3179 - accuracy: 0.8655 - val_loss: 0.3719 - val_accuracy: 0.8356\n",
            "157/157 [==============================] - 0s 1ms/step - loss: 0.3648 - accuracy: 0.8396\n",
            "Epoch 1/5\n",
            "625/625 [==============================] - 2s 3ms/step - loss: 0.3829 - accuracy: 0.8314 - val_loss: 0.3363 - val_accuracy: 0.8544\n",
            "Epoch 2/5\n",
            "625/625 [==============================] - 2s 2ms/step - loss: 0.3199 - accuracy: 0.8648 - val_loss: 0.3342 - val_accuracy: 0.8542\n",
            "Epoch 3/5\n",
            "625/625 [==============================] - 2s 3ms/step - loss: 0.3068 - accuracy: 0.8665 - val_loss: 0.3402 - val_accuracy: 0.8489\n",
            "Epoch 4/5\n",
            "625/625 [==============================] - 2s 3ms/step - loss: 0.2969 - accuracy: 0.8712 - val_loss: 0.3452 - val_accuracy: 0.8496\n",
            "Epoch 5/5\n",
            "625/625 [==============================] - 2s 3ms/step - loss: 0.2918 - accuracy: 0.8734 - val_loss: 0.3478 - val_accuracy: 0.8479\n",
            "157/157 [==============================] - 0s 1ms/step - loss: 0.3396 - accuracy: 0.8524\n",
            "Epoch 1/5\n",
            "625/625 [==============================] - 2s 3ms/step - loss: 0.3802 - accuracy: 0.8295 - val_loss: 0.3359 - val_accuracy: 0.8558\n",
            "Epoch 2/5\n",
            "625/625 [==============================] - 2s 3ms/step - loss: 0.3166 - accuracy: 0.8647 - val_loss: 0.3353 - val_accuracy: 0.8538\n",
            "Epoch 3/5\n",
            "625/625 [==============================] - 1s 2ms/step - loss: 0.2972 - accuracy: 0.8729 - val_loss: 0.3534 - val_accuracy: 0.8459\n",
            "Epoch 4/5\n",
            "625/625 [==============================] - 2s 2ms/step - loss: 0.2823 - accuracy: 0.8799 - val_loss: 0.3491 - val_accuracy: 0.8455\n",
            "Epoch 5/5\n",
            "625/625 [==============================] - 2s 3ms/step - loss: 0.2689 - accuracy: 0.8850 - val_loss: 0.3512 - val_accuracy: 0.8453\n",
            "157/157 [==============================] - 0s 1ms/step - loss: 0.3528 - accuracy: 0.8506\n",
            "Epoch 1/5\n",
            "625/625 [==============================] - 2s 3ms/step - loss: 0.3786 - accuracy: 0.8314 - val_loss: 0.3599 - val_accuracy: 0.8426\n",
            "Epoch 2/5\n",
            "625/625 [==============================] - 2s 3ms/step - loss: 0.3163 - accuracy: 0.8651 - val_loss: 0.3414 - val_accuracy: 0.8500\n",
            "Epoch 3/5\n",
            "625/625 [==============================] - 2s 3ms/step - loss: 0.2957 - accuracy: 0.8715 - val_loss: 0.3457 - val_accuracy: 0.8476\n",
            "Epoch 4/5\n",
            "625/625 [==============================] - 2s 3ms/step - loss: 0.2793 - accuracy: 0.8797 - val_loss: 0.3607 - val_accuracy: 0.8411\n",
            "Epoch 5/5\n",
            "625/625 [==============================] - 2s 2ms/step - loss: 0.2646 - accuracy: 0.8867 - val_loss: 0.3732 - val_accuracy: 0.8406\n",
            "157/157 [==============================] - 0s 1ms/step - loss: 0.3602 - accuracy: 0.8488\n",
            "Epoch 1/5\n",
            "625/625 [==============================] - 2s 3ms/step - loss: 0.3847 - accuracy: 0.8334 - val_loss: 0.3782 - val_accuracy: 0.8331\n",
            "Epoch 2/5\n",
            "625/625 [==============================] - 2s 3ms/step - loss: 0.3269 - accuracy: 0.8619 - val_loss: 0.3487 - val_accuracy: 0.8445\n",
            "Epoch 3/5\n",
            "625/625 [==============================] - 2s 2ms/step - loss: 0.3066 - accuracy: 0.8688 - val_loss: 0.3549 - val_accuracy: 0.8478\n",
            "Epoch 4/5\n",
            "625/625 [==============================] - 1s 2ms/step - loss: 0.2921 - accuracy: 0.8738 - val_loss: 0.3530 - val_accuracy: 0.8486\n",
            "Epoch 5/5\n",
            "625/625 [==============================] - 2s 3ms/step - loss: 0.2786 - accuracy: 0.8801 - val_loss: 0.3561 - val_accuracy: 0.8454\n",
            "157/157 [==============================] - 0s 1ms/step - loss: 0.3432 - accuracy: 0.8566\n",
            "Epoch 1/5\n",
            "625/625 [==============================] - 2s 3ms/step - loss: 0.3796 - accuracy: 0.8288 - val_loss: 0.3383 - val_accuracy: 0.8536\n",
            "Epoch 2/5\n",
            "625/625 [==============================] - 2s 3ms/step - loss: 0.3145 - accuracy: 0.8643 - val_loss: 0.3416 - val_accuracy: 0.8508\n",
            "Epoch 3/5\n",
            "625/625 [==============================] - 2s 3ms/step - loss: 0.2981 - accuracy: 0.8711 - val_loss: 0.3495 - val_accuracy: 0.8448\n",
            "Epoch 4/5\n",
            "625/625 [==============================] - 2s 3ms/step - loss: 0.2807 - accuracy: 0.8762 - val_loss: 0.3563 - val_accuracy: 0.8460\n",
            "Epoch 5/5\n",
            "625/625 [==============================] - 2s 3ms/step - loss: 0.2682 - accuracy: 0.8840 - val_loss: 0.3734 - val_accuracy: 0.8441\n",
            "157/157 [==============================] - 0s 1ms/step - loss: 0.3674 - accuracy: 0.8544\n",
            "Epoch 1/5\n",
            "625/625 [==============================] - 2s 3ms/step - loss: 0.3810 - accuracy: 0.8304 - val_loss: 0.3363 - val_accuracy: 0.8524\n",
            "Epoch 2/5\n",
            "625/625 [==============================] - 2s 3ms/step - loss: 0.3161 - accuracy: 0.8652 - val_loss: 0.3351 - val_accuracy: 0.8537\n",
            "Epoch 3/5\n",
            "625/625 [==============================] - 2s 3ms/step - loss: 0.2963 - accuracy: 0.8741 - val_loss: 0.3526 - val_accuracy: 0.8464\n",
            "Epoch 4/5\n",
            "625/625 [==============================] - 2s 3ms/step - loss: 0.2764 - accuracy: 0.8816 - val_loss: 0.3568 - val_accuracy: 0.8454\n",
            "Epoch 5/5\n",
            "625/625 [==============================] - 2s 3ms/step - loss: 0.2580 - accuracy: 0.8898 - val_loss: 0.3634 - val_accuracy: 0.8414\n",
            "157/157 [==============================] - 0s 1ms/step - loss: 0.3483 - accuracy: 0.8520\n",
            "Epoch 1/5\n",
            "625/625 [==============================] - 2s 3ms/step - loss: 0.3718 - accuracy: 0.8367 - val_loss: 0.3374 - val_accuracy: 0.8502\n",
            "Epoch 2/5\n",
            "625/625 [==============================] - 2s 3ms/step - loss: 0.3133 - accuracy: 0.8648 - val_loss: 0.3386 - val_accuracy: 0.8520\n",
            "Epoch 3/5\n",
            "625/625 [==============================] - 2s 2ms/step - loss: 0.2929 - accuracy: 0.8741 - val_loss: 0.3504 - val_accuracy: 0.8472\n",
            "Epoch 4/5\n",
            "625/625 [==============================] - 2s 3ms/step - loss: 0.2733 - accuracy: 0.8827 - val_loss: 0.3664 - val_accuracy: 0.8455\n",
            "Epoch 5/5\n",
            "625/625 [==============================] - 2s 3ms/step - loss: 0.2551 - accuracy: 0.8926 - val_loss: 0.3665 - val_accuracy: 0.8373\n",
            "157/157 [==============================] - 0s 2ms/step - loss: 0.3679 - accuracy: 0.8438\n",
            "Epoch 1/5\n",
            "625/625 [==============================] - 3s 3ms/step - loss: 0.3746 - accuracy: 0.8331 - val_loss: 0.3588 - val_accuracy: 0.8342\n",
            "Epoch 2/5\n",
            "625/625 [==============================] - 2s 3ms/step - loss: 0.3157 - accuracy: 0.8646 - val_loss: 0.3403 - val_accuracy: 0.8502\n",
            "Epoch 3/5\n",
            "625/625 [==============================] - 2s 3ms/step - loss: 0.2905 - accuracy: 0.8759 - val_loss: 0.3494 - val_accuracy: 0.8494\n",
            "Epoch 4/5\n",
            "625/625 [==============================] - 2s 3ms/step - loss: 0.2708 - accuracy: 0.8864 - val_loss: 0.3742 - val_accuracy: 0.8448\n",
            "Epoch 5/5\n",
            "625/625 [==============================] - 2s 3ms/step - loss: 0.2439 - accuracy: 0.8981 - val_loss: 0.3849 - val_accuracy: 0.8383\n",
            "157/157 [==============================] - 0s 1ms/step - loss: 0.3690 - accuracy: 0.8460\n",
            "Epoch 1/5\n",
            "625/625 [==============================] - 3s 4ms/step - loss: 0.3760 - accuracy: 0.8345 - val_loss: 0.3588 - val_accuracy: 0.8386\n",
            "Epoch 2/5\n",
            "625/625 [==============================] - 2s 3ms/step - loss: 0.3173 - accuracy: 0.8629 - val_loss: 0.3525 - val_accuracy: 0.8439\n",
            "Epoch 3/5\n",
            "625/625 [==============================] - 2s 3ms/step - loss: 0.2985 - accuracy: 0.8711 - val_loss: 0.3511 - val_accuracy: 0.8514\n",
            "Epoch 4/5\n",
            "625/625 [==============================] - 2s 3ms/step - loss: 0.2809 - accuracy: 0.8827 - val_loss: 0.3550 - val_accuracy: 0.8510\n",
            "Epoch 5/5\n",
            "625/625 [==============================] - 2s 3ms/step - loss: 0.2652 - accuracy: 0.8887 - val_loss: 0.3717 - val_accuracy: 0.8382\n",
            "157/157 [==============================] - 0s 1ms/step - loss: 0.3614 - accuracy: 0.8436\n",
            "Epoch 1/5\n",
            "625/625 [==============================] - 2s 3ms/step - loss: 0.3769 - accuracy: 0.8283 - val_loss: 0.3373 - val_accuracy: 0.8508\n",
            "Epoch 2/5\n",
            "625/625 [==============================] - 2s 3ms/step - loss: 0.3146 - accuracy: 0.8637 - val_loss: 0.3460 - val_accuracy: 0.8494\n",
            "Epoch 3/5\n",
            "625/625 [==============================] - 2s 3ms/step - loss: 0.2917 - accuracy: 0.8726 - val_loss: 0.3433 - val_accuracy: 0.8489\n",
            "Epoch 4/5\n",
            "625/625 [==============================] - 2s 3ms/step - loss: 0.2680 - accuracy: 0.8834 - val_loss: 0.3615 - val_accuracy: 0.8412\n",
            "Epoch 5/5\n",
            "625/625 [==============================] - 2s 3ms/step - loss: 0.2469 - accuracy: 0.8929 - val_loss: 0.4081 - val_accuracy: 0.8393\n",
            "157/157 [==============================] - 0s 1ms/step - loss: 0.4006 - accuracy: 0.8476\n",
            "Epoch 1/5\n",
            "625/625 [==============================] - 2s 3ms/step - loss: 0.3799 - accuracy: 0.8337 - val_loss: 0.3383 - val_accuracy: 0.8539\n",
            "Epoch 2/5\n",
            "625/625 [==============================] - 2s 3ms/step - loss: 0.3152 - accuracy: 0.8673 - val_loss: 0.3435 - val_accuracy: 0.8522\n",
            "Epoch 3/5\n",
            "625/625 [==============================] - 2s 3ms/step - loss: 0.2921 - accuracy: 0.8758 - val_loss: 0.3447 - val_accuracy: 0.8504\n",
            "Epoch 4/5\n",
            "625/625 [==============================] - 2s 3ms/step - loss: 0.2698 - accuracy: 0.8870 - val_loss: 0.3631 - val_accuracy: 0.8439\n",
            "Epoch 5/5\n",
            "625/625 [==============================] - 2s 3ms/step - loss: 0.2483 - accuracy: 0.8961 - val_loss: 0.3739 - val_accuracy: 0.8440\n",
            "157/157 [==============================] - 0s 1ms/step - loss: 0.3663 - accuracy: 0.8526\n",
            "Epoch 1/5\n",
            "625/625 [==============================] - 3s 3ms/step - loss: 0.3750 - accuracy: 0.8345 - val_loss: 0.3454 - val_accuracy: 0.8494\n",
            "Epoch 2/5\n",
            "625/625 [==============================] - 2s 3ms/step - loss: 0.3135 - accuracy: 0.8658 - val_loss: 0.3397 - val_accuracy: 0.8534\n",
            "Epoch 3/5\n",
            "625/625 [==============================] - 2s 3ms/step - loss: 0.2909 - accuracy: 0.8762 - val_loss: 0.3482 - val_accuracy: 0.8429\n",
            "Epoch 4/5\n",
            "625/625 [==============================] - 2s 3ms/step - loss: 0.2656 - accuracy: 0.8885 - val_loss: 0.3830 - val_accuracy: 0.8349\n",
            "Epoch 5/5\n",
            "625/625 [==============================] - 2s 3ms/step - loss: 0.2374 - accuracy: 0.9018 - val_loss: 0.3763 - val_accuracy: 0.8378\n",
            "157/157 [==============================] - 0s 1ms/step - loss: 0.3667 - accuracy: 0.8480\n",
            "Epoch 1/5\n",
            "625/625 [==============================] - 3s 3ms/step - loss: 0.3749 - accuracy: 0.8328 - val_loss: 0.3473 - val_accuracy: 0.8458\n",
            "Epoch 2/5\n",
            "625/625 [==============================] - 2s 3ms/step - loss: 0.3127 - accuracy: 0.8658 - val_loss: 0.3356 - val_accuracy: 0.8538\n",
            "Epoch 3/5\n",
            "625/625 [==============================] - 2s 3ms/step - loss: 0.2903 - accuracy: 0.8751 - val_loss: 0.3429 - val_accuracy: 0.8484\n",
            "Epoch 4/5\n",
            "625/625 [==============================] - 2s 3ms/step - loss: 0.2712 - accuracy: 0.8831 - val_loss: 0.3544 - val_accuracy: 0.8493\n",
            "Epoch 5/5\n",
            "625/625 [==============================] - 2s 3ms/step - loss: 0.2469 - accuracy: 0.8919 - val_loss: 0.3761 - val_accuracy: 0.8419\n",
            "157/157 [==============================] - 0s 1ms/step - loss: 0.3728 - accuracy: 0.8504\n",
            "Epoch 1/5\n",
            "625/625 [==============================] - 2s 3ms/step - loss: 0.3746 - accuracy: 0.8344 - val_loss: 0.3504 - val_accuracy: 0.8461\n",
            "Epoch 2/5\n",
            "625/625 [==============================] - 2s 3ms/step - loss: 0.3172 - accuracy: 0.8629 - val_loss: 0.3446 - val_accuracy: 0.8449\n",
            "Epoch 3/5\n",
            "625/625 [==============================] - 2s 3ms/step - loss: 0.2939 - accuracy: 0.8720 - val_loss: 0.3650 - val_accuracy: 0.8396\n",
            "Epoch 4/5\n",
            "625/625 [==============================] - 2s 3ms/step - loss: 0.2694 - accuracy: 0.8860 - val_loss: 0.3565 - val_accuracy: 0.8470\n",
            "Epoch 5/5\n",
            "625/625 [==============================] - 2s 3ms/step - loss: 0.2412 - accuracy: 0.8967 - val_loss: 0.3743 - val_accuracy: 0.8449\n",
            "157/157 [==============================] - 0s 1ms/step - loss: 0.3782 - accuracy: 0.8478\n",
            "Epoch 1/5\n",
            "782/782 [==============================] - 3s 3ms/step - loss: 0.4057 - accuracy: 0.8212 - val_loss: 0.3558 - val_accuracy: 0.8463\n",
            "Epoch 2/5\n",
            "782/782 [==============================] - 2s 2ms/step - loss: 0.3223 - accuracy: 0.8656 - val_loss: 0.3370 - val_accuracy: 0.8540\n",
            "Epoch 3/5\n",
            "782/782 [==============================] - 2s 3ms/step - loss: 0.3124 - accuracy: 0.8696 - val_loss: 0.3479 - val_accuracy: 0.8480\n",
            "Epoch 4/5\n",
            "782/782 [==============================] - 2s 3ms/step - loss: 0.3028 - accuracy: 0.8726 - val_loss: 0.3490 - val_accuracy: 0.8469\n",
            "Epoch 5/5\n",
            "782/782 [==============================] - 2s 3ms/step - loss: 0.2919 - accuracy: 0.8770 - val_loss: 0.3412 - val_accuracy: 0.8513\n"
          ],
          "name": "stdout"
        },
        {
          "output_type": "execute_result",
          "data": {
            "text/plain": [
              "GridSearchCV(cv=None, error_score=nan,\n",
              "             estimator=<tensorflow.python.keras.wrappers.scikit_learn.KerasRegressor object at 0x7f1d7e7b4b50>,\n",
              "             iid='deprecated', n_jobs=None,\n",
              "             param_grid={'learning_rate': [1e-05, 0.001, 0.01],\n",
              "                         'n_units': [8, 16, 24]},\n",
              "             pre_dispatch='2*n_jobs', refit=True, return_train_score=False,\n",
              "             scoring=None, verbose=0)"
            ]
          },
          "metadata": {
            "tags": []
          },
          "execution_count": 124
        }
      ]
    },
    {
      "cell_type": "markdown",
      "metadata": {
        "id": "aadmkiOoyM94"
      },
      "source": [
        "Print the best hyper-parameters, and evealuate the best model on the test set."
      ]
    },
    {
      "cell_type": "code",
      "metadata": {
        "id": "b0nL5OZkylNX",
        "colab": {
          "base_uri": "https://localhost:8080/"
        },
        "outputId": "55838d17-c761-454d-92c9-4cac5bd11b62"
      },
      "source": [
        "print(grid_search.best_params_)\n",
        "\n",
        "model = grid_search.best_estimator_.model\n",
        "model.evaluate(X_test, y_test)"
      ],
      "execution_count": 125,
      "outputs": [
        {
          "output_type": "stream",
          "text": [
            "{'learning_rate': 0.001, 'n_units': 8}\n",
            "391/391 [==============================] - 0s 1ms/step - loss: 0.3231 - accuracy: 0.8623\n"
          ],
          "name": "stdout"
        },
        {
          "output_type": "execute_result",
          "data": {
            "text/plain": [
              "[0.32306793332099915, 0.8623200058937073]"
            ]
          },
          "metadata": {
            "tags": []
          },
          "execution_count": 125
        }
      ]
    },
    {
      "cell_type": "code",
      "metadata": {
        "id": "WrMJ8Z3JggH-"
      },
      "source": [
        ""
      ],
      "execution_count": 125,
      "outputs": []
    }
  ]
}