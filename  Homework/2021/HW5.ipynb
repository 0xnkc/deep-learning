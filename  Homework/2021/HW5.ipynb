{
  "nbformat": 4,
  "nbformat_minor": 0,
  "metadata": {
    "colab": {
      "name": "HW5-2.ipynb",
      "provenance": [],
      "collapsed_sections": []
    },
    "kernelspec": {
      "name": "python3",
      "display_name": "Python 3"
    }
  },
  "cells": [
    {
      "cell_type": "markdown",
      "metadata": {
        "id": "Vzk_94Ey_KZz"
      },
      "source": [
        "#HW5: Autoencoders\n",
        "\n",
        "In this homework, we will explore how to develop a simple Autoencoder. As a dataset, we will use the MNIST dataset. It contains handwritten digits images.\n",
        "In the first part, we will learn how to develop a simple shallow autoencoder, then we will develop a deep version. Next, we will experiment with the application of autoencoder on denoising data task (denoising-autoencoder). Finally, we will apply this model to sequential domains, considering the IMDB dataset, already used in HW4."
      ]
    },
    {
      "cell_type": "code",
      "metadata": {
        "id": "-SUqAWqAXRr1"
      },
      "source": [
        "import tensorflow as tf\n",
        "from tensorflow import keras\n",
        "import numpy as np\n",
        "import pandas as pd\n",
        "import matplotlib.pyplot as plt\n",
        "import os"
      ],
      "execution_count": 34,
      "outputs": []
    },
    {
      "cell_type": "markdown",
      "metadata": {
        "id": "TJA-D-6h3D6b"
      },
      "source": [
        "###Load Dataset\n",
        "We load the MNIST dataset, using tf.keras.datasets. The dataset contains 60,000 training images and 10,000 testing images.\n",
        "The value of each pixel is between 0 and 255, and it represents a point of an image of size 28 x 28. We will normalize all values between 0 and 1, and we will flatten the 28x28 images into vectors of size 784.\n",
        "Finally, since no validation set is defined, we split the test set in a validation set and a new test set."
      ]
    },
    {
      "cell_type": "code",
      "metadata": {
        "id": "Mmt1Au8CX-ra"
      },
      "source": [
        "(x_train, _), (x_test, _) = tf.keras.datasets.mnist.load_data()\n",
        "\n",
        "x_train = x_train.astype('float32') / 255\n",
        "x_test = x_test.astype('float32') / 255\n",
        "\n",
        "\n",
        "x_train = x_train.reshape((len(x_train), np.prod(x_train.shape[1:])))\n",
        "x_test = x_test.reshape((len(x_test), np.prod(x_test.shape[1:])))\n",
        "\n",
        "x_valid = x_train[:10000]\n",
        "x_train = x_train[10000:]"
      ],
      "execution_count": 35,
      "outputs": []
    },
    {
      "cell_type": "markdown",
      "metadata": {
        "id": "H6KiNMUN9_ke"
      },
      "source": [
        "##[TO COMPLETE] Exercise 5.1: Singular Value Decomposition\n",
        "\n",
        "Principal component analysis (PCA) and singular value decomposition (SVD) are both classical linear dimensionality reduction methods that attempt to find linear combinations of features in the original high dimensional data matrix to construct a meaningful representation of the dataset.\n",
        "In this first part of the HW, we will focus our attention on SVD decomposition, a numerical stable method. Given a matrix X, the SVD decomposes it into the product of two unitary matrices V and U and a rectangular diagonal matrix of singular values S:\n",
        "\n",
        "$$ X=V \\cdot S \\cdot U^T.$$\n",
        "\n",
        "SVD is already implemented in NumPy as np.linalg.svd. In our case, the X matrix will represent the training set, where each row is a sample (therefore the number of columns will be the number of input features).\n",
        "\n",
        "Note that, the X matrix in our case will have a huge number of rows (we have 50000 input samples) and only 784 columns. Therefore to optime the memory consumption, we can compute the SVD of the covariance matrix. An interesting property of the SVD is that we compute the decomposition of the covariance matrix $C= X^T \\cdot X$, and we will obtain the following decomposition:\n",
        "\n",
        "$$ C= U \\cdot S^2 \\cdot U^T$$\n",
        "\n",
        "Since we need just the matrix U to compute the compressed version of our data, this method will be very convenient. If you are using the collab free plan, the quantity of available ram is not sufficient to compute the SVD of X, therefore computing the SVD of the covariance matrix turns out to be the best solution. "
      ]
    },
    {
      "cell_type": "code",
      "metadata": {
        "id": "ckF8X9KDOQ_9"
      },
      "source": [
        "def svd_k(X, k):\n",
        "  # Compute covariance matrix\n",
        "  C = np.dot(X.T, X)\n",
        "  # SVD decomposition\n",
        "  U, s_sqr, U_T = np.linalg.svd(C, full_matrices=False)\n",
        "  # Limit the number columns of U to k\n",
        "  U_k=U[:,:k]\n",
        "  return U_k\n"
      ],
      "execution_count": 36,
      "outputs": []
    },
    {
      "cell_type": "markdown",
      "metadata": {
        "id": "pC6SJH7vzGYa"
      },
      "source": [
        "Let's define the ENCODING_DIM, that will be the size of the compressed version of input data. And compute the compressed version of the training set and the test set.\n",
        "\n",
        "**[TO COMPLETE]**: What happens varying the ENCODING_DIM? test  and discuss the results in a new cell after the following one."
      ]
    },
    {
      "cell_type": "markdown",
      "metadata": {
        "id": "sULF1HNTD_-H"
      },
      "source": [
        "**Ans:**\n",
        "\n",
        "I have tested with some values for the ENCODING_DIM the lowest i tryed is 1 which corresponds to taking the most important principal component of the decomposition. some times we can't even predict the real number for example 8 or 9.\n",
        "\n",
        "If you decrease the ENCODING_DIM value the MSE value will increse and the recostrected images are less clear and less pixel in the image.\n",
        "\n",
        "This means that, according to PCA, the most meaningful information is that the number itself is white and well centered on the image, while the background is black.\n",
        "Using 50 dimensions, the reconstructed images looks a bit blurried but the number are very distinguishable.\n"
      ]
    },
    {
      "cell_type": "code",
      "metadata": {
        "id": "pIvHTxWpOzCX"
      },
      "source": [
        "ENCODING_DIM = 120\n",
        "\n",
        "U_k=svd_k(x_train, ENCODING_DIM)\n",
        "\n",
        "x_training_pca = np.dot(x_train, U_k)\n",
        "x_test_pca = np.dot(x_test, U_k)\n",
        "\n"
      ],
      "execution_count": 37,
      "outputs": []
    },
    {
      "cell_type": "markdown",
      "metadata": {
        "id": "Vt-gKtEwzvr0"
      },
      "source": [
        "Reconstruct the input and check how much information was lost due to the compression, by computing the mean squared error between the original input and the reconstruction, and by plotting the reconstructed images."
      ]
    },
    {
      "cell_type": "code",
      "metadata": {
        "id": "3GpWcHRkPBJV"
      },
      "source": [
        "x_training_reco= np.dot(x_training_pca, U_k.T)\n",
        "x_test_reco= np.dot(x_test_pca, U_k.T)\n",
        "\n",
        "\n"
      ],
      "execution_count": 38,
      "outputs": []
    },
    {
      "cell_type": "code",
      "metadata": {
        "id": "1CPhgcMZPmtM",
        "colab": {
          "base_uri": "https://localhost:8080/"
        },
        "outputId": "234d7759-25f8-4979-d5ae-801c36e10dc3"
      },
      "source": [
        "accuracy_train = ((x_train - x_training_reco)**2).mean()\n",
        "accuracy_test = ((x_test - x_test_reco)**2).mean()\n",
        "\n",
        "print(\"training mse: %.5f\" % ( accuracy_train))\n",
        "print(\"test mse: %.5f\" % ( accuracy_test))"
      ],
      "execution_count": 39,
      "outputs": [
        {
          "output_type": "stream",
          "text": [
            "training mse: 0.00464\n",
            "test mse: 0.00455\n"
          ],
          "name": "stdout"
        }
      ]
    },
    {
      "cell_type": "code",
      "metadata": {
        "id": "EuBw_l_Cgo1o"
      },
      "source": [
        "def plot_img(n, input_data, decoded_imgs):\n",
        "  plt.figure(figsize=(20, 4))\n",
        "  for i in range(n):\n",
        "    # display original\n",
        "    ax = plt.subplot(2, n, i + 1)\n",
        "    plt.imshow(input_data[i].reshape(28, 28))\n",
        "    plt.gray()\n",
        "    ax.get_xaxis().set_visible(False)\n",
        "    ax.get_yaxis().set_visible(False)\n",
        "\n",
        "    # display reconstruction\n",
        "    ax = plt.subplot(2, n, i + 1 + n)\n",
        "    plt.imshow(decoded_imgs[i].reshape(28, 28))\n",
        "    plt.gray()\n",
        "    ax.get_xaxis().set_visible(False)\n",
        "    ax.get_yaxis().set_visible(False)\n",
        "  plt.show()"
      ],
      "execution_count": 40,
      "outputs": []
    },
    {
      "cell_type": "markdown",
      "metadata": {
        "id": "CfqN6d8-37mu"
      },
      "source": [
        "Let's check how well the input can be reconstructed by printing a few of the input images and the corresponding reconstructions. Obviously, all these evaluations have to be done on the test set.\n",
        "\n",
        "The first row of shown images corresponds to input data, while the second one contains the reconstructions."
      ]
    },
    {
      "cell_type": "code",
      "metadata": {
        "id": "FICZjh2mgz_7",
        "colab": {
          "base_uri": "https://localhost:8080/",
          "height": 163
        },
        "outputId": "2c5314e8-ba50-4c2d-de7b-10abc774a528"
      },
      "source": [
        "plot_img(10, x_test, x_test_reco)"
      ],
      "execution_count": 41,
      "outputs": [
        {
          "output_type": "display_data",
          "data": {
            "image/png": "[encoded data removed]",
            "text/plain": [
              "<Figure size 1440x288 with 20 Axes>"
            ]
          },
          "metadata": {
            "tags": [],
            "needs_background": "light"
          }
        }
      ]
    },
    {
      "cell_type": "markdown",
      "metadata": {
        "id": "O7crlDsMGrBN"
      },
      "source": [
        "## [TO COMPLETE] Exercise 5.2: Shallow Linear Autoencoder\n",
        "Let's define a model that consists of a single fully-connected neural layer. The hidden layer and the output layer act as the encoder and the decoder, respectively. Differently than the previous homework, instead of using Keras.Sequential(), we define the various part of the model (encoder and decoder) separately and then we create the final model. \n",
        "\n",
        "**[TO COMPLETE]** check the results and compare them versus the results obtained with the SVD. Add a cell  at the end of this section (after the result of the linear autoencoder) where you give an explanation of the relation between the results obtained  by the shallow linear autoencoder and the ones obtained by the SVD decomposition.\n"
      ]
    },
    {
      "cell_type": "code",
      "metadata": {
        "id": "GfBJJLioaWJN"
      },
      "source": [
        "ENCODING_DIM = 120\n",
        "\n",
        "input_img = tf.keras.layers.Input(shape=(784,))\n",
        "#Define the encoder...\n",
        "encoded = tf.keras.layers.Dense(ENCODING_DIM, activation='linear')(input_img)\n",
        "\n",
        "#...and the decoder...\n",
        "decoded = tf.keras.layers.Dense(784, activation='linear')(encoded)\n",
        "\n",
        "#and finally the autoencoder\n",
        "autoencoder = tf.keras.models.Model(input_img, decoded)\n",
        "\n",
        "# In order to visualize the learned encoding, define a model that computes the \n",
        "# two parts separately.\n",
        "encoder = tf.keras.models.Model(input_img, encoded)\n",
        "encoded_input = tf.keras.layers.Input(shape=(ENCODING_DIM,))\n",
        "decoder_layer = autoencoder.layers[-1]\n",
        "decoder = tf.keras.models.Model(encoded_input, decoder_layer(encoded_input))\n",
        "\n",
        "#Finally, let's call the compile method\n",
        "autoencoder.compile(optimizer=tf.keras.optimizers.Adam(learning_rate=0.01), loss='mse')\n"
      ],
      "execution_count": 42,
      "outputs": []
    },
    {
      "cell_type": "markdown",
      "metadata": {
        "id": "A_4H-OFzI4tA"
      },
      "source": [
        "Print the model summary."
      ]
    },
    {
      "cell_type": "code",
      "metadata": {
        "id": "4gr3B9qoC3zQ",
        "colab": {
          "base_uri": "https://localhost:8080/"
        },
        "outputId": "6b189419-2778-4072-ce00-d339e9a79f97"
      },
      "source": [
        "autoencoder.summary()"
      ],
      "execution_count": 43,
      "outputs": [
        {
          "output_type": "stream",
          "text": [
            "Model: \"model_12\"\n",
            "_________________________________________________________________\n",
            "Layer (type)                 Output Shape              Param #   \n",
            "=================================================================\n",
            "input_9 (InputLayer)         [(None, 784)]             0         \n",
            "_________________________________________________________________\n",
            "dense_8 (Dense)              (None, 120)               94200     \n",
            "_________________________________________________________________\n",
            "dense_9 (Dense)              (None, 784)               94864     \n",
            "=================================================================\n",
            "Total params: 189,064\n",
            "Trainable params: 189,064\n",
            "Non-trainable params: 0\n",
            "_________________________________________________________________\n"
          ],
          "name": "stdout"
        }
      ]
    },
    {
      "cell_type": "markdown",
      "metadata": {
        "id": "Cz3q7uSsKA2N"
      },
      "source": [
        "Train the model."
      ]
    },
    {
      "cell_type": "code",
      "metadata": {
        "id": "Szm0L3I03-G9",
        "colab": {
          "base_uri": "https://localhost:8080/"
        },
        "outputId": "d2198111-2949-42fe-fae9-f0b339b60d20"
      },
      "source": [
        "history = autoencoder.fit(x_train, x_train, epochs=15, batch_size=512, shuffle=True, validation_data=(x_valid, x_valid))"
      ],
      "execution_count": 44,
      "outputs": [
        {
          "output_type": "stream",
          "text": [
            "Epoch 1/15\n",
            "98/98 [==============================] - 2s 16ms/step - loss: 0.0801 - val_loss: 0.0139\n",
            "Epoch 2/15\n",
            "98/98 [==============================] - 1s 15ms/step - loss: 0.0125 - val_loss: 0.0086\n",
            "Epoch 3/15\n",
            "98/98 [==============================] - 2s 15ms/step - loss: 0.0081 - val_loss: 0.0071\n",
            "Epoch 4/15\n",
            "98/98 [==============================] - 1s 15ms/step - loss: 0.0073 - val_loss: 0.0069\n",
            "Epoch 5/15\n",
            "98/98 [==============================] - 1s 15ms/step - loss: 0.0065 - val_loss: 0.0056\n",
            "Epoch 6/15\n",
            "98/98 [==============================] - 1s 15ms/step - loss: 0.0055 - val_loss: 0.0053\n",
            "Epoch 7/15\n",
            "98/98 [==============================] - 1s 15ms/step - loss: 0.0053 - val_loss: 0.0052\n",
            "Epoch 8/15\n",
            "98/98 [==============================] - 1s 15ms/step - loss: 0.0053 - val_loss: 0.0051\n",
            "Epoch 9/15\n",
            "98/98 [==============================] - 1s 15ms/step - loss: 0.0051 - val_loss: 0.0050\n",
            "Epoch 10/15\n",
            "98/98 [==============================] - 1s 15ms/step - loss: 1.2732 - val_loss: 0.0277\n",
            "Epoch 11/15\n",
            "98/98 [==============================] - 1s 15ms/step - loss: 0.0182 - val_loss: 0.0105\n",
            "Epoch 12/15\n",
            "98/98 [==============================] - 1s 15ms/step - loss: 0.0099 - val_loss: 0.0084\n",
            "Epoch 13/15\n",
            "98/98 [==============================] - 1s 15ms/step - loss: 0.0081 - val_loss: 0.0073\n",
            "Epoch 14/15\n",
            "98/98 [==============================] - 1s 15ms/step - loss: 0.0071 - val_loss: 0.0066\n",
            "Epoch 15/15\n",
            "98/98 [==============================] - 1s 15ms/step - loss: 0.0065 - val_loss: 0.0062\n"
          ],
          "name": "stdout"
        }
      ]
    },
    {
      "cell_type": "markdown",
      "metadata": {
        "id": "yfoaQXZgKJZm"
      },
      "source": [
        "Plot the loss and the accuracy curves on the validation set, and the accuracy on the test set.\n"
      ]
    },
    {
      "cell_type": "code",
      "metadata": {
        "id": "15ZjvbTGDB8i"
      },
      "source": [
        "def plot_loss(history):\n",
        "  plt.figure(figsize=(10,6))\n",
        "  plt.plot(history.epoch,history.history['loss'])\n",
        "  plt.plot(history.epoch,history.history['val_loss'])\n",
        "  plt.title('loss')"
      ],
      "execution_count": 45,
      "outputs": []
    },
    {
      "cell_type": "code",
      "metadata": {
        "id": "6Vb4ilH-DDyS",
        "colab": {
          "base_uri": "https://localhost:8080/",
          "height": 424
        },
        "outputId": "97b765fc-d98e-4c90-ce3e-e4020322c7a8"
      },
      "source": [
        "plot_loss(history)\n",
        "\n",
        "scores = autoencoder.evaluate(x_test, x_test, verbose=2)\n",
        "print(\"test mse: %.5f\" % (scores))"
      ],
      "execution_count": 46,
      "outputs": [
        {
          "output_type": "stream",
          "text": [
            "313/313 - 0s - loss: 0.0061\n",
            "test mse: 0.00610\n"
          ],
          "name": "stdout"
        },
        {
          "output_type": "display_data",
          "data": {
            "image/png": "[encoded data removed]",
            "text/plain": [
              "<Figure size 720x432 with 1 Axes>"
            ]
          },
          "metadata": {
            "tags": [],
            "needs_background": "light"
          }
        }
      ]
    },
    {
      "cell_type": "code",
      "metadata": {
        "id": "XgG5Yt9ddmq-",
        "colab": {
          "base_uri": "https://localhost:8080/",
          "height": 248
        },
        "outputId": "e732a978-72db-4e5a-982f-eea5058adad4"
      },
      "source": [
        "encoded_imgs = encoder.predict(x_test)\n",
        "decoded_imgs = decoder.predict(encoded_imgs)\n",
        "\n",
        "plot_img(10, x_test, decoded_imgs)\n"
      ],
      "execution_count": 47,
      "outputs": [
        {
          "output_type": "display_data",
          "data": {
            "image/png": "[encoded data removed]",
            "text/plain": [
              "<Figure size 1440x288 with 20 Axes>"
            ]
          },
          "metadata": {
            "tags": [],
            "needs_background": "light"
          }
        }
      ]
    },
    {
      "cell_type": "markdown",
      "metadata": {
        "id": "dI1rrC0oAliw"
      },
      "source": [
        "**Ans:**\n",
        "i got the two different result values for Principal component analysis (PCA), singular value decomposition (SVD) and the Shallow linear autoencoders for the same number of the dimensions and the same test. for the PCA i got test mse: 0.00455 and the shallow linear autoencoders test mse: 0.00550.\n",
        "\n",
        "From the images it's evident that the obtained results are very similar, and also the Mean Squared Errors computed on the test set have more or less the same value. This is because PCA and Shallow Linear Autoencoders are strictly related. "
      ]
    },
    {
      "cell_type": "markdown",
      "metadata": {
        "id": "BhhQcerS4Xm0"
      },
      "source": [
        "##[TO COMPLETE] Exercise 5.3: Shallow non-linear autoencoders\n",
        "\n",
        "**[TO COMPLETE]** replicate the code of Exercise 5.2 but in this case, instead of using linear activation functions use  non-linear ones. Choose the most appropriate non-linear function, and motivate your choice. Then discuss the results in relation to those obtained in Exercise 5.2. (Insert your code and  theoretical discussion into  cells immediately below this one.)\n"
      ]
    },
    {
      "cell_type": "code",
      "metadata": {
        "colab": {
          "base_uri": "https://localhost:8080/"
        },
        "id": "vJdADEAoFnxP",
        "outputId": "b509cbe5-1425-45e8-a53e-96db944955d4"
      },
      "source": [
        "ENCODING_DIM = 120\n",
        "\n",
        "input_img = tf.keras.layers.Input(shape=(784,))\n",
        "#Define the encoder...\n",
        "encoded = tf.keras.layers.Dense(ENCODING_DIM, activation='sigmoid')(input_img)\n",
        "\n",
        "#...and the decoder...\n",
        "decoded = tf.keras.layers.Dense(784, activation='sigmoid')(encoded)\n",
        "\n",
        "#and finally the autoencoder\n",
        "autoencoder = tf.keras.models.Model(input_img, decoded)\n",
        "\n",
        "# In order to visualize the learned encoding, define a model that computes the \n",
        "# two parts separately.\n",
        "encoder = tf.keras.models.Model(input_img, encoded)\n",
        "encoded_input = tf.keras.layers.Input(shape=(ENCODING_DIM,))\n",
        "decoder_layer = autoencoder.layers[-1]\n",
        "decoder = tf.keras.models.Model(encoded_input, decoder_layer(encoded_input))\n",
        "\n",
        "#Finally, let's call the compile method\n",
        "autoencoder.compile(optimizer=tf.keras.optimizers.Adam(learning_rate=0.01), loss='mse')\n",
        "autoencoder.summary()"
      ],
      "execution_count": 48,
      "outputs": [
        {
          "output_type": "stream",
          "text": [
            "Model: \"model_15\"\n",
            "_________________________________________________________________\n",
            "Layer (type)                 Output Shape              Param #   \n",
            "=================================================================\n",
            "input_11 (InputLayer)        [(None, 784)]             0         \n",
            "_________________________________________________________________\n",
            "dense_10 (Dense)             (None, 120)               94200     \n",
            "_________________________________________________________________\n",
            "dense_11 (Dense)             (None, 784)               94864     \n",
            "=================================================================\n",
            "Total params: 189,064\n",
            "Trainable params: 189,064\n",
            "Non-trainable params: 0\n",
            "_________________________________________________________________\n"
          ],
          "name": "stdout"
        }
      ]
    },
    {
      "cell_type": "code",
      "metadata": {
        "colab": {
          "base_uri": "https://localhost:8080/"
        },
        "id": "ezchgCZuF-Vl",
        "outputId": "04b8ea2a-3e22-4b28-b714-baa21ed74870"
      },
      "source": [
        "history = autoencoder.fit(x_train, x_train, epochs=15, batch_size=512, shuffle=True, validation_data=(x_valid, x_valid))"
      ],
      "execution_count": 49,
      "outputs": [
        {
          "output_type": "stream",
          "text": [
            "Epoch 1/15\n",
            "98/98 [==============================] - 2s 17ms/step - loss: 0.0757 - val_loss: 0.0353\n",
            "Epoch 2/15\n",
            "98/98 [==============================] - 1s 15ms/step - loss: 0.0316 - val_loss: 0.0223\n",
            "Epoch 3/15\n",
            "98/98 [==============================] - 1s 15ms/step - loss: 0.0206 - val_loss: 0.0159\n",
            "Epoch 4/15\n",
            "98/98 [==============================] - 2s 15ms/step - loss: 0.0151 - val_loss: 0.0125\n",
            "Epoch 5/15\n",
            "98/98 [==============================] - 1s 15ms/step - loss: 0.0120 - val_loss: 0.0104\n",
            "Epoch 6/15\n",
            "98/98 [==============================] - 1s 15ms/step - loss: 0.0101 - val_loss: 0.0089\n",
            "Epoch 7/15\n",
            "98/98 [==============================] - 1s 15ms/step - loss: 0.0087 - val_loss: 0.0079\n",
            "Epoch 8/15\n",
            "98/98 [==============================] - 1s 15ms/step - loss: 0.0077 - val_loss: 0.0071\n",
            "Epoch 9/15\n",
            "98/98 [==============================] - 1s 15ms/step - loss: 0.0069 - val_loss: 0.0065\n",
            "Epoch 10/15\n",
            "98/98 [==============================] - 1s 15ms/step - loss: 0.0063 - val_loss: 0.0059\n",
            "Epoch 11/15\n",
            "98/98 [==============================] - 1s 15ms/step - loss: 0.0057 - val_loss: 0.0054\n",
            "Epoch 12/15\n",
            "98/98 [==============================] - 2s 15ms/step - loss: 0.0053 - val_loss: 0.0051\n",
            "Epoch 13/15\n",
            "98/98 [==============================] - 1s 15ms/step - loss: 0.0050 - val_loss: 0.0048\n",
            "Epoch 14/15\n",
            "98/98 [==============================] - 1s 15ms/step - loss: 0.0047 - val_loss: 0.0046\n",
            "Epoch 15/15\n",
            "98/98 [==============================] - 1s 15ms/step - loss: 0.0044 - val_loss: 0.0044\n"
          ],
          "name": "stdout"
        }
      ]
    },
    {
      "cell_type": "code",
      "metadata": {
        "colab": {
          "base_uri": "https://localhost:8080/",
          "height": 424
        },
        "id": "OJMlRzjeGG9N",
        "outputId": "59dd14ac-a2d3-48f9-91d2-39a11efd558b"
      },
      "source": [
        "plot_loss(history)\n",
        "\n",
        "scores = autoencoder.evaluate(x_test, x_test, verbose=2)\n",
        "print(\"test mse: %.5f\" % (scores))"
      ],
      "execution_count": 50,
      "outputs": [
        {
          "output_type": "stream",
          "text": [
            "313/313 - 0s - loss: 0.0042\n",
            "test mse: 0.00424\n"
          ],
          "name": "stdout"
        },
        {
          "output_type": "display_data",
          "data": {
            "image/png": "[encoded data removed]",
            "text/plain": [
              "<Figure size 720x432 with 1 Axes>"
            ]
          },
          "metadata": {
            "tags": [],
            "needs_background": "light"
          }
        }
      ]
    },
    {
      "cell_type": "code",
      "metadata": {
        "colab": {
          "base_uri": "https://localhost:8080/",
          "height": 248
        },
        "id": "QHEaWLSmH5UH",
        "outputId": "6875b01b-b356-4771-9630-8270d2175f7e"
      },
      "source": [
        "encoded_imgs = encoder.predict(x_test)\n",
        "decoded_imgs = decoder.predict(encoded_imgs)\n",
        "\n",
        "plot_img(10, x_test, decoded_imgs)"
      ],
      "execution_count": 51,
      "outputs": [
        {
          "output_type": "display_data",
          "data": {
            "image/png": "[encoded data removed]",
            "text/plain": [
              "<Figure size 1440x288 with 20 Axes>"
            ]
          },
          "metadata": {
            "tags": [],
            "needs_background": "light"
          }
        }
      ]
    },
    {
      "cell_type": "markdown",
      "metadata": {
        "id": "OlJHZEBaIrWa"
      },
      "source": [
        "**Ans:**\n",
        "After running the both shallow linear autoencoders and shallow non linear autoencoders we can see the mean squared error is almost the same but the non liner autoencoder gives the better results and we can see the decoded images are more detailed (means good quality) because of the nonlinear auto-encoder.\n",
        "\n",
        "comes to the activation function for the nonlinear autoencoder i tryed tanh, sigmoid, ReLu. at the end i selected sigmoid because its give me a better results."
      ]
    },
    {
      "cell_type": "markdown",
      "metadata": {
        "id": "UjzlA8YV4ux5"
      },
      "source": [
        "##[TO COMPLETE] Exercise 5.4: Deep Autoencoder\n",
        "**[TO COMPLETE]**: Define a deep version of the Autoeancoder defined above. The autoencoder has to use at least 5 layers. The model will use $n$ layers for encoding, and n-1 for decoding. The layers sizes of the encoding part decrease at each layer (i.e. 784->128->64, where 64 is the encoding dim). The decoding part layers dimensions progression turns out to be mirrored (i.e 128->784, the resulting overall structure recalls an hourglass).\n",
        "Similarly than what we did above, print the model summary, the loss curves during the training, the achieved loss on the test set, and some input images with the corresponding decoding.\n"
      ]
    },
    {
      "cell_type": "code",
      "metadata": {
        "id": "S6O7Bq8C4udX",
        "colab": {
          "base_uri": "https://localhost:8080/"
        },
        "outputId": "98af0ea1-dea2-4b00-8171-f2812a0ffc73"
      },
      "source": [
        "input_img = tf.keras.layers.Input(shape=(784,))\n",
        "deep_epochs_number = 250\n",
        "\n",
        "deep_nonlinear_encoder_activations = ['sigmoid','selu', 'selu', 'selu']\n",
        "deep_nonlinear_decoder_activations = ['selu','selu','selu','sigmoid']\n",
        "\n",
        "\n",
        "def deep_autoencoder(steps, input_img, encoder_activations, decoder_activations):\n",
        "  img_size = steps[0]\n",
        "  encoders = []\n",
        "\n",
        "  prev_layer = input_img\n",
        "\n",
        "  for i in range(1,len(steps)):\n",
        "    step = steps[i]\n",
        "    act = encoder_activations[(i-1) % len(encoder_activations)]\n",
        "    print(\"Encoder #%d: (%d, act: %s)\" % (i-1, step, act))\n",
        "    encoders.append(tf.keras.layers.Dense(step, activation=act)(prev_layer))\n",
        "    prev_layer = encoders[-1]\n",
        "  \n",
        "  decoders = []\n",
        "  \n",
        "  steps.reverse()\n",
        "  steps.pop(0)  # Remove the size of the final representation\n",
        "\n",
        "  print(\"---\")\n",
        "  for i in range(len(steps)):\n",
        "    step = steps[i]\n",
        "    act = decoder_activations[i % len(encoder_activations)]\n",
        "\n",
        "    print(\"Decoder #%d: (%d, act: %s)\" % (i, step, act))\n",
        "\n",
        "    decoders.append(tf.keras.layers.Dense(step, activation=act)(prev_layer))\n",
        "    prev_layer = decoders[-1]\n",
        "\n",
        "  autoencoder = tf.keras.models.Model(input_img, decoders[-1])\n",
        "  return autoencoder\n",
        "\n",
        "\n",
        "\n",
        "\n",
        "autoencoder = deep_autoencoder(\n",
        "    [784,512,256,120,60],\n",
        "    input_img,\n",
        "    deep_nonlinear_encoder_activations,\n",
        "    deep_nonlinear_decoder_activations\n",
        "    )\n",
        "autoencoder.compile(optimizer='adam', loss='mse')"
      ],
      "execution_count": 52,
      "outputs": [
        {
          "output_type": "stream",
          "text": [
            "Encoder #0: (512, act: sigmoid)\n",
            "Encoder #1: (256, act: selu)\n",
            "Encoder #2: (120, act: selu)\n",
            "Encoder #3: (60, act: selu)\n",
            "---\n",
            "Decoder #0: (120, act: selu)\n",
            "Decoder #1: (256, act: selu)\n",
            "Decoder #2: (512, act: selu)\n",
            "Decoder #3: (784, act: sigmoid)\n"
          ],
          "name": "stdout"
        }
      ]
    },
    {
      "cell_type": "code",
      "metadata": {
        "id": "4XL8uh9MFV03",
        "colab": {
          "base_uri": "https://localhost:8080/"
        },
        "outputId": "5c7cfca4-647e-42d5-d7df-4e1bb67a82f4"
      },
      "source": [
        "autoencoder.summary()"
      ],
      "execution_count": 53,
      "outputs": [
        {
          "output_type": "stream",
          "text": [
            "Model: \"model_18\"\n",
            "_________________________________________________________________\n",
            "Layer (type)                 Output Shape              Param #   \n",
            "=================================================================\n",
            "input_13 (InputLayer)        [(None, 784)]             0         \n",
            "_________________________________________________________________\n",
            "dense_12 (Dense)             (None, 512)               401920    \n",
            "_________________________________________________________________\n",
            "dense_13 (Dense)             (None, 256)               131328    \n",
            "_________________________________________________________________\n",
            "dense_14 (Dense)             (None, 120)               30840     \n",
            "_________________________________________________________________\n",
            "dense_15 (Dense)             (None, 60)                7260      \n",
            "_________________________________________________________________\n",
            "dense_16 (Dense)             (None, 120)               7320      \n",
            "_________________________________________________________________\n",
            "dense_17 (Dense)             (None, 256)               30976     \n",
            "_________________________________________________________________\n",
            "dense_18 (Dense)             (None, 512)               131584    \n",
            "_________________________________________________________________\n",
            "dense_19 (Dense)             (None, 784)               402192    \n",
            "=================================================================\n",
            "Total params: 1,143,420\n",
            "Trainable params: 1,143,420\n",
            "Non-trainable params: 0\n",
            "_________________________________________________________________\n"
          ],
          "name": "stdout"
        }
      ]
    },
    {
      "cell_type": "code",
      "metadata": {
        "id": "ITsWoDrJ4uZy",
        "colab": {
          "base_uri": "https://localhost:8080/"
        },
        "outputId": "b61c9737-208e-476f-d71f-a372a1a7e752"
      },
      "source": [
        "history = autoencoder.fit(x_train, x_train, epochs=deep_epochs_number, batch_size=512, callbacks=[tf.keras.callbacks.EarlyStopping(monitor='val_loss', patience=10)], shuffle=True, validation_data=(x_valid, x_valid))"
      ],
      "execution_count": 55,
      "outputs": [
        {
          "output_type": "stream",
          "text": [
            "Epoch 1/250\n",
            "98/98 [==============================] - 7s 69ms/step - loss: 0.0892 - val_loss: 0.0374\n",
            "Epoch 2/250\n",
            "98/98 [==============================] - 7s 68ms/step - loss: 0.0344 - val_loss: 0.0252\n",
            "Epoch 3/250\n",
            "98/98 [==============================] - 7s 68ms/step - loss: 0.0238 - val_loss: 0.0198\n",
            "Epoch 4/250\n",
            "98/98 [==============================] - 7s 68ms/step - loss: 0.0187 - val_loss: 0.0159\n",
            "Epoch 5/250\n",
            "98/98 [==============================] - 7s 68ms/step - loss: 0.0156 - val_loss: 0.0136\n",
            "Epoch 6/250\n",
            "98/98 [==============================] - 7s 67ms/step - loss: 0.0134 - val_loss: 0.0123\n",
            "Epoch 7/250\n",
            "98/98 [==============================] - 7s 68ms/step - loss: 0.0120 - val_loss: 0.0110\n",
            "Epoch 8/250\n",
            "98/98 [==============================] - 7s 67ms/step - loss: 0.0108 - val_loss: 0.0102\n",
            "Epoch 9/250\n",
            "98/98 [==============================] - 7s 68ms/step - loss: 0.0100 - val_loss: 0.0094\n",
            "Epoch 10/250\n",
            "98/98 [==============================] - 7s 67ms/step - loss: 0.0093 - val_loss: 0.0090\n",
            "Epoch 11/250\n",
            "98/98 [==============================] - 7s 67ms/step - loss: 0.0088 - val_loss: 0.0085\n",
            "Epoch 12/250\n",
            "98/98 [==============================] - 7s 68ms/step - loss: 0.0083 - val_loss: 0.0081\n",
            "Epoch 13/250\n",
            "98/98 [==============================] - 7s 68ms/step - loss: 0.0079 - val_loss: 0.0078\n",
            "Epoch 14/250\n",
            "98/98 [==============================] - 7s 67ms/step - loss: 0.0076 - val_loss: 0.0075\n",
            "Epoch 15/250\n",
            "98/98 [==============================] - 7s 68ms/step - loss: 0.0073 - val_loss: 0.0073\n",
            "Epoch 16/250\n",
            "98/98 [==============================] - 7s 68ms/step - loss: 0.0070 - val_loss: 0.0070\n",
            "Epoch 17/250\n",
            "98/98 [==============================] - 7s 68ms/step - loss: 0.0068 - val_loss: 0.0067\n",
            "Epoch 18/250\n",
            "98/98 [==============================] - 7s 67ms/step - loss: 0.0065 - val_loss: 0.0065\n",
            "Epoch 19/250\n",
            "98/98 [==============================] - 7s 68ms/step - loss: 0.0063 - val_loss: 0.0062\n",
            "Epoch 20/250\n",
            "98/98 [==============================] - 7s 68ms/step - loss: 0.0060 - val_loss: 0.0061\n",
            "Epoch 21/250\n",
            "98/98 [==============================] - 7s 68ms/step - loss: 0.0058 - val_loss: 0.0059\n",
            "Epoch 22/250\n",
            "98/98 [==============================] - 7s 67ms/step - loss: 0.0057 - val_loss: 0.0057\n",
            "Epoch 23/250\n",
            "98/98 [==============================] - 7s 68ms/step - loss: 0.0055 - val_loss: 0.0057\n",
            "Epoch 24/250\n",
            "98/98 [==============================] - 7s 68ms/step - loss: 0.0054 - val_loss: 0.0055\n",
            "Epoch 25/250\n",
            "98/98 [==============================] - 7s 69ms/step - loss: 0.0053 - val_loss: 0.0054\n",
            "Epoch 26/250\n",
            "98/98 [==============================] - 7s 68ms/step - loss: 0.0052 - val_loss: 0.0054\n",
            "Epoch 27/250\n",
            "98/98 [==============================] - 7s 68ms/step - loss: 0.0050 - val_loss: 0.0052\n",
            "Epoch 28/250\n",
            "98/98 [==============================] - 7s 68ms/step - loss: 0.0049 - val_loss: 0.0051\n",
            "Epoch 29/250\n",
            "98/98 [==============================] - 7s 68ms/step - loss: 0.0048 - val_loss: 0.0050\n",
            "Epoch 30/250\n",
            "98/98 [==============================] - 7s 68ms/step - loss: 0.0047 - val_loss: 0.0049\n",
            "Epoch 31/250\n",
            "98/98 [==============================] - 7s 68ms/step - loss: 0.0046 - val_loss: 0.0048\n",
            "Epoch 32/250\n",
            "98/98 [==============================] - 7s 68ms/step - loss: 0.0045 - val_loss: 0.0048\n",
            "Epoch 33/250\n",
            "98/98 [==============================] - 7s 69ms/step - loss: 0.0044 - val_loss: 0.0046\n",
            "Epoch 34/250\n",
            "98/98 [==============================] - 7s 70ms/step - loss: 0.0044 - val_loss: 0.0046\n",
            "Epoch 35/250\n",
            "98/98 [==============================] - 7s 70ms/step - loss: 0.0043 - val_loss: 0.0047\n",
            "Epoch 36/250\n",
            "98/98 [==============================] - 7s 70ms/step - loss: 0.0043 - val_loss: 0.0045\n",
            "Epoch 37/250\n",
            "98/98 [==============================] - 7s 70ms/step - loss: 0.0042 - val_loss: 0.0044\n",
            "Epoch 38/250\n",
            "98/98 [==============================] - 7s 69ms/step - loss: 0.0041 - val_loss: 0.0045\n",
            "Epoch 39/250\n",
            "98/98 [==============================] - 7s 69ms/step - loss: 0.0041 - val_loss: 0.0044\n",
            "Epoch 40/250\n",
            "98/98 [==============================] - 7s 69ms/step - loss: 0.0041 - val_loss: 0.0044\n",
            "Epoch 41/250\n",
            "98/98 [==============================] - 7s 69ms/step - loss: 0.0040 - val_loss: 0.0043\n",
            "Epoch 42/250\n",
            "98/98 [==============================] - 7s 69ms/step - loss: 0.0039 - val_loss: 0.0043\n",
            "Epoch 43/250\n",
            "98/98 [==============================] - 7s 68ms/step - loss: 0.0039 - val_loss: 0.0042\n",
            "Epoch 44/250\n",
            "98/98 [==============================] - 7s 69ms/step - loss: 0.0038 - val_loss: 0.0042\n",
            "Epoch 45/250\n",
            "98/98 [==============================] - 7s 69ms/step - loss: 0.0038 - val_loss: 0.0041\n",
            "Epoch 46/250\n",
            "98/98 [==============================] - 7s 69ms/step - loss: 0.0038 - val_loss: 0.0041\n",
            "Epoch 47/250\n",
            "98/98 [==============================] - 7s 70ms/step - loss: 0.0037 - val_loss: 0.0040\n",
            "Epoch 48/250\n",
            "98/98 [==============================] - 7s 69ms/step - loss: 0.0037 - val_loss: 0.0040\n",
            "Epoch 49/250\n",
            "98/98 [==============================] - 7s 69ms/step - loss: 0.0036 - val_loss: 0.0040\n",
            "Epoch 50/250\n",
            "98/98 [==============================] - 7s 69ms/step - loss: 0.0036 - val_loss: 0.0041\n",
            "Epoch 51/250\n",
            "98/98 [==============================] - 7s 69ms/step - loss: 0.0036 - val_loss: 0.0040\n",
            "Epoch 52/250\n",
            "98/98 [==============================] - 7s 69ms/step - loss: 0.0035 - val_loss: 0.0039\n",
            "Epoch 53/250\n",
            "98/98 [==============================] - 7s 68ms/step - loss: 0.0035 - val_loss: 0.0039\n",
            "Epoch 54/250\n",
            "98/98 [==============================] - 7s 69ms/step - loss: 0.0035 - val_loss: 0.0039\n",
            "Epoch 55/250\n",
            "98/98 [==============================] - 7s 68ms/step - loss: 0.0035 - val_loss: 0.0038\n",
            "Epoch 56/250\n",
            "98/98 [==============================] - 7s 68ms/step - loss: 0.0034 - val_loss: 0.0038\n",
            "Epoch 57/250\n",
            "98/98 [==============================] - 7s 68ms/step - loss: 0.0034 - val_loss: 0.0038\n",
            "Epoch 58/250\n",
            "98/98 [==============================] - 7s 69ms/step - loss: 0.0034 - val_loss: 0.0039\n",
            "Epoch 59/250\n",
            "98/98 [==============================] - 7s 69ms/step - loss: 0.0034 - val_loss: 0.0038\n",
            "Epoch 60/250\n",
            "98/98 [==============================] - 7s 68ms/step - loss: 0.0033 - val_loss: 0.0037\n",
            "Epoch 61/250\n",
            "98/98 [==============================] - 7s 69ms/step - loss: 0.0033 - val_loss: 0.0037\n",
            "Epoch 62/250\n",
            "98/98 [==============================] - 7s 69ms/step - loss: 0.0033 - val_loss: 0.0037\n",
            "Epoch 63/250\n",
            "98/98 [==============================] - 7s 69ms/step - loss: 0.0032 - val_loss: 0.0036\n",
            "Epoch 64/250\n",
            "98/98 [==============================] - 7s 69ms/step - loss: 0.0032 - val_loss: 0.0038\n",
            "Epoch 65/250\n",
            "98/98 [==============================] - 7s 69ms/step - loss: 0.0032 - val_loss: 0.0036\n",
            "Epoch 66/250\n",
            "98/98 [==============================] - 7s 68ms/step - loss: 0.0032 - val_loss: 0.0037\n",
            "Epoch 67/250\n",
            "98/98 [==============================] - 7s 68ms/step - loss: 0.0032 - val_loss: 0.0035\n",
            "Epoch 68/250\n",
            "98/98 [==============================] - 7s 69ms/step - loss: 0.0031 - val_loss: 0.0035\n",
            "Epoch 69/250\n",
            "98/98 [==============================] - 7s 69ms/step - loss: 0.0031 - val_loss: 0.0036\n",
            "Epoch 70/250\n",
            "98/98 [==============================] - 7s 69ms/step - loss: 0.0031 - val_loss: 0.0035\n",
            "Epoch 71/250\n",
            "98/98 [==============================] - 7s 69ms/step - loss: 0.0031 - val_loss: 0.0035\n",
            "Epoch 72/250\n",
            "98/98 [==============================] - 7s 69ms/step - loss: 0.0030 - val_loss: 0.0035\n",
            "Epoch 73/250\n",
            "98/98 [==============================] - 7s 69ms/step - loss: 0.0030 - val_loss: 0.0036\n",
            "Epoch 74/250\n",
            "98/98 [==============================] - 7s 69ms/step - loss: 0.0030 - val_loss: 0.0035\n",
            "Epoch 75/250\n",
            "98/98 [==============================] - 7s 69ms/step - loss: 0.0030 - val_loss: 0.0034\n",
            "Epoch 76/250\n",
            "98/98 [==============================] - 7s 69ms/step - loss: 0.0030 - val_loss: 0.0034\n",
            "Epoch 77/250\n",
            "98/98 [==============================] - 7s 69ms/step - loss: 0.0030 - val_loss: 0.0034\n",
            "Epoch 78/250\n",
            "98/98 [==============================] - 7s 69ms/step - loss: 0.0030 - val_loss: 0.0034\n",
            "Epoch 79/250\n",
            "98/98 [==============================] - 7s 69ms/step - loss: 0.0029 - val_loss: 0.0033\n",
            "Epoch 80/250\n",
            "98/98 [==============================] - 7s 68ms/step - loss: 0.0029 - val_loss: 0.0034\n",
            "Epoch 81/250\n",
            "98/98 [==============================] - 7s 68ms/step - loss: 0.0029 - val_loss: 0.0034\n",
            "Epoch 82/250\n",
            "98/98 [==============================] - 7s 69ms/step - loss: 0.0029 - val_loss: 0.0033\n",
            "Epoch 83/250\n",
            "98/98 [==============================] - 7s 69ms/step - loss: 0.0029 - val_loss: 0.0033\n",
            "Epoch 84/250\n",
            "98/98 [==============================] - 7s 69ms/step - loss: 0.0029 - val_loss: 0.0034\n",
            "Epoch 85/250\n",
            "98/98 [==============================] - 7s 69ms/step - loss: 0.0029 - val_loss: 0.0033\n",
            "Epoch 86/250\n",
            "98/98 [==============================] - 7s 69ms/step - loss: 0.0028 - val_loss: 0.0033\n",
            "Epoch 87/250\n",
            "98/98 [==============================] - 7s 69ms/step - loss: 0.0029 - val_loss: 0.0033\n",
            "Epoch 88/250\n",
            "98/98 [==============================] - 7s 69ms/step - loss: 0.0028 - val_loss: 0.0032\n",
            "Epoch 89/250\n",
            "98/98 [==============================] - 7s 69ms/step - loss: 0.0028 - val_loss: 0.0034\n",
            "Epoch 90/250\n",
            "98/98 [==============================] - 7s 69ms/step - loss: 0.0028 - val_loss: 0.0033\n",
            "Epoch 91/250\n",
            "98/98 [==============================] - 7s 69ms/step - loss: 0.0028 - val_loss: 0.0033\n",
            "Epoch 92/250\n",
            "98/98 [==============================] - 7s 69ms/step - loss: 0.0027 - val_loss: 0.0033\n",
            "Epoch 93/250\n",
            "98/98 [==============================] - 7s 68ms/step - loss: 0.0028 - val_loss: 0.0033\n",
            "Epoch 94/250\n",
            "98/98 [==============================] - 7s 68ms/step - loss: 0.0027 - val_loss: 0.0032\n",
            "Epoch 95/250\n",
            "98/98 [==============================] - 7s 69ms/step - loss: 0.0027 - val_loss: 0.0032\n",
            "Epoch 96/250\n",
            "98/98 [==============================] - 7s 70ms/step - loss: 0.0027 - val_loss: 0.0032\n",
            "Epoch 97/250\n",
            "98/98 [==============================] - 7s 70ms/step - loss: 0.0027 - val_loss: 0.0032\n",
            "Epoch 98/250\n",
            "98/98 [==============================] - 7s 69ms/step - loss: 0.0027 - val_loss: 0.0033\n",
            "Epoch 99/250\n",
            "98/98 [==============================] - 7s 69ms/step - loss: 0.0027 - val_loss: 0.0032\n",
            "Epoch 100/250\n",
            "98/98 [==============================] - 7s 69ms/step - loss: 0.0027 - val_loss: 0.0032\n",
            "Epoch 101/250\n",
            "98/98 [==============================] - 7s 69ms/step - loss: 0.0027 - val_loss: 0.0032\n",
            "Epoch 102/250\n",
            "98/98 [==============================] - 7s 69ms/step - loss: 0.0027 - val_loss: 0.0032\n",
            "Epoch 103/250\n",
            "98/98 [==============================] - 7s 70ms/step - loss: 0.0026 - val_loss: 0.0032\n",
            "Epoch 104/250\n",
            "98/98 [==============================] - 7s 71ms/step - loss: 0.0026 - val_loss: 0.0031\n",
            "Epoch 105/250\n",
            "98/98 [==============================] - 7s 70ms/step - loss: 0.0026 - val_loss: 0.0031\n",
            "Epoch 106/250\n",
            "98/98 [==============================] - 7s 70ms/step - loss: 0.0026 - val_loss: 0.0032\n",
            "Epoch 107/250\n",
            "98/98 [==============================] - 7s 70ms/step - loss: 0.0026 - val_loss: 0.0032\n",
            "Epoch 108/250\n",
            "98/98 [==============================] - 7s 69ms/step - loss: 0.0026 - val_loss: 0.0031\n",
            "Epoch 109/250\n",
            "98/98 [==============================] - 7s 69ms/step - loss: 0.0026 - val_loss: 0.0031\n",
            "Epoch 110/250\n",
            "98/98 [==============================] - 7s 69ms/step - loss: 0.0026 - val_loss: 0.0031\n",
            "Epoch 111/250\n",
            "98/98 [==============================] - 7s 69ms/step - loss: 0.0026 - val_loss: 0.0032\n",
            "Epoch 112/250\n",
            "98/98 [==============================] - 7s 69ms/step - loss: 0.0026 - val_loss: 0.0031\n",
            "Epoch 113/250\n",
            "98/98 [==============================] - 7s 69ms/step - loss: 0.0026 - val_loss: 0.0031\n",
            "Epoch 114/250\n",
            "98/98 [==============================] - 7s 70ms/step - loss: 0.0025 - val_loss: 0.0031\n",
            "Epoch 115/250\n",
            "98/98 [==============================] - 7s 69ms/step - loss: 0.0026 - val_loss: 0.0031\n",
            "Epoch 116/250\n",
            "98/98 [==============================] - 7s 70ms/step - loss: 0.0025 - val_loss: 0.0030\n",
            "Epoch 117/250\n",
            "98/98 [==============================] - 7s 69ms/step - loss: 0.0025 - val_loss: 0.0031\n",
            "Epoch 118/250\n",
            "98/98 [==============================] - 7s 69ms/step - loss: 0.0025 - val_loss: 0.0031\n",
            "Epoch 119/250\n",
            "98/98 [==============================] - 7s 70ms/step - loss: 0.0025 - val_loss: 0.0031\n",
            "Epoch 120/250\n",
            "98/98 [==============================] - 7s 69ms/step - loss: 0.0025 - val_loss: 0.0031\n",
            "Epoch 121/250\n",
            "98/98 [==============================] - 7s 69ms/step - loss: 0.0025 - val_loss: 0.0031\n",
            "Epoch 122/250\n",
            "98/98 [==============================] - 7s 70ms/step - loss: 0.0025 - val_loss: 0.0031\n",
            "Epoch 123/250\n",
            "98/98 [==============================] - 7s 70ms/step - loss: 0.0025 - val_loss: 0.0031\n",
            "Epoch 124/250\n",
            "98/98 [==============================] - 7s 69ms/step - loss: 0.0025 - val_loss: 0.0030\n",
            "Epoch 125/250\n",
            "98/98 [==============================] - 7s 69ms/step - loss: 0.0025 - val_loss: 0.0031\n",
            "Epoch 126/250\n",
            "98/98 [==============================] - 7s 69ms/step - loss: 0.0025 - val_loss: 0.0030\n",
            "Epoch 127/250\n",
            "98/98 [==============================] - 7s 69ms/step - loss: 0.0024 - val_loss: 0.0030\n",
            "Epoch 128/250\n",
            "98/98 [==============================] - 7s 69ms/step - loss: 0.0024 - val_loss: 0.0031\n",
            "Epoch 129/250\n",
            "98/98 [==============================] - 7s 70ms/step - loss: 0.0025 - val_loss: 0.0030\n",
            "Epoch 130/250\n",
            "98/98 [==============================] - 7s 70ms/step - loss: 0.0024 - val_loss: 0.0030\n",
            "Epoch 131/250\n",
            "98/98 [==============================] - 7s 69ms/step - loss: 0.0024 - val_loss: 0.0030\n",
            "Epoch 132/250\n",
            "98/98 [==============================] - 7s 70ms/step - loss: 0.0024 - val_loss: 0.0030\n",
            "Epoch 133/250\n",
            "98/98 [==============================] - 7s 69ms/step - loss: 0.0025 - val_loss: 0.0029\n",
            "Epoch 134/250\n",
            "98/98 [==============================] - 7s 69ms/step - loss: 0.0024 - val_loss: 0.0029\n",
            "Epoch 135/250\n",
            "98/98 [==============================] - 7s 69ms/step - loss: 0.0024 - val_loss: 0.0030\n",
            "Epoch 136/250\n",
            "98/98 [==============================] - 7s 69ms/step - loss: 0.0024 - val_loss: 0.0029\n",
            "Epoch 137/250\n",
            "98/98 [==============================] - 7s 69ms/step - loss: 0.0024 - val_loss: 0.0030\n",
            "Epoch 138/250\n",
            "98/98 [==============================] - 7s 69ms/step - loss: 0.0024 - val_loss: 0.0029\n",
            "Epoch 139/250\n",
            "98/98 [==============================] - 7s 69ms/step - loss: 0.0024 - val_loss: 0.0030\n",
            "Epoch 140/250\n",
            "98/98 [==============================] - 7s 69ms/step - loss: 0.0024 - val_loss: 0.0030\n",
            "Epoch 141/250\n",
            "98/98 [==============================] - 7s 69ms/step - loss: 0.0024 - val_loss: 0.0029\n",
            "Epoch 142/250\n",
            "98/98 [==============================] - 7s 69ms/step - loss: 0.0023 - val_loss: 0.0030\n",
            "Epoch 143/250\n",
            "98/98 [==============================] - 7s 69ms/step - loss: 0.0024 - val_loss: 0.0030\n"
          ],
          "name": "stdout"
        }
      ]
    },
    {
      "cell_type": "code",
      "metadata": {
        "id": "3o00moO45Y8F",
        "colab": {
          "base_uri": "https://localhost:8080/",
          "height": 424
        },
        "outputId": "806f9bd9-064f-4a8c-e95f-e226a2ab6609"
      },
      "source": [
        "plot_loss(history)\n",
        "\n",
        "scores = autoencoder.evaluate(x_test, x_test, verbose=2)\n",
        "print(\"test mse: %.5f\" % (scores))"
      ],
      "execution_count": 56,
      "outputs": [
        {
          "output_type": "stream",
          "text": [
            "313/313 - 1s - loss: 0.0029\n",
            "test mse: 0.00294\n"
          ],
          "name": "stdout"
        },
        {
          "output_type": "display_data",
          "data": {
            "image/png": "[encoded data removed]",
            "text/plain": [
              "<Figure size 720x432 with 1 Axes>"
            ]
          },
          "metadata": {
            "tags": [],
            "needs_background": "light"
          }
        }
      ]
    },
    {
      "cell_type": "code",
      "metadata": {
        "id": "wEmJTRwdFsle",
        "colab": {
          "base_uri": "https://localhost:8080/",
          "height": 248
        },
        "outputId": "891b7d0c-5b2f-436d-fb3f-cc5e515a18b5"
      },
      "source": [
        "decoded_imgs = autoencoder.predict(x_test)\n",
        "\n",
        "plot_img(10, x_test, decoded_imgs)\n"
      ],
      "execution_count": 57,
      "outputs": [
        {
          "output_type": "display_data",
          "data": {
            "image/png": "[encoded data removed]",
            "text/plain": [
              "<Figure size 1440x288 with 20 Axes>"
            ]
          },
          "metadata": {
            "tags": [],
            "needs_background": "light"
          }
        }
      ]
    },
    {
      "cell_type": "markdown",
      "metadata": {
        "id": "p55h0PXw5oI4"
      },
      "source": [
        "## [TO COMPLETE] Exercise 5.5: Denoising Autoencoder\n",
        "\n",
        "Let's now use a shallow autoencoder to denoise the input data.\n",
        "Firstly, define a noisy input by adding some noise to our input data. We define a noise factor that can be used to modify the amount of noise to add to the input data. Check how much it influences the denoising capability of the autoencoder.\n",
        "**NOTE: in the code at the bottom noise_factor is added and not multiplied for numerical reasons. You may want to try the version with multiplication to verify it is more unstable.**"
      ]
    },
    {
      "cell_type": "code",
      "metadata": {
        "id": "UEgtUSt1531f"
      },
      "source": [
        "(x_train, y_train), (x_test, y_test) = tf.keras.datasets.mnist.load_data()\n",
        "x_train = x_train.astype('float32') / 255\n",
        "x_test = x_test.astype('float32') / 255\n",
        "\n",
        "x_train = x_train.reshape((len(x_train), np.prod(x_train.shape[1:])))\n",
        "x_test = x_test.reshape((len(x_test), np.prod(x_test.shape[1:])))\n",
        "\n",
        "x_valid, y_valid = x_train[:10000],y_train[:10000]\n",
        "x_train, y_train = x_train[10000:],y_train[10000:]\n",
        "\n",
        "noise_factor = 0.3\n",
        "\n",
        "x_train_noisy = x_train + noise_factor + np.random.normal(loc=0.0, scale=1.0, size=x_train.shape)\n",
        "x_test_noisy = x_test + noise_factor + np.random.normal(loc=0.0, scale=1.0, size=x_test.shape)\n",
        "x_valid_noisy = x_valid + noise_factor + np.random.normal(loc=0.0, scale=1.0, size=x_valid.shape)\n",
        "\n",
        "\n",
        "x_train_noisy = np.clip(x_train_noisy, 0., 1.)\n",
        "x_test_noisy = np.clip(x_test_noisy, 0., 1.)\n",
        "x_valid_noisy = np.clip(x_valid_noisy, 0., 1.)"
      ],
      "execution_count": 58,
      "outputs": []
    },
    {
      "cell_type": "markdown",
      "metadata": {
        "id": "sjpSfN_ZQJge"
      },
      "source": [
        "Plot some noisy inputs."
      ]
    },
    {
      "cell_type": "code",
      "metadata": {
        "id": "Yk_jtv-B6UrS",
        "colab": {
          "base_uri": "https://localhost:8080/",
          "height": 88
        },
        "outputId": "831328db-e63d-4e93-f75d-f2a77d771fe2"
      },
      "source": [
        "# here's what the noisy digits look like\n",
        "n = 10\n",
        "plt.figure(figsize=(20, 2))\n",
        "for i in range(n):\n",
        "    ax = plt.subplot(1, n, i + 1)\n",
        "    plt.imshow(x_test_noisy[i].reshape(28, 28))\n",
        "    plt.gray()\n",
        "    ax.get_xaxis().set_visible(False)\n",
        "    ax.get_yaxis().set_visible(False)\n",
        "plt.show()"
      ],
      "execution_count": 59,
      "outputs": [
        {
          "output_type": "display_data",
          "data": {
            "image/png": "[encoded data removed]",
            "text/plain": [
              "<Figure size 1440x144 with 10 Axes>"
            ]
          },
          "metadata": {
            "tags": [],
            "needs_background": "light"
          }
        }
      ]
    },
    {
      "cell_type": "markdown",
      "metadata": {
        "id": "l_i6Z8XfQ5iq"
      },
      "source": [
        "**[TO COMPLETE]** Define a shallow autoencoder able to compute a de-noised version of the input (obtained by unsing a noise_factor >= 0.3). "
      ]
    },
    {
      "cell_type": "code",
      "metadata": {
        "id": "omRH5b-M6YA_",
        "colab": {
          "base_uri": "https://localhost:8080/"
        },
        "outputId": "41f183d5-73d5-465c-8330-94e6bbaba286"
      },
      "source": [
        "input_img = tf.keras.layers.Input(shape=(784,))\n",
        "\n",
        "autoencoder = deep_autoencoder(\n",
        "    [784,512,256,120,60],\n",
        "    input_img,\n",
        "    deep_nonlinear_encoder_activations,\n",
        "    deep_nonlinear_decoder_activations\n",
        "    )\n",
        "autoencoder.compile(optimizer='adam', loss='mse')"
      ],
      "execution_count": 60,
      "outputs": [
        {
          "output_type": "stream",
          "text": [
            "Encoder #0: (512, act: sigmoid)\n",
            "Encoder #1: (256, act: selu)\n",
            "Encoder #2: (120, act: selu)\n",
            "Encoder #3: (60, act: selu)\n",
            "---\n",
            "Decoder #0: (120, act: selu)\n",
            "Decoder #1: (256, act: selu)\n",
            "Decoder #2: (512, act: selu)\n",
            "Decoder #3: (784, act: sigmoid)\n"
          ],
          "name": "stdout"
        }
      ]
    },
    {
      "cell_type": "code",
      "metadata": {
        "id": "GgynPvZ4GUWh",
        "colab": {
          "base_uri": "https://localhost:8080/"
        },
        "outputId": "644f72c2-7571-40aa-ff32-68815f38a513"
      },
      "source": [
        "autoencoder.summary()"
      ],
      "execution_count": 61,
      "outputs": [
        {
          "output_type": "stream",
          "text": [
            "Model: \"model_19\"\n",
            "_________________________________________________________________\n",
            "Layer (type)                 Output Shape              Param #   \n",
            "=================================================================\n",
            "input_14 (InputLayer)        [(None, 784)]             0         \n",
            "_________________________________________________________________\n",
            "dense_20 (Dense)             (None, 512)               401920    \n",
            "_________________________________________________________________\n",
            "dense_21 (Dense)             (None, 256)               131328    \n",
            "_________________________________________________________________\n",
            "dense_22 (Dense)             (None, 120)               30840     \n",
            "_________________________________________________________________\n",
            "dense_23 (Dense)             (None, 60)                7260      \n",
            "_________________________________________________________________\n",
            "dense_24 (Dense)             (None, 120)               7320      \n",
            "_________________________________________________________________\n",
            "dense_25 (Dense)             (None, 256)               30976     \n",
            "_________________________________________________________________\n",
            "dense_26 (Dense)             (None, 512)               131584    \n",
            "_________________________________________________________________\n",
            "dense_27 (Dense)             (None, 784)               402192    \n",
            "=================================================================\n",
            "Total params: 1,143,420\n",
            "Trainable params: 1,143,420\n",
            "Non-trainable params: 0\n",
            "_________________________________________________________________\n"
          ],
          "name": "stdout"
        }
      ]
    },
    {
      "cell_type": "markdown",
      "metadata": {
        "id": "PRx4JtF_RGQz"
      },
      "source": [
        "**[TO COMPLETE]** Train the model by passing the noisy input and the clean target."
      ]
    },
    {
      "cell_type": "code",
      "metadata": {
        "id": "wMMPGQbO6lBY",
        "colab": {
          "base_uri": "https://localhost:8080/"
        },
        "outputId": "e4a0ca67-891b-4b5d-a06b-1015fcd5ec82"
      },
      "source": [
        "history = autoencoder.fit(x_train_noisy, x_train, epochs=deep_epochs_number, callbacks=[tf.keras.callbacks.EarlyStopping(monitor='loss', patience=10)], batch_size=512, shuffle=True, validation_data=(x_valid_noisy, x_valid))"
      ],
      "execution_count": 62,
      "outputs": [
        {
          "output_type": "stream",
          "text": [
            "Epoch 1/250\n",
            "98/98 [==============================] - 7s 69ms/step - loss: 0.0932 - val_loss: 0.0660\n",
            "Epoch 2/250\n",
            "98/98 [==============================] - 7s 67ms/step - loss: 0.0638 - val_loss: 0.0540\n",
            "Epoch 3/250\n",
            "98/98 [==============================] - 7s 67ms/step - loss: 0.0525 - val_loss: 0.0491\n",
            "Epoch 4/250\n",
            "98/98 [==============================] - 7s 68ms/step - loss: 0.0470 - val_loss: 0.0439\n",
            "Epoch 5/250\n",
            "98/98 [==============================] - 7s 68ms/step - loss: 0.0433 - val_loss: 0.0417\n",
            "Epoch 6/250\n",
            "98/98 [==============================] - 7s 67ms/step - loss: 0.0408 - val_loss: 0.0399\n",
            "Epoch 7/250\n",
            "98/98 [==============================] - 7s 67ms/step - loss: 0.0393 - val_loss: 0.0385\n",
            "Epoch 8/250\n",
            "98/98 [==============================] - 7s 67ms/step - loss: 0.0379 - val_loss: 0.0378\n",
            "Epoch 9/250\n",
            "98/98 [==============================] - 7s 67ms/step - loss: 0.0369 - val_loss: 0.0370\n",
            "Epoch 10/250\n",
            "98/98 [==============================] - 7s 68ms/step - loss: 0.0359 - val_loss: 0.0362\n",
            "Epoch 11/250\n",
            "98/98 [==============================] - 7s 68ms/step - loss: 0.0356 - val_loss: 0.0358\n",
            "Epoch 12/250\n",
            "98/98 [==============================] - 7s 67ms/step - loss: 0.0344 - val_loss: 0.0353\n",
            "Epoch 13/250\n",
            "98/98 [==============================] - 7s 67ms/step - loss: 0.0339 - val_loss: 0.0350\n",
            "Epoch 14/250\n",
            "98/98 [==============================] - 7s 68ms/step - loss: 0.0334 - val_loss: 0.0348\n",
            "Epoch 15/250\n",
            "98/98 [==============================] - 7s 67ms/step - loss: 0.0330 - val_loss: 0.0340\n",
            "Epoch 16/250\n",
            "98/98 [==============================] - 7s 67ms/step - loss: 0.0325 - val_loss: 0.0336\n",
            "Epoch 17/250\n",
            "98/98 [==============================] - 7s 68ms/step - loss: 0.0320 - val_loss: 0.0338\n",
            "Epoch 18/250\n",
            "98/98 [==============================] - 7s 67ms/step - loss: 0.0317 - val_loss: 0.0334\n",
            "Epoch 19/250\n",
            "98/98 [==============================] - 7s 68ms/step - loss: 0.0313 - val_loss: 0.0331\n",
            "Epoch 20/250\n",
            "98/98 [==============================] - 7s 68ms/step - loss: 0.0309 - val_loss: 0.0327\n",
            "Epoch 21/250\n",
            "98/98 [==============================] - 7s 67ms/step - loss: 0.0306 - val_loss: 0.0331\n",
            "Epoch 22/250\n",
            "98/98 [==============================] - 7s 68ms/step - loss: 0.0303 - val_loss: 0.0325\n",
            "Epoch 23/250\n",
            "98/98 [==============================] - 7s 68ms/step - loss: 0.0300 - val_loss: 0.0322\n",
            "Epoch 24/250\n",
            "98/98 [==============================] - 7s 68ms/step - loss: 0.0295 - val_loss: 0.0321\n",
            "Epoch 25/250\n",
            "98/98 [==============================] - 7s 68ms/step - loss: 0.0292 - val_loss: 0.0321\n",
            "Epoch 26/250\n",
            "98/98 [==============================] - 7s 68ms/step - loss: 0.0289 - val_loss: 0.0321\n",
            "Epoch 27/250\n",
            "98/98 [==============================] - 7s 68ms/step - loss: 0.0287 - val_loss: 0.0318\n",
            "Epoch 28/250\n",
            "98/98 [==============================] - 7s 67ms/step - loss: 0.0284 - val_loss: 0.0320\n",
            "Epoch 29/250\n",
            "98/98 [==============================] - 7s 67ms/step - loss: 0.0282 - val_loss: 0.0317\n",
            "Epoch 30/250\n",
            "98/98 [==============================] - 7s 67ms/step - loss: 0.0278 - val_loss: 0.0318\n",
            "Epoch 31/250\n",
            "98/98 [==============================] - 7s 68ms/step - loss: 0.0276 - val_loss: 0.0318\n",
            "Epoch 32/250\n",
            "98/98 [==============================] - 7s 67ms/step - loss: 0.0272 - val_loss: 0.0316\n",
            "Epoch 33/250\n",
            "98/98 [==============================] - 7s 68ms/step - loss: 0.0268 - val_loss: 0.0317\n",
            "Epoch 34/250\n",
            "98/98 [==============================] - 7s 68ms/step - loss: 0.0266 - val_loss: 0.0318\n",
            "Epoch 35/250\n",
            "98/98 [==============================] - 7s 68ms/step - loss: 0.0265 - val_loss: 0.0315\n",
            "Epoch 36/250\n",
            "98/98 [==============================] - 7s 68ms/step - loss: 0.0259 - val_loss: 0.0315\n",
            "Epoch 37/250\n",
            "98/98 [==============================] - 7s 68ms/step - loss: 0.0257 - val_loss: 0.0317\n",
            "Epoch 38/250\n",
            "98/98 [==============================] - 7s 67ms/step - loss: 0.0255 - val_loss: 0.0319\n",
            "Epoch 39/250\n",
            "98/98 [==============================] - 7s 68ms/step - loss: 0.0252 - val_loss: 0.0316\n",
            "Epoch 40/250\n",
            "98/98 [==============================] - 7s 68ms/step - loss: 0.0249 - val_loss: 0.0319\n",
            "Epoch 41/250\n",
            "98/98 [==============================] - 7s 67ms/step - loss: 0.0246 - val_loss: 0.0320\n",
            "Epoch 42/250\n",
            "98/98 [==============================] - 7s 68ms/step - loss: 0.0244 - val_loss: 0.0317\n",
            "Epoch 43/250\n",
            "98/98 [==============================] - 7s 68ms/step - loss: 0.0240 - val_loss: 0.0316\n",
            "Epoch 44/250\n",
            "98/98 [==============================] - 7s 68ms/step - loss: 0.0237 - val_loss: 0.0318\n",
            "Epoch 45/250\n",
            "98/98 [==============================] - 7s 68ms/step - loss: 0.0234 - val_loss: 0.0322\n",
            "Epoch 46/250\n",
            "98/98 [==============================] - 7s 68ms/step - loss: 0.0231 - val_loss: 0.0325\n",
            "Epoch 47/250\n",
            "98/98 [==============================] - 7s 68ms/step - loss: 0.0231 - val_loss: 0.0322\n",
            "Epoch 48/250\n",
            "98/98 [==============================] - 7s 69ms/step - loss: 0.0227 - val_loss: 0.0324\n",
            "Epoch 49/250\n",
            "98/98 [==============================] - 7s 68ms/step - loss: 0.0225 - val_loss: 0.0325\n",
            "Epoch 50/250\n",
            "98/98 [==============================] - 7s 69ms/step - loss: 0.0221 - val_loss: 0.0328\n",
            "Epoch 51/250\n",
            "98/98 [==============================] - 7s 68ms/step - loss: 0.0220 - val_loss: 0.0329\n",
            "Epoch 52/250\n",
            "98/98 [==============================] - 7s 68ms/step - loss: 0.0218 - val_loss: 0.0331\n",
            "Epoch 53/250\n",
            "98/98 [==============================] - 7s 68ms/step - loss: 0.0215 - val_loss: 0.0330\n",
            "Epoch 54/250\n",
            "98/98 [==============================] - 7s 68ms/step - loss: 0.0213 - val_loss: 0.0330\n",
            "Epoch 55/250\n",
            "98/98 [==============================] - 7s 69ms/step - loss: 0.0210 - val_loss: 0.0333\n",
            "Epoch 56/250\n",
            "98/98 [==============================] - 7s 68ms/step - loss: 0.0209 - val_loss: 0.0333\n",
            "Epoch 57/250\n",
            "98/98 [==============================] - 7s 69ms/step - loss: 0.0205 - val_loss: 0.0338\n",
            "Epoch 58/250\n",
            "98/98 [==============================] - 7s 68ms/step - loss: 0.0205 - val_loss: 0.0339\n",
            "Epoch 59/250\n",
            "98/98 [==============================] - 7s 68ms/step - loss: 0.0204 - val_loss: 0.0338\n",
            "Epoch 60/250\n",
            "98/98 [==============================] - 7s 68ms/step - loss: 0.0199 - val_loss: 0.0339\n",
            "Epoch 61/250\n",
            "98/98 [==============================] - 7s 68ms/step - loss: 0.0198 - val_loss: 0.0338\n",
            "Epoch 62/250\n",
            "98/98 [==============================] - 7s 68ms/step - loss: 0.0197 - val_loss: 0.0341\n",
            "Epoch 63/250\n",
            "98/98 [==============================] - 7s 68ms/step - loss: 0.0194 - val_loss: 0.0341\n",
            "Epoch 64/250\n",
            "98/98 [==============================] - 7s 68ms/step - loss: 0.0193 - val_loss: 0.0344\n",
            "Epoch 65/250\n",
            "98/98 [==============================] - 7s 69ms/step - loss: 0.0192 - val_loss: 0.0345\n",
            "Epoch 66/250\n",
            "98/98 [==============================] - 7s 68ms/step - loss: 0.0191 - val_loss: 0.0350\n",
            "Epoch 67/250\n",
            "98/98 [==============================] - 7s 68ms/step - loss: 0.0189 - val_loss: 0.0349\n",
            "Epoch 68/250\n",
            "98/98 [==============================] - 7s 68ms/step - loss: 0.0187 - val_loss: 0.0349\n",
            "Epoch 69/250\n",
            "98/98 [==============================] - 7s 68ms/step - loss: 0.0185 - val_loss: 0.0349\n",
            "Epoch 70/250\n",
            "98/98 [==============================] - 7s 68ms/step - loss: 0.0182 - val_loss: 0.0351\n",
            "Epoch 71/250\n",
            "98/98 [==============================] - 7s 69ms/step - loss: 0.0183 - val_loss: 0.0354\n",
            "Epoch 72/250\n",
            "98/98 [==============================] - 7s 68ms/step - loss: 0.0180 - val_loss: 0.0352\n",
            "Epoch 73/250\n",
            "98/98 [==============================] - 7s 69ms/step - loss: 0.0179 - val_loss: 0.0355\n",
            "Epoch 74/250\n",
            "98/98 [==============================] - 7s 68ms/step - loss: 0.0177 - val_loss: 0.0358\n",
            "Epoch 75/250\n",
            "98/98 [==============================] - 7s 68ms/step - loss: 0.0175 - val_loss: 0.0362\n",
            "Epoch 76/250\n",
            "98/98 [==============================] - 7s 69ms/step - loss: 0.0177 - val_loss: 0.0362\n",
            "Epoch 77/250\n",
            "98/98 [==============================] - 7s 69ms/step - loss: 0.0174 - val_loss: 0.0363\n",
            "Epoch 78/250\n",
            "98/98 [==============================] - 7s 69ms/step - loss: 0.0172 - val_loss: 0.0364\n",
            "Epoch 79/250\n",
            "98/98 [==============================] - 7s 68ms/step - loss: 0.0169 - val_loss: 0.0363\n",
            "Epoch 80/250\n",
            "98/98 [==============================] - 7s 68ms/step - loss: 0.0171 - val_loss: 0.0364\n",
            "Epoch 81/250\n",
            "98/98 [==============================] - 7s 68ms/step - loss: 0.0168 - val_loss: 0.0369\n",
            "Epoch 82/250\n",
            "98/98 [==============================] - 7s 69ms/step - loss: 0.0168 - val_loss: 0.0366\n",
            "Epoch 83/250\n",
            "98/98 [==============================] - 7s 68ms/step - loss: 0.0166 - val_loss: 0.0367\n",
            "Epoch 84/250\n",
            "98/98 [==============================] - 7s 68ms/step - loss: 0.0165 - val_loss: 0.0368\n",
            "Epoch 85/250\n",
            "98/98 [==============================] - 7s 68ms/step - loss: 0.0163 - val_loss: 0.0370\n",
            "Epoch 86/250\n",
            "98/98 [==============================] - 7s 69ms/step - loss: 0.0162 - val_loss: 0.0369\n",
            "Epoch 87/250\n",
            "98/98 [==============================] - 7s 68ms/step - loss: 0.0162 - val_loss: 0.0373\n",
            "Epoch 88/250\n",
            "98/98 [==============================] - 7s 68ms/step - loss: 0.0162 - val_loss: 0.0374\n",
            "Epoch 89/250\n",
            "98/98 [==============================] - 7s 68ms/step - loss: 0.0159 - val_loss: 0.0374\n",
            "Epoch 90/250\n",
            "98/98 [==============================] - 7s 68ms/step - loss: 0.0159 - val_loss: 0.0376\n",
            "Epoch 91/250\n",
            "98/98 [==============================] - 7s 68ms/step - loss: 0.0157 - val_loss: 0.0376\n",
            "Epoch 92/250\n",
            "98/98 [==============================] - 7s 68ms/step - loss: 0.0156 - val_loss: 0.0381\n",
            "Epoch 93/250\n",
            "98/98 [==============================] - 7s 68ms/step - loss: 0.0157 - val_loss: 0.0386\n",
            "Epoch 94/250\n",
            "98/98 [==============================] - 7s 68ms/step - loss: 0.0155 - val_loss: 0.0385\n",
            "Epoch 95/250\n",
            "98/98 [==============================] - 7s 68ms/step - loss: 0.0154 - val_loss: 0.0385\n",
            "Epoch 96/250\n",
            "98/98 [==============================] - 7s 68ms/step - loss: 0.0154 - val_loss: 0.0383\n",
            "Epoch 97/250\n",
            "98/98 [==============================] - 7s 68ms/step - loss: 0.0152 - val_loss: 0.0382\n",
            "Epoch 98/250\n",
            "98/98 [==============================] - 7s 68ms/step - loss: 0.0150 - val_loss: 0.0388\n",
            "Epoch 99/250\n",
            "98/98 [==============================] - 7s 69ms/step - loss: 0.0151 - val_loss: 0.0383\n",
            "Epoch 100/250\n",
            "98/98 [==============================] - 7s 69ms/step - loss: 0.0149 - val_loss: 0.0389\n",
            "Epoch 101/250\n",
            "98/98 [==============================] - 7s 69ms/step - loss: 0.0150 - val_loss: 0.0389\n",
            "Epoch 102/250\n",
            "98/98 [==============================] - 7s 69ms/step - loss: 0.0148 - val_loss: 0.0389\n",
            "Epoch 103/250\n",
            "98/98 [==============================] - 7s 68ms/step - loss: 0.0147 - val_loss: 0.0390\n",
            "Epoch 104/250\n",
            "98/98 [==============================] - 7s 68ms/step - loss: 0.0146 - val_loss: 0.0393\n",
            "Epoch 105/250\n",
            "98/98 [==============================] - 7s 68ms/step - loss: 0.0147 - val_loss: 0.0393\n",
            "Epoch 106/250\n",
            "98/98 [==============================] - 7s 69ms/step - loss: 0.0145 - val_loss: 0.0394\n",
            "Epoch 107/250\n",
            "98/98 [==============================] - 7s 70ms/step - loss: 0.0143 - val_loss: 0.0394\n",
            "Epoch 108/250\n",
            "98/98 [==============================] - 7s 70ms/step - loss: 0.0144 - val_loss: 0.0395\n",
            "Epoch 109/250\n",
            "98/98 [==============================] - 7s 71ms/step - loss: 0.0143 - val_loss: 0.0399\n",
            "Epoch 110/250\n",
            "98/98 [==============================] - 7s 70ms/step - loss: 0.0142 - val_loss: 0.0399\n",
            "Epoch 111/250\n",
            "98/98 [==============================] - 7s 70ms/step - loss: 0.0141 - val_loss: 0.0400\n",
            "Epoch 112/250\n",
            "98/98 [==============================] - 7s 69ms/step - loss: 0.0140 - val_loss: 0.0400\n",
            "Epoch 113/250\n",
            "98/98 [==============================] - 7s 70ms/step - loss: 0.0139 - val_loss: 0.0406\n",
            "Epoch 114/250\n",
            "98/98 [==============================] - 7s 69ms/step - loss: 0.0140 - val_loss: 0.0401\n",
            "Epoch 115/250\n",
            "98/98 [==============================] - 7s 69ms/step - loss: 0.0138 - val_loss: 0.0406\n",
            "Epoch 116/250\n",
            "98/98 [==============================] - 7s 69ms/step - loss: 0.0139 - val_loss: 0.0404\n",
            "Epoch 117/250\n",
            "98/98 [==============================] - 7s 69ms/step - loss: 0.0137 - val_loss: 0.0408\n",
            "Epoch 118/250\n",
            "98/98 [==============================] - 7s 69ms/step - loss: 0.0137 - val_loss: 0.0408\n",
            "Epoch 119/250\n",
            "98/98 [==============================] - 7s 69ms/step - loss: 0.0138 - val_loss: 0.0408\n",
            "Epoch 120/250\n",
            "98/98 [==============================] - 7s 70ms/step - loss: 0.0136 - val_loss: 0.0408\n",
            "Epoch 121/250\n",
            "98/98 [==============================] - 7s 70ms/step - loss: 0.0135 - val_loss: 0.0414\n",
            "Epoch 122/250\n",
            "98/98 [==============================] - 7s 69ms/step - loss: 0.0135 - val_loss: 0.0409\n",
            "Epoch 123/250\n",
            "98/98 [==============================] - 7s 69ms/step - loss: 0.0135 - val_loss: 0.0410\n",
            "Epoch 124/250\n",
            "98/98 [==============================] - 7s 69ms/step - loss: 0.0134 - val_loss: 0.0413\n",
            "Epoch 125/250\n",
            "98/98 [==============================] - 7s 69ms/step - loss: 0.0132 - val_loss: 0.0415\n",
            "Epoch 126/250\n",
            "98/98 [==============================] - 7s 69ms/step - loss: 0.0132 - val_loss: 0.0412\n",
            "Epoch 127/250\n",
            "98/98 [==============================] - 7s 68ms/step - loss: 0.0132 - val_loss: 0.0411\n",
            "Epoch 128/250\n",
            "98/98 [==============================] - 7s 68ms/step - loss: 0.0132 - val_loss: 0.0419\n",
            "Epoch 129/250\n",
            "98/98 [==============================] - 7s 68ms/step - loss: 0.0131 - val_loss: 0.0420\n",
            "Epoch 130/250\n",
            "98/98 [==============================] - 7s 68ms/step - loss: 0.0130 - val_loss: 0.0421\n",
            "Epoch 131/250\n",
            "98/98 [==============================] - 7s 69ms/step - loss: 0.0132 - val_loss: 0.0418\n",
            "Epoch 132/250\n",
            "98/98 [==============================] - 7s 68ms/step - loss: 0.0129 - val_loss: 0.0420\n",
            "Epoch 133/250\n",
            "98/98 [==============================] - 7s 69ms/step - loss: 0.0128 - val_loss: 0.0423\n",
            "Epoch 134/250\n",
            "98/98 [==============================] - 7s 68ms/step - loss: 0.0127 - val_loss: 0.0420\n",
            "Epoch 135/250\n",
            "98/98 [==============================] - 7s 69ms/step - loss: 0.0127 - val_loss: 0.0428\n",
            "Epoch 136/250\n",
            "98/98 [==============================] - 7s 68ms/step - loss: 0.0128 - val_loss: 0.0423\n",
            "Epoch 137/250\n",
            "98/98 [==============================] - 7s 68ms/step - loss: 0.0126 - val_loss: 0.0424\n",
            "Epoch 138/250\n",
            "98/98 [==============================] - 7s 69ms/step - loss: 0.0127 - val_loss: 0.0424\n",
            "Epoch 139/250\n",
            "98/98 [==============================] - 7s 68ms/step - loss: 0.0126 - val_loss: 0.0426\n",
            "Epoch 140/250\n",
            "98/98 [==============================] - 7s 69ms/step - loss: 0.0126 - val_loss: 0.0433\n",
            "Epoch 141/250\n",
            "98/98 [==============================] - 7s 69ms/step - loss: 0.0126 - val_loss: 0.0427\n",
            "Epoch 142/250\n",
            "98/98 [==============================] - 7s 68ms/step - loss: 0.0124 - val_loss: 0.0426\n",
            "Epoch 143/250\n",
            "98/98 [==============================] - 7s 68ms/step - loss: 0.0126 - val_loss: 0.0427\n",
            "Epoch 144/250\n",
            "98/98 [==============================] - 7s 69ms/step - loss: 0.0123 - val_loss: 0.0427\n",
            "Epoch 145/250\n",
            "98/98 [==============================] - 7s 69ms/step - loss: 0.0123 - val_loss: 0.0435\n",
            "Epoch 146/250\n",
            "98/98 [==============================] - 7s 69ms/step - loss: 0.0124 - val_loss: 0.0432\n",
            "Epoch 147/250\n",
            "98/98 [==============================] - 7s 69ms/step - loss: 0.0122 - val_loss: 0.0433\n",
            "Epoch 148/250\n",
            "98/98 [==============================] - 7s 69ms/step - loss: 0.0122 - val_loss: 0.0431\n",
            "Epoch 149/250\n",
            "98/98 [==============================] - 7s 69ms/step - loss: 0.0123 - val_loss: 0.0433\n",
            "Epoch 150/250\n",
            "98/98 [==============================] - 7s 69ms/step - loss: 0.0122 - val_loss: 0.0434\n",
            "Epoch 151/250\n",
            "98/98 [==============================] - 7s 69ms/step - loss: 0.0124 - val_loss: 0.0432\n",
            "Epoch 152/250\n",
            "98/98 [==============================] - 7s 69ms/step - loss: 0.0120 - val_loss: 0.0435\n",
            "Epoch 153/250\n",
            "98/98 [==============================] - 7s 69ms/step - loss: 0.0119 - val_loss: 0.0436\n",
            "Epoch 154/250\n",
            "98/98 [==============================] - 7s 69ms/step - loss: 0.0120 - val_loss: 0.0435\n",
            "Epoch 155/250\n",
            "98/98 [==============================] - 7s 70ms/step - loss: 0.0120 - val_loss: 0.0440\n",
            "Epoch 156/250\n",
            "98/98 [==============================] - 7s 69ms/step - loss: 0.0120 - val_loss: 0.0438\n",
            "Epoch 157/250\n",
            "98/98 [==============================] - 7s 69ms/step - loss: 0.0118 - val_loss: 0.0438\n",
            "Epoch 158/250\n",
            "98/98 [==============================] - 7s 69ms/step - loss: 0.0117 - val_loss: 0.0439\n",
            "Epoch 159/250\n",
            "98/98 [==============================] - 7s 70ms/step - loss: 0.0120 - val_loss: 0.0441\n",
            "Epoch 160/250\n",
            "98/98 [==============================] - 7s 70ms/step - loss: 0.0117 - val_loss: 0.0438\n",
            "Epoch 161/250\n",
            "98/98 [==============================] - 7s 69ms/step - loss: 0.0118 - val_loss: 0.0442\n",
            "Epoch 162/250\n",
            "98/98 [==============================] - 7s 69ms/step - loss: 0.0117 - val_loss: 0.0440\n",
            "Epoch 163/250\n",
            "98/98 [==============================] - 7s 69ms/step - loss: 0.0115 - val_loss: 0.0443\n",
            "Epoch 164/250\n",
            "98/98 [==============================] - 7s 69ms/step - loss: 0.0115 - val_loss: 0.0444\n",
            "Epoch 165/250\n",
            "98/98 [==============================] - 7s 69ms/step - loss: 0.0115 - val_loss: 0.0446\n",
            "Epoch 166/250\n",
            "98/98 [==============================] - 7s 70ms/step - loss: 0.0116 - val_loss: 0.0444\n",
            "Epoch 167/250\n",
            "98/98 [==============================] - 7s 69ms/step - loss: 0.0117 - val_loss: 0.0447\n",
            "Epoch 168/250\n",
            "98/98 [==============================] - 7s 69ms/step - loss: 0.0115 - val_loss: 0.0450\n",
            "Epoch 169/250\n",
            "98/98 [==============================] - 7s 69ms/step - loss: 0.0114 - val_loss: 0.0445\n",
            "Epoch 170/250\n",
            "98/98 [==============================] - 7s 69ms/step - loss: 0.0113 - val_loss: 0.0449\n",
            "Epoch 171/250\n",
            "98/98 [==============================] - 7s 69ms/step - loss: 0.0113 - val_loss: 0.0448\n",
            "Epoch 172/250\n",
            "98/98 [==============================] - 7s 69ms/step - loss: 0.0114 - val_loss: 0.0449\n",
            "Epoch 173/250\n",
            "98/98 [==============================] - 7s 69ms/step - loss: 0.0112 - val_loss: 0.0452\n",
            "Epoch 174/250\n",
            "98/98 [==============================] - 7s 69ms/step - loss: 0.0112 - val_loss: 0.0451\n",
            "Epoch 175/250\n",
            "98/98 [==============================] - 7s 69ms/step - loss: 0.0112 - val_loss: 0.0449\n",
            "Epoch 176/250\n",
            "98/98 [==============================] - 7s 69ms/step - loss: 0.0114 - val_loss: 0.0450\n",
            "Epoch 177/250\n",
            "98/98 [==============================] - 7s 69ms/step - loss: 0.0112 - val_loss: 0.0451\n",
            "Epoch 178/250\n",
            "98/98 [==============================] - 7s 69ms/step - loss: 0.0112 - val_loss: 0.0451\n",
            "Epoch 179/250\n",
            "98/98 [==============================] - 7s 69ms/step - loss: 0.0111 - val_loss: 0.0451\n",
            "Epoch 180/250\n",
            "98/98 [==============================] - 7s 69ms/step - loss: 0.0114 - val_loss: 0.0453\n",
            "Epoch 181/250\n",
            "98/98 [==============================] - 7s 69ms/step - loss: 0.0110 - val_loss: 0.0455\n",
            "Epoch 182/250\n",
            "98/98 [==============================] - 7s 68ms/step - loss: 0.0110 - val_loss: 0.0457\n",
            "Epoch 183/250\n",
            "98/98 [==============================] - 7s 69ms/step - loss: 0.0111 - val_loss: 0.0455\n",
            "Epoch 184/250\n",
            "98/98 [==============================] - 7s 69ms/step - loss: 0.0110 - val_loss: 0.0451\n",
            "Epoch 185/250\n",
            "98/98 [==============================] - 7s 69ms/step - loss: 0.0110 - val_loss: 0.0457\n",
            "Epoch 186/250\n",
            "98/98 [==============================] - 7s 69ms/step - loss: 0.0109 - val_loss: 0.0456\n",
            "Epoch 187/250\n",
            "98/98 [==============================] - 7s 69ms/step - loss: 0.0109 - val_loss: 0.0454\n",
            "Epoch 188/250\n",
            "98/98 [==============================] - 7s 69ms/step - loss: 0.0108 - val_loss: 0.0458\n",
            "Epoch 189/250\n",
            "98/98 [==============================] - 7s 69ms/step - loss: 0.0109 - val_loss: 0.0463\n",
            "Epoch 190/250\n",
            "98/98 [==============================] - 7s 69ms/step - loss: 0.0108 - val_loss: 0.0463\n",
            "Epoch 191/250\n",
            "98/98 [==============================] - 7s 69ms/step - loss: 0.0108 - val_loss: 0.0466\n",
            "Epoch 192/250\n",
            "98/98 [==============================] - 7s 69ms/step - loss: 0.0110 - val_loss: 0.0460\n",
            "Epoch 193/250\n",
            "98/98 [==============================] - 7s 70ms/step - loss: 0.0107 - val_loss: 0.0465\n",
            "Epoch 194/250\n",
            "98/98 [==============================] - 7s 69ms/step - loss: 0.0107 - val_loss: 0.0461\n",
            "Epoch 195/250\n",
            "98/98 [==============================] - 7s 70ms/step - loss: 0.0107 - val_loss: 0.0461\n",
            "Epoch 196/250\n",
            "98/98 [==============================] - 7s 70ms/step - loss: 0.0107 - val_loss: 0.0465\n",
            "Epoch 197/250\n",
            "98/98 [==============================] - 7s 70ms/step - loss: 0.0109 - val_loss: 0.0463\n",
            "Epoch 198/250\n",
            "98/98 [==============================] - 7s 69ms/step - loss: 0.0106 - val_loss: 0.0463\n",
            "Epoch 199/250\n",
            "98/98 [==============================] - 7s 70ms/step - loss: 0.0105 - val_loss: 0.0463\n",
            "Epoch 200/250\n",
            "98/98 [==============================] - 7s 69ms/step - loss: 0.0106 - val_loss: 0.0470\n",
            "Epoch 201/250\n",
            "98/98 [==============================] - 7s 69ms/step - loss: 0.0107 - val_loss: 0.0462\n",
            "Epoch 202/250\n",
            "98/98 [==============================] - 7s 70ms/step - loss: 0.0106 - val_loss: 0.0463\n",
            "Epoch 203/250\n",
            "98/98 [==============================] - 7s 69ms/step - loss: 0.0105 - val_loss: 0.0464\n",
            "Epoch 204/250\n",
            "98/98 [==============================] - 7s 69ms/step - loss: 0.0104 - val_loss: 0.0471\n",
            "Epoch 205/250\n",
            "98/98 [==============================] - 7s 70ms/step - loss: 0.0107 - val_loss: 0.0470\n",
            "Epoch 206/250\n",
            "98/98 [==============================] - 7s 70ms/step - loss: 0.0105 - val_loss: 0.0468\n",
            "Epoch 207/250\n",
            "98/98 [==============================] - 7s 70ms/step - loss: 0.0106 - val_loss: 0.0470\n",
            "Epoch 208/250\n",
            "98/98 [==============================] - 7s 69ms/step - loss: 0.0104 - val_loss: 0.0470\n",
            "Epoch 209/250\n",
            "98/98 [==============================] - 7s 69ms/step - loss: 0.0106 - val_loss: 0.0469\n",
            "Epoch 210/250\n",
            "98/98 [==============================] - 7s 69ms/step - loss: 0.0103 - val_loss: 0.0475\n",
            "Epoch 211/250\n",
            "98/98 [==============================] - 7s 70ms/step - loss: 0.0105 - val_loss: 0.0474\n",
            "Epoch 212/250\n",
            "98/98 [==============================] - 7s 69ms/step - loss: 0.0103 - val_loss: 0.0471\n",
            "Epoch 213/250\n",
            "98/98 [==============================] - 7s 70ms/step - loss: 0.0103 - val_loss: 0.0472\n",
            "Epoch 214/250\n",
            "98/98 [==============================] - 7s 69ms/step - loss: 0.0102 - val_loss: 0.0471\n",
            "Epoch 215/250\n",
            "98/98 [==============================] - 7s 70ms/step - loss: 0.0102 - val_loss: 0.0476\n",
            "Epoch 216/250\n",
            "98/98 [==============================] - 7s 70ms/step - loss: 0.0102 - val_loss: 0.0473\n",
            "Epoch 217/250\n",
            "98/98 [==============================] - 7s 69ms/step - loss: 0.0101 - val_loss: 0.0480\n",
            "Epoch 218/250\n",
            "98/98 [==============================] - 7s 69ms/step - loss: 0.0103 - val_loss: 0.0473\n",
            "Epoch 219/250\n",
            "98/98 [==============================] - 7s 69ms/step - loss: 0.0103 - val_loss: 0.0470\n",
            "Epoch 220/250\n",
            "98/98 [==============================] - 7s 69ms/step - loss: 0.0103 - val_loss: 0.0475\n",
            "Epoch 221/250\n",
            "98/98 [==============================] - 7s 69ms/step - loss: 0.0101 - val_loss: 0.0472\n",
            "Epoch 222/250\n",
            "98/98 [==============================] - 7s 70ms/step - loss: 0.0102 - val_loss: 0.0480\n",
            "Epoch 223/250\n",
            "98/98 [==============================] - 7s 69ms/step - loss: 0.0101 - val_loss: 0.0476\n",
            "Epoch 224/250\n",
            "98/98 [==============================] - 7s 69ms/step - loss: 0.0100 - val_loss: 0.0476\n",
            "Epoch 225/250\n",
            "98/98 [==============================] - 7s 69ms/step - loss: 0.0101 - val_loss: 0.0480\n",
            "Epoch 226/250\n",
            "98/98 [==============================] - 7s 70ms/step - loss: 0.0100 - val_loss: 0.0479\n",
            "Epoch 227/250\n",
            "98/98 [==============================] - 7s 69ms/step - loss: 0.0103 - val_loss: 0.0479\n",
            "Epoch 228/250\n",
            "98/98 [==============================] - 7s 69ms/step - loss: 0.0100 - val_loss: 0.0477\n",
            "Epoch 229/250\n",
            "98/98 [==============================] - 7s 69ms/step - loss: 0.0100 - val_loss: 0.0480\n",
            "Epoch 230/250\n",
            "98/98 [==============================] - 7s 69ms/step - loss: 0.0099 - val_loss: 0.0481\n",
            "Epoch 231/250\n",
            "98/98 [==============================] - 7s 69ms/step - loss: 0.0099 - val_loss: 0.0482\n",
            "Epoch 232/250\n",
            "98/98 [==============================] - 7s 69ms/step - loss: 0.0101 - val_loss: 0.0478\n",
            "Epoch 233/250\n",
            "98/98 [==============================] - 7s 69ms/step - loss: 0.0100 - val_loss: 0.0480\n",
            "Epoch 234/250\n",
            "98/98 [==============================] - 7s 69ms/step - loss: 0.0100 - val_loss: 0.0482\n",
            "Epoch 235/250\n",
            "98/98 [==============================] - 7s 69ms/step - loss: 0.0097 - val_loss: 0.0477\n",
            "Epoch 236/250\n",
            "98/98 [==============================] - 7s 70ms/step - loss: 0.0098 - val_loss: 0.0481\n",
            "Epoch 237/250\n",
            "98/98 [==============================] - 7s 69ms/step - loss: 0.0098 - val_loss: 0.0484\n",
            "Epoch 238/250\n",
            "98/98 [==============================] - 7s 69ms/step - loss: 0.0098 - val_loss: 0.0484\n",
            "Epoch 239/250\n",
            "98/98 [==============================] - 7s 69ms/step - loss: 0.0098 - val_loss: 0.0482\n",
            "Epoch 240/250\n",
            "98/98 [==============================] - 7s 69ms/step - loss: 0.0098 - val_loss: 0.0483\n",
            "Epoch 241/250\n",
            "98/98 [==============================] - 7s 69ms/step - loss: 0.0098 - val_loss: 0.0483\n",
            "Epoch 242/250\n",
            "98/98 [==============================] - 7s 69ms/step - loss: 0.0098 - val_loss: 0.0487\n",
            "Epoch 243/250\n",
            "98/98 [==============================] - 7s 70ms/step - loss: 0.0096 - val_loss: 0.0482\n",
            "Epoch 244/250\n",
            "98/98 [==============================] - 7s 70ms/step - loss: 0.0097 - val_loss: 0.0487\n",
            "Epoch 245/250\n",
            "98/98 [==============================] - 7s 69ms/step - loss: 0.0098 - val_loss: 0.0482\n",
            "Epoch 246/250\n",
            "98/98 [==============================] - 7s 70ms/step - loss: 0.0096 - val_loss: 0.0486\n",
            "Epoch 247/250\n",
            "98/98 [==============================] - 7s 69ms/step - loss: 0.0098 - val_loss: 0.0486\n",
            "Epoch 248/250\n",
            "98/98 [==============================] - 7s 70ms/step - loss: 0.0097 - val_loss: 0.0487\n",
            "Epoch 249/250\n",
            "98/98 [==============================] - 7s 69ms/step - loss: 0.0097 - val_loss: 0.0490\n",
            "Epoch 250/250\n",
            "98/98 [==============================] - 7s 69ms/step - loss: 0.0096 - val_loss: 0.0491\n"
          ],
          "name": "stdout"
        }
      ]
    },
    {
      "cell_type": "code",
      "metadata": {
        "id": "FCw0jn077Wn9",
        "colab": {
          "base_uri": "https://localhost:8080/",
          "height": 424
        },
        "outputId": "8faab960-acfe-459b-dfd3-4c5c1c1781d1"
      },
      "source": [
        "plot_loss(history)\n",
        "\n",
        "scores = autoencoder.evaluate(x_test_noisy, x_test, verbose=2)\n",
        "print(\"test mse: %.5f\" % (scores))"
      ],
      "execution_count": 63,
      "outputs": [
        {
          "output_type": "stream",
          "text": [
            "313/313 - 1s - loss: 0.0487\n",
            "test mse: 0.04873\n"
          ],
          "name": "stdout"
        },
        {
          "output_type": "display_data",
          "data": {
            "image/png": "[encoded data removed]",
            "text/plain": [
              "<Figure size 720x432 with 1 Axes>"
            ]
          },
          "metadata": {
            "tags": [],
            "needs_background": "light"
          }
        }
      ]
    },
    {
      "cell_type": "markdown",
      "metadata": {
        "id": "aHOQfAPZRYUY"
      },
      "source": [
        "**[TO COMPLETE]** Check the result by plotting some input images and the corresponding denoised outputs."
      ]
    },
    {
      "cell_type": "code",
      "metadata": {
        "id": "XUWwHDT3HiGX",
        "colab": {
          "base_uri": "https://localhost:8080/",
          "height": 163
        },
        "outputId": "d95df911-724c-4d71-c51d-ff9f02d059b4"
      },
      "source": [
        "decoded_imgs = autoencoder.predict(x_test_noisy)\n",
        "\n",
        "plot_img(10, x_test_noisy, decoded_imgs)"
      ],
      "execution_count": 64,
      "outputs": [
        {
          "output_type": "display_data",
          "data": {
            "image/png": "[encoded data removed]",
            "text/plain": [
              "<Figure size 1440x288 with 20 Axes>"
            ]
          },
          "metadata": {
            "tags": [],
            "needs_background": "light"
          }
        }
      ]
    },
    {
      "cell_type": "markdown",
      "metadata": {
        "id": "lInEGwkch5MW"
      },
      "source": [
        "## Exercise 5.6: Linear Autoencoder for sequences\n",
        "\n",
        "Let's define a linear autoencoder for sequences. In this case, as dataset, we will use the IMDB dataset (already presented in HW4). To have a model that can be trained and tested in a reasonable time (and that works also with the memory limitation that we have in Colab), we will limit the number of training samples and test samples."
      ]
    },
    {
      "cell_type": "code",
      "metadata": {
        "id": "nOJLUpNuaEc5",
        "colab": {
          "base_uri": "https://localhost:8080/"
        },
        "outputId": "b6ef914b-5c7a-4ca8-b052-d0eaaf2e5469"
      },
      "source": [
        "num_words = 100\n",
        "(X_train, _), (X_test, _) = keras.datasets.imdb.load_data(num_words=num_words)\n",
        "\n",
        "X_train=X_train[:10000]\n",
        "\n",
        "(X_valid, X_test) = X_test[:1250], X_test[-1250:]\n",
        "\n",
        "word_index = keras.datasets.imdb.get_word_index()\n",
        "\n",
        "reverse_index = {word_id + 3: word for word, word_id in word_index.items()}\n",
        "reverse_index[0] = \"<pad>\" # padding\n",
        "reverse_index[1] = \"<sos>\" # start of sequence\n",
        "reverse_index[2] = \"<oov>\" # out-of-vocabulary\n",
        "reverse_index[3] = \"<unk>\" # unknown\n",
        "\n",
        "def decode_review(word_ids):\n",
        "    return \" \".join([reverse_index.get(word_id, \"<err>\") for word_id in word_ids])\n",
        "\n",
        "\n",
        "maxlen = 90\n",
        "X_train_trim = keras.preprocessing.sequence.pad_sequences(X_train, maxlen=maxlen)\n",
        "X_test_trim = keras.preprocessing.sequence.pad_sequences(X_test, maxlen=maxlen)\n",
        "X_valid_trim = keras.preprocessing.sequence.pad_sequences(X_valid, maxlen=maxlen)\n",
        "\n"
      ],
      "execution_count": 65,
      "outputs": [
        {
          "output_type": "stream",
          "text": [
            "Downloading data from https://storage.googleapis.com/tensorflow/tf-keras-datasets/imdb.npz\n",
            "17465344/17464789 [==============================] - 0s 0us/step\n"
          ],
          "name": "stdout"
        },
        {
          "output_type": "stream",
          "text": [
            "<string>:6: VisibleDeprecationWarning: Creating an ndarray from ragged nested sequences (which is a list-or-tuple of lists-or-tuples-or ndarrays with different lengths or shapes) is deprecated. If you meant to do this, you must specify 'dtype=object' when creating the ndarray\n",
            "/usr/local/lib/python3.7/dist-packages/tensorflow/python/keras/datasets/imdb.py:159: VisibleDeprecationWarning: Creating an ndarray from ragged nested sequences (which is a list-or-tuple of lists-or-tuples-or ndarrays with different lengths or shapes) is deprecated. If you meant to do this, you must specify 'dtype=object' when creating the ndarray\n",
            "  x_train, y_train = np.array(xs[:idx]), np.array(labels[:idx])\n"
          ],
          "name": "stderr"
        },
        {
          "output_type": "stream",
          "text": [
            "Downloading data from https://storage.googleapis.com/tensorflow/tf-keras-datasets/imdb_word_index.json\n",
            "1646592/1641221 [==============================] - 0s 0us/step\n"
          ],
          "name": "stdout"
        },
        {
          "output_type": "stream",
          "text": [
            "/usr/local/lib/python3.7/dist-packages/tensorflow/python/keras/datasets/imdb.py:160: VisibleDeprecationWarning: Creating an ndarray from ragged nested sequences (which is a list-or-tuple of lists-or-tuples-or ndarrays with different lengths or shapes) is deprecated. If you meant to do this, you must specify 'dtype=object' when creating the ndarray\n",
            "  x_test, y_test = np.array(xs[idx:]), np.array(labels[idx:])\n"
          ],
          "name": "stderr"
        }
      ]
    },
    {
      "cell_type": "markdown",
      "metadata": {
        "id": "LoXke75qeitM"
      },
      "source": [
        "In this case, we want to use as input/target a one-hot representation for each word. To convert the index representation provided by IMDB dataset loader we use the to_categorical method to transform them in the corresponding one hot representation."
      ]
    },
    {
      "cell_type": "code",
      "metadata": {
        "id": "Fpa0BwSxaXiw"
      },
      "source": [
        "from keras.utils import to_categorical\n",
        "\n",
        "\n",
        "X_train_one_hot=to_categorical(X_train_trim)\n",
        "X_test_one_hot=to_categorical(X_test_trim)\n",
        "X_valid_one_hot=to_categorical(X_valid_trim)\n"
      ],
      "execution_count": 66,
      "outputs": []
    },
    {
      "cell_type": "markdown",
      "metadata": {
        "id": "gApoz_RFiciZ"
      },
      "source": [
        "Define a linear shallow autoencoder for sequences. The structure will be similar to the model defined in Exercise 5.2, while the used encoding layer is defined by using tf.keras.layers.SimpleRNN. Note that it uses linear activations. The decoding layer exploits [tf.keras.layers.TimeDistributed](https://www.tensorflow.org/api_docs/python/tf/keras/layers/TimeDistributed) that allows using the same dense cell at each time step of the sequence. "
      ]
    },
    {
      "cell_type": "code",
      "metadata": {
        "id": "S69HgNmAicUp",
        "colab": {
          "base_uri": "https://localhost:8080/"
        },
        "outputId": "c17ccf0a-ce5b-4a57-8c5e-f9202b075b6b"
      },
      "source": [
        "inputs = tf.keras.layers.Input(shape=(maxlen, num_words))\n",
        "encoded = tf.keras.layers.SimpleRNN(50, return_sequences=True, activation='linear')(inputs)\n",
        "\n",
        "decoded = tf.keras.layers.TimeDistributed(tf.keras.layers.Dense(num_words, activation='linear'))(encoded)\n",
        "\n",
        "sequence_autoencoder = tf.keras.models.Model(inputs, decoded)\n",
        "encoder = tf.keras.models.Model(inputs, encoded)\n",
        "\n",
        "sequence_autoencoder.compile(optimizer=tf.keras.optimizers.Adam(learning_rate=0.001), loss='binary_crossentropy', metrics=[\"CategoricalAccuracy\"])\n",
        "\n",
        "sequence_autoencoder.summary()"
      ],
      "execution_count": 67,
      "outputs": [
        {
          "output_type": "stream",
          "text": [
            "Model: \"model_20\"\n",
            "_________________________________________________________________\n",
            "Layer (type)                 Output Shape              Param #   \n",
            "=================================================================\n",
            "input_15 (InputLayer)        [(None, 90, 100)]         0         \n",
            "_________________________________________________________________\n",
            "simple_rnn (SimpleRNN)       (None, 90, 50)            7550      \n",
            "_________________________________________________________________\n",
            "time_distributed (TimeDistri (None, 90, 100)           5100      \n",
            "=================================================================\n",
            "Total params: 12,650\n",
            "Trainable params: 12,650\n",
            "Non-trainable params: 0\n",
            "_________________________________________________________________\n"
          ],
          "name": "stdout"
        }
      ]
    },
    {
      "cell_type": "code",
      "metadata": {
        "id": "haFSyKBRjsWW",
        "colab": {
          "base_uri": "https://localhost:8080/"
        },
        "outputId": "c548fdfd-6858-4cc8-8d43-0bd31413c43f"
      },
      "source": [
        "history = sequence_autoencoder.fit(X_train_one_hot, X_train_one_hot, epochs=50, batch_size=128, shuffle=True, validation_data=(X_valid_one_hot, X_valid_one_hot))"
      ],
      "execution_count": 68,
      "outputs": [
        {
          "output_type": "stream",
          "text": [
            "Epoch 1/50\n",
            "79/79 [==============================] - 6s 70ms/step - loss: 0.3470 - categorical_accuracy: 0.0847 - val_loss: 0.0875 - val_categorical_accuracy: 0.3947\n",
            "Epoch 2/50\n",
            "79/79 [==============================] - 5s 67ms/step - loss: 0.0805 - categorical_accuracy: 0.3890 - val_loss: 0.0703 - val_categorical_accuracy: 0.4788\n",
            "Epoch 3/50\n",
            "79/79 [==============================] - 5s 67ms/step - loss: 0.0677 - categorical_accuracy: 0.4866 - val_loss: 0.0755 - val_categorical_accuracy: 0.3504\n",
            "Epoch 4/50\n",
            "79/79 [==============================] - 6s 70ms/step - loss: 0.0705 - categorical_accuracy: 0.4083 - val_loss: 0.0591 - val_categorical_accuracy: 0.5230\n",
            "Epoch 5/50\n",
            "79/79 [==============================] - 5s 67ms/step - loss: 0.0566 - categorical_accuracy: 0.5383 - val_loss: 0.0529 - val_categorical_accuracy: 0.5515\n",
            "Epoch 6/50\n",
            "79/79 [==============================] - 5s 68ms/step - loss: 0.0508 - categorical_accuracy: 0.5689 - val_loss: 0.0483 - val_categorical_accuracy: 0.5748\n",
            "Epoch 7/50\n",
            "79/79 [==============================] - 5s 69ms/step - loss: 0.0466 - categorical_accuracy: 0.5845 - val_loss: 0.0448 - val_categorical_accuracy: 0.5957\n",
            "Epoch 8/50\n",
            "79/79 [==============================] - 5s 69ms/step - loss: 0.0431 - categorical_accuracy: 0.6133 - val_loss: 0.0418 - val_categorical_accuracy: 0.6330\n",
            "Epoch 9/50\n",
            "79/79 [==============================] - 5s 68ms/step - loss: 0.0404 - categorical_accuracy: 0.6432 - val_loss: 0.0389 - val_categorical_accuracy: 0.6433\n",
            "Epoch 10/50\n",
            "79/79 [==============================] - 5s 69ms/step - loss: 0.0377 - categorical_accuracy: 0.6558 - val_loss: 0.0369 - val_categorical_accuracy: 0.6599\n",
            "Epoch 11/50\n",
            "79/79 [==============================] - 5s 68ms/step - loss: 0.0355 - categorical_accuracy: 0.6708 - val_loss: 0.0342 - val_categorical_accuracy: 0.6934\n",
            "Epoch 12/50\n",
            "79/79 [==============================] - 5s 68ms/step - loss: 0.0332 - categorical_accuracy: 0.7045 - val_loss: 0.0326 - val_categorical_accuracy: 0.7207\n",
            "Epoch 13/50\n",
            "79/79 [==============================] - 5s 69ms/step - loss: 0.0317 - categorical_accuracy: 0.7284 - val_loss: 0.0313 - val_categorical_accuracy: 0.7263\n",
            "Epoch 14/50\n",
            "79/79 [==============================] - 5s 69ms/step - loss: 0.0306 - categorical_accuracy: 0.7410 - val_loss: 0.0303 - val_categorical_accuracy: 0.7518\n",
            "Epoch 15/50\n",
            "79/79 [==============================] - 5s 68ms/step - loss: 0.0296 - categorical_accuracy: 0.7663 - val_loss: 0.0306 - val_categorical_accuracy: 0.7894\n",
            "Epoch 16/50\n",
            "79/79 [==============================] - 5s 68ms/step - loss: 0.0295 - categorical_accuracy: 0.7925 - val_loss: 0.0286 - val_categorical_accuracy: 0.7813\n",
            "Epoch 17/50\n",
            "79/79 [==============================] - 5s 69ms/step - loss: 0.0279 - categorical_accuracy: 0.7897 - val_loss: 0.0279 - val_categorical_accuracy: 0.7959\n",
            "Epoch 18/50\n",
            "79/79 [==============================] - 5s 68ms/step - loss: 0.0273 - categorical_accuracy: 0.8038 - val_loss: 0.0273 - val_categorical_accuracy: 0.8090\n",
            "Epoch 19/50\n",
            "79/79 [==============================] - 5s 68ms/step - loss: 0.0268 - categorical_accuracy: 0.8153 - val_loss: 0.0268 - val_categorical_accuracy: 0.8218\n",
            "Epoch 20/50\n",
            "79/79 [==============================] - 5s 70ms/step - loss: 0.0263 - categorical_accuracy: 0.8280 - val_loss: 0.0264 - val_categorical_accuracy: 0.8310\n",
            "Epoch 21/50\n",
            "79/79 [==============================] - 5s 69ms/step - loss: 0.0260 - categorical_accuracy: 0.8343 - val_loss: 0.0260 - val_categorical_accuracy: 0.8358\n",
            "Epoch 22/50\n",
            "79/79 [==============================] - 5s 67ms/step - loss: 0.0254 - categorical_accuracy: 0.8404 - val_loss: 0.0257 - val_categorical_accuracy: 0.8403\n",
            "Epoch 23/50\n",
            "79/79 [==============================] - 5s 67ms/step - loss: 0.0251 - categorical_accuracy: 0.8449 - val_loss: 0.0253 - val_categorical_accuracy: 0.8463\n",
            "Epoch 24/50\n",
            "79/79 [==============================] - 5s 69ms/step - loss: 0.0248 - categorical_accuracy: 0.8500 - val_loss: 0.0231 - val_categorical_accuracy: 0.8618\n",
            "Epoch 25/50\n",
            "79/79 [==============================] - 5s 67ms/step - loss: 0.0224 - categorical_accuracy: 0.8668 - val_loss: 0.0225 - val_categorical_accuracy: 0.8666\n",
            "Epoch 26/50\n",
            "79/79 [==============================] - 6s 70ms/step - loss: 0.0220 - categorical_accuracy: 0.8706 - val_loss: 0.0221 - val_categorical_accuracy: 0.8718\n",
            "Epoch 27/50\n",
            "79/79 [==============================] - 5s 69ms/step - loss: 0.0217 - categorical_accuracy: 0.8750 - val_loss: 0.0218 - val_categorical_accuracy: 0.8743\n",
            "Epoch 28/50\n",
            "79/79 [==============================] - 5s 68ms/step - loss: 0.0214 - categorical_accuracy: 0.8775 - val_loss: 0.0216 - val_categorical_accuracy: 0.8760\n",
            "Epoch 29/50\n",
            "79/79 [==============================] - 5s 69ms/step - loss: 0.0212 - categorical_accuracy: 0.8787 - val_loss: 0.0211 - val_categorical_accuracy: 0.8808\n",
            "Epoch 30/50\n",
            "79/79 [==============================] - 5s 69ms/step - loss: 0.0207 - categorical_accuracy: 0.8836 - val_loss: 0.0209 - val_categorical_accuracy: 0.8822\n",
            "Epoch 31/50\n",
            "79/79 [==============================] - 5s 68ms/step - loss: 0.0205 - categorical_accuracy: 0.8849 - val_loss: 0.0207 - val_categorical_accuracy: 0.8838\n",
            "Epoch 32/50\n",
            "79/79 [==============================] - 5s 69ms/step - loss: 0.0204 - categorical_accuracy: 0.8853 - val_loss: 0.0205 - val_categorical_accuracy: 0.8850\n",
            "Epoch 33/50\n",
            "79/79 [==============================] - 5s 68ms/step - loss: 0.0201 - categorical_accuracy: 0.8870 - val_loss: 0.0203 - val_categorical_accuracy: 0.8861\n",
            "Epoch 34/50\n",
            "79/79 [==============================] - 5s 69ms/step - loss: 0.0199 - categorical_accuracy: 0.8884 - val_loss: 0.0201 - val_categorical_accuracy: 0.8871\n",
            "Epoch 35/50\n",
            "79/79 [==============================] - 6s 70ms/step - loss: 0.0198 - categorical_accuracy: 0.8888 - val_loss: 0.0198 - val_categorical_accuracy: 0.8890\n",
            "Epoch 36/50\n",
            "79/79 [==============================] - 5s 68ms/step - loss: 0.0194 - categorical_accuracy: 0.8911 - val_loss: 0.0196 - val_categorical_accuracy: 0.8897\n",
            "Epoch 37/50\n",
            "79/79 [==============================] - 6s 71ms/step - loss: 0.0192 - categorical_accuracy: 0.8917 - val_loss: 0.0194 - val_categorical_accuracy: 0.8902\n",
            "Epoch 38/50\n",
            "79/79 [==============================] - 5s 68ms/step - loss: 0.0191 - categorical_accuracy: 0.8917 - val_loss: 0.0193 - val_categorical_accuracy: 0.8907\n",
            "Epoch 39/50\n",
            "79/79 [==============================] - 6s 70ms/step - loss: 0.0189 - categorical_accuracy: 0.8926 - val_loss: 0.0191 - val_categorical_accuracy: 0.8912\n",
            "Epoch 40/50\n",
            "79/79 [==============================] - 5s 69ms/step - loss: 0.0188 - categorical_accuracy: 0.8929 - val_loss: 0.0190 - val_categorical_accuracy: 0.8920\n",
            "Epoch 41/50\n",
            "79/79 [==============================] - 5s 69ms/step - loss: 0.0187 - categorical_accuracy: 0.8938 - val_loss: 0.0189 - val_categorical_accuracy: 0.8924\n",
            "Epoch 42/50\n",
            "79/79 [==============================] - 5s 69ms/step - loss: 0.0186 - categorical_accuracy: 0.8938 - val_loss: 0.0187 - val_categorical_accuracy: 0.8927\n",
            "Epoch 43/50\n",
            "79/79 [==============================] - 5s 69ms/step - loss: 0.0184 - categorical_accuracy: 0.8944 - val_loss: 0.0186 - val_categorical_accuracy: 0.8931\n",
            "Epoch 44/50\n",
            "79/79 [==============================] - 6s 70ms/step - loss: 0.0183 - categorical_accuracy: 0.8941 - val_loss: 0.0185 - val_categorical_accuracy: 0.8934\n",
            "Epoch 45/50\n",
            "79/79 [==============================] - 6s 70ms/step - loss: 0.0182 - categorical_accuracy: 0.8946 - val_loss: 0.0184 - val_categorical_accuracy: 0.8936\n",
            "Epoch 46/50\n",
            "79/79 [==============================] - 5s 69ms/step - loss: 0.0181 - categorical_accuracy: 0.8946 - val_loss: 0.0182 - val_categorical_accuracy: 0.8938\n",
            "Epoch 47/50\n",
            "79/79 [==============================] - 5s 68ms/step - loss: 0.0179 - categorical_accuracy: 0.8955 - val_loss: 0.0181 - val_categorical_accuracy: 0.8941\n",
            "Epoch 48/50\n",
            "79/79 [==============================] - 5s 69ms/step - loss: 0.0179 - categorical_accuracy: 0.8952 - val_loss: 0.0180 - val_categorical_accuracy: 0.8942\n",
            "Epoch 49/50\n",
            "79/79 [==============================] - 5s 69ms/step - loss: 0.0177 - categorical_accuracy: 0.8957 - val_loss: 0.0179 - val_categorical_accuracy: 0.8942\n",
            "Epoch 50/50\n",
            "79/79 [==============================] - 5s 69ms/step - loss: 0.0176 - categorical_accuracy: 0.8959 - val_loss: 0.0179 - val_categorical_accuracy: 0.8944\n"
          ],
          "name": "stdout"
        }
      ]
    },
    {
      "cell_type": "markdown",
      "metadata": {
        "id": "UXgzgmSA-ZV-"
      },
      "source": [
        "Let's plot the accuracy and the loss trends and check the reconstruction capability of the model by plotting the reconstruction of a test sample"
      ]
    },
    {
      "cell_type": "code",
      "metadata": {
        "id": "3N96nqx2nrt9",
        "colab": {
          "base_uri": "https://localhost:8080/",
          "height": 797
        },
        "outputId": "dd5e88a7-646c-4c73-b6cf-226d65f48b09"
      },
      "source": [
        "def plot_categorical_accuracy(history):\n",
        "  plt.figure(figsize=(10,6))\n",
        "  plt.plot(history.epoch,history.history['categorical_accuracy'])\n",
        "  plt.plot(history.epoch,history.history['val_categorical_accuracy'])\n",
        "  plt.title('accuracy')\n",
        "\n",
        "plot_loss(history)\n",
        "\n",
        "plot_categorical_accuracy(history)\n",
        "\n",
        "scores = sequence_autoencoder.evaluate(X_test_one_hot, X_test_one_hot, verbose=2)\n",
        "print(\"%s: %.2f%%\" % (sequence_autoencoder.metrics_names[1], scores[1]*100))"
      ],
      "execution_count": 69,
      "outputs": [
        {
          "output_type": "stream",
          "text": [
            "40/40 - 0s - loss: 0.0179 - categorical_accuracy: 0.8938\n",
            "categorical_accuracy: 89.38%\n"
          ],
          "name": "stdout"
        },
        {
          "output_type": "display_data",
          "data": {
            "image/png": "[encoded data removed]",
            "text/plain": [
              "<Figure size 720x432 with 1 Axes>"
            ]
          },
          "metadata": {
            "tags": [],
            "needs_background": "light"
          }
        },
        {
          "output_type": "display_data",
          "data": {
            "image/png": "[encoded data removed]",
            "text/plain": [
              "<Figure size 720x432 with 1 Axes>"
            ]
          },
          "metadata": {
            "tags": [],
            "needs_background": "light"
          }
        }
      ]
    },
    {
      "cell_type": "code",
      "metadata": {
        "id": "CNQmY1kynxe7",
        "colab": {
          "base_uri": "https://localhost:8080/"
        },
        "outputId": "aaa0fee0-bbf5-46c6-91e6-1892ea914c7c"
      },
      "source": [
        "decoded_text = sequence_autoencoder.predict(X_test_one_hot)\n",
        "decode_index= np.argmax(decoded_text[500], axis=1)\n",
        "input_text= np.argmax(X_test_one_hot[500], axis=1)\n",
        "\n",
        "print(decode_review(input_text))\n",
        "print(decode_review(decode_index))"
      ],
      "execution_count": 70,
      "outputs": [
        {
          "output_type": "stream",
          "text": [
            "than a <oov> <oov> that are <oov> in all of that time but that <oov> the <oov> is <oov> a very <oov> film in just about <oov> <oov> <oov> <oov> as some other <oov> have <oov> out it <oov> like <oov> <oov> of the film are <oov> <oov> there <oov> other <oov> <oov> <oov> are <oov> <oov> in the <oov> <oov> this is a really bad film that <oov> <oov> <oov> than its <oov> of <oov> <oov> i <oov> it <oov> out of <oov> and i <oov> <oov> very <oov>\n",
            "as a <oov> <oov> that are <oov> in their of that what this that <oov> the <oov> is <oov> a very <oov> film in just about <oov> <oov> <oov> <oov> as just other <oov> have <oov> out it <oov> film <oov> <oov> of the film are <oov> <oov> there <oov> other <oov> <oov> <oov> are <oov> <oov> in the <oov> <oov> this is a really <oov> film that <oov> <oov> <oov> as its <oov> of <oov> <oov> i <oov> it <oov> out of <oov> and i <oov> <oov> very <oov>\n"
          ],
          "name": "stdout"
        }
      ]
    },
    {
      "cell_type": "markdown",
      "metadata": {
        "id": "bW5BipraiQiE"
      },
      "source": [
        "##[TO COMPLETE] Exercise 5.7: Non-Linear Autoencoder for sequences\n",
        "**[TO COMPLETE]**: Replicate the code of the above exercise, but instead of using a simpleRNN with linear activation do the same  using  non-linear activation functions and using an LSTM layer. Choose the most appropriate non-linear function, and motivate your choice. Then discuss the results in relation to those obtained by the linear autoencoder for sequences.\n",
        "\n",
        "Hint: using a non-linear function also in the dense layer after the RNN/LSTM one will help to obtain better results. The choice of this function should be based on the type of output data."
      ]
    },
    {
      "cell_type": "code",
      "metadata": {
        "colab": {
          "base_uri": "https://localhost:8080/"
        },
        "id": "10mlpnAeK-Us",
        "outputId": "c9c22c51-017c-4827-cefe-6985bcaf9121"
      },
      "source": [
        "inputs = tf.keras.layers.Input(shape=(maxlen, num_words))\n",
        "encoded = tf.keras.layers.LSTM(50, activation='sigmoid', return_sequences=True)(inputs)\n",
        "\n",
        "decoded = tf.keras.layers.TimeDistributed(tf.keras.layers.Dense(num_words, activation='softmax'))(encoded)\n",
        "\n",
        "sequence_autoencoder = tf.keras.models.Model(inputs, decoded)\n",
        "encoder = tf.keras.models.Model(inputs, encoded)\n",
        "\n",
        "sequence_autoencoder.compile(optimizer=tf.keras.optimizers.Adam(learning_rate=0.001), loss='binary_crossentropy', metrics=[\"CategoricalAccuracy\"])\n",
        "\n",
        "sequence_autoencoder.summary()"
      ],
      "execution_count": 71,
      "outputs": [
        {
          "output_type": "stream",
          "text": [
            "Model: \"model_22\"\n",
            "_________________________________________________________________\n",
            "Layer (type)                 Output Shape              Param #   \n",
            "=================================================================\n",
            "input_16 (InputLayer)        [(None, 90, 100)]         0         \n",
            "_________________________________________________________________\n",
            "lstm (LSTM)                  (None, 90, 50)            30200     \n",
            "_________________________________________________________________\n",
            "time_distributed_1 (TimeDist (None, 90, 100)           5100      \n",
            "=================================================================\n",
            "Total params: 35,300\n",
            "Trainable params: 35,300\n",
            "Non-trainable params: 0\n",
            "_________________________________________________________________\n"
          ],
          "name": "stdout"
        }
      ]
    },
    {
      "cell_type": "code",
      "metadata": {
        "colab": {
          "base_uri": "https://localhost:8080/"
        },
        "id": "ZHMtat5lLAhs",
        "outputId": "ea673379-3e76-480e-ade9-a92069c11640"
      },
      "source": [
        "history = sequence_autoencoder.fit(X_train_one_hot, X_train_one_hot, epochs=100, batch_size=256, shuffle=True, validation_data=(X_valid_one_hot, X_valid_one_hot))"
      ],
      "execution_count": 72,
      "outputs": [
        {
          "output_type": "stream",
          "text": [
            "Epoch 1/100\n",
            "40/40 [==============================] - 11s 230ms/step - loss: 0.0539 - categorical_accuracy: 0.0961 - val_loss: 0.0421 - val_categorical_accuracy: 0.4573\n",
            "Epoch 2/100\n",
            "40/40 [==============================] - 9s 229ms/step - loss: 0.0393 - categorical_accuracy: 0.4700 - val_loss: 0.0372 - val_categorical_accuracy: 0.4614\n",
            "Epoch 3/100\n",
            "40/40 [==============================] - 9s 229ms/step - loss: 0.0366 - categorical_accuracy: 0.4715 - val_loss: 0.0368 - val_categorical_accuracy: 0.4614\n",
            "Epoch 4/100\n",
            "40/40 [==============================] - 9s 227ms/step - loss: 0.0363 - categorical_accuracy: 0.4695 - val_loss: 0.0363 - val_categorical_accuracy: 0.4614\n",
            "Epoch 5/100\n",
            "40/40 [==============================] - 9s 227ms/step - loss: 0.0356 - categorical_accuracy: 0.4713 - val_loss: 0.0354 - val_categorical_accuracy: 0.4614\n",
            "Epoch 6/100\n",
            "40/40 [==============================] - 9s 227ms/step - loss: 0.0346 - categorical_accuracy: 0.4712 - val_loss: 0.0341 - val_categorical_accuracy: 0.4614\n",
            "Epoch 7/100\n",
            "40/40 [==============================] - 9s 227ms/step - loss: 0.0332 - categorical_accuracy: 0.4705 - val_loss: 0.0323 - val_categorical_accuracy: 0.4614\n",
            "Epoch 8/100\n",
            "40/40 [==============================] - 9s 229ms/step - loss: 0.0314 - categorical_accuracy: 0.4701 - val_loss: 0.0301 - val_categorical_accuracy: 0.4614\n",
            "Epoch 9/100\n",
            "40/40 [==============================] - 9s 231ms/step - loss: 0.0291 - categorical_accuracy: 0.4705 - val_loss: 0.0277 - val_categorical_accuracy: 0.4614\n",
            "Epoch 10/100\n",
            "40/40 [==============================] - 9s 230ms/step - loss: 0.0267 - categorical_accuracy: 0.4744 - val_loss: 0.0252 - val_categorical_accuracy: 0.5587\n",
            "Epoch 11/100\n",
            "40/40 [==============================] - 9s 230ms/step - loss: 0.0242 - categorical_accuracy: 0.5792 - val_loss: 0.0226 - val_categorical_accuracy: 0.6084\n",
            "Epoch 12/100\n",
            "40/40 [==============================] - 9s 229ms/step - loss: 0.0215 - categorical_accuracy: 0.6524 - val_loss: 0.0200 - val_categorical_accuracy: 0.7353\n",
            "Epoch 13/100\n",
            "40/40 [==============================] - 9s 229ms/step - loss: 0.0191 - categorical_accuracy: 0.7468 - val_loss: 0.0177 - val_categorical_accuracy: 0.7551\n",
            "Epoch 14/100\n",
            "40/40 [==============================] - 9s 227ms/step - loss: 0.0168 - categorical_accuracy: 0.7690 - val_loss: 0.0156 - val_categorical_accuracy: 0.8008\n",
            "Epoch 15/100\n",
            "40/40 [==============================] - 9s 230ms/step - loss: 0.0149 - categorical_accuracy: 0.8127 - val_loss: 0.0138 - val_categorical_accuracy: 0.8159\n",
            "Epoch 16/100\n",
            "40/40 [==============================] - 9s 230ms/step - loss: 0.0130 - categorical_accuracy: 0.8234 - val_loss: 0.0122 - val_categorical_accuracy: 0.8271\n",
            "Epoch 17/100\n",
            "40/40 [==============================] - 9s 231ms/step - loss: 0.0116 - categorical_accuracy: 0.8359 - val_loss: 0.0109 - val_categorical_accuracy: 0.8411\n",
            "Epoch 18/100\n",
            "40/40 [==============================] - 9s 229ms/step - loss: 0.0104 - categorical_accuracy: 0.8459 - val_loss: 0.0098 - val_categorical_accuracy: 0.8503\n",
            "Epoch 19/100\n",
            "40/40 [==============================] - 9s 230ms/step - loss: 0.0093 - categorical_accuracy: 0.8590 - val_loss: 0.0088 - val_categorical_accuracy: 0.8615\n",
            "Epoch 20/100\n",
            "40/40 [==============================] - 9s 229ms/step - loss: 0.0084 - categorical_accuracy: 0.8658 - val_loss: 0.0080 - val_categorical_accuracy: 0.8731\n",
            "Epoch 21/100\n",
            "40/40 [==============================] - 9s 228ms/step - loss: 0.0076 - categorical_accuracy: 0.8797 - val_loss: 0.0072 - val_categorical_accuracy: 0.8875\n",
            "Epoch 22/100\n",
            "40/40 [==============================] - 9s 231ms/step - loss: 0.0068 - categorical_accuracy: 0.8941 - val_loss: 0.0064 - val_categorical_accuracy: 0.9111\n",
            "Epoch 23/100\n",
            "40/40 [==============================] - 9s 233ms/step - loss: 0.0061 - categorical_accuracy: 0.9157 - val_loss: 0.0057 - val_categorical_accuracy: 0.9227\n",
            "Epoch 24/100\n",
            "40/40 [==============================] - 9s 231ms/step - loss: 0.0054 - categorical_accuracy: 0.9299 - val_loss: 0.0051 - val_categorical_accuracy: 0.9397\n",
            "Epoch 25/100\n",
            "40/40 [==============================] - 9s 230ms/step - loss: 0.0048 - categorical_accuracy: 0.9431 - val_loss: 0.0045 - val_categorical_accuracy: 0.9475\n",
            "Epoch 26/100\n",
            "40/40 [==============================] - 9s 228ms/step - loss: 0.0043 - categorical_accuracy: 0.9488 - val_loss: 0.0040 - val_categorical_accuracy: 0.9510\n",
            "Epoch 27/100\n",
            "40/40 [==============================] - 9s 231ms/step - loss: 0.0038 - categorical_accuracy: 0.9534 - val_loss: 0.0035 - val_categorical_accuracy: 0.9578\n",
            "Epoch 28/100\n",
            "40/40 [==============================] - 9s 232ms/step - loss: 0.0033 - categorical_accuracy: 0.9605 - val_loss: 0.0031 - val_categorical_accuracy: 0.9632\n",
            "Epoch 29/100\n",
            "40/40 [==============================] - 9s 233ms/step - loss: 0.0029 - categorical_accuracy: 0.9656 - val_loss: 0.0027 - val_categorical_accuracy: 0.9709\n",
            "Epoch 30/100\n",
            "40/40 [==============================] - 9s 231ms/step - loss: 0.0025 - categorical_accuracy: 0.9733 - val_loss: 0.0024 - val_categorical_accuracy: 0.9760\n",
            "Epoch 31/100\n",
            "40/40 [==============================] - 9s 231ms/step - loss: 0.0022 - categorical_accuracy: 0.9787 - val_loss: 0.0021 - val_categorical_accuracy: 0.9819\n",
            "Epoch 32/100\n",
            "40/40 [==============================] - 9s 232ms/step - loss: 0.0020 - categorical_accuracy: 0.9844 - val_loss: 0.0018 - val_categorical_accuracy: 0.9862\n",
            "Epoch 33/100\n",
            "40/40 [==============================] - 9s 231ms/step - loss: 0.0017 - categorical_accuracy: 0.9881 - val_loss: 0.0016 - val_categorical_accuracy: 0.9908\n",
            "Epoch 34/100\n",
            "40/40 [==============================] - 9s 230ms/step - loss: 0.0015 - categorical_accuracy: 0.9919 - val_loss: 0.0014 - val_categorical_accuracy: 0.9963\n",
            "Epoch 35/100\n",
            "40/40 [==============================] - 9s 230ms/step - loss: 0.0013 - categorical_accuracy: 0.9973 - val_loss: 0.0012 - val_categorical_accuracy: 0.9997\n",
            "Epoch 36/100\n",
            "40/40 [==============================] - 9s 234ms/step - loss: 0.0011 - categorical_accuracy: 0.9998 - val_loss: 0.0010 - val_categorical_accuracy: 0.9999\n",
            "Epoch 37/100\n",
            "40/40 [==============================] - 9s 228ms/step - loss: 9.8504e-04 - categorical_accuracy: 0.9999 - val_loss: 9.1064e-04 - val_categorical_accuracy: 1.0000\n",
            "Epoch 38/100\n",
            "40/40 [==============================] - 9s 232ms/step - loss: 8.5656e-04 - categorical_accuracy: 1.0000 - val_loss: 7.9397e-04 - val_categorical_accuracy: 1.0000\n",
            "Epoch 39/100\n",
            "40/40 [==============================] - 9s 234ms/step - loss: 7.4533e-04 - categorical_accuracy: 1.0000 - val_loss: 6.9473e-04 - val_categorical_accuracy: 1.0000\n",
            "Epoch 40/100\n",
            "40/40 [==============================] - 9s 229ms/step - loss: 6.5774e-04 - categorical_accuracy: 1.0000 - val_loss: 6.1096e-04 - val_categorical_accuracy: 1.0000\n",
            "Epoch 41/100\n",
            "40/40 [==============================] - 9s 231ms/step - loss: 5.7873e-04 - categorical_accuracy: 1.0000 - val_loss: 5.4060e-04 - val_categorical_accuracy: 1.0000\n",
            "Epoch 42/100\n",
            "40/40 [==============================] - 9s 231ms/step - loss: 5.1314e-04 - categorical_accuracy: 1.0000 - val_loss: 4.8160e-04 - val_categorical_accuracy: 1.0000\n",
            "Epoch 43/100\n",
            "40/40 [==============================] - 9s 232ms/step - loss: 4.5694e-04 - categorical_accuracy: 1.0000 - val_loss: 4.3189e-04 - val_categorical_accuracy: 1.0000\n",
            "Epoch 44/100\n",
            "40/40 [==============================] - 9s 232ms/step - loss: 4.1305e-04 - categorical_accuracy: 1.0000 - val_loss: 3.8986e-04 - val_categorical_accuracy: 1.0000\n",
            "Epoch 45/100\n",
            "40/40 [==============================] - 9s 234ms/step - loss: 3.7252e-04 - categorical_accuracy: 1.0000 - val_loss: 3.5399e-04 - val_categorical_accuracy: 1.0000\n",
            "Epoch 46/100\n",
            "40/40 [==============================] - 9s 231ms/step - loss: 3.3935e-04 - categorical_accuracy: 1.0000 - val_loss: 3.2319e-04 - val_categorical_accuracy: 1.0000\n",
            "Epoch 47/100\n",
            "40/40 [==============================] - 9s 233ms/step - loss: 3.1006e-04 - categorical_accuracy: 1.0000 - val_loss: 2.9666e-04 - val_categorical_accuracy: 1.0000\n",
            "Epoch 48/100\n",
            "40/40 [==============================] - 9s 231ms/step - loss: 2.8471e-04 - categorical_accuracy: 1.0000 - val_loss: 2.7343e-04 - val_categorical_accuracy: 1.0000\n",
            "Epoch 49/100\n",
            "40/40 [==============================] - 9s 230ms/step - loss: 2.6236e-04 - categorical_accuracy: 1.0000 - val_loss: 2.5312e-04 - val_categorical_accuracy: 1.0000\n",
            "Epoch 50/100\n",
            "40/40 [==============================] - 9s 235ms/step - loss: 2.4324e-04 - categorical_accuracy: 1.0000 - val_loss: 2.3520e-04 - val_categorical_accuracy: 1.0000\n",
            "Epoch 51/100\n",
            "40/40 [==============================] - 9s 234ms/step - loss: 2.2590e-04 - categorical_accuracy: 1.0000 - val_loss: 2.1929e-04 - val_categorical_accuracy: 1.0000\n",
            "Epoch 52/100\n",
            "40/40 [==============================] - 9s 234ms/step - loss: 2.1152e-04 - categorical_accuracy: 1.0000 - val_loss: 2.0500e-04 - val_categorical_accuracy: 1.0000\n",
            "Epoch 53/100\n",
            "40/40 [==============================] - 9s 235ms/step - loss: 1.9755e-04 - categorical_accuracy: 1.0000 - val_loss: 1.9223e-04 - val_categorical_accuracy: 1.0000\n",
            "Epoch 54/100\n",
            "40/40 [==============================] - 9s 237ms/step - loss: 1.8605e-04 - categorical_accuracy: 1.0000 - val_loss: 1.8071e-04 - val_categorical_accuracy: 1.0000\n",
            "Epoch 55/100\n",
            "40/40 [==============================] - 9s 235ms/step - loss: 1.7519e-04 - categorical_accuracy: 1.0000 - val_loss: 1.7027e-04 - val_categorical_accuracy: 1.0000\n",
            "Epoch 56/100\n",
            "40/40 [==============================] - 9s 235ms/step - loss: 1.6517e-04 - categorical_accuracy: 1.0000 - val_loss: 1.6077e-04 - val_categorical_accuracy: 1.0000\n",
            "Epoch 57/100\n",
            "40/40 [==============================] - 9s 237ms/step - loss: 1.5569e-04 - categorical_accuracy: 1.0000 - val_loss: 1.5212e-04 - val_categorical_accuracy: 1.0000\n",
            "Epoch 58/100\n",
            "40/40 [==============================] - 9s 235ms/step - loss: 1.4797e-04 - categorical_accuracy: 1.0000 - val_loss: 1.4415e-04 - val_categorical_accuracy: 1.0000\n",
            "Epoch 59/100\n",
            "40/40 [==============================] - 9s 234ms/step - loss: 1.4003e-04 - categorical_accuracy: 1.0000 - val_loss: 1.3685e-04 - val_categorical_accuracy: 1.0000\n",
            "Epoch 60/100\n",
            "40/40 [==============================] - 9s 232ms/step - loss: 1.3335e-04 - categorical_accuracy: 1.0000 - val_loss: 1.3010e-04 - val_categorical_accuracy: 1.0000\n",
            "Epoch 61/100\n",
            "40/40 [==============================] - 9s 236ms/step - loss: 1.2610e-04 - categorical_accuracy: 1.0000 - val_loss: 1.2387e-04 - val_categorical_accuracy: 1.0000\n",
            "Epoch 62/100\n",
            "40/40 [==============================] - 9s 235ms/step - loss: 1.2029e-04 - categorical_accuracy: 1.0000 - val_loss: 1.1810e-04 - val_categorical_accuracy: 1.0000\n",
            "Epoch 63/100\n",
            "40/40 [==============================] - 9s 236ms/step - loss: 1.1510e-04 - categorical_accuracy: 1.0000 - val_loss: 1.1270e-04 - val_categorical_accuracy: 1.0000\n",
            "Epoch 64/100\n",
            "40/40 [==============================] - 9s 235ms/step - loss: 1.1021e-04 - categorical_accuracy: 1.0000 - val_loss: 1.0768e-04 - val_categorical_accuracy: 1.0000\n",
            "Epoch 65/100\n",
            "40/40 [==============================] - 9s 235ms/step - loss: 1.0484e-04 - categorical_accuracy: 1.0000 - val_loss: 1.0300e-04 - val_categorical_accuracy: 1.0000\n",
            "Epoch 66/100\n",
            "40/40 [==============================] - 9s 233ms/step - loss: 9.9884e-05 - categorical_accuracy: 1.0000 - val_loss: 9.8634e-05 - val_categorical_accuracy: 1.0000\n",
            "Epoch 67/100\n",
            "40/40 [==============================] - 9s 234ms/step - loss: 9.6126e-05 - categorical_accuracy: 1.0000 - val_loss: 9.4521e-05 - val_categorical_accuracy: 1.0000\n",
            "Epoch 68/100\n",
            "40/40 [==============================] - 9s 233ms/step - loss: 9.2075e-05 - categorical_accuracy: 1.0000 - val_loss: 9.0661e-05 - val_categorical_accuracy: 1.0000\n",
            "Epoch 69/100\n",
            "40/40 [==============================] - 9s 233ms/step - loss: 8.8401e-05 - categorical_accuracy: 1.0000 - val_loss: 8.7033e-05 - val_categorical_accuracy: 1.0000\n",
            "Epoch 70/100\n",
            "40/40 [==============================] - 9s 233ms/step - loss: 8.4723e-05 - categorical_accuracy: 1.0000 - val_loss: 8.3619e-05 - val_categorical_accuracy: 1.0000\n",
            "Epoch 71/100\n",
            "40/40 [==============================] - 9s 234ms/step - loss: 8.1129e-05 - categorical_accuracy: 1.0000 - val_loss: 8.0397e-05 - val_categorical_accuracy: 1.0000\n",
            "Epoch 72/100\n",
            "40/40 [==============================] - 9s 234ms/step - loss: 7.8185e-05 - categorical_accuracy: 1.0000 - val_loss: 7.7360e-05 - val_categorical_accuracy: 1.0000\n",
            "Epoch 73/100\n",
            "40/40 [==============================] - 9s 234ms/step - loss: 7.5550e-05 - categorical_accuracy: 1.0000 - val_loss: 7.4496e-05 - val_categorical_accuracy: 1.0000\n",
            "Epoch 74/100\n",
            "40/40 [==============================] - 9s 233ms/step - loss: 7.2618e-05 - categorical_accuracy: 1.0000 - val_loss: 7.1778e-05 - val_categorical_accuracy: 1.0000\n",
            "Epoch 75/100\n",
            "40/40 [==============================] - 9s 233ms/step - loss: 7.0426e-05 - categorical_accuracy: 1.0000 - val_loss: 6.9194e-05 - val_categorical_accuracy: 1.0000\n",
            "Epoch 76/100\n",
            "40/40 [==============================] - 9s 237ms/step - loss: 6.7568e-05 - categorical_accuracy: 1.0000 - val_loss: 6.6747e-05 - val_categorical_accuracy: 1.0000\n",
            "Epoch 77/100\n",
            "40/40 [==============================] - 9s 234ms/step - loss: 6.5077e-05 - categorical_accuracy: 1.0000 - val_loss: 6.4426e-05 - val_categorical_accuracy: 1.0000\n",
            "Epoch 78/100\n",
            "40/40 [==============================] - 9s 236ms/step - loss: 6.3019e-05 - categorical_accuracy: 1.0000 - val_loss: 6.2209e-05 - val_categorical_accuracy: 1.0000\n",
            "Epoch 79/100\n",
            "40/40 [==============================] - 9s 234ms/step - loss: 6.0854e-05 - categorical_accuracy: 1.0000 - val_loss: 6.0097e-05 - val_categorical_accuracy: 1.0000\n",
            "Epoch 80/100\n",
            "40/40 [==============================] - 9s 235ms/step - loss: 5.8831e-05 - categorical_accuracy: 1.0000 - val_loss: 5.8090e-05 - val_categorical_accuracy: 1.0000\n",
            "Epoch 81/100\n",
            "40/40 [==============================] - 9s 233ms/step - loss: 5.7113e-05 - categorical_accuracy: 1.0000 - val_loss: 5.6177e-05 - val_categorical_accuracy: 1.0000\n",
            "Epoch 82/100\n",
            "40/40 [==============================] - 9s 234ms/step - loss: 5.5069e-05 - categorical_accuracy: 1.0000 - val_loss: 5.4347e-05 - val_categorical_accuracy: 1.0000\n",
            "Epoch 83/100\n",
            "40/40 [==============================] - 9s 235ms/step - loss: 5.3468e-05 - categorical_accuracy: 1.0000 - val_loss: 5.2597e-05 - val_categorical_accuracy: 1.0000\n",
            "Epoch 84/100\n",
            "40/40 [==============================] - 9s 233ms/step - loss: 5.1466e-05 - categorical_accuracy: 1.0000 - val_loss: 5.0923e-05 - val_categorical_accuracy: 1.0000\n",
            "Epoch 85/100\n",
            "40/40 [==============================] - 9s 234ms/step - loss: 4.9817e-05 - categorical_accuracy: 1.0000 - val_loss: 4.9322e-05 - val_categorical_accuracy: 1.0000\n",
            "Epoch 86/100\n",
            "40/40 [==============================] - 9s 235ms/step - loss: 4.8328e-05 - categorical_accuracy: 1.0000 - val_loss: 4.7790e-05 - val_categorical_accuracy: 1.0000\n",
            "Epoch 87/100\n",
            "40/40 [==============================] - 9s 237ms/step - loss: 4.6809e-05 - categorical_accuracy: 1.0000 - val_loss: 4.6323e-05 - val_categorical_accuracy: 1.0000\n",
            "Epoch 88/100\n",
            "40/40 [==============================] - 9s 233ms/step - loss: 4.5445e-05 - categorical_accuracy: 1.0000 - val_loss: 4.4917e-05 - val_categorical_accuracy: 1.0000\n",
            "Epoch 89/100\n",
            "40/40 [==============================] - 9s 234ms/step - loss: 4.3826e-05 - categorical_accuracy: 1.0000 - val_loss: 4.3570e-05 - val_categorical_accuracy: 1.0000\n",
            "Epoch 90/100\n",
            "40/40 [==============================] - 9s 236ms/step - loss: 4.2554e-05 - categorical_accuracy: 1.0000 - val_loss: 4.2277e-05 - val_categorical_accuracy: 1.0000\n",
            "Epoch 91/100\n",
            "40/40 [==============================] - 9s 236ms/step - loss: 4.1289e-05 - categorical_accuracy: 1.0000 - val_loss: 4.1030e-05 - val_categorical_accuracy: 1.0000\n",
            "Epoch 92/100\n",
            "40/40 [==============================] - 9s 233ms/step - loss: 4.0217e-05 - categorical_accuracy: 1.0000 - val_loss: 3.9835e-05 - val_categorical_accuracy: 1.0000\n",
            "Epoch 93/100\n",
            "40/40 [==============================] - 9s 236ms/step - loss: 3.8796e-05 - categorical_accuracy: 1.0000 - val_loss: 3.8686e-05 - val_categorical_accuracy: 1.0000\n",
            "Epoch 94/100\n",
            "40/40 [==============================] - 9s 234ms/step - loss: 3.7972e-05 - categorical_accuracy: 1.0000 - val_loss: 3.7579e-05 - val_categorical_accuracy: 1.0000\n",
            "Epoch 95/100\n",
            "40/40 [==============================] - 9s 233ms/step - loss: 3.7092e-05 - categorical_accuracy: 1.0000 - val_loss: 3.6513e-05 - val_categorical_accuracy: 1.0000\n",
            "Epoch 96/100\n",
            "40/40 [==============================] - 9s 234ms/step - loss: 3.5769e-05 - categorical_accuracy: 1.0000 - val_loss: 3.5488e-05 - val_categorical_accuracy: 1.0000\n",
            "Epoch 97/100\n",
            "40/40 [==============================] - 9s 232ms/step - loss: 3.4962e-05 - categorical_accuracy: 1.0000 - val_loss: 3.4502e-05 - val_categorical_accuracy: 1.0000\n",
            "Epoch 98/100\n",
            "40/40 [==============================] - 9s 235ms/step - loss: 3.3811e-05 - categorical_accuracy: 1.0000 - val_loss: 3.3547e-05 - val_categorical_accuracy: 1.0000\n",
            "Epoch 99/100\n",
            "40/40 [==============================] - 9s 237ms/step - loss: 3.2923e-05 - categorical_accuracy: 1.0000 - val_loss: 3.2630e-05 - val_categorical_accuracy: 1.0000\n",
            "Epoch 100/100\n",
            "40/40 [==============================] - 9s 234ms/step - loss: 3.1941e-05 - categorical_accuracy: 1.0000 - val_loss: 3.1747e-05 - val_categorical_accuracy: 1.0000\n"
          ],
          "name": "stdout"
        }
      ]
    },
    {
      "cell_type": "code",
      "metadata": {
        "colab": {
          "base_uri": "https://localhost:8080/",
          "height": 797
        },
        "id": "U40_kzioLDQj",
        "outputId": "13c88a41-102c-423a-a80f-6c968e5f7a3d"
      },
      "source": [
        "plot_loss(history)\n",
        "\n",
        "plot_categorical_accuracy(history)\n",
        "\n",
        "scores = sequence_autoencoder.evaluate(X_test_one_hot, X_test_one_hot, verbose=2)\n",
        "print(\"%s: %.2f%%\" % (sequence_autoencoder.metrics_names[1], scores[1]*100))"
      ],
      "execution_count": 73,
      "outputs": [
        {
          "output_type": "stream",
          "text": [
            "40/40 - 1s - loss: 3.1005e-05 - categorical_accuracy: 1.0000\n",
            "categorical_accuracy: 100.00%\n"
          ],
          "name": "stdout"
        },
        {
          "output_type": "display_data",
          "data": {
            "image/png": "[encoded data removed]",
            "text/plain": [
              "<Figure size 720x432 with 1 Axes>"
            ]
          },
          "metadata": {
            "tags": [],
            "needs_background": "light"
          }
        },
        {
          "output_type": "display_data",
          "data": {
            "image/png": "[encoded data removed]",
            "text/plain": [
              "<Figure size 720x432 with 1 Axes>"
            ]
          },
          "metadata": {
            "tags": [],
            "needs_background": "light"
          }
        }
      ]
    },
    {
      "cell_type": "code",
      "metadata": {
        "colab": {
          "base_uri": "https://localhost:8080/"
        },
        "id": "oPRopBpmLFVr",
        "outputId": "aa8139e7-3fc6-49cd-8bf8-84b0457e98b9"
      },
      "source": [
        "decoded_text = sequence_autoencoder.predict(X_test_one_hot)\n",
        "decode_index= np.argmax(decoded_text[500], axis=1)\n",
        "input_text= np.argmax(X_test_one_hot[500], axis=1)\n",
        "\n",
        "print(decode_review(input_text))\n",
        "print(decode_review(decode_index))"
      ],
      "execution_count": 74,
      "outputs": [
        {
          "output_type": "stream",
          "text": [
            "than a <oov> <oov> that are <oov> in all of that time but that <oov> the <oov> is <oov> a very <oov> film in just about <oov> <oov> <oov> <oov> as some other <oov> have <oov> out it <oov> like <oov> <oov> of the film are <oov> <oov> there <oov> other <oov> <oov> <oov> are <oov> <oov> in the <oov> <oov> this is a really bad film that <oov> <oov> <oov> than its <oov> of <oov> <oov> i <oov> it <oov> out of <oov> and i <oov> <oov> very <oov>\n",
            "than a <oov> <oov> that are <oov> in all of that time but that <oov> the <oov> is <oov> a very <oov> film in just about <oov> <oov> <oov> <oov> as some other <oov> have <oov> out it <oov> like <oov> <oov> of the film are <oov> <oov> there <oov> other <oov> <oov> <oov> are <oov> <oov> in the <oov> <oov> this is a really bad film that <oov> <oov> <oov> than its <oov> of <oov> <oov> i <oov> it <oov> out of <oov> and i <oov> <oov> very <oov>\n"
          ],
          "name": "stdout"
        }
      ]
    },
    {
      "cell_type": "markdown",
      "metadata": {
        "id": "cChu8JlYtXvN"
      },
      "source": [
        "**Ans**\n",
        "\n",
        "I used the softmax activation function in the decode because of the classification problem and also i increased the epochs to 100 and the batch size to 256 double compared to previous.\n",
        "\n",
        "when i compared with the linear model the non linear model performed good and also it is too complicated with same number of neurons like linear model with LSTM the number of parameters are more."
      ]
    }
  ]
}